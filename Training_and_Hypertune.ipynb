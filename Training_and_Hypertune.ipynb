{
  "nbformat": 4,
  "nbformat_minor": 0,
  "metadata": {
    "colab": {
      "name": "Training and Hypertune.ipynb",
      "provenance": [],
      "collapsed_sections": [],
      "machine_shape": "hm",
      "include_colab_link": true
    },
    "kernelspec": {
      "name": "python3",
      "display_name": "Python 3"
    }
  },
  "cells": [
    {
      "cell_type": "markdown",
      "metadata": {
        "id": "view-in-github",
        "colab_type": "text"
      },
      "source": [
        "<a href=\"https://colab.research.google.com/github/fanroyi/E4511-2021-Fan/blob/main/Training_and_Hypertune.ipynb\" target=\"_parent\"><img src=\"https://colab.research.google.com/assets/colab-badge.svg\" alt=\"Open In Colab\"/></a>"
      ]
    },
    {
      "cell_type": "markdown",
      "metadata": {
        "id": "SZ70ierx3pq2"
      },
      "source": [
        "### Install AMPL packages"
      ]
    },
    {
      "cell_type": "code",
      "metadata": {
        "id": "dYPEij6rwDmP"
      },
      "source": [
        "%tensorflow_version 1.x"
      ],
      "execution_count": 50,
      "outputs": []
    },
    {
      "cell_type": "code",
      "metadata": {
        "id": "nNuv4Q5KFABw",
        "colab": {
          "base_uri": "https://localhost:8080/"
        },
        "outputId": "b6cb612f-7486-430b-da59-b0679b00b487"
      },
      "source": [
        "! wget -c https://repo.anaconda.com/archive/Anaconda3-2019.10-Linux-x86_64.sh\n",
        "! chmod +x Anaconda3-2019.10-Linux-x86_64.sh\n",
        "! bash ./Anaconda3-2019.10-Linux-x86_64.sh -b -f -p /usr/local\n",
        "\n",
        "# ! wget -c https://repo.anaconda.com/miniconda/Miniconda3-py37_4.9.2-Linux-x86_64.sh \n",
        "# ! chmod +x Miniconda3-py37_4.9.2-Linux-x86_64.sh\n",
        "# ! time bash Miniconda3-py37_4.9.2-Linux-x86_64.sh -b -f -p /usr/local\n",
        "\n",
        "! time conda install -y -c deepchem -c rdkit -c conda-forge -c omnia deepchem-gpu=2.3.0\n",
        "import sys\n",
        "sys.path.append('/usr/local/lib/python3.7/site-packages/')"
      ],
      "execution_count": 51,
      "outputs": [
        {
          "output_type": "stream",
          "text": [
            "--2021-04-06 02:05:21--  https://repo.anaconda.com/archive/Anaconda3-2019.10-Linux-x86_64.sh\n",
            "Resolving repo.anaconda.com (repo.anaconda.com)... 104.16.131.3, 104.16.130.3, 2606:4700::6810:8203, ...\n",
            "Connecting to repo.anaconda.com (repo.anaconda.com)|104.16.131.3|:443... connected.\n",
            "HTTP request sent, awaiting response... 416 Requested Range Not Satisfiable\n",
            "\n",
            "    The file is already fully retrieved; nothing to do.\n",
            "\n",
            "PREFIX=/usr/local\n",
            "Unpacking payload ...\n",
            "Collecting package metadata (current_repodata.json): - \b\b\\ \b\b| \b\b/ \b\b- \b\b\\ \b\b| \b\b/ \b\b- \b\b\\ \b\b| \b\b/ \b\b- \b\b\\ \b\b| \b\b/ \b\b- \b\b\\ \b\b| \b\b/ \b\b- \b\b\\ \b\b| \b\b/ \b\b- \b\bdone\n",
            "Solving environment: | \b\b/ \b\b- \b\b\\ \b\b| \b\b/ \b\b- \b\b\\ \b\b| \b\b/ \b\b- \b\b\\ \b\b| \b\b/ \b\b- \b\b\\ \b\b| \b\b/ \b\b- \b\b\\ \b\b| \b\b/ \b\b- \b\b\\ \b\b| \b\b/ \b\b- \b\b\\ \b\b| \b\b/ \b\b- \b\b\\ \b\b| \b\b/ \b\b- \b\b\\ \b\b| \b\b/ \b\b- \b\b\\ \b\b| \b\b/ \b\b- \b\b\\ \b\b| \b\b/ \b\b- \b\b\\ \b\b| \b\b/ \b\b- \b\b\\ \b\b| \b\b/ \b\b- \b\b\\ \b\b| \b\b/ \b\b- \b\b\\ \b\b| \b\b/ \b\b- \b\b\\ \b\b| \b\b/ \b\b- \b\b\\ \b\b| \b\b/ \b\b- \b\b\\ \b\b| \b\b/ \b\b- \b\b\\ \b\b| \b\b/ \b\b- \b\b\\ \b\b| \b\b/ \b\b- \b\b\\ \b\b| \b\b/ \b\b- \b\b\\ \b\b| \b\b/ \b\b- \b\b\\ \b\b| \b\b/ \b\b- \b\b\\ \b\b| \b\b/ \b\b- \b\b\\ \b\b| \b\b/ \b\b- \b\b\\ \b\b| \b\b/ \b\b- \b\b\\ \b\b| \b\b/ \b\b- \b\b\\ \b\b| \b\b/ \b\b- \b\b\\ \b\b| \b\b/ \b\b- \b\b\\ \b\b| \b\b/ \b\b- \b\b\\ \b\b| \b\b/ \b\b- \b\b\\ \b\b| \b\b/ \b\b- \b\b\\ \b\b| \b\b/ \b\b- \b\b\\ \b\b| \b\b/ \b\b- \b\b\\ \b\b| \b\b/ \b\b- \b\b\\ \b\b| \b\b/ \b\b- \b\b\\ \b\b| \b\b/ \b\b- \b\b\\ \b\b| \b\b/ \b\b- \b\b\\ \b\b| \b\b/ \b\b- \b\b\\ \b\b| \b\b/ \b\b- \b\b\\ \b\bdone\n",
            "\n",
            "## Package Plan ##\n",
            "\n",
            "  environment location: /usr/local\n",
            "\n",
            "  added / updated specs:\n",
            "    - _ipyw_jlab_nb_ext_conf==0.1.0=py37_0\n",
            "    - _libgcc_mutex==0.1=main\n",
            "    - alabaster==0.7.12=py37_0\n",
            "    - anaconda-client==1.7.2=py37_0\n",
            "    - anaconda-navigator==1.9.7=py37_0\n",
            "    - anaconda-project==0.8.3=py_0\n",
            "    - anaconda==2019.10=py37_0\n",
            "    - asn1crypto==1.0.1=py37_0\n",
            "    - astroid==2.3.1=py37_0\n",
            "    - astropy==3.2.2=py37h7b6447c_0\n",
            "    - atomicwrites==1.3.0=py37_1\n",
            "    - attrs==19.2.0=py_0\n",
            "    - babel==2.7.0=py_0\n",
            "    - backcall==0.1.0=py37_0\n",
            "    - backports.functools_lru_cache==1.5=py_2\n",
            "    - backports.os==0.1.1=py37_0\n",
            "    - backports.shutil_get_terminal_size==1.0.0=py37_2\n",
            "    - backports.tempfile==1.0=py_1\n",
            "    - backports.weakref==1.0.post1=py_1\n",
            "    - backports==1.0=py_2\n",
            "    - beautifulsoup4==4.8.0=py37_0\n",
            "    - bitarray==1.0.1=py37h7b6447c_0\n",
            "    - bkcharts==0.2=py37_0\n",
            "    - blas==1.0=mkl\n",
            "    - bleach==3.1.0=py37_0\n",
            "    - blosc==1.16.3=hd408876_0\n",
            "    - bokeh==1.3.4=py37_0\n",
            "    - boto==2.49.0=py37_0\n",
            "    - bottleneck==1.2.1=py37h035aef0_1\n",
            "    - bzip2==1.0.8=h7b6447c_0\n",
            "    - ca-certificates==2019.8.28=0\n",
            "    - cairo==1.14.12=h8948797_3\n",
            "    - certifi==2019.9.11=py37_0\n",
            "    - cffi==1.12.3=py37h2e261b9_0\n",
            "    - chardet==3.0.4=py37_1003\n",
            "    - click==7.0=py37_0\n",
            "    - cloudpickle==1.2.2=py_0\n",
            "    - clyent==1.2.2=py37_1\n",
            "    - colorama==0.4.1=py37_0\n",
            "    - conda-build==3.18.9=py37_3\n",
            "    - conda-env==2.6.0=1\n",
            "    - conda-package-handling==1.6.0=py37h7b6447c_0\n",
            "    - conda-verify==3.4.2=py_1\n",
            "    - conda==4.7.12=py37_0\n",
            "    - contextlib2==0.6.0=py_0\n",
            "    - cryptography==2.7=py37h1ba5d50_0\n",
            "    - curl==7.65.3=hbc83047_0\n",
            "    - cycler==0.10.0=py37_0\n",
            "    - cython==0.29.13=py37he6710b0_0\n",
            "    - cytoolz==0.10.0=py37h7b6447c_0\n",
            "    - dask-core==2.5.2=py_0\n",
            "    - dask==2.5.2=py_0\n",
            "    - dbus==1.13.6=h746ee38_0\n",
            "    - decorator==4.4.0=py37_1\n",
            "    - defusedxml==0.6.0=py_0\n",
            "    - distributed==2.5.2=py_0\n",
            "    - docutils==0.15.2=py37_0\n",
            "    - entrypoints==0.3=py37_0\n",
            "    - et_xmlfile==1.0.1=py37_0\n",
            "    - expat==2.2.6=he6710b0_0\n",
            "    - fastcache==1.1.0=py37h7b6447c_0\n",
            "    - filelock==3.0.12=py_0\n",
            "    - flask==1.1.1=py_0\n",
            "    - fontconfig==2.13.0=h9420a91_0\n",
            "    - freetype==2.9.1=h8a8886c_1\n",
            "    - fribidi==1.0.5=h7b6447c_0\n",
            "    - fsspec==0.5.2=py_0\n",
            "    - future==0.17.1=py37_0\n",
            "    - get_terminal_size==1.0.0=haa9412d_0\n",
            "    - gevent==1.4.0=py37h7b6447c_0\n",
            "    - glib==2.56.2=hd408876_0\n",
            "    - glob2==0.7=py_0\n",
            "    - gmp==6.1.2=h6c8ec71_1\n",
            "    - gmpy2==2.0.8=py37h10f8cd9_2\n",
            "    - graphite2==1.3.13=h23475e2_0\n",
            "    - greenlet==0.4.15=py37h7b6447c_0\n",
            "    - gst-plugins-base==1.14.0=hbbd80ab_1\n",
            "    - gstreamer==1.14.0=hb453b48_1\n",
            "    - h5py==2.9.0=py37h7918eee_0\n",
            "    - harfbuzz==1.8.8=hffaf4a1_0\n",
            "    - hdf5==1.10.4=hb1b8bf9_0\n",
            "    - heapdict==1.0.1=py_0\n",
            "    - html5lib==1.0.1=py37_0\n",
            "    - icu==58.2=h9c2bf20_1\n",
            "    - idna==2.8=py37_0\n",
            "    - imageio==2.6.0=py37_0\n",
            "    - imagesize==1.1.0=py37_0\n",
            "    - importlib_metadata==0.23=py37_0\n",
            "    - intel-openmp==2019.4=243\n",
            "    - ipykernel==5.1.2=py37h39e3cac_0\n",
            "    - ipython==7.8.0=py37h39e3cac_0\n",
            "    - ipython_genutils==0.2.0=py37_0\n",
            "    - ipywidgets==7.5.1=py_0\n",
            "    - isort==4.3.21=py37_0\n",
            "    - itsdangerous==1.1.0=py37_0\n",
            "    - jbig==2.1=hdba287a_0\n",
            "    - jdcal==1.4.1=py_0\n",
            "    - jedi==0.15.1=py37_0\n",
            "    - jeepney==0.4.1=py_0\n",
            "    - jinja2==2.10.3=py_0\n",
            "    - joblib==0.13.2=py37_0\n",
            "    - jpeg==9b=h024ee3a_2\n",
            "    - json5==0.8.5=py_0\n",
            "    - jsonschema==3.0.2=py37_0\n",
            "    - jupyter==1.0.0=py37_7\n",
            "    - jupyter_client==5.3.3=py37_1\n",
            "    - jupyter_console==6.0.0=py37_0\n",
            "    - jupyter_core==4.5.0=py_0\n",
            "    - jupyterlab==1.1.4=pyhf63ae98_0\n",
            "    - jupyterlab_server==1.0.6=py_0\n",
            "    - keyring==18.0.0=py37_0\n",
            "    - kiwisolver==1.1.0=py37he6710b0_0\n",
            "    - krb5==1.16.1=h173b8e3_7\n",
            "    - lazy-object-proxy==1.4.2=py37h7b6447c_0\n",
            "    - libarchive==3.3.3=h5d8350f_5\n",
            "    - libcurl==7.65.3=h20c2e04_0\n",
            "    - libedit==3.1.20181209=hc058e9b_0\n",
            "    - libffi==3.2.1=hd88cf55_4\n",
            "    - libgcc-ng==9.1.0=hdf63c60_0\n",
            "    - libgfortran-ng==7.3.0=hdf63c60_0\n",
            "    - liblief==0.9.0=h7725739_2\n",
            "    - libpng==1.6.37=hbc83047_0\n",
            "    - libsodium==1.0.16=h1bed415_0\n",
            "    - libssh2==1.8.2=h1ba5d50_0\n",
            "    - libstdcxx-ng==9.1.0=hdf63c60_0\n",
            "    - libtiff==4.0.10=h2733197_2\n",
            "    - libtool==2.4.6=h7b6447c_5\n",
            "    - libuuid==1.0.3=h1bed415_2\n",
            "    - libxcb==1.13=h1bed415_1\n",
            "    - libxml2==2.9.9=hea5a465_1\n",
            "    - libxslt==1.1.33=h7d1a2b0_0\n",
            "    - llvmlite==0.29.0=py37hd408876_0\n",
            "    - locket==0.2.0=py37_1\n",
            "    - lxml==4.4.1=py37hefd8a0e_0\n",
            "    - lz4-c==1.8.1.2=h14c3975_0\n",
            "    - lzo==2.10=h49e0be7_2\n",
            "    - markupsafe==1.1.1=py37h7b6447c_0\n",
            "    - matplotlib==3.1.1=py37h5429711_0\n",
            "    - mccabe==0.6.1=py37_1\n",
            "    - mistune==0.8.4=py37h7b6447c_0\n",
            "    - mkl-service==2.3.0=py37he904b0f_0\n",
            "    - mkl==2019.4=243\n",
            "    - mkl_fft==1.0.14=py37ha843d7b_0\n",
            "    - mkl_random==1.1.0=py37hd6b4f25_0\n",
            "    - mock==3.0.5=py37_0\n",
            "    - more-itertools==7.2.0=py37_0\n",
            "    - mpc==1.1.0=h10f8cd9_1\n",
            "    - mpfr==4.0.1=hdf1c602_3\n",
            "    - mpmath==1.1.0=py37_0\n",
            "    - msgpack-python==0.6.1=py37hfd86e86_1\n",
            "    - multipledispatch==0.6.0=py37_0\n",
            "    - navigator-updater==0.2.1=py37_0\n",
            "    - nbconvert==5.6.0=py37_1\n",
            "    - nbformat==4.4.0=py37_0\n",
            "    - ncurses==6.1=he6710b0_1\n",
            "    - networkx==2.3=py_0\n",
            "    - nltk==3.4.5=py37_0\n",
            "    - nose==1.3.7=py37_2\n",
            "    - notebook==6.0.1=py37_0\n",
            "    - numba==0.45.1=py37h962f231_0\n",
            "    - numexpr==2.7.0=py37h9e4a6bb_0\n",
            "    - numpy-base==1.17.2=py37hde5b4d6_0\n",
            "    - numpy==1.17.2=py37haad9e8e_0\n",
            "    - numpydoc==0.9.1=py_0\n",
            "    - olefile==0.46=py37_0\n",
            "    - openpyxl==3.0.0=py_0\n",
            "    - openssl==1.1.1d=h7b6447c_2\n",
            "    - packaging==19.2=py_0\n",
            "    - pandas==0.25.1=py37he6710b0_0\n",
            "    - pandoc==2.2.3.2=0\n",
            "    - pandocfilters==1.4.2=py37_1\n",
            "    - pango==1.42.4=h049681c_0\n",
            "    - parso==0.5.1=py_0\n",
            "    - partd==1.0.0=py_0\n",
            "    - patchelf==0.9=he6710b0_3\n",
            "    - path.py==12.0.1=py_0\n",
            "    - pathlib2==2.3.5=py37_0\n",
            "    - patsy==0.5.1=py37_0\n",
            "    - pcre==8.43=he6710b0_0\n",
            "    - pep8==1.7.1=py37_0\n",
            "    - pexpect==4.7.0=py37_0\n",
            "    - pickleshare==0.7.5=py37_0\n",
            "    - pillow==6.2.0=py37h34e0f95_0\n",
            "    - pip==19.2.3=py37_0\n",
            "    - pixman==0.38.0=h7b6447c_0\n",
            "    - pkginfo==1.5.0.1=py37_0\n",
            "    - pluggy==0.13.0=py37_0\n",
            "    - ply==3.11=py37_0\n",
            "    - prometheus_client==0.7.1=py_0\n",
            "    - prompt_toolkit==2.0.10=py_0\n",
            "    - psutil==5.6.3=py37h7b6447c_0\n",
            "    - ptyprocess==0.6.0=py37_0\n",
            "    - py-lief==0.9.0=py37h7725739_2\n",
            "    - py==1.8.0=py37_0\n",
            "    - pycodestyle==2.5.0=py37_0\n",
            "    - pycosat==0.6.3=py37h14c3975_0\n",
            "    - pycparser==2.19=py37_0\n",
            "    - pycrypto==2.6.1=py37h14c3975_9\n",
            "    - pycurl==7.43.0.3=py37h1ba5d50_0\n",
            "    - pyflakes==2.1.1=py37_0\n",
            "    - pygments==2.4.2=py_0\n",
            "    - pylint==2.4.2=py37_0\n",
            "    - pyodbc==4.0.27=py37he6710b0_0\n",
            "    - pyopenssl==19.0.0=py37_0\n",
            "    - pyparsing==2.4.2=py_0\n",
            "    - pyqt==5.9.2=py37h05f1152_2\n",
            "    - pyrsistent==0.15.4=py37h7b6447c_0\n",
            "    - pysocks==1.7.1=py37_0\n",
            "    - pytables==3.5.2=py37h71ec239_1\n",
            "    - pytest-arraydiff==0.3=py37h39e3cac_0\n",
            "    - pytest-astropy==0.5.0=py37_0\n",
            "    - pytest-doctestplus==0.4.0=py_0\n",
            "    - pytest-openfiles==0.4.0=py_0\n",
            "    - pytest-remotedata==0.3.2=py37_0\n",
            "    - pytest==5.2.1=py37_0\n",
            "    - python-dateutil==2.8.0=py37_0\n",
            "    - python-libarchive-c==2.8=py37_13\n",
            "    - python==3.7.4=h265db76_1\n",
            "    - pytz==2019.3=py_0\n",
            "    - pywavelets==1.0.3=py37hdd07704_1\n",
            "    - pyyaml==5.1.2=py37h7b6447c_0\n",
            "    - pyzmq==18.1.0=py37he6710b0_0\n",
            "    - qt==5.9.7=h5867ecd_1\n",
            "    - qtawesome==0.6.0=py_0\n",
            "    - qtconsole==4.5.5=py_0\n",
            "    - qtpy==1.9.0=py_0\n",
            "    - readline==7.0=h7b6447c_5\n",
            "    - requests==2.22.0=py37_0\n",
            "    - ripgrep==0.10.0=hc07d326_0\n",
            "    - rope==0.14.0=py_0\n",
            "    - ruamel_yaml==0.15.46=py37h14c3975_0\n",
            "    - scikit-image==0.15.0=py37he6710b0_0\n",
            "    - scikit-learn==0.21.3=py37hd81dba3_0\n",
            "    - scipy==1.3.1=py37h7c811a0_0\n",
            "    - seaborn==0.9.0=py37_0\n",
            "    - secretstorage==3.1.1=py37_0\n",
            "    - send2trash==1.5.0=py37_0\n",
            "    - setuptools==41.4.0=py37_0\n",
            "    - simplegeneric==0.8.1=py37_2\n",
            "    - singledispatch==3.4.0.3=py37_0\n",
            "    - sip==4.19.8=py37hf484d3e_0\n",
            "    - six==1.12.0=py37_0\n",
            "    - snappy==1.1.7=hbae5bb6_3\n",
            "    - snowballstemmer==2.0.0=py_0\n",
            "    - sortedcollections==1.1.2=py37_0\n",
            "    - sortedcontainers==2.1.0=py37_0\n",
            "    - soupsieve==1.9.3=py37_0\n",
            "    - sphinx==2.2.0=py_0\n",
            "    - sphinxcontrib-applehelp==1.0.1=py_0\n",
            "    - sphinxcontrib-devhelp==1.0.1=py_0\n",
            "    - sphinxcontrib-htmlhelp==1.0.2=py_0\n",
            "    - sphinxcontrib-jsmath==1.0.1=py_0\n",
            "    - sphinxcontrib-qthelp==1.0.2=py_0\n",
            "    - sphinxcontrib-serializinghtml==1.1.3=py_0\n",
            "    - sphinxcontrib-websupport==1.1.2=py_0\n",
            "    - sphinxcontrib==1.0=py37_1\n",
            "    - spyder-kernels==0.5.2=py37_0\n",
            "    - spyder==3.3.6=py37_0\n",
            "    - sqlalchemy==1.3.9=py37h7b6447c_0\n",
            "    - sqlite==3.30.0=h7b6447c_0\n",
            "    - statsmodels==0.10.1=py37hdd07704_0\n",
            "    - sympy==1.4=py37_0\n",
            "    - tbb==2019.4=hfd86e86_0\n",
            "    - tblib==1.4.0=py_0\n",
            "    - terminado==0.8.2=py37_0\n",
            "    - testpath==0.4.2=py37_0\n",
            "    - tk==8.6.8=hbc83047_0\n",
            "    - toolz==0.10.0=py_0\n",
            "    - tornado==6.0.3=py37h7b6447c_0\n",
            "    - tqdm==4.36.1=py_0\n",
            "    - traitlets==4.3.3=py37_0\n",
            "    - unicodecsv==0.14.1=py37_0\n",
            "    - unixodbc==2.3.7=h14c3975_0\n",
            "    - urllib3==1.24.2=py37_0\n",
            "    - wcwidth==0.1.7=py37_0\n",
            "    - webencodings==0.5.1=py37_1\n",
            "    - werkzeug==0.16.0=py_0\n",
            "    - wheel==0.33.6=py37_0\n",
            "    - widgetsnbextension==3.5.1=py37_0\n",
            "    - wrapt==1.11.2=py37h7b6447c_0\n",
            "    - wurlitzer==1.0.3=py37_0\n",
            "    - xlrd==1.2.0=py37_0\n",
            "    - xlsxwriter==1.2.1=py_0\n",
            "    - xlwt==1.3.0=py37_0\n",
            "    - xz==5.2.4=h14c3975_4\n",
            "    - yaml==0.1.7=had09818_2\n",
            "    - zeromq==4.3.1=he6710b0_3\n",
            "    - zict==1.0.0=py_0\n",
            "    - zipp==0.6.0=py_0\n",
            "    - zlib==1.2.11=h7b6447c_3\n",
            "    - zstd==1.3.7=h0b5b093_0\n",
            "\n",
            "\n",
            "The following packages will be SUPERSEDED by a higher-priority channel:\n",
            "\n",
            "  certifi                                       conda-forge --> pkgs/main\n",
            "  conda              conda-forge::conda-4.10.0-py37h89c186~ --> pkgs/main::conda-4.7.12-py37_0\n",
            "\n",
            "\n",
            "Preparing transaction: / \b\bdone\n",
            "Executing transaction: \\ \b\bdone\n",
            "installation finished.\n",
            "WARNING:\n",
            "    You currently have a PYTHONPATH environment variable set. This may cause\n",
            "    unexpected behavior when running the Python interpreter in Anaconda3.\n",
            "    For best results, please verify that your PYTHONPATH only points to\n",
            "    directories of packages that are compatible with the Python interpreter\n",
            "    in Anaconda3: /usr/local\n",
            "Collecting package metadata (current_repodata.json): - \b\b\\ \b\b| \b\b/ \b\b- \b\b\\ \b\b| \b\b/ \b\b- \b\b\\ \b\b| \b\b/ \b\b- \b\b\\ \b\b| \b\b/ \b\b- \b\b\\ \b\b| \b\b/ \b\b- \b\b\\ \b\b| \b\b/ \b\b- \b\b\\ \b\b| \b\b/ \b\b- \b\b\\ \b\b| \b\b/ \b\b- \b\b\\ \b\b| \b\b/ \b\b- \b\b\\ \b\b| \b\b/ \b\b- \b\b\\ \b\b| \b\b/ \b\b- \b\b\\ \b\b| \b\b/ \b\b- \b\b\\ \b\b| \b\b/ \b\b- \b\b\\ \b\b| \b\b/ \b\b- \b\b\\ \b\b| \b\b/ \b\b- \b\b\\ \b\b| \b\b/ \b\b- \b\b\\ \b\b| \b\b/ \b\b- \b\b\\ \b\b| \b\b/ \b\b- \b\b\\ \b\b| \b\b/ \b\b- \b\b\\ \b\b| \b\b/ \b\b- \b\b\\ \b\b| \b\b/ \b\b- \b\b\\ \b\b| \b\b/ \b\b- \b\b\\ \b\b| \b\b/ \b\b- \b\b\\ \b\b| \b\b/ \b\b- \b\b\\ \b\b| \b\b/ \b\b- \b\b\\ \b\b| \b\b/ \b\b- \b\b\\ \b\b| \b\b/ \b\b- \b\b\\ \b\b| \b\b/ \b\b- \b\b\\ \b\b| \b\b/ \b\b- \b\b\\ \b\bdone\n",
            "Solving environment: / \b\b- \b\b\\ \b\b| \b\b/ \b\b- \b\b\\ \b\b| \b\b/ \b\b- \b\b\\ \b\b| \b\b/ \b\b- \b\b\\ \b\b| \b\b/ \b\b- \b\b\\ \b\b| \b\b/ \b\b- \b\b\\ \b\b| \b\b/ \b\b- \b\b\\ \b\b| \b\b/ \b\b- \b\b\\ \b\b| \b\b/ \b\b- \b\b\\ \b\b| \b\b/ \b\b- \b\b\\ \b\b| \b\b/ \b\b- \b\b\\ \b\b| \b\b/ \b\b- \b\b\\ \b\b| \b\b/ \b\b- \b\b\\ \b\b| \b\b/ \b\b- \b\b\\ \b\b| \b\b/ \b\b- \b\b\\ \b\b| \b\b/ \b\b- \b\b\\ \b\b| \b\b/ \b\b- \b\b\\ \b\b| \b\b/ \b\bdone\n",
            "\n",
            "\n",
            "==> WARNING: A newer version of conda exists. <==\n",
            "  current version: 4.7.12\n",
            "  latest version: 4.9.2\n",
            "\n",
            "Please update conda by running\n",
            "\n",
            "    $ conda update -n base -c defaults conda\n",
            "\n",
            "\n",
            "\n",
            "## Package Plan ##\n",
            "\n",
            "  environment location: /usr/local\n",
            "\n",
            "  added / updated specs:\n",
            "    - deepchem-gpu=2.3.0\n",
            "\n",
            "\n",
            "The following packages will be UPDATED:\n",
            "\n",
            "  conda                      pkgs/main::conda-4.7.12-py37_0 --> conda-forge::conda-4.10.0-py37h89c1867_1\n",
            "\n",
            "\n",
            "Preparing transaction: \\ \b\bdone\n",
            "Verifying transaction: / \b\bdone\n",
            "Executing transaction: \\ \b\bdone\n",
            "\n",
            "real\t0m31.479s\n",
            "user\t0m27.694s\n",
            "sys\t0m3.594s\n"
          ],
          "name": "stdout"
        }
      ]
    },
    {
      "cell_type": "code",
      "metadata": {
        "id": "yS2DjAnF9y49",
        "colab": {
          "base_uri": "https://localhost:8080/"
        },
        "outputId": "e3a98b61-a295-4815-acd4-7e4500509afa"
      },
      "source": [
        "!pip install mordred\n",
        "!pip install --upgrade bravado\n",
        "!pip install molvs"
      ],
      "execution_count": 52,
      "outputs": [
        {
          "output_type": "stream",
          "text": [
            "Requirement already satisfied: mordred in /usr/local/lib/python3.7/site-packages (1.2.0)\n",
            "Requirement already satisfied: numpy==1.* in /usr/local/lib/python3.7/site-packages (from mordred) (1.17.2)\n",
            "Requirement already satisfied: six==1.* in /usr/local/lib/python3.7/site-packages (from mordred) (1.12.0)\n",
            "Requirement already satisfied: networkx==2.* in /usr/local/lib/python3.7/site-packages (from mordred) (2.3)\n",
            "Requirement already satisfied: decorator>=4.3.0 in /usr/local/lib/python3.7/site-packages (from networkx==2.*->mordred) (4.4.0)\n",
            "Requirement already up-to-date: bravado in /usr/local/lib/python3.7/site-packages (11.0.3)\n",
            "Requirement already satisfied, skipping upgrade: requests>=2.17 in /usr/local/lib/python3.7/site-packages (from bravado) (2.22.0)\n",
            "Requirement already satisfied, skipping upgrade: msgpack in /usr/local/lib/python3.7/site-packages (from bravado) (0.6.1)\n",
            "Requirement already satisfied, skipping upgrade: python-dateutil in /usr/local/lib/python3.7/site-packages (from bravado) (2.8.0)\n",
            "Requirement already satisfied, skipping upgrade: simplejson in /usr/local/lib/python3.7/site-packages (from bravado) (3.17.2)\n",
            "Requirement already satisfied, skipping upgrade: bravado-core>=5.16.1 in /usr/local/lib/python3.7/site-packages (from bravado) (5.17.0)\n",
            "Requirement already satisfied, skipping upgrade: pyyaml in /usr/local/lib/python3.7/site-packages (from bravado) (5.1.2)\n",
            "Requirement already satisfied, skipping upgrade: typing-extensions in /usr/local/lib/python3.7/site-packages (from bravado) (3.7.4.3)\n",
            "Requirement already satisfied, skipping upgrade: monotonic in /usr/local/lib/python3.7/site-packages (from bravado) (1.5)\n",
            "Requirement already satisfied, skipping upgrade: six in /usr/local/lib/python3.7/site-packages (from bravado) (1.12.0)\n",
            "Requirement already satisfied, skipping upgrade: idna<2.9,>=2.5 in /usr/local/lib/python3.7/site-packages (from requests>=2.17->bravado) (2.8)\n",
            "Requirement already satisfied, skipping upgrade: certifi>=2017.4.17 in /usr/local/lib/python3.7/site-packages (from requests>=2.17->bravado) (2019.9.11)\n",
            "Requirement already satisfied, skipping upgrade: chardet<3.1.0,>=3.0.2 in /usr/local/lib/python3.7/site-packages (from requests>=2.17->bravado) (3.0.4)\n",
            "Requirement already satisfied, skipping upgrade: urllib3!=1.25.0,!=1.25.1,<1.26,>=1.21.1 in /usr/local/lib/python3.7/site-packages (from requests>=2.17->bravado) (1.24.2)\n",
            "Requirement already satisfied, skipping upgrade: swagger-spec-validator>=2.0.1 in /usr/local/lib/python3.7/site-packages (from bravado-core>=5.16.1->bravado) (2.7.3)\n",
            "Requirement already satisfied, skipping upgrade: jsonref in /usr/local/lib/python3.7/site-packages (from bravado-core>=5.16.1->bravado) (0.2)\n",
            "Requirement already satisfied, skipping upgrade: jsonschema[format]>=2.5.1 in /usr/local/lib/python3.7/site-packages (from bravado-core>=5.16.1->bravado) (3.0.2)\n",
            "Requirement already satisfied, skipping upgrade: pytz in /usr/local/lib/python3.7/site-packages (from bravado-core>=5.16.1->bravado) (2019.3)\n",
            "Requirement already satisfied, skipping upgrade: pyrsistent>=0.14.0 in /usr/local/lib/python3.7/site-packages (from jsonschema[format]>=2.5.1->bravado-core>=5.16.1->bravado) (0.15.4)\n",
            "Requirement already satisfied, skipping upgrade: attrs>=17.4.0 in /usr/local/lib/python3.7/site-packages (from jsonschema[format]>=2.5.1->bravado-core>=5.16.1->bravado) (19.2.0)\n",
            "Requirement already satisfied, skipping upgrade: setuptools in /usr/local/lib/python3.7/site-packages (from jsonschema[format]>=2.5.1->bravado-core>=5.16.1->bravado) (41.4.0)\n",
            "Requirement already satisfied, skipping upgrade: rfc3987; extra == \"format\" in /usr/local/lib/python3.7/site-packages (from jsonschema[format]>=2.5.1->bravado-core>=5.16.1->bravado) (1.3.8)\n",
            "Requirement already satisfied, skipping upgrade: strict-rfc3339; extra == \"format\" in /usr/local/lib/python3.7/site-packages (from jsonschema[format]>=2.5.1->bravado-core>=5.16.1->bravado) (0.7)\n",
            "Requirement already satisfied, skipping upgrade: webcolors; extra == \"format\" in /usr/local/lib/python3.7/site-packages (from jsonschema[format]>=2.5.1->bravado-core>=5.16.1->bravado) (1.11.1)\n",
            "Requirement already satisfied, skipping upgrade: jsonpointer>1.13; extra == \"format\" in /usr/local/lib/python3.7/site-packages (from jsonschema[format]>=2.5.1->bravado-core>=5.16.1->bravado) (2.1)\n",
            "Requirement already satisfied: molvs in /usr/local/lib/python3.7/site-packages (0.1.1)\n",
            "Requirement already satisfied: six in /usr/local/lib/python3.7/site-packages (from molvs) (1.12.0)\n"
          ],
          "name": "stdout"
        }
      ]
    },
    {
      "cell_type": "code",
      "metadata": {
        "id": "4AB0U-9gyJNB",
        "colab": {
          "base_uri": "https://localhost:8080/"
        },
        "outputId": "556e390e-d1bc-4b83-e373-3a19f5a0a85f"
      },
      "source": [
        "!wget https://raw.githubusercontent.com/ravichas/AMPL-Tutorial/master/config/install_AMPL_GPU_test.sh"
      ],
      "execution_count": 53,
      "outputs": [
        {
          "output_type": "stream",
          "text": [
            "--2021-04-06 02:10:41--  https://raw.githubusercontent.com/ravichas/AMPL-Tutorial/master/config/install_AMPL_GPU_test.sh\n",
            "Resolving raw.githubusercontent.com (raw.githubusercontent.com)... 185.199.108.133, 185.199.109.133, 185.199.110.133, ...\n",
            "Connecting to raw.githubusercontent.com (raw.githubusercontent.com)|185.199.108.133|:443... connected.\n",
            "HTTP request sent, awaiting response... 200 OK\n",
            "Length: 1100 (1.1K) [text/plain]\n",
            "Saving to: ‘install_AMPL_GPU_test.sh.1’\n",
            "\n",
            "\r          install_A   0%[                    ]       0  --.-KB/s               \rinstall_AMPL_GPU_te 100%[===================>]   1.07K  --.-KB/s    in 0s      \n",
            "\n",
            "2021-04-06 02:10:41 (36.4 MB/s) - ‘install_AMPL_GPU_test.sh.1’ saved [1100/1100]\n",
            "\n"
          ],
          "name": "stdout"
        }
      ]
    },
    {
      "cell_type": "code",
      "metadata": {
        "id": "aadk1g7ZzPdp",
        "colab": {
          "base_uri": "https://localhost:8080/"
        },
        "outputId": "3bbb5355-2068-4b0e-a74f-91026b436dba"
      },
      "source": [
        "! chmod u+x install_AMPL_GPU_test.sh\n",
        "! ./install_AMPL_GPU_test.sh"
      ],
      "execution_count": 54,
      "outputs": [
        {
          "output_type": "stream",
          "text": [
            "mkdir: cannot create directory ‘github’: File exists\n",
            "fatal: destination path 'AMPL' already exists and is not an empty directory.\n",
            "M\tatomsci/ddm/__init__.py\n",
            "M\tatomsci/ddm/pipeline/transformations.py\n",
            "Already on 'pkg_upgrade'\n",
            "Your branch is up to date with 'origin/pkg_upgrade'.\n",
            "patching file /content/github/AMPL/atomsci/ddm/pipeline/transformations.py\n",
            "Reversed (or previously applied) patch detected!  Skipping patch.\n",
            "1 out of 1 hunk ignored -- saving rejects to file /content/github/AMPL/atomsci/ddm/pipeline/transformations.py.rej\n",
            "patching file /content/github/AMPL/atomsci/ddm/__init__.py\n",
            "Reversed (or previously applied) patch detected!  Skipping patch.\n",
            "1 out of 1 hunk ignored -- saving rejects to file /content/github/AMPL/atomsci/ddm/__init__.py.rej\n",
            "running build\n",
            "running build_py\n",
            "running egg_info\n",
            "writing /content/github/AMPL.build/ampl/atomsci_ampl.egg-info/PKG-INFO\n",
            "writing dependency_links to /content/github/AMPL.build/ampl/atomsci_ampl.egg-info/dependency_links.txt\n",
            "writing namespace_packages to /content/github/AMPL.build/ampl/atomsci_ampl.egg-info/namespace_packages.txt\n",
            "writing top-level names to /content/github/AMPL.build/ampl/atomsci_ampl.egg-info/top_level.txt\n",
            "reading manifest file '/content/github/AMPL.build/ampl/atomsci_ampl.egg-info/SOURCES.txt'\n",
            "reading manifest template 'MANIFEST.in'\n",
            "warning: no files found matching 'atomsci/*/*.yaml'\n",
            "writing manifest file '/content/github/AMPL.build/ampl/atomsci_ampl.egg-info/SOURCES.txt'\n",
            "running bdist_wheel\n",
            "installing to /content/github/AMPL.build/ampl/bdist.linux-x86_64/wheel\n",
            "running install\n",
            "running install_lib\n",
            "Skipping installation of /content/github/AMPL.build/ampl/bdist.linux-x86_64/wheel/atomsci/__init__.py (namespace package)\n",
            "copying atomsci/ddm/__init__.py -> /content/github/AMPL.build/ampl/bdist.linux-x86_64/wheel/atomsci/ddm\n",
            "copying atomsci/ddm/pipeline/parameter_parser.py -> /content/github/AMPL.build/ampl/bdist.linux-x86_64/wheel/atomsci/ddm/pipeline\n",
            "copying atomsci/ddm/pipeline/perf_plots.py -> /content/github/AMPL.build/ampl/bdist.linux-x86_64/wheel/atomsci/ddm/pipeline\n",
            "copying atomsci/ddm/pipeline/__init__.py -> /content/github/AMPL.build/ampl/bdist.linux-x86_64/wheel/atomsci/ddm/pipeline\n",
            "copying atomsci/ddm/pipeline/featurization.py -> /content/github/AMPL.build/ampl/bdist.linux-x86_64/wheel/atomsci/ddm/pipeline\n",
            "copying atomsci/ddm/pipeline/transformations.py -> /content/github/AMPL.build/ampl/bdist.linux-x86_64/wheel/atomsci/ddm/pipeline\n",
            "copying atomsci/ddm/pipeline/model_tracker.py -> /content/github/AMPL.build/ampl/bdist.linux-x86_64/wheel/atomsci/ddm/pipeline\n",
            "copying atomsci/ddm/pipeline/hyper_perf_plots.py -> /content/github/AMPL.build/ampl/bdist.linux-x86_64/wheel/atomsci/ddm/pipeline\n",
            "copying atomsci/ddm/pipeline/model_datasets.py -> /content/github/AMPL.build/ampl/bdist.linux-x86_64/wheel/atomsci/ddm/pipeline\n",
            "copying atomsci/ddm/pipeline/diversity_plots.py -> /content/github/AMPL.build/ampl/bdist.linux-x86_64/wheel/atomsci/ddm/pipeline\n",
            "copying atomsci/ddm/pipeline/predict_from_model.py -> /content/github/AMPL.build/ampl/bdist.linux-x86_64/wheel/atomsci/ddm/pipeline\n",
            "copying atomsci/ddm/pipeline/perf_data.py -> /content/github/AMPL.build/ampl/bdist.linux-x86_64/wheel/atomsci/ddm/pipeline\n",
            "copying atomsci/ddm/pipeline/compare_models.py -> /content/github/AMPL.build/ampl/bdist.linux-x86_64/wheel/atomsci/ddm/pipeline\n",
            "copying atomsci/ddm/pipeline/chem_diversity.py -> /content/github/AMPL.build/ampl/bdist.linux-x86_64/wheel/atomsci/ddm/pipeline\n",
            "copying atomsci/ddm/pipeline/ave_splitter.py -> /content/github/AMPL.build/ampl/bdist.linux-x86_64/wheel/atomsci/ddm/pipeline\n",
            "copying atomsci/ddm/pipeline/dist_metrics.py -> /content/github/AMPL.build/ampl/bdist.linux-x86_64/wheel/atomsci/ddm/pipeline\n",
            "copying atomsci/ddm/pipeline/model_wrapper.py -> /content/github/AMPL.build/ampl/bdist.linux-x86_64/wheel/atomsci/ddm/pipeline\n",
            "copying atomsci/ddm/pipeline/temporal_splitter.py -> /content/github/AMPL.build/ampl/bdist.linux-x86_64/wheel/atomsci/ddm/pipeline\n",
            "copying atomsci/ddm/pipeline/model_pipeline.py -> /content/github/AMPL.build/ampl/bdist.linux-x86_64/wheel/atomsci/ddm/pipeline\n",
            "copying atomsci/ddm/pipeline/splitting.py -> /content/github/AMPL.build/ampl/bdist.linux-x86_64/wheel/atomsci/ddm/pipeline\n",
            "copying atomsci/ddm/utils/process_slurm.py -> /content/github/AMPL.build/ampl/bdist.linux-x86_64/wheel/atomsci/ddm/utils\n",
            "copying atomsci/ddm/utils/__init__.py -> /content/github/AMPL.build/ampl/bdist.linux-x86_64/wheel/atomsci/ddm/utils\n",
            "copying atomsci/ddm/utils/datastore_functions.py -> /content/github/AMPL.build/ampl/bdist.linux-x86_64/wheel/atomsci/ddm/utils\n",
            "copying atomsci/ddm/utils/struct_utils.py -> /content/github/AMPL.build/ampl/bdist.linux-x86_64/wheel/atomsci/ddm/utils\n",
            "copying atomsci/ddm/utils/data_curation_functions.py -> /content/github/AMPL.build/ampl/bdist.linux-x86_64/wheel/atomsci/ddm/utils\n",
            "copying atomsci/ddm/utils/open-docs.py -> /content/github/AMPL.build/ampl/bdist.linux-x86_64/wheel/atomsci/ddm/utils\n",
            "copying atomsci/ddm/utils/genTestset.py -> /content/github/AMPL.build/ampl/bdist.linux-x86_64/wheel/atomsci/ddm/utils\n",
            "copying atomsci/ddm/utils/rdkit_easy.py -> /content/github/AMPL.build/ampl/bdist.linux-x86_64/wheel/atomsci/ddm/utils\n",
            "copying atomsci/ddm/utils/llnl_utils.py -> /content/github/AMPL.build/ampl/bdist.linux-x86_64/wheel/atomsci/ddm/utils\n",
            "copying atomsci/ddm/utils/pubchem_utils.py -> /content/github/AMPL.build/ampl/bdist.linux-x86_64/wheel/atomsci/ddm/utils\n",
            "copying atomsci/ddm/utils/curate_data.py -> /content/github/AMPL.build/ampl/bdist.linux-x86_64/wheel/atomsci/ddm/utils\n",
            "copying atomsci/ddm/utils/hyperparam_search_wrapper.py -> /content/github/AMPL.build/ampl/bdist.linux-x86_64/wheel/atomsci/ddm/utils\n",
            "copying atomsci/ddm/data/descriptor_sets_sources_by_descr_type.csv -> /content/github/AMPL.build/ampl/bdist.linux-x86_64/wheel/atomsci/ddm/data\n",
            "running install_egg_info\n",
            "Copying /content/github/AMPL.build/ampl/atomsci_ampl.egg-info to /content/github/AMPL.build/ampl/bdist.linux-x86_64/wheel/atomsci_ampl-1.0.0.dev1-py3.7.egg-info\n",
            "Installing /content/github/AMPL.build/ampl/bdist.linux-x86_64/wheel/atomsci_ampl-1.0.0.dev1-py3.7-nspkg.pth\n",
            "running install_scripts\n",
            "adding license file \"LICENSE\" (matched pattern \"LICEN[CS]E*\")\n",
            "adding license file \"NOTICE\" (matched pattern \"NOTICE*\")\n",
            "creating /content/github/AMPL.build/ampl/bdist.linux-x86_64/wheel/atomsci_ampl-1.0.0.dev1.dist-info/WHEEL\n",
            "creating '/content/github/AMPL.dist/atomsci_ampl-1.0.0.dev1-py3-none-any.whl' and adding '/content/github/AMPL.build/ampl/bdist.linux-x86_64/wheel' to it\n",
            "adding 'atomsci_ampl-1.0.0.dev1-py3.7-nspkg.pth'\n",
            "adding 'atomsci/ddm/__init__.py'\n",
            "adding 'atomsci/ddm/data/descriptor_sets_sources_by_descr_type.csv'\n",
            "adding 'atomsci/ddm/pipeline/__init__.py'\n",
            "adding 'atomsci/ddm/pipeline/ave_splitter.py'\n",
            "adding 'atomsci/ddm/pipeline/chem_diversity.py'\n",
            "adding 'atomsci/ddm/pipeline/compare_models.py'\n",
            "adding 'atomsci/ddm/pipeline/dist_metrics.py'\n",
            "adding 'atomsci/ddm/pipeline/diversity_plots.py'\n",
            "adding 'atomsci/ddm/pipeline/featurization.py'\n",
            "adding 'atomsci/ddm/pipeline/hyper_perf_plots.py'\n",
            "adding 'atomsci/ddm/pipeline/model_datasets.py'\n",
            "adding 'atomsci/ddm/pipeline/model_pipeline.py'\n",
            "adding 'atomsci/ddm/pipeline/model_tracker.py'\n",
            "adding 'atomsci/ddm/pipeline/model_wrapper.py'\n",
            "adding 'atomsci/ddm/pipeline/parameter_parser.py'\n",
            "adding 'atomsci/ddm/pipeline/perf_data.py'\n",
            "adding 'atomsci/ddm/pipeline/perf_plots.py'\n",
            "adding 'atomsci/ddm/pipeline/predict_from_model.py'\n",
            "adding 'atomsci/ddm/pipeline/splitting.py'\n",
            "adding 'atomsci/ddm/pipeline/temporal_splitter.py'\n",
            "adding 'atomsci/ddm/pipeline/transformations.py'\n",
            "adding 'atomsci/ddm/utils/__init__.py'\n",
            "adding 'atomsci/ddm/utils/curate_data.py'\n",
            "adding 'atomsci/ddm/utils/data_curation_functions.py'\n",
            "adding 'atomsci/ddm/utils/datastore_functions.py'\n",
            "adding 'atomsci/ddm/utils/genTestset.py'\n",
            "adding 'atomsci/ddm/utils/hyperparam_search_wrapper.py'\n",
            "adding 'atomsci/ddm/utils/llnl_utils.py'\n",
            "adding 'atomsci/ddm/utils/open-docs.py'\n",
            "adding 'atomsci/ddm/utils/process_slurm.py'\n",
            "adding 'atomsci/ddm/utils/pubchem_utils.py'\n",
            "adding 'atomsci/ddm/utils/rdkit_easy.py'\n",
            "adding 'atomsci/ddm/utils/struct_utils.py'\n",
            "adding 'atomsci_ampl-1.0.0.dev1.dist-info/LICENSE'\n",
            "adding 'atomsci_ampl-1.0.0.dev1.dist-info/METADATA'\n",
            "adding 'atomsci_ampl-1.0.0.dev1.dist-info/NOTICE'\n",
            "adding 'atomsci_ampl-1.0.0.dev1.dist-info/WHEEL'\n",
            "adding 'atomsci_ampl-1.0.0.dev1.dist-info/namespace_packages.txt'\n",
            "adding 'atomsci_ampl-1.0.0.dev1.dist-info/top_level.txt'\n",
            "adding 'atomsci_ampl-1.0.0.dev1.dist-info/RECORD'\n",
            "removing /content/github/AMPL.build/ampl/bdist.linux-x86_64/wheel\n",
            "DIR: /content/github/AMPL\n",
            "Ignoring indexes: https://pypi.org/simple\n",
            "Created temporary directory: /tmp/pip-ephem-wheel-cache-7gzouokh\n",
            "Created temporary directory: /tmp/pip-req-tracker-g2_5mwu0\n",
            "Created requirements tracker '/tmp/pip-req-tracker-g2_5mwu0'\n",
            "Created temporary directory: /tmp/pip-install-urc1d2or\n",
            "Looking in links: /content/github/AMPL.dist\n",
            "Collecting atomsci_ampl\n",
            "  0 location(s) to search for versions of atomsci-ampl:\n",
            "  Skipping link: unsupported archive format: .dist: /content/github/AMPL.dist (from -f)\n",
            "  Found link file:///content/github/AMPL.dist/atomsci_ampl-1.0.0.dev1-py3-none-any.whl, version: 1.0.0.dev1\n",
            "  Local files found: /content/github/AMPL.dist/atomsci_ampl-1.0.0.dev1-py3-none-any.whl\n",
            "  Given no hashes to check 1 links for project 'atomsci-ampl': discarding no candidates\n",
            "  Using version 1.0.0.dev1 (newest of versions: 1.0.0.dev1)\n",
            "  Added atomsci_ampl from file:///content/github/AMPL.dist/atomsci_ampl-1.0.0.dev1-py3-none-any.whl to build tracker '/tmp/pip-req-tracker-g2_5mwu0'\n",
            "  Removed atomsci_ampl from file:///content/github/AMPL.dist/atomsci_ampl-1.0.0.dev1-py3-none-any.whl from build tracker '/tmp/pip-req-tracker-g2_5mwu0'\n",
            "Installing collected packages: atomsci-ampl\n",
            "\n",
            "Successfully installed atomsci-ampl-1.0.0.dev1\n",
            "Cleaning up...\n",
            "Removed build tracker '/tmp/pip-req-tracker-g2_5mwu0'\n"
          ],
          "name": "stdout"
        }
      ]
    },
    {
      "cell_type": "code",
      "metadata": {
        "id": "InUQE4II1noi",
        "colab": {
          "base_uri": "https://localhost:8080/"
        },
        "outputId": "bf5be05b-ae90-48ba-cd38-25e084e98817"
      },
      "source": [
        "! wget https://raw.githubusercontent.com/fanroyi/E4511-2021-Fan/main/Dataset/curated_combined_df.csv"
      ],
      "execution_count": 55,
      "outputs": [
        {
          "output_type": "stream",
          "text": [
            "--2021-04-06 02:10:44--  https://raw.githubusercontent.com/fanroyi/E4511-2021-Fan/main/Dataset/curated_combined_df.csv\n",
            "Resolving raw.githubusercontent.com (raw.githubusercontent.com)... 185.199.108.133, 185.199.109.133, 185.199.110.133, ...\n",
            "Connecting to raw.githubusercontent.com (raw.githubusercontent.com)|185.199.108.133|:443... connected.\n",
            "HTTP request sent, awaiting response... 200 OK\n",
            "Length: 633765 (619K) [text/plain]\n",
            "Saving to: ‘curated_combined_df.csv.1’\n",
            "\n",
            "curated_combined_df 100%[===================>] 618.91K  --.-KB/s    in 0.05s   \n",
            "\n",
            "2021-04-06 02:10:44 (11.3 MB/s) - ‘curated_combined_df.csv.1’ saved [633765/633765]\n",
            "\n"
          ],
          "name": "stdout"
        }
      ]
    },
    {
      "cell_type": "code",
      "metadata": {
        "id": "2PO0-2HKvVpn",
        "colab": {
          "base_uri": "https://localhost:8080/"
        },
        "outputId": "affe1ae1-cc34-47f5-d312-3525cda57ab3"
      },
      "source": [
        "!pip install hyperopt"
      ],
      "execution_count": 56,
      "outputs": [
        {
          "output_type": "stream",
          "text": [
            "Requirement already satisfied: hyperopt in /usr/local/lib/python3.7/site-packages (0.2.5)\n",
            "Requirement already satisfied: scipy in /usr/local/lib/python3.7/site-packages (from hyperopt) (1.3.1)\n",
            "Requirement already satisfied: networkx>=2.2 in /usr/local/lib/python3.7/site-packages (from hyperopt) (2.3)\n",
            "Requirement already satisfied: numpy in /usr/local/lib/python3.7/site-packages (from hyperopt) (1.17.2)\n",
            "Requirement already satisfied: six in /usr/local/lib/python3.7/site-packages (from hyperopt) (1.12.0)\n",
            "Requirement already satisfied: cloudpickle in /usr/local/lib/python3.7/site-packages (from hyperopt) (1.2.2)\n",
            "Requirement already satisfied: tqdm in /usr/local/lib/python3.7/site-packages (from hyperopt) (4.36.1)\n",
            "Requirement already satisfied: future in /usr/local/lib/python3.7/site-packages (from hyperopt) (0.17.1)\n",
            "Requirement already satisfied: decorator>=4.3.0 in /usr/local/lib/python3.7/site-packages (from networkx>=2.2->hyperopt) (4.4.0)\n"
          ],
          "name": "stdout"
        }
      ]
    },
    {
      "cell_type": "markdown",
      "metadata": {
        "id": "mTOwqhvR3xL3"
      },
      "source": [
        "### Load packages and dataset"
      ]
    },
    {
      "cell_type": "code",
      "metadata": {
        "id": "EeN9kEMO2R9Z"
      },
      "source": [
        "import matplotlib.pyplot as plt\n",
        "import seaborn as sns\n",
        "import numpy as np\n",
        "sns.set_context(\"poster\")\n",
        "sns.set_style(\"whitegrid\")\n",
        "sns.set_palette(\"Set2\")\n",
        "\n",
        "import pandas as pd\n",
        "import os, json, sys, glob, pickle\n",
        "\n",
        "from atomsci.ddm.pipeline import model_pipeline as mp\n",
        "from atomsci.ddm.pipeline import parameter_parser as parse\n",
        "from atomsci.ddm.pipeline import perf_data\n",
        "\n",
        "from hyperopt import fmin, tpe, hp, Trials, STATUS_OK"
      ],
      "execution_count": 57,
      "outputs": []
    },
    {
      "cell_type": "code",
      "metadata": {
        "id": "C5J-cJNz2V5w"
      },
      "source": [
        "df = pd.read_csv(\"curated_combined_df.csv\",index_col = 0)"
      ],
      "execution_count": 58,
      "outputs": []
    },
    {
      "cell_type": "code",
      "metadata": {
        "id": "v_fQuS473N1M",
        "colab": {
          "base_uri": "https://localhost:8080/",
          "height": 541
        },
        "outputId": "612fa117-b5d4-425a-c5b4-b04f8028f65b"
      },
      "source": [
        "df"
      ],
      "execution_count": 59,
      "outputs": [
        {
          "output_type": "execute_result",
          "data": {
            "text/html": [
              "<div>\n",
              "<style scoped>\n",
              "    .dataframe tbody tr th:only-of-type {\n",
              "        vertical-align: middle;\n",
              "    }\n",
              "\n",
              "    .dataframe tbody tr th {\n",
              "        vertical-align: top;\n",
              "    }\n",
              "\n",
              "    .dataframe thead th {\n",
              "        text-align: right;\n",
              "    }\n",
              "</style>\n",
              "<table border=\"1\" class=\"dataframe\">\n",
              "  <thead>\n",
              "    <tr style=\"text-align: right;\">\n",
              "      <th></th>\n",
              "      <th>compound_id</th>\n",
              "      <th>base_rdkit_smiles</th>\n",
              "      <th>PXC50</th>\n",
              "      <th>active</th>\n",
              "      <th>VALUE_NUM_mean</th>\n",
              "      <th>VALUE_NUM_std</th>\n",
              "      <th>Perc_Var</th>\n",
              "      <th>Remove_BadDuplicate</th>\n",
              "    </tr>\n",
              "  </thead>\n",
              "  <tbody>\n",
              "    <tr>\n",
              "      <th>0</th>\n",
              "      <td>JOJYHYRCIYAVHN-UHFFFAOYSA-N</td>\n",
              "      <td>Cc1ccc(Sc2ccccc2N2CCNCC2)c(C)c1</td>\n",
              "      <td>4.408935</td>\n",
              "      <td>0</td>\n",
              "      <td>4.409468</td>\n",
              "      <td>0.000753</td>\n",
              "      <td>0.012072</td>\n",
              "      <td>0</td>\n",
              "    </tr>\n",
              "    <tr>\n",
              "      <th>1</th>\n",
              "      <td>CKLPLPZSUQEDRT-WPCRTTGESA-N</td>\n",
              "      <td>C[C@H]1Cc2c([nH]c3cc(Cl)c(F)cc23)[C@@]2(N1)C(=...</td>\n",
              "      <td>5.266001</td>\n",
              "      <td>0</td>\n",
              "      <td>5.268000</td>\n",
              "      <td>0.002828</td>\n",
              "      <td>0.037958</td>\n",
              "      <td>0</td>\n",
              "    </tr>\n",
              "    <tr>\n",
              "      <th>2</th>\n",
              "      <td>HHVBUSGGPUQAOP-UHFFFAOYSA-N</td>\n",
              "      <td>Cc1cccc(Sc2ccccc2N2CCNCC2)c1C</td>\n",
              "      <td>4.397940</td>\n",
              "      <td>0</td>\n",
              "      <td>4.399313</td>\n",
              "      <td>0.001189</td>\n",
              "      <td>0.031217</td>\n",
              "      <td>0</td>\n",
              "    </tr>\n",
              "    <tr>\n",
              "      <th>3</th>\n",
              "      <td>RJOWFEDJGNNCDF-UHFFFAOYSA-N</td>\n",
              "      <td>Clc1ccc(Sc2ccccc2N2CCNCC2)c(Cl)c1</td>\n",
              "      <td>4.468521</td>\n",
              "      <td>0</td>\n",
              "      <td>4.469507</td>\n",
              "      <td>0.000854</td>\n",
              "      <td>0.022059</td>\n",
              "      <td>0</td>\n",
              "    </tr>\n",
              "    <tr>\n",
              "      <th>4</th>\n",
              "      <td>REFJWTPEDVJJIY-UHFFFAOYSA-N</td>\n",
              "      <td>O=c1c(O)c(-c2ccc(O)c(O)c2)oc2cc(O)cc(O)c12</td>\n",
              "      <td>4.991400</td>\n",
              "      <td>0</td>\n",
              "      <td>4.990700</td>\n",
              "      <td>0.000990</td>\n",
              "      <td>0.014024</td>\n",
              "      <td>0</td>\n",
              "    </tr>\n",
              "    <tr>\n",
              "      <th>...</th>\n",
              "      <td>...</td>\n",
              "      <td>...</td>\n",
              "      <td>...</td>\n",
              "      <td>...</td>\n",
              "      <td>...</td>\n",
              "      <td>...</td>\n",
              "      <td>...</td>\n",
              "      <td>...</td>\n",
              "    </tr>\n",
              "    <tr>\n",
              "      <th>8108</th>\n",
              "      <td>CHEMBL1372952</td>\n",
              "      <td>COc1ccc2[nH]c(Sc3c([N+](=O)[O-])nc(C)n3Cc3cccc...</td>\n",
              "      <td>4.800000</td>\n",
              "      <td>0</td>\n",
              "      <td>4.800000</td>\n",
              "      <td>NaN</td>\n",
              "      <td>0.000000</td>\n",
              "      <td>0</td>\n",
              "    </tr>\n",
              "    <tr>\n",
              "      <th>8109</th>\n",
              "      <td>CHEMBL1335370</td>\n",
              "      <td>O=C(CSc1ccccc1)Nc1ccc(N2CCN(c3ccccc3)CC2)c(F)c1</td>\n",
              "      <td>6.350000</td>\n",
              "      <td>1</td>\n",
              "      <td>6.350000</td>\n",
              "      <td>NaN</td>\n",
              "      <td>0.000000</td>\n",
              "      <td>0</td>\n",
              "    </tr>\n",
              "    <tr>\n",
              "      <th>8110</th>\n",
              "      <td>CHEMBL103</td>\n",
              "      <td>CC(=O)[C@H]1CC[C@H]2[C@@H]3CC=C4CC(=O)CC[C@]4(...</td>\n",
              "      <td>5.260000</td>\n",
              "      <td>1</td>\n",
              "      <td>5.260000</td>\n",
              "      <td>NaN</td>\n",
              "      <td>0.000000</td>\n",
              "      <td>0</td>\n",
              "    </tr>\n",
              "    <tr>\n",
              "      <th>8111</th>\n",
              "      <td>CHEMBL1522767</td>\n",
              "      <td>NC(=NOC(=O)Cc1ccc(-c2ccccc2)cc1)c1cccc([N+](=O...</td>\n",
              "      <td>5.000000</td>\n",
              "      <td>1</td>\n",
              "      <td>5.000000</td>\n",
              "      <td>NaN</td>\n",
              "      <td>0.000000</td>\n",
              "      <td>0</td>\n",
              "    </tr>\n",
              "    <tr>\n",
              "      <th>8112</th>\n",
              "      <td>CHEMBL1358137</td>\n",
              "      <td>Cc1ccc2ccccc2c1CSc1nc(N)nc2c1ncn2CC(C)C</td>\n",
              "      <td>5.100000</td>\n",
              "      <td>1</td>\n",
              "      <td>5.100000</td>\n",
              "      <td>NaN</td>\n",
              "      <td>0.000000</td>\n",
              "      <td>0</td>\n",
              "    </tr>\n",
              "  </tbody>\n",
              "</table>\n",
              "<p>7684 rows × 8 columns</p>\n",
              "</div>"
            ],
            "text/plain": [
              "                      compound_id  ... Remove_BadDuplicate\n",
              "0     JOJYHYRCIYAVHN-UHFFFAOYSA-N  ...                   0\n",
              "1     CKLPLPZSUQEDRT-WPCRTTGESA-N  ...                   0\n",
              "2     HHVBUSGGPUQAOP-UHFFFAOYSA-N  ...                   0\n",
              "3     RJOWFEDJGNNCDF-UHFFFAOYSA-N  ...                   0\n",
              "4     REFJWTPEDVJJIY-UHFFFAOYSA-N  ...                   0\n",
              "...                           ...  ...                 ...\n",
              "8108                CHEMBL1372952  ...                   0\n",
              "8109                CHEMBL1335370  ...                   0\n",
              "8110                    CHEMBL103  ...                   0\n",
              "8111                CHEMBL1522767  ...                   0\n",
              "8112                CHEMBL1358137  ...                   0\n",
              "\n",
              "[7684 rows x 8 columns]"
            ]
          },
          "metadata": {
            "tags": []
          },
          "execution_count": 59
        }
      ]
    },
    {
      "cell_type": "markdown",
      "metadata": {
        "id": "z0i--FHKdd77"
      },
      "source": [
        "## Data Clean\n"
      ]
    },
    {
      "cell_type": "code",
      "metadata": {
        "colab": {
          "base_uri": "https://localhost:8080/",
          "height": 439
        },
        "id": "KXRQwUYXV3iv",
        "outputId": "3549918e-7794-4e94-c8c2-d100749c1629"
      },
      "source": [
        "# findout duplicated, or we can't train model\n",
        "df[df.compound_id.duplicated(keep=False)==True].sort_values(by='compound_id')"
      ],
      "execution_count": 60,
      "outputs": [
        {
          "output_type": "execute_result",
          "data": {
            "text/html": [
              "<div>\n",
              "<style scoped>\n",
              "    .dataframe tbody tr th:only-of-type {\n",
              "        vertical-align: middle;\n",
              "    }\n",
              "\n",
              "    .dataframe tbody tr th {\n",
              "        vertical-align: top;\n",
              "    }\n",
              "\n",
              "    .dataframe thead th {\n",
              "        text-align: right;\n",
              "    }\n",
              "</style>\n",
              "<table border=\"1\" class=\"dataframe\">\n",
              "  <thead>\n",
              "    <tr style=\"text-align: right;\">\n",
              "      <th></th>\n",
              "      <th>compound_id</th>\n",
              "      <th>base_rdkit_smiles</th>\n",
              "      <th>PXC50</th>\n",
              "      <th>active</th>\n",
              "      <th>VALUE_NUM_mean</th>\n",
              "      <th>VALUE_NUM_std</th>\n",
              "      <th>Perc_Var</th>\n",
              "      <th>Remove_BadDuplicate</th>\n",
              "    </tr>\n",
              "  </thead>\n",
              "  <tbody>\n",
              "    <tr>\n",
              "      <th>2130</th>\n",
              "      <td>CHEMBL100917</td>\n",
              "      <td>CCCCc1ccccc1NC=NO</td>\n",
              "      <td>4.38</td>\n",
              "      <td>0</td>\n",
              "      <td>4.38000</td>\n",
              "      <td>NaN</td>\n",
              "      <td>0.000000</td>\n",
              "      <td>0</td>\n",
              "    </tr>\n",
              "    <tr>\n",
              "      <th>953</th>\n",
              "      <td>CHEMBL100917</td>\n",
              "      <td>CCCCc1ccccc1/N=C/NO</td>\n",
              "      <td>4.38</td>\n",
              "      <td>0</td>\n",
              "      <td>4.38000</td>\n",
              "      <td>NaN</td>\n",
              "      <td>0.000000</td>\n",
              "      <td>0</td>\n",
              "    </tr>\n",
              "    <tr>\n",
              "      <th>7730</th>\n",
              "      <td>CHEMBL1081860</td>\n",
              "      <td>N#Cc1ccc(S(=O)(=O)Nc2ccc3c(c2)CCN(Cc2ccn[nH]2)...</td>\n",
              "      <td>5.60</td>\n",
              "      <td>1</td>\n",
              "      <td>5.60000</td>\n",
              "      <td>NaN</td>\n",
              "      <td>0.000000</td>\n",
              "      <td>0</td>\n",
              "    </tr>\n",
              "    <tr>\n",
              "      <th>257</th>\n",
              "      <td>CHEMBL1081860</td>\n",
              "      <td>N#Cc1ccc(S(=O)(=O)Nc2ccc3c(c2)CCN(Cc2cc[nH]n2)...</td>\n",
              "      <td>5.60</td>\n",
              "      <td>0</td>\n",
              "      <td>5.60103</td>\n",
              "      <td>0.001457</td>\n",
              "      <td>0.018389</td>\n",
              "      <td>0</td>\n",
              "    </tr>\n",
              "    <tr>\n",
              "      <th>6474</th>\n",
              "      <td>CHEMBL115769</td>\n",
              "      <td>COc1cc(N)nc2[nH]c(-c3ccc(F)cc3)c(-c3ccncc3)c12</td>\n",
              "      <td>6.00</td>\n",
              "      <td>1</td>\n",
              "      <td>6.00000</td>\n",
              "      <td>NaN</td>\n",
              "      <td>0.000000</td>\n",
              "      <td>0</td>\n",
              "    </tr>\n",
              "    <tr>\n",
              "      <th>...</th>\n",
              "      <td>...</td>\n",
              "      <td>...</td>\n",
              "      <td>...</td>\n",
              "      <td>...</td>\n",
              "      <td>...</td>\n",
              "      <td>...</td>\n",
              "      <td>...</td>\n",
              "      <td>...</td>\n",
              "    </tr>\n",
              "    <tr>\n",
              "      <th>1086</th>\n",
              "      <td>CHEMBL485327</td>\n",
              "      <td>O=C(CCc1cn2c(n1)sc1cc(O)ccc12)NC1=C(C(=O)O)CCC1</td>\n",
              "      <td>4.92</td>\n",
              "      <td>0</td>\n",
              "      <td>4.92000</td>\n",
              "      <td>NaN</td>\n",
              "      <td>0.000000</td>\n",
              "      <td>0</td>\n",
              "    </tr>\n",
              "    <tr>\n",
              "      <th>7625</th>\n",
              "      <td>CHEMBL513491</td>\n",
              "      <td>O=C(O)c1cccc(Cc2cc(Cl)ccc2OCc2ccc(F)cc2Cl)n1</td>\n",
              "      <td>4.82</td>\n",
              "      <td>0</td>\n",
              "      <td>4.82000</td>\n",
              "      <td>NaN</td>\n",
              "      <td>0.000000</td>\n",
              "      <td>0</td>\n",
              "    </tr>\n",
              "    <tr>\n",
              "      <th>480</th>\n",
              "      <td>CHEMBL513491</td>\n",
              "      <td>O=C([O-])c1cccc(Cc2cc(Cl)ccc2OCc2ccc(F)cc2Cl)n1</td>\n",
              "      <td>4.82</td>\n",
              "      <td>0</td>\n",
              "      <td>4.82000</td>\n",
              "      <td>NaN</td>\n",
              "      <td>0.000000</td>\n",
              "      <td>0</td>\n",
              "    </tr>\n",
              "    <tr>\n",
              "      <th>5964</th>\n",
              "      <td>CHEMBL524472</td>\n",
              "      <td>C[C@@H](NC1C(=O)C(=O)C1=Nc1ccn[nH]1)c1ccccc1</td>\n",
              "      <td>4.92</td>\n",
              "      <td>0</td>\n",
              "      <td>4.92000</td>\n",
              "      <td>NaN</td>\n",
              "      <td>0.000000</td>\n",
              "      <td>0</td>\n",
              "    </tr>\n",
              "    <tr>\n",
              "      <th>1116</th>\n",
              "      <td>CHEMBL524472</td>\n",
              "      <td>C[C@@H](Nc1c(Nc2ccn[nH]2)c(=O)c1=O)c1ccccc1</td>\n",
              "      <td>4.92</td>\n",
              "      <td>0</td>\n",
              "      <td>4.92000</td>\n",
              "      <td>NaN</td>\n",
              "      <td>0.000000</td>\n",
              "      <td>0</td>\n",
              "    </tr>\n",
              "  </tbody>\n",
              "</table>\n",
              "<p>74 rows × 8 columns</p>\n",
              "</div>"
            ],
            "text/plain": [
              "        compound_id  ... Remove_BadDuplicate\n",
              "2130   CHEMBL100917  ...                   0\n",
              "953    CHEMBL100917  ...                   0\n",
              "7730  CHEMBL1081860  ...                   0\n",
              "257   CHEMBL1081860  ...                   0\n",
              "6474   CHEMBL115769  ...                   0\n",
              "...             ...  ...                 ...\n",
              "1086   CHEMBL485327  ...                   0\n",
              "7625   CHEMBL513491  ...                   0\n",
              "480    CHEMBL513491  ...                   0\n",
              "5964   CHEMBL524472  ...                   0\n",
              "1116   CHEMBL524472  ...                   0\n",
              "\n",
              "[74 rows x 8 columns]"
            ]
          },
          "metadata": {
            "tags": []
          },
          "execution_count": 60
        }
      ]
    },
    {
      "cell_type": "code",
      "metadata": {
        "id": "8bfNxLqOV3ml"
      },
      "source": [
        "df_grouped = df.groupby('compound_id', as_index=False)['VALUE_NUM_mean'].mean()\n",
        "df_dedup = df.drop_duplicates('compound_id')\n",
        "df_avg = df_dedup.merge(df_grouped, left_on='compound_id', right_on='compound_id')\n",
        "\n",
        "df_avg.drop('VALUE_NUM_mean_x', axis=1, inplace=True)\n",
        "df_avg.rename(columns={'VALUE_NUM_mean_y': 'VALUE_NUM_mean'}, inplace=True)\n",
        "\n",
        "df_avg.to_csv('curated_combined_df_1.csv')"
      ],
      "execution_count": 61,
      "outputs": []
    },
    {
      "cell_type": "code",
      "metadata": {
        "id": "qGVUK0CNV3pg"
      },
      "source": [
        ""
      ],
      "execution_count": 61,
      "outputs": []
    },
    {
      "cell_type": "code",
      "metadata": {
        "id": "rr3SpwV3V3sI"
      },
      "source": [
        ""
      ],
      "execution_count": 61,
      "outputs": []
    },
    {
      "cell_type": "code",
      "metadata": {
        "id": "B9qwqSpVV3um"
      },
      "source": [
        ""
      ],
      "execution_count": 61,
      "outputs": []
    },
    {
      "cell_type": "code",
      "metadata": {
        "id": "LcGMBn0BV3x3"
      },
      "source": [
        ""
      ],
      "execution_count": 61,
      "outputs": []
    },
    {
      "cell_type": "markdown",
      "metadata": {
        "id": "XA8ARleo3h53"
      },
      "source": [
        "### Split the dataset"
      ]
    },
    {
      "cell_type": "code",
      "metadata": {
        "id": "1eQC31_fA2wD",
        "colab": {
          "base_uri": "https://localhost:8080/"
        },
        "outputId": "b01482ce-6e49-444c-e60b-c36f4b749fc3"
      },
      "source": [
        "train_file = \"curated_combined_df_1.csv\"\n",
        "response_col = \"VALUE_NUM_mean\"\n",
        "compound_id = \"compound_id\"\n",
        "smiles_col = \"base_rdkit_smiles\"\n",
        "\n",
        "params = {\n",
        "        \"system\": \"LC\",\n",
        "        \"lc_account\": 'None',\n",
        "        \"datastore\": \"False\",\n",
        "        \"save_results\": \"False\",\n",
        "        \"data_owner\": \"username\",\n",
        "        \"prediction_type\": \"regression\",\n",
        "        \"dataset_key\": train_file,\n",
        "        \"id_col\": compound_id,\n",
        "        \"smiles_col\": smiles_col,\n",
        "        \"response_cols\": response_col,\n",
        "        \"previously_split\": \"False\",\n",
        "        \"split_only\": \"True\",\n",
        "        \"featurizer\": \"ecfp\",\n",
        "        \"model_type\": \"RF\",\n",
        "        \"verbose\": \"True\",\n",
        "        \"transformers\": \"True\",\n",
        "        'max_epochs': '70',\n",
        "        \"rerun\": \"False\",\n",
        "        \"result_dir\": \"split\"\n",
        "    }\n",
        "\n",
        "ampl_param = parse.wrapper(params)\n",
        "pl = mp.ModelPipeline(ampl_param)\n",
        "pl.train_model()"
      ],
      "execution_count": 62,
      "outputs": [
        {
          "output_type": "stream",
          "text": [
            "number of features: 1024\n"
          ],
          "name": "stdout"
        },
        {
          "output_type": "stream",
          "text": [
            "2021-04-06 02:11:36,371 Splitting data by scaffold\n",
            "2021-04-06 02:11:42,581 Dataset split table saved to /curated_combined_df_1_train_valid_test_scaffold_274174cf-2a2d-44a0-ab69-2cbc57e2678c.csv\n"
          ],
          "name": "stderr"
        }
      ]
    },
    {
      "cell_type": "code",
      "metadata": {
        "colab": {
          "base_uri": "https://localhost:8080/"
        },
        "id": "_ruM87lw68yv",
        "outputId": "255b22a1-9340-4d94-a8ba-b953382ba015"
      },
      "source": [
        ""
      ],
      "execution_count": 65,
      "outputs": [
        {
          "output_type": "execute_result",
          "data": {
            "text/plain": [
              "[]"
            ]
          },
          "metadata": {
            "tags": []
          },
          "execution_count": 65
        }
      ]
    },
    {
      "cell_type": "markdown",
      "metadata": {
        "id": "xSdgxZNU43TM"
      },
      "source": [
        "### Train an initial model"
      ]
    },
    {
      "cell_type": "code",
      "metadata": {
        "id": "IjhIVGpJ42eE"
      },
      "source": [
        "listing = glob.glob(os.path.join(\"/\", \"curated_combined_df_1_train_valid_test_scaffold_*\"))\n",
        "name = listing[0]\n",
        "split_uuid = name.split(\"_\")[-1].split(\".\")[0]\n",
        "response_col = \"VALUE_NUM_mean\"\n",
        "\n",
        "params = {\n",
        "        \"system\": \"LC\",\n",
        "        \"lc_account\": 'None',\n",
        "        \"datastore\": \"False\",\n",
        "        \"save_results\": \"False\",\n",
        "        \"data_owner\": \"username\",\n",
        "        \"prediction_type\": \"regression\",\n",
        "        \"dataset_key\": train_file,\n",
        "        \"id_col\": compound_id,\n",
        "        \"smiles_col\": smiles_col,\n",
        "        \"response_cols\": response_col,\n",
        "        \"split_uuid\": split_uuid,\n",
        "        \"previously_split\": \"True\",\n",
        "        \"featurizer\": \"ecfp\",\n",
        "        \"model_type\": \"RF\",\n",
        "        \"verbose\": \"True\",\n",
        "        \"transformers\": \"True\",\n",
        "        'max_epochs': '70',\n",
        "        \"rerun\": \"False\",\n",
        "        \"result_dir\": \"ampl_output\"\n",
        "    }"
      ],
      "execution_count": 67,
      "outputs": []
    },
    {
      "cell_type": "code",
      "metadata": {
        "id": "qjbLbmri5Rhl",
        "colab": {
          "base_uri": "https://localhost:8080/"
        },
        "outputId": "df8202f2-de40-4e0c-b57d-0e85c0016b50"
      },
      "source": [
        "ampl_param = parse.wrapper(params)\n",
        "pl = mp.ModelPipeline(ampl_param)\n",
        "pl.train_model()"
      ],
      "execution_count": 68,
      "outputs": [
        {
          "output_type": "stream",
          "text": [
            "number of features: 1024\n"
          ],
          "name": "stdout"
        },
        {
          "output_type": "stream",
          "text": [
            "2021-04-06 02:15:00,498 Previous dataset split restored\n"
          ],
          "name": "stderr"
        },
        {
          "output_type": "stream",
          "text": [
            "n_cnt [7647.]\n",
            "y_means [5.29077697]\n",
            "y_stds [0.71495872]\n",
            "TIMING: dataset construction took 0.351 s\n",
            "Loading dataset from disk.\n",
            "TIMING: dataset construction took 0.051 s\n",
            "Loading dataset from disk.\n",
            "TIMING: dataset construction took 0.053 s\n",
            "Loading dataset from disk.\n"
          ],
          "name": "stdout"
        },
        {
          "output_type": "stream",
          "text": [
            "2021-04-06 02:15:20,691 Wrote model metadata to file ampl_output/curated_combined_df_1/RF_ecfp_scaffold_regression/99d16225-05de-44c1-bfd8-88256d2ddc0d/model_metadata.json\n",
            "2021-04-06 02:15:23,316 Wrote model metrics to file ampl_output/curated_combined_df_1/RF_ecfp_scaffold_regression/99d16225-05de-44c1-bfd8-88256d2ddc0d/model_metrics.json\n"
          ],
          "name": "stderr"
        },
        {
          "output_type": "stream",
          "text": [
            "Wrote model tarball to ampl_output/curated_combined_df_1_model_99d16225-05de-44c1-bfd8-88256d2ddc0d.tar.gz\n"
          ],
          "name": "stdout"
        }
      ]
    },
    {
      "cell_type": "code",
      "metadata": {
        "id": "ol3jooPm5Yd0",
        "colab": {
          "base_uri": "https://localhost:8080/"
        },
        "outputId": "65909e31-5194-4aa9-8e89-3c1f6a56261a"
      },
      "source": [
        "pred_data = pl.model_wrapper.get_perf_data(subset=\"valid\", epoch_label=\"best\")\n",
        "pred_results = pred_data.get_prediction_results()\n",
        "print(f\"R2 score of validation set: {pred_results['r2_score']:.3f}\")"
      ],
      "execution_count": 69,
      "outputs": [
        {
          "output_type": "stream",
          "text": [
            "R2 score of validation set: 0.078\n"
          ],
          "name": "stdout"
        }
      ]
    },
    {
      "cell_type": "markdown",
      "metadata": {
        "id": "vJ2mT3kfi_ed"
      },
      "source": [
        "### Train an model with uncertainty prediction"
      ]
    },
    {
      "cell_type": "code",
      "metadata": {
        "id": "WKUZYCUDi_en"
      },
      "source": [
        "listing = glob.glob(os.path.join(\"/\", \"curated_combined_df_1_train_valid_test_scaffold_*\"))\n",
        "name = listing[0]\n",
        "split_uuid = name.split(\"_\")[-1].split(\".\")[0]\n",
        "response_col = \"VALUE_NUM_mean\"\n",
        "\n",
        "params = {\n",
        "        \"system\": \"LC\",\n",
        "        \"lc_account\": 'None',\n",
        "        \"datastore\": \"False\",\n",
        "        \"save_results\": \"False\",\n",
        "        \"data_owner\": \"username\",\n",
        "        \"prediction_type\": \"regression\",\n",
        "        \"dataset_key\": train_file,\n",
        "        \"id_col\": compound_id,\n",
        "        \"smiles_col\": smiles_col,\n",
        "        \"response_cols\": response_col,\n",
        "        \"split_uuid\": split_uuid,\n",
        "        \"previously_split\": \"True\",\n",
        "        \"featurizer\": \"ecfp\",\n",
        "        \"model_type\": \"RF\",\n",
        "        \"verbose\": \"True\",\n",
        "        \"transformers\": \"True\",\n",
        "        'max_epochs': '70',\n",
        "        \"rerun\": \"False\",\n",
        "        \"result_dir\": \"ampl_output\",\n",
        "        \"uncertainty\": \"True\"\n",
        "    }"
      ],
      "execution_count": 74,
      "outputs": []
    },
    {
      "cell_type": "code",
      "metadata": {
        "id": "zwSTjKBei_eo",
        "colab": {
          "base_uri": "https://localhost:8080/"
        },
        "outputId": "b47a5776-7d2c-48ee-bd7a-a11cc1adf968"
      },
      "source": [
        "ampl_param = parse.wrapper(params)\n",
        "pl = mp.ModelPipeline(ampl_param)\n",
        "pl.train_model()"
      ],
      "execution_count": 75,
      "outputs": [
        {
          "output_type": "stream",
          "text": [
            "number of features: 1024\n"
          ],
          "name": "stdout"
        },
        {
          "output_type": "stream",
          "text": [
            "2021-04-06 02:18:18,918 Previous dataset split restored\n"
          ],
          "name": "stderr"
        },
        {
          "output_type": "stream",
          "text": [
            "n_cnt [7647.]\n",
            "y_means [5.29077697]\n",
            "y_stds [0.71495872]\n",
            "TIMING: dataset construction took 0.347 s\n",
            "Loading dataset from disk.\n",
            "TIMING: dataset construction took 0.050 s\n",
            "Loading dataset from disk.\n",
            "TIMING: dataset construction took 0.050 s\n",
            "Loading dataset from disk.\n"
          ],
          "name": "stdout"
        },
        {
          "output_type": "stream",
          "text": [
            "2021-04-06 02:18:37,764 Wrote model metadata to file ampl_output/curated_combined_df_1/RF_ecfp_scaffold_regression/6cb52930-62e9-456b-a273-70f4b3279880/model_metadata.json\n",
            "2021-04-06 02:18:40,446 Wrote model metrics to file ampl_output/curated_combined_df_1/RF_ecfp_scaffold_regression/6cb52930-62e9-456b-a273-70f4b3279880/model_metrics.json\n"
          ],
          "name": "stderr"
        },
        {
          "output_type": "stream",
          "text": [
            "Wrote model tarball to ampl_output/curated_combined_df_1_model_6cb52930-62e9-456b-a273-70f4b3279880.tar.gz\n"
          ],
          "name": "stdout"
        }
      ]
    },
    {
      "cell_type": "code",
      "metadata": {
        "id": "wy8fLhm9i_eo",
        "colab": {
          "base_uri": "https://localhost:8080/"
        },
        "outputId": "52f11a3e-1a97-4764-a98b-96336368847f"
      },
      "source": [
        "pred_data = pl.model_wrapper.get_perf_data(subset=\"valid\", epoch_label=\"best\")\n",
        "pred_results = pred_data.get_prediction_results()\n",
        "print(f\"R2 score of validation set: {pred_results['r2_score']:.3f}\")"
      ],
      "execution_count": 81,
      "outputs": [
        {
          "output_type": "stream",
          "text": [
            "R2 score of validation set: 0.073\n"
          ],
          "name": "stdout"
        }
      ]
    },
    {
      "cell_type": "code",
      "metadata": {
        "id": "wnaag-HhjY-X",
        "colab": {
          "base_uri": "https://localhost:8080/"
        },
        "outputId": "35e2def9-3171-4ff6-977f-2c474da1aa6b"
      },
      "source": [
        "pred_df = pl.predict_on_dataframe(df)\n",
        "pred_df = pred_df.merge(df[[\"base_rdkit_smiles\", \"VALUE_NUM_mean\"]], on=\"base_rdkit_smiles\")\n",
        "pred_df = pred_df.assign(pred_error=pred_df.VALUE_NUM_mean-pred_df.pred)"
      ],
      "execution_count": 80,
      "outputs": [
        {
          "output_type": "stream",
          "text": [
            "2021-04-06 02:29:47,450 Featurizing data...\n",
            "2021-04-06 02:30:23,570 Done\n"
          ],
          "name": "stderr"
        },
        {
          "output_type": "stream",
          "text": [
            "number of features: 1024\n",
            "TIMING: dataset construction took 0.454 s\n",
            "Loading dataset from disk.\n"
          ],
          "name": "stdout"
        }
      ]
    },
    {
      "cell_type": "code",
      "metadata": {
        "id": "h4dHK5omm0YJ",
        "colab": {
          "base_uri": "https://localhost:8080/",
          "height": 546
        },
        "outputId": "dee5f5fc-1ca5-4d01-d4b9-e5d74f25d6d1"
      },
      "source": [
        "fig, ax = plt.subplots(1,1,figsize=(8,8))\n",
        "sns.scatterplot(data=pred_df, x=\"std\", y=\"pred_error\", ax=ax)"
      ],
      "execution_count": 82,
      "outputs": [
        {
          "output_type": "execute_result",
          "data": {
            "text/plain": [
              "<matplotlib.axes._subplots.AxesSubplot at 0x7f789eb624d0>"
            ]
          },
          "metadata": {
            "tags": []
          },
          "execution_count": 82
        },
        {
          "output_type": "display_data",
          "data": {
            "image/png": "[encoded data removed]",
            "text/plain": [
              "<Figure size 576x576 with 1 Axes>"
            ]
          },
          "metadata": {
            "tags": []
          }
        }
      ]
    },
    {
      "cell_type": "markdown",
      "metadata": {
        "id": "pKP_mFuB5giz"
      },
      "source": [
        "### Grid search\n",
        "#### Tunable parameters for Random Forest models\n",
        "- rf_estimators: number of estimators to use in random forest models\n",
        "- rf_max_depth: the maximum depth of a decision tree in the random forest\n",
        "- rf_max_features: max number of features to split random forest nodes"
      ]
    },
    {
      "cell_type": "code",
      "metadata": {
        "id": "i6FBeUGh5mGJ",
        "colab": {
          "base_uri": "https://localhost:8080/"
        },
        "outputId": "e42b1a30-12d8-42c8-f044-d33b4cc8a20e"
      },
      "source": [
        "param_choice = [16,32,64,128]\n",
        "\n",
        "rfe_list = []\n",
        "rfd_list = []\n",
        "rff_list = []\n",
        "valid_r2_list = []\n",
        "for rf_estimator in param_choice:\n",
        "    for rf_depth in param_choice:\n",
        "        for rf_feature in param_choice:\n",
        "            params[\"rf_estimators\"] = rf_estimator\n",
        "            params[\"rf_max_depth\"] = rf_depth\n",
        "            params[\"rf_max_features\"] = rf_feature\n",
        "            rfe_list.append(rf_estimator)\n",
        "            rfd_list.append(rf_depth)\n",
        "            rff_list.append(rf_feature)\n",
        "            tp = parse.wrapper(params)\n",
        "            pl = mp.ModelPipeline(tp)\n",
        "            pl.train_model()\n",
        "            pred_data = pl.model_wrapper.get_perf_data(subset=\"valid\", epoch_label=\"best\")\n",
        "            pred_results = pred_data.get_prediction_results()\n",
        "            valid_r2 = pred_results['r2_score']\n",
        "            valid_r2_list.append(valid_r2)\n",
        "            print(f\"rf_estimators: {rf_estimator}, rf_max_depth: {rf_depth}, rf_max_features: {rf_feature}, valid_r2: {valid_r2}\")"
      ],
      "execution_count": 83,
      "outputs": [
        {
          "output_type": "stream",
          "text": [
            "number of features: 1024\n"
          ],
          "name": "stdout"
        },
        {
          "output_type": "stream",
          "text": [
            "2021-04-06 02:37:23,384 Previous dataset split restored\n"
          ],
          "name": "stderr"
        },
        {
          "output_type": "stream",
          "text": [
            "n_cnt [7647.]\n",
            "y_means [5.29077697]\n",
            "y_stds [0.71495872]\n",
            "TIMING: dataset construction took 0.368 s\n",
            "Loading dataset from disk.\n",
            "TIMING: dataset construction took 0.088 s\n",
            "Loading dataset from disk.\n",
            "TIMING: dataset construction took 0.077 s\n",
            "Loading dataset from disk.\n"
          ],
          "name": "stdout"
        },
        {
          "output_type": "stream",
          "text": [
            "2021-04-06 02:37:27,258 Wrote model metadata to file ampl_output/curated_combined_df_1/RF_ecfp_scaffold_regression/3a66bbf9-1008-4418-b774-a1f3bb84aa72/model_metadata.json\n",
            "2021-04-06 02:37:27,284 Wrote model metrics to file ampl_output/curated_combined_df_1/RF_ecfp_scaffold_regression/3a66bbf9-1008-4418-b774-a1f3bb84aa72/model_metrics.json\n"
          ],
          "name": "stderr"
        },
        {
          "output_type": "stream",
          "text": [
            "Wrote model tarball to ampl_output/curated_combined_df_1_model_3a66bbf9-1008-4418-b774-a1f3bb84aa72.tar.gz\n",
            "rf_estimators: 16, rf_max_depth: 16, rf_max_features: 16, valid_r2: 0.05218764653545893\n",
            "number of features: 1024\n"
          ],
          "name": "stdout"
        },
        {
          "output_type": "stream",
          "text": [
            "2021-04-06 02:38:08,953 Previous dataset split restored\n"
          ],
          "name": "stderr"
        },
        {
          "output_type": "stream",
          "text": [
            "n_cnt [7647.]\n",
            "y_means [5.29077697]\n",
            "y_stds [0.71495872]\n",
            "TIMING: dataset construction took 0.348 s\n",
            "Loading dataset from disk.\n",
            "TIMING: dataset construction took 0.050 s\n",
            "Loading dataset from disk.\n",
            "TIMING: dataset construction took 0.054 s\n",
            "Loading dataset from disk.\n"
          ],
          "name": "stdout"
        },
        {
          "output_type": "stream",
          "text": [
            "2021-04-06 02:38:12,159 Wrote model metadata to file ampl_output/curated_combined_df_1/RF_ecfp_scaffold_regression/285aea26-ae15-4cb2-b9fc-9b8f1dd3f0c8/model_metadata.json\n",
            "2021-04-06 02:38:12,183 Wrote model metrics to file ampl_output/curated_combined_df_1/RF_ecfp_scaffold_regression/285aea26-ae15-4cb2-b9fc-9b8f1dd3f0c8/model_metrics.json\n"
          ],
          "name": "stderr"
        },
        {
          "output_type": "stream",
          "text": [
            "Wrote model tarball to ampl_output/curated_combined_df_1_model_285aea26-ae15-4cb2-b9fc-9b8f1dd3f0c8.tar.gz\n",
            "rf_estimators: 16, rf_max_depth: 16, rf_max_features: 32, valid_r2: 0.054875288791318755\n",
            "number of features: 1024\n"
          ],
          "name": "stdout"
        },
        {
          "output_type": "stream",
          "text": [
            "2021-04-06 02:38:50,261 Previous dataset split restored\n"
          ],
          "name": "stderr"
        },
        {
          "output_type": "stream",
          "text": [
            "n_cnt [7647.]\n",
            "y_means [5.29077697]\n",
            "y_stds [0.71495872]\n",
            "TIMING: dataset construction took 0.355 s\n",
            "Loading dataset from disk.\n",
            "TIMING: dataset construction took 0.059 s\n",
            "Loading dataset from disk.\n",
            "TIMING: dataset construction took 0.050 s\n",
            "Loading dataset from disk.\n"
          ],
          "name": "stdout"
        },
        {
          "output_type": "stream",
          "text": [
            "2021-04-06 02:38:53,580 Wrote model metadata to file ampl_output/curated_combined_df_1/RF_ecfp_scaffold_regression/7117abe3-aaa6-483e-8060-7f9895847bf1/model_metadata.json\n",
            "2021-04-06 02:38:53,604 Wrote model metrics to file ampl_output/curated_combined_df_1/RF_ecfp_scaffold_regression/7117abe3-aaa6-483e-8060-7f9895847bf1/model_metrics.json\n"
          ],
          "name": "stderr"
        },
        {
          "output_type": "stream",
          "text": [
            "Wrote model tarball to ampl_output/curated_combined_df_1_model_7117abe3-aaa6-483e-8060-7f9895847bf1.tar.gz\n",
            "rf_estimators: 16, rf_max_depth: 16, rf_max_features: 64, valid_r2: 0.0707924519075348\n",
            "number of features: 1024\n"
          ],
          "name": "stdout"
        },
        {
          "output_type": "stream",
          "text": [
            "2021-04-06 02:39:31,087 Previous dataset split restored\n"
          ],
          "name": "stderr"
        },
        {
          "output_type": "stream",
          "text": [
            "n_cnt [7647.]\n",
            "y_means [5.29077697]\n",
            "y_stds [0.71495872]\n",
            "TIMING: dataset construction took 0.353 s\n",
            "Loading dataset from disk.\n",
            "TIMING: dataset construction took 0.051 s\n",
            "Loading dataset from disk.\n",
            "TIMING: dataset construction took 0.051 s\n",
            "Loading dataset from disk.\n"
          ],
          "name": "stdout"
        },
        {
          "output_type": "stream",
          "text": [
            "2021-04-06 02:39:34,791 Wrote model metadata to file ampl_output/curated_combined_df_1/RF_ecfp_scaffold_regression/8c98ef85-216e-4bd0-9db4-97aef4765bea/model_metadata.json\n",
            "2021-04-06 02:39:34,815 Wrote model metrics to file ampl_output/curated_combined_df_1/RF_ecfp_scaffold_regression/8c98ef85-216e-4bd0-9db4-97aef4765bea/model_metrics.json\n"
          ],
          "name": "stderr"
        },
        {
          "output_type": "stream",
          "text": [
            "Wrote model tarball to ampl_output/curated_combined_df_1_model_8c98ef85-216e-4bd0-9db4-97aef4765bea.tar.gz\n",
            "rf_estimators: 16, rf_max_depth: 16, rf_max_features: 128, valid_r2: 0.0711888863828326\n",
            "number of features: 1024\n"
          ],
          "name": "stdout"
        },
        {
          "output_type": "stream",
          "text": [
            "2021-04-06 02:40:12,224 Previous dataset split restored\n"
          ],
          "name": "stderr"
        },
        {
          "output_type": "stream",
          "text": [
            "n_cnt [7647.]\n",
            "y_means [5.29077697]\n",
            "y_stds [0.71495872]\n",
            "TIMING: dataset construction took 0.346 s\n",
            "Loading dataset from disk.\n",
            "TIMING: dataset construction took 0.053 s\n",
            "Loading dataset from disk.\n",
            "TIMING: dataset construction took 0.052 s\n",
            "Loading dataset from disk.\n"
          ],
          "name": "stdout"
        },
        {
          "output_type": "stream",
          "text": [
            "2021-04-06 02:40:15,493 Wrote model metadata to file ampl_output/curated_combined_df_1/RF_ecfp_scaffold_regression/bea331bf-a66b-4489-abb9-9559b84a60ae/model_metadata.json\n",
            "2021-04-06 02:40:15,550 Wrote model metrics to file ampl_output/curated_combined_df_1/RF_ecfp_scaffold_regression/bea331bf-a66b-4489-abb9-9559b84a60ae/model_metrics.json\n"
          ],
          "name": "stderr"
        },
        {
          "output_type": "stream",
          "text": [
            "Wrote model tarball to ampl_output/curated_combined_df_1_model_bea331bf-a66b-4489-abb9-9559b84a60ae.tar.gz\n",
            "rf_estimators: 16, rf_max_depth: 32, rf_max_features: 16, valid_r2: 0.05992724165709207\n",
            "number of features: 1024\n"
          ],
          "name": "stdout"
        },
        {
          "output_type": "stream",
          "text": [
            "2021-04-06 02:40:53,023 Previous dataset split restored\n"
          ],
          "name": "stderr"
        },
        {
          "output_type": "stream",
          "text": [
            "n_cnt [7647.]\n",
            "y_means [5.29077697]\n",
            "y_stds [0.71495872]\n",
            "TIMING: dataset construction took 0.352 s\n",
            "Loading dataset from disk.\n",
            "TIMING: dataset construction took 0.048 s\n",
            "Loading dataset from disk.\n",
            "TIMING: dataset construction took 0.050 s\n",
            "Loading dataset from disk.\n"
          ],
          "name": "stdout"
        },
        {
          "output_type": "stream",
          "text": [
            "2021-04-06 02:40:56,347 Wrote model metadata to file ampl_output/curated_combined_df_1/RF_ecfp_scaffold_regression/e565d3ad-6a1b-441f-8c25-626aeb662f28/model_metadata.json\n",
            "2021-04-06 02:40:56,400 Wrote model metrics to file ampl_output/curated_combined_df_1/RF_ecfp_scaffold_regression/e565d3ad-6a1b-441f-8c25-626aeb662f28/model_metrics.json\n"
          ],
          "name": "stderr"
        },
        {
          "output_type": "stream",
          "text": [
            "Wrote model tarball to ampl_output/curated_combined_df_1_model_e565d3ad-6a1b-441f-8c25-626aeb662f28.tar.gz\n",
            "rf_estimators: 16, rf_max_depth: 32, rf_max_features: 32, valid_r2: 0.05063133783663332\n",
            "number of features: 1024\n"
          ],
          "name": "stdout"
        },
        {
          "output_type": "stream",
          "text": [
            "2021-04-06 02:41:33,661 Previous dataset split restored\n"
          ],
          "name": "stderr"
        },
        {
          "output_type": "stream",
          "text": [
            "n_cnt [7647.]\n",
            "y_means [5.29077697]\n",
            "y_stds [0.71495872]\n",
            "TIMING: dataset construction took 0.344 s\n",
            "Loading dataset from disk.\n",
            "TIMING: dataset construction took 0.049 s\n",
            "Loading dataset from disk.\n",
            "TIMING: dataset construction took 0.052 s\n",
            "Loading dataset from disk.\n"
          ],
          "name": "stdout"
        },
        {
          "output_type": "stream",
          "text": [
            "2021-04-06 02:41:37,191 Wrote model metadata to file ampl_output/curated_combined_df_1/RF_ecfp_scaffold_regression/e2d7ff79-6a1a-4ac9-9d5c-4be0471fcb33/model_metadata.json\n",
            "2021-04-06 02:41:37,240 Wrote model metrics to file ampl_output/curated_combined_df_1/RF_ecfp_scaffold_regression/e2d7ff79-6a1a-4ac9-9d5c-4be0471fcb33/model_metrics.json\n"
          ],
          "name": "stderr"
        },
        {
          "output_type": "stream",
          "text": [
            "Wrote model tarball to ampl_output/curated_combined_df_1_model_e2d7ff79-6a1a-4ac9-9d5c-4be0471fcb33.tar.gz\n",
            "rf_estimators: 16, rf_max_depth: 32, rf_max_features: 64, valid_r2: 0.043239711118595925\n",
            "number of features: 1024\n"
          ],
          "name": "stdout"
        },
        {
          "output_type": "stream",
          "text": [
            "2021-04-06 02:42:14,578 Previous dataset split restored\n"
          ],
          "name": "stderr"
        },
        {
          "output_type": "stream",
          "text": [
            "n_cnt [7647.]\n",
            "y_means [5.29077697]\n",
            "y_stds [0.71495872]\n",
            "TIMING: dataset construction took 0.338 s\n",
            "Loading dataset from disk.\n",
            "TIMING: dataset construction took 0.050 s\n",
            "Loading dataset from disk.\n",
            "TIMING: dataset construction took 0.054 s\n",
            "Loading dataset from disk.\n"
          ],
          "name": "stdout"
        },
        {
          "output_type": "stream",
          "text": [
            "2021-04-06 02:42:18,504 Wrote model metadata to file ampl_output/curated_combined_df_1/RF_ecfp_scaffold_regression/fc24e3d6-3ea0-4831-989b-ef136a8bc823/model_metadata.json\n",
            "2021-04-06 02:42:18,558 Wrote model metrics to file ampl_output/curated_combined_df_1/RF_ecfp_scaffold_regression/fc24e3d6-3ea0-4831-989b-ef136a8bc823/model_metrics.json\n"
          ],
          "name": "stderr"
        },
        {
          "output_type": "stream",
          "text": [
            "Wrote model tarball to ampl_output/curated_combined_df_1_model_fc24e3d6-3ea0-4831-989b-ef136a8bc823.tar.gz\n",
            "rf_estimators: 16, rf_max_depth: 32, rf_max_features: 128, valid_r2: 0.06532137890920164\n",
            "number of features: 1024\n"
          ],
          "name": "stdout"
        },
        {
          "output_type": "stream",
          "text": [
            "2021-04-06 02:42:56,135 Previous dataset split restored\n"
          ],
          "name": "stderr"
        },
        {
          "output_type": "stream",
          "text": [
            "n_cnt [7647.]\n",
            "y_means [5.29077697]\n",
            "y_stds [0.71495872]\n",
            "TIMING: dataset construction took 0.353 s\n",
            "Loading dataset from disk.\n",
            "TIMING: dataset construction took 0.050 s\n",
            "Loading dataset from disk.\n",
            "TIMING: dataset construction took 0.050 s\n",
            "Loading dataset from disk.\n"
          ],
          "name": "stdout"
        },
        {
          "output_type": "stream",
          "text": [
            "2021-04-06 02:42:59,397 Wrote model metadata to file ampl_output/curated_combined_df_1/RF_ecfp_scaffold_regression/6978e11e-4aeb-43d6-abac-b6e3360803b6/model_metadata.json\n",
            "2021-04-06 02:42:59,484 Wrote model metrics to file ampl_output/curated_combined_df_1/RF_ecfp_scaffold_regression/6978e11e-4aeb-43d6-abac-b6e3360803b6/model_metrics.json\n"
          ],
          "name": "stderr"
        },
        {
          "output_type": "stream",
          "text": [
            "Wrote model tarball to ampl_output/curated_combined_df_1_model_6978e11e-4aeb-43d6-abac-b6e3360803b6.tar.gz\n",
            "rf_estimators: 16, rf_max_depth: 64, rf_max_features: 16, valid_r2: 0.05450993277688698\n",
            "number of features: 1024\n"
          ],
          "name": "stdout"
        },
        {
          "output_type": "stream",
          "text": [
            "2021-04-06 02:43:37,696 Previous dataset split restored\n"
          ],
          "name": "stderr"
        },
        {
          "output_type": "stream",
          "text": [
            "n_cnt [7647.]\n",
            "y_means [5.29077697]\n",
            "y_stds [0.71495872]\n",
            "TIMING: dataset construction took 0.368 s\n",
            "Loading dataset from disk.\n",
            "TIMING: dataset construction took 0.051 s\n",
            "Loading dataset from disk.\n",
            "TIMING: dataset construction took 0.053 s\n",
            "Loading dataset from disk.\n"
          ],
          "name": "stdout"
        },
        {
          "output_type": "stream",
          "text": [
            "2021-04-06 02:43:41,303 Wrote model metadata to file ampl_output/curated_combined_df_1/RF_ecfp_scaffold_regression/ed14e96f-f351-44a8-9d51-29201a3f5113/model_metadata.json\n",
            "2021-04-06 02:43:41,391 Wrote model metrics to file ampl_output/curated_combined_df_1/RF_ecfp_scaffold_regression/ed14e96f-f351-44a8-9d51-29201a3f5113/model_metrics.json\n"
          ],
          "name": "stderr"
        },
        {
          "output_type": "stream",
          "text": [
            "Wrote model tarball to ampl_output/curated_combined_df_1_model_ed14e96f-f351-44a8-9d51-29201a3f5113.tar.gz\n",
            "rf_estimators: 16, rf_max_depth: 64, rf_max_features: 32, valid_r2: 0.059895253712397345\n",
            "number of features: 1024\n"
          ],
          "name": "stdout"
        },
        {
          "output_type": "stream",
          "text": [
            "2021-04-06 02:44:20,441 Previous dataset split restored\n"
          ],
          "name": "stderr"
        },
        {
          "output_type": "stream",
          "text": [
            "n_cnt [7647.]\n",
            "y_means [5.29077697]\n",
            "y_stds [0.71495872]\n",
            "TIMING: dataset construction took 0.356 s\n",
            "Loading dataset from disk.\n",
            "TIMING: dataset construction took 0.051 s\n",
            "Loading dataset from disk.\n",
            "TIMING: dataset construction took 0.051 s\n",
            "Loading dataset from disk.\n"
          ],
          "name": "stdout"
        },
        {
          "output_type": "stream",
          "text": [
            "2021-04-06 02:44:24,260 Wrote model metadata to file ampl_output/curated_combined_df_1/RF_ecfp_scaffold_regression/48cb8dbd-5abb-414f-b84c-69a9f79bc9b0/model_metadata.json\n",
            "2021-04-06 02:44:24,354 Wrote model metrics to file ampl_output/curated_combined_df_1/RF_ecfp_scaffold_regression/48cb8dbd-5abb-414f-b84c-69a9f79bc9b0/model_metrics.json\n"
          ],
          "name": "stderr"
        },
        {
          "output_type": "stream",
          "text": [
            "Wrote model tarball to ampl_output/curated_combined_df_1_model_48cb8dbd-5abb-414f-b84c-69a9f79bc9b0.tar.gz\n",
            "rf_estimators: 16, rf_max_depth: 64, rf_max_features: 64, valid_r2: 0.06147153445980924\n",
            "number of features: 1024\n"
          ],
          "name": "stdout"
        },
        {
          "output_type": "stream",
          "text": [
            "2021-04-06 02:45:03,437 Previous dataset split restored\n"
          ],
          "name": "stderr"
        },
        {
          "output_type": "stream",
          "text": [
            "n_cnt [7647.]\n",
            "y_means [5.29077697]\n",
            "y_stds [0.71495872]\n",
            "TIMING: dataset construction took 0.343 s\n",
            "Loading dataset from disk.\n",
            "TIMING: dataset construction took 0.050 s\n",
            "Loading dataset from disk.\n",
            "TIMING: dataset construction took 0.053 s\n",
            "Loading dataset from disk.\n"
          ],
          "name": "stdout"
        },
        {
          "output_type": "stream",
          "text": [
            "2021-04-06 02:45:07,883 Wrote model metadata to file ampl_output/curated_combined_df_1/RF_ecfp_scaffold_regression/11129cac-1ed6-461c-92ec-55aa3f6db8ef/model_metadata.json\n",
            "2021-04-06 02:45:07,963 Wrote model metrics to file ampl_output/curated_combined_df_1/RF_ecfp_scaffold_regression/11129cac-1ed6-461c-92ec-55aa3f6db8ef/model_metrics.json\n"
          ],
          "name": "stderr"
        },
        {
          "output_type": "stream",
          "text": [
            "Wrote model tarball to ampl_output/curated_combined_df_1_model_11129cac-1ed6-461c-92ec-55aa3f6db8ef.tar.gz\n",
            "rf_estimators: 16, rf_max_depth: 64, rf_max_features: 128, valid_r2: 0.05726515848480962\n",
            "number of features: 1024\n"
          ],
          "name": "stdout"
        },
        {
          "output_type": "stream",
          "text": [
            "2021-04-06 02:45:45,855 Previous dataset split restored\n"
          ],
          "name": "stderr"
        },
        {
          "output_type": "stream",
          "text": [
            "n_cnt [7647.]\n",
            "y_means [5.29077697]\n",
            "y_stds [0.71495872]\n",
            "TIMING: dataset construction took 0.344 s\n",
            "Loading dataset from disk.\n",
            "TIMING: dataset construction took 0.049 s\n",
            "Loading dataset from disk.\n",
            "TIMING: dataset construction took 0.053 s\n",
            "Loading dataset from disk.\n"
          ],
          "name": "stdout"
        },
        {
          "output_type": "stream",
          "text": [
            "2021-04-06 02:45:49,118 Wrote model metadata to file ampl_output/curated_combined_df_1/RF_ecfp_scaffold_regression/e04f5be7-541b-4494-a9a7-5c1c91f7857e/model_metadata.json\n",
            "2021-04-06 02:45:49,211 Wrote model metrics to file ampl_output/curated_combined_df_1/RF_ecfp_scaffold_regression/e04f5be7-541b-4494-a9a7-5c1c91f7857e/model_metrics.json\n"
          ],
          "name": "stderr"
        },
        {
          "output_type": "stream",
          "text": [
            "Wrote model tarball to ampl_output/curated_combined_df_1_model_e04f5be7-541b-4494-a9a7-5c1c91f7857e.tar.gz\n",
            "rf_estimators: 16, rf_max_depth: 128, rf_max_features: 16, valid_r2: 0.04309737604249997\n",
            "number of features: 1024\n"
          ],
          "name": "stdout"
        },
        {
          "output_type": "stream",
          "text": [
            "2021-04-06 02:46:26,701 Previous dataset split restored\n"
          ],
          "name": "stderr"
        },
        {
          "output_type": "stream",
          "text": [
            "n_cnt [7647.]\n",
            "y_means [5.29077697]\n",
            "y_stds [0.71495872]\n",
            "TIMING: dataset construction took 0.345 s\n",
            "Loading dataset from disk.\n",
            "TIMING: dataset construction took 0.049 s\n",
            "Loading dataset from disk.\n",
            "TIMING: dataset construction took 0.051 s\n",
            "Loading dataset from disk.\n"
          ],
          "name": "stdout"
        },
        {
          "output_type": "stream",
          "text": [
            "2021-04-06 02:46:30,095 Wrote model metadata to file ampl_output/curated_combined_df_1/RF_ecfp_scaffold_regression/71890528-e804-4486-9fc1-a0ca113c7117/model_metadata.json\n",
            "2021-04-06 02:46:30,183 Wrote model metrics to file ampl_output/curated_combined_df_1/RF_ecfp_scaffold_regression/71890528-e804-4486-9fc1-a0ca113c7117/model_metrics.json\n"
          ],
          "name": "stderr"
        },
        {
          "output_type": "stream",
          "text": [
            "Wrote model tarball to ampl_output/curated_combined_df_1_model_71890528-e804-4486-9fc1-a0ca113c7117.tar.gz\n",
            "rf_estimators: 16, rf_max_depth: 128, rf_max_features: 32, valid_r2: 0.04460819840110697\n",
            "number of features: 1024\n"
          ],
          "name": "stdout"
        },
        {
          "output_type": "stream",
          "text": [
            "2021-04-06 02:47:07,547 Previous dataset split restored\n"
          ],
          "name": "stderr"
        },
        {
          "output_type": "stream",
          "text": [
            "n_cnt [7647.]\n",
            "y_means [5.29077697]\n",
            "y_stds [0.71495872]\n",
            "TIMING: dataset construction took 0.342 s\n",
            "Loading dataset from disk.\n",
            "TIMING: dataset construction took 0.059 s\n",
            "Loading dataset from disk.\n",
            "TIMING: dataset construction took 0.052 s\n",
            "Loading dataset from disk.\n"
          ],
          "name": "stdout"
        },
        {
          "output_type": "stream",
          "text": [
            "2021-04-06 02:47:11,231 Wrote model metadata to file ampl_output/curated_combined_df_1/RF_ecfp_scaffold_regression/e8f3dec8-f971-4fe2-a61c-b4afe3e80d04/model_metadata.json\n",
            "2021-04-06 02:47:11,325 Wrote model metrics to file ampl_output/curated_combined_df_1/RF_ecfp_scaffold_regression/e8f3dec8-f971-4fe2-a61c-b4afe3e80d04/model_metrics.json\n"
          ],
          "name": "stderr"
        },
        {
          "output_type": "stream",
          "text": [
            "Wrote model tarball to ampl_output/curated_combined_df_1_model_e8f3dec8-f971-4fe2-a61c-b4afe3e80d04.tar.gz\n",
            "rf_estimators: 16, rf_max_depth: 128, rf_max_features: 64, valid_r2: 0.05965582328804009\n",
            "number of features: 1024\n"
          ],
          "name": "stdout"
        },
        {
          "output_type": "stream",
          "text": [
            "2021-04-06 02:47:48,663 Previous dataset split restored\n"
          ],
          "name": "stderr"
        },
        {
          "output_type": "stream",
          "text": [
            "n_cnt [7647.]\n",
            "y_means [5.29077697]\n",
            "y_stds [0.71495872]\n",
            "TIMING: dataset construction took 0.341 s\n",
            "Loading dataset from disk.\n",
            "TIMING: dataset construction took 0.050 s\n",
            "Loading dataset from disk.\n",
            "TIMING: dataset construction took 0.049 s\n",
            "Loading dataset from disk.\n"
          ],
          "name": "stdout"
        },
        {
          "output_type": "stream",
          "text": [
            "2021-04-06 02:47:52,920 Wrote model metadata to file ampl_output/curated_combined_df_1/RF_ecfp_scaffold_regression/0d75b6ec-36bb-407e-94d4-41e2b7800f56/model_metadata.json\n",
            "2021-04-06 02:47:53,010 Wrote model metrics to file ampl_output/curated_combined_df_1/RF_ecfp_scaffold_regression/0d75b6ec-36bb-407e-94d4-41e2b7800f56/model_metrics.json\n"
          ],
          "name": "stderr"
        },
        {
          "output_type": "stream",
          "text": [
            "Wrote model tarball to ampl_output/curated_combined_df_1_model_0d75b6ec-36bb-407e-94d4-41e2b7800f56.tar.gz\n",
            "rf_estimators: 16, rf_max_depth: 128, rf_max_features: 128, valid_r2: 0.04273758472260292\n",
            "number of features: 1024\n"
          ],
          "name": "stdout"
        },
        {
          "output_type": "stream",
          "text": [
            "2021-04-06 02:48:30,192 Previous dataset split restored\n"
          ],
          "name": "stderr"
        },
        {
          "output_type": "stream",
          "text": [
            "n_cnt [7647.]\n",
            "y_means [5.29077697]\n",
            "y_stds [0.71495872]\n",
            "TIMING: dataset construction took 0.346 s\n",
            "Loading dataset from disk.\n",
            "TIMING: dataset construction took 0.049 s\n",
            "Loading dataset from disk.\n",
            "TIMING: dataset construction took 0.050 s\n",
            "Loading dataset from disk.\n"
          ],
          "name": "stdout"
        },
        {
          "output_type": "stream",
          "text": [
            "2021-04-06 02:48:33,359 Wrote model metadata to file ampl_output/curated_combined_df_1/RF_ecfp_scaffold_regression/390054fc-b72c-4f83-9b9b-986957037c3e/model_metadata.json\n",
            "2021-04-06 02:48:33,398 Wrote model metrics to file ampl_output/curated_combined_df_1/RF_ecfp_scaffold_regression/390054fc-b72c-4f83-9b9b-986957037c3e/model_metrics.json\n"
          ],
          "name": "stderr"
        },
        {
          "output_type": "stream",
          "text": [
            "Wrote model tarball to ampl_output/curated_combined_df_1_model_390054fc-b72c-4f83-9b9b-986957037c3e.tar.gz\n",
            "rf_estimators: 32, rf_max_depth: 16, rf_max_features: 16, valid_r2: 0.05166183097258503\n",
            "number of features: 1024\n"
          ],
          "name": "stdout"
        },
        {
          "output_type": "stream",
          "text": [
            "2021-04-06 02:49:10,379 Previous dataset split restored\n"
          ],
          "name": "stderr"
        },
        {
          "output_type": "stream",
          "text": [
            "n_cnt [7647.]\n",
            "y_means [5.29077697]\n",
            "y_stds [0.71495872]\n",
            "TIMING: dataset construction took 0.349 s\n",
            "Loading dataset from disk.\n",
            "TIMING: dataset construction took 0.047 s\n",
            "Loading dataset from disk.\n",
            "TIMING: dataset construction took 0.049 s\n",
            "Loading dataset from disk.\n"
          ],
          "name": "stdout"
        },
        {
          "output_type": "stream",
          "text": [
            "2021-04-06 02:49:13,787 Wrote model metadata to file ampl_output/curated_combined_df_1/RF_ecfp_scaffold_regression/47c680ba-5b5b-4175-89c6-0db28c4b7e5f/model_metadata.json\n",
            "2021-04-06 02:49:13,826 Wrote model metrics to file ampl_output/curated_combined_df_1/RF_ecfp_scaffold_regression/47c680ba-5b5b-4175-89c6-0db28c4b7e5f/model_metrics.json\n"
          ],
          "name": "stderr"
        },
        {
          "output_type": "stream",
          "text": [
            "Wrote model tarball to ampl_output/curated_combined_df_1_model_47c680ba-5b5b-4175-89c6-0db28c4b7e5f.tar.gz\n",
            "rf_estimators: 32, rf_max_depth: 16, rf_max_features: 32, valid_r2: 0.07586051683055506\n",
            "number of features: 1024\n"
          ],
          "name": "stdout"
        },
        {
          "output_type": "stream",
          "text": [
            "2021-04-06 02:49:50,787 Previous dataset split restored\n"
          ],
          "name": "stderr"
        },
        {
          "output_type": "stream",
          "text": [
            "n_cnt [7647.]\n",
            "y_means [5.29077697]\n",
            "y_stds [0.71495872]\n",
            "TIMING: dataset construction took 0.335 s\n",
            "Loading dataset from disk.\n",
            "TIMING: dataset construction took 0.049 s\n",
            "Loading dataset from disk.\n",
            "TIMING: dataset construction took 0.050 s\n",
            "Loading dataset from disk.\n"
          ],
          "name": "stdout"
        },
        {
          "output_type": "stream",
          "text": [
            "2021-04-06 02:49:54,340 Wrote model metadata to file ampl_output/curated_combined_df_1/RF_ecfp_scaffold_regression/e94e0f3a-a914-429f-8cf1-d1dcfa126032/model_metadata.json\n",
            "2021-04-06 02:49:54,382 Wrote model metrics to file ampl_output/curated_combined_df_1/RF_ecfp_scaffold_regression/e94e0f3a-a914-429f-8cf1-d1dcfa126032/model_metrics.json\n"
          ],
          "name": "stderr"
        },
        {
          "output_type": "stream",
          "text": [
            "Wrote model tarball to ampl_output/curated_combined_df_1_model_e94e0f3a-a914-429f-8cf1-d1dcfa126032.tar.gz\n",
            "rf_estimators: 32, rf_max_depth: 16, rf_max_features: 64, valid_r2: 0.0800131636182907\n",
            "number of features: 1024\n"
          ],
          "name": "stdout"
        },
        {
          "output_type": "stream",
          "text": [
            "2021-04-06 02:50:31,317 Previous dataset split restored\n"
          ],
          "name": "stderr"
        },
        {
          "output_type": "stream",
          "text": [
            "n_cnt [7647.]\n",
            "y_means [5.29077697]\n",
            "y_stds [0.71495872]\n",
            "TIMING: dataset construction took 0.337 s\n",
            "Loading dataset from disk.\n",
            "TIMING: dataset construction took 0.048 s\n",
            "Loading dataset from disk.\n",
            "TIMING: dataset construction took 0.049 s\n",
            "Loading dataset from disk.\n"
          ],
          "name": "stdout"
        },
        {
          "output_type": "stream",
          "text": [
            "2021-04-06 02:50:35,595 Wrote model metadata to file ampl_output/curated_combined_df_1/RF_ecfp_scaffold_regression/2dfe6800-245a-42a1-bda0-dca70bbeb081/model_metadata.json\n",
            "2021-04-06 02:50:35,634 Wrote model metrics to file ampl_output/curated_combined_df_1/RF_ecfp_scaffold_regression/2dfe6800-245a-42a1-bda0-dca70bbeb081/model_metrics.json\n"
          ],
          "name": "stderr"
        },
        {
          "output_type": "stream",
          "text": [
            "Wrote model tarball to ampl_output/curated_combined_df_1_model_2dfe6800-245a-42a1-bda0-dca70bbeb081.tar.gz\n",
            "rf_estimators: 32, rf_max_depth: 16, rf_max_features: 128, valid_r2: 0.07966236346386346\n",
            "number of features: 1024\n"
          ],
          "name": "stdout"
        },
        {
          "output_type": "stream",
          "text": [
            "2021-04-06 02:51:12,652 Previous dataset split restored\n"
          ],
          "name": "stderr"
        },
        {
          "output_type": "stream",
          "text": [
            "n_cnt [7647.]\n",
            "y_means [5.29077697]\n",
            "y_stds [0.71495872]\n",
            "TIMING: dataset construction took 0.344 s\n",
            "Loading dataset from disk.\n",
            "TIMING: dataset construction took 0.051 s\n",
            "Loading dataset from disk.\n",
            "TIMING: dataset construction took 0.051 s\n",
            "Loading dataset from disk.\n"
          ],
          "name": "stdout"
        },
        {
          "output_type": "stream",
          "text": [
            "2021-04-06 02:51:16,025 Wrote model metadata to file ampl_output/curated_combined_df_1/RF_ecfp_scaffold_regression/77363f13-ed57-4275-91b5-158bc7e034c6/model_metadata.json\n",
            "2021-04-06 02:51:16,119 Wrote model metrics to file ampl_output/curated_combined_df_1/RF_ecfp_scaffold_regression/77363f13-ed57-4275-91b5-158bc7e034c6/model_metrics.json\n"
          ],
          "name": "stderr"
        },
        {
          "output_type": "stream",
          "text": [
            "Wrote model tarball to ampl_output/curated_combined_df_1_model_77363f13-ed57-4275-91b5-158bc7e034c6.tar.gz\n",
            "rf_estimators: 32, rf_max_depth: 32, rf_max_features: 16, valid_r2: 0.08217911683309442\n",
            "number of features: 1024\n"
          ],
          "name": "stdout"
        },
        {
          "output_type": "stream",
          "text": [
            "2021-04-06 02:51:54,064 Previous dataset split restored\n"
          ],
          "name": "stderr"
        },
        {
          "output_type": "stream",
          "text": [
            "n_cnt [7647.]\n",
            "y_means [5.29077697]\n",
            "y_stds [0.71495872]\n",
            "TIMING: dataset construction took 0.341 s\n",
            "Loading dataset from disk.\n",
            "TIMING: dataset construction took 0.049 s\n",
            "Loading dataset from disk.\n",
            "TIMING: dataset construction took 0.050 s\n",
            "Loading dataset from disk.\n"
          ],
          "name": "stdout"
        },
        {
          "output_type": "stream",
          "text": [
            "2021-04-06 02:51:57,708 Wrote model metadata to file ampl_output/curated_combined_df_1/RF_ecfp_scaffold_regression/af0b1a6e-027b-4dcf-81a2-d0e16f02f04e/model_metadata.json\n",
            "2021-04-06 02:51:57,805 Wrote model metrics to file ampl_output/curated_combined_df_1/RF_ecfp_scaffold_regression/af0b1a6e-027b-4dcf-81a2-d0e16f02f04e/model_metrics.json\n"
          ],
          "name": "stderr"
        },
        {
          "output_type": "stream",
          "text": [
            "Wrote model tarball to ampl_output/curated_combined_df_1_model_af0b1a6e-027b-4dcf-81a2-d0e16f02f04e.tar.gz\n",
            "rf_estimators: 32, rf_max_depth: 32, rf_max_features: 32, valid_r2: 0.07484751486153374\n",
            "number of features: 1024\n"
          ],
          "name": "stdout"
        },
        {
          "output_type": "stream",
          "text": [
            "2021-04-06 02:52:34,885 Previous dataset split restored\n"
          ],
          "name": "stderr"
        },
        {
          "output_type": "stream",
          "text": [
            "n_cnt [7647.]\n",
            "y_means [5.29077697]\n",
            "y_stds [0.71495872]\n",
            "TIMING: dataset construction took 0.337 s\n",
            "Loading dataset from disk.\n",
            "TIMING: dataset construction took 0.049 s\n",
            "Loading dataset from disk.\n",
            "TIMING: dataset construction took 0.051 s\n",
            "Loading dataset from disk.\n"
          ],
          "name": "stdout"
        },
        {
          "output_type": "stream",
          "text": [
            "2021-04-06 02:52:38,936 Wrote model metadata to file ampl_output/curated_combined_df_1/RF_ecfp_scaffold_regression/2861970b-da90-4ada-b902-4c8351728018/model_metadata.json\n",
            "2021-04-06 02:52:39,037 Wrote model metrics to file ampl_output/curated_combined_df_1/RF_ecfp_scaffold_regression/2861970b-da90-4ada-b902-4c8351728018/model_metrics.json\n"
          ],
          "name": "stderr"
        },
        {
          "output_type": "stream",
          "text": [
            "Wrote model tarball to ampl_output/curated_combined_df_1_model_2861970b-da90-4ada-b902-4c8351728018.tar.gz\n",
            "rf_estimators: 32, rf_max_depth: 32, rf_max_features: 64, valid_r2: 0.08462600818645483\n",
            "number of features: 1024\n"
          ],
          "name": "stdout"
        },
        {
          "output_type": "stream",
          "text": [
            "2021-04-06 02:53:16,205 Previous dataset split restored\n"
          ],
          "name": "stderr"
        },
        {
          "output_type": "stream",
          "text": [
            "n_cnt [7647.]\n",
            "y_means [5.29077697]\n",
            "y_stds [0.71495872]\n",
            "TIMING: dataset construction took 0.340 s\n",
            "Loading dataset from disk.\n",
            "TIMING: dataset construction took 0.049 s\n",
            "Loading dataset from disk.\n",
            "TIMING: dataset construction took 0.051 s\n",
            "Loading dataset from disk.\n"
          ],
          "name": "stdout"
        },
        {
          "output_type": "stream",
          "text": [
            "2021-04-06 02:53:21,179 Wrote model metadata to file ampl_output/curated_combined_df_1/RF_ecfp_scaffold_regression/3ec6db8b-0514-47de-8d7e-56683e734f67/model_metadata.json\n",
            "2021-04-06 02:53:21,285 Wrote model metrics to file ampl_output/curated_combined_df_1/RF_ecfp_scaffold_regression/3ec6db8b-0514-47de-8d7e-56683e734f67/model_metrics.json\n"
          ],
          "name": "stderr"
        },
        {
          "output_type": "stream",
          "text": [
            "Wrote model tarball to ampl_output/curated_combined_df_1_model_3ec6db8b-0514-47de-8d7e-56683e734f67.tar.gz\n",
            "rf_estimators: 32, rf_max_depth: 32, rf_max_features: 128, valid_r2: 0.08655940658413042\n",
            "number of features: 1024\n"
          ],
          "name": "stdout"
        },
        {
          "output_type": "stream",
          "text": [
            "2021-04-06 02:53:58,221 Previous dataset split restored\n"
          ],
          "name": "stderr"
        },
        {
          "output_type": "stream",
          "text": [
            "n_cnt [7647.]\n",
            "y_means [5.29077697]\n",
            "y_stds [0.71495872]\n",
            "TIMING: dataset construction took 0.339 s\n",
            "Loading dataset from disk.\n",
            "TIMING: dataset construction took 0.048 s\n",
            "Loading dataset from disk.\n",
            "TIMING: dataset construction took 0.050 s\n",
            "Loading dataset from disk.\n"
          ],
          "name": "stdout"
        },
        {
          "output_type": "stream",
          "text": [
            "2021-04-06 02:54:01,767 Wrote model metadata to file ampl_output/curated_combined_df_1/RF_ecfp_scaffold_regression/435c7e08-9b99-4ccf-ace4-4f35c7a7d845/model_metadata.json\n",
            "2021-04-06 02:54:01,930 Wrote model metrics to file ampl_output/curated_combined_df_1/RF_ecfp_scaffold_regression/435c7e08-9b99-4ccf-ace4-4f35c7a7d845/model_metrics.json\n"
          ],
          "name": "stderr"
        },
        {
          "output_type": "stream",
          "text": [
            "Wrote model tarball to ampl_output/curated_combined_df_1_model_435c7e08-9b99-4ccf-ace4-4f35c7a7d845.tar.gz\n",
            "rf_estimators: 32, rf_max_depth: 64, rf_max_features: 16, valid_r2: 0.06857183914115406\n",
            "number of features: 1024\n"
          ],
          "name": "stdout"
        },
        {
          "output_type": "stream",
          "text": [
            "2021-04-06 02:54:39,195 Previous dataset split restored\n"
          ],
          "name": "stderr"
        },
        {
          "output_type": "stream",
          "text": [
            "n_cnt [7647.]\n",
            "y_means [5.29077697]\n",
            "y_stds [0.71495872]\n",
            "TIMING: dataset construction took 0.347 s\n",
            "Loading dataset from disk.\n",
            "TIMING: dataset construction took 0.051 s\n",
            "Loading dataset from disk.\n",
            "TIMING: dataset construction took 0.050 s\n",
            "Loading dataset from disk.\n"
          ],
          "name": "stdout"
        },
        {
          "output_type": "stream",
          "text": [
            "2021-04-06 02:54:43,108 Wrote model metadata to file ampl_output/curated_combined_df_1/RF_ecfp_scaffold_regression/df46620e-0907-4a39-841c-7c0eb2828e1e/model_metadata.json\n",
            "2021-04-06 02:54:43,268 Wrote model metrics to file ampl_output/curated_combined_df_1/RF_ecfp_scaffold_regression/df46620e-0907-4a39-841c-7c0eb2828e1e/model_metrics.json\n"
          ],
          "name": "stderr"
        },
        {
          "output_type": "stream",
          "text": [
            "Wrote model tarball to ampl_output/curated_combined_df_1_model_df46620e-0907-4a39-841c-7c0eb2828e1e.tar.gz\n",
            "rf_estimators: 32, rf_max_depth: 64, rf_max_features: 32, valid_r2: 0.06557504144004322\n",
            "number of features: 1024\n"
          ],
          "name": "stdout"
        },
        {
          "output_type": "stream",
          "text": [
            "2021-04-06 02:55:20,426 Previous dataset split restored\n"
          ],
          "name": "stderr"
        },
        {
          "output_type": "stream",
          "text": [
            "n_cnt [7647.]\n",
            "y_means [5.29077697]\n",
            "y_stds [0.71495872]\n",
            "TIMING: dataset construction took 0.338 s\n",
            "Loading dataset from disk.\n",
            "TIMING: dataset construction took 0.049 s\n",
            "Loading dataset from disk.\n",
            "TIMING: dataset construction took 0.051 s\n",
            "Loading dataset from disk.\n"
          ],
          "name": "stdout"
        },
        {
          "output_type": "stream",
          "text": [
            "2021-04-06 02:55:24,784 Wrote model metadata to file ampl_output/curated_combined_df_1/RF_ecfp_scaffold_regression/4cecd95a-dd8a-477d-b22e-167dd349cad3/model_metadata.json\n",
            "2021-04-06 02:55:24,943 Wrote model metrics to file ampl_output/curated_combined_df_1/RF_ecfp_scaffold_regression/4cecd95a-dd8a-477d-b22e-167dd349cad3/model_metrics.json\n"
          ],
          "name": "stderr"
        },
        {
          "output_type": "stream",
          "text": [
            "Wrote model tarball to ampl_output/curated_combined_df_1_model_4cecd95a-dd8a-477d-b22e-167dd349cad3.tar.gz\n",
            "rf_estimators: 32, rf_max_depth: 64, rf_max_features: 64, valid_r2: 0.04592508326697098\n",
            "number of features: 1024\n"
          ],
          "name": "stdout"
        },
        {
          "output_type": "stream",
          "text": [
            "2021-04-06 02:56:02,174 Previous dataset split restored\n"
          ],
          "name": "stderr"
        },
        {
          "output_type": "stream",
          "text": [
            "n_cnt [7647.]\n",
            "y_means [5.29077697]\n",
            "y_stds [0.71495872]\n",
            "TIMING: dataset construction took 0.346 s\n",
            "Loading dataset from disk.\n",
            "TIMING: dataset construction took 0.050 s\n",
            "Loading dataset from disk.\n",
            "TIMING: dataset construction took 0.049 s\n",
            "Loading dataset from disk.\n"
          ],
          "name": "stdout"
        },
        {
          "output_type": "stream",
          "text": [
            "2021-04-06 02:56:07,636 Wrote model metadata to file ampl_output/curated_combined_df_1/RF_ecfp_scaffold_regression/60e2b009-4dd8-4dc2-acc3-3df17f9abde4/model_metadata.json\n",
            "2021-04-06 02:56:07,794 Wrote model metrics to file ampl_output/curated_combined_df_1/RF_ecfp_scaffold_regression/60e2b009-4dd8-4dc2-acc3-3df17f9abde4/model_metrics.json\n"
          ],
          "name": "stderr"
        },
        {
          "output_type": "stream",
          "text": [
            "Wrote model tarball to ampl_output/curated_combined_df_1_model_60e2b009-4dd8-4dc2-acc3-3df17f9abde4.tar.gz\n",
            "rf_estimators: 32, rf_max_depth: 64, rf_max_features: 128, valid_r2: 0.06580250312947278\n",
            "number of features: 1024\n"
          ],
          "name": "stdout"
        },
        {
          "output_type": "stream",
          "text": [
            "2021-04-06 02:56:44,885 Previous dataset split restored\n"
          ],
          "name": "stderr"
        },
        {
          "output_type": "stream",
          "text": [
            "n_cnt [7647.]\n",
            "y_means [5.29077697]\n",
            "y_stds [0.71495872]\n",
            "TIMING: dataset construction took 0.338 s\n",
            "Loading dataset from disk.\n",
            "TIMING: dataset construction took 0.048 s\n",
            "Loading dataset from disk.\n",
            "TIMING: dataset construction took 0.051 s\n",
            "Loading dataset from disk.\n"
          ],
          "name": "stdout"
        },
        {
          "output_type": "stream",
          "text": [
            "2021-04-06 02:56:48,432 Wrote model metadata to file ampl_output/curated_combined_df_1/RF_ecfp_scaffold_regression/d8056db5-8e2b-4be7-b660-6081f30e68b1/model_metadata.json\n",
            "2021-04-06 02:56:48,611 Wrote model metrics to file ampl_output/curated_combined_df_1/RF_ecfp_scaffold_regression/d8056db5-8e2b-4be7-b660-6081f30e68b1/model_metrics.json\n"
          ],
          "name": "stderr"
        },
        {
          "output_type": "stream",
          "text": [
            "Wrote model tarball to ampl_output/curated_combined_df_1_model_d8056db5-8e2b-4be7-b660-6081f30e68b1.tar.gz\n",
            "rf_estimators: 32, rf_max_depth: 128, rf_max_features: 16, valid_r2: 0.0689693307556164\n",
            "number of features: 1024\n"
          ],
          "name": "stdout"
        },
        {
          "output_type": "stream",
          "text": [
            "2021-04-06 02:57:25,693 Previous dataset split restored\n"
          ],
          "name": "stderr"
        },
        {
          "output_type": "stream",
          "text": [
            "n_cnt [7647.]\n",
            "y_means [5.29077697]\n",
            "y_stds [0.71495872]\n",
            "TIMING: dataset construction took 0.335 s\n",
            "Loading dataset from disk.\n",
            "TIMING: dataset construction took 0.051 s\n",
            "Loading dataset from disk.\n",
            "TIMING: dataset construction took 0.050 s\n",
            "Loading dataset from disk.\n"
          ],
          "name": "stdout"
        },
        {
          "output_type": "stream",
          "text": [
            "2021-04-06 02:57:29,586 Wrote model metadata to file ampl_output/curated_combined_df_1/RF_ecfp_scaffold_regression/6d142cef-f892-4f34-bc1a-45effd9cfa68/model_metadata.json\n",
            "2021-04-06 02:57:29,772 Wrote model metrics to file ampl_output/curated_combined_df_1/RF_ecfp_scaffold_regression/6d142cef-f892-4f34-bc1a-45effd9cfa68/model_metrics.json\n"
          ],
          "name": "stderr"
        },
        {
          "output_type": "stream",
          "text": [
            "Wrote model tarball to ampl_output/curated_combined_df_1_model_6d142cef-f892-4f34-bc1a-45effd9cfa68.tar.gz\n",
            "rf_estimators: 32, rf_max_depth: 128, rf_max_features: 32, valid_r2: 0.04350819164129438\n",
            "number of features: 1024\n"
          ],
          "name": "stdout"
        },
        {
          "output_type": "stream",
          "text": [
            "2021-04-06 02:58:06,821 Previous dataset split restored\n"
          ],
          "name": "stderr"
        },
        {
          "output_type": "stream",
          "text": [
            "n_cnt [7647.]\n",
            "y_means [5.29077697]\n",
            "y_stds [0.71495872]\n",
            "TIMING: dataset construction took 0.339 s\n",
            "Loading dataset from disk.\n",
            "TIMING: dataset construction took 0.048 s\n",
            "Loading dataset from disk.\n",
            "TIMING: dataset construction took 0.050 s\n",
            "Loading dataset from disk.\n"
          ],
          "name": "stdout"
        },
        {
          "output_type": "stream",
          "text": [
            "2021-04-06 02:58:11,188 Wrote model metadata to file ampl_output/curated_combined_df_1/RF_ecfp_scaffold_regression/da48beeb-fac8-478c-ba54-ef164280c65b/model_metadata.json\n",
            "2021-04-06 02:58:11,363 Wrote model metrics to file ampl_output/curated_combined_df_1/RF_ecfp_scaffold_regression/da48beeb-fac8-478c-ba54-ef164280c65b/model_metrics.json\n"
          ],
          "name": "stderr"
        },
        {
          "output_type": "stream",
          "text": [
            "Wrote model tarball to ampl_output/curated_combined_df_1_model_da48beeb-fac8-478c-ba54-ef164280c65b.tar.gz\n",
            "rf_estimators: 32, rf_max_depth: 128, rf_max_features: 64, valid_r2: 0.04559317787799133\n",
            "number of features: 1024\n"
          ],
          "name": "stdout"
        },
        {
          "output_type": "stream",
          "text": [
            "2021-04-06 02:58:48,526 Previous dataset split restored\n"
          ],
          "name": "stderr"
        },
        {
          "output_type": "stream",
          "text": [
            "n_cnt [7647.]\n",
            "y_means [5.29077697]\n",
            "y_stds [0.71495872]\n",
            "TIMING: dataset construction took 0.340 s\n",
            "Loading dataset from disk.\n",
            "TIMING: dataset construction took 0.047 s\n",
            "Loading dataset from disk.\n",
            "TIMING: dataset construction took 0.050 s\n",
            "Loading dataset from disk.\n"
          ],
          "name": "stdout"
        },
        {
          "output_type": "stream",
          "text": [
            "2021-04-06 02:58:54,069 Wrote model metadata to file ampl_output/curated_combined_df_1/RF_ecfp_scaffold_regression/2b1a3141-76b7-474a-b5a9-c3694d45b9e6/model_metadata.json\n",
            "2021-04-06 02:58:54,240 Wrote model metrics to file ampl_output/curated_combined_df_1/RF_ecfp_scaffold_regression/2b1a3141-76b7-474a-b5a9-c3694d45b9e6/model_metrics.json\n"
          ],
          "name": "stderr"
        },
        {
          "output_type": "stream",
          "text": [
            "Wrote model tarball to ampl_output/curated_combined_df_1_model_2b1a3141-76b7-474a-b5a9-c3694d45b9e6.tar.gz\n",
            "rf_estimators: 32, rf_max_depth: 128, rf_max_features: 128, valid_r2: 0.046999955715733344\n",
            "number of features: 1024\n"
          ],
          "name": "stdout"
        },
        {
          "output_type": "stream",
          "text": [
            "2021-04-06 02:59:31,305 Previous dataset split restored\n"
          ],
          "name": "stderr"
        },
        {
          "output_type": "stream",
          "text": [
            "n_cnt [7647.]\n",
            "y_means [5.29077697]\n",
            "y_stds [0.71495872]\n",
            "TIMING: dataset construction took 0.338 s\n",
            "Loading dataset from disk.\n",
            "TIMING: dataset construction took 0.048 s\n",
            "Loading dataset from disk.\n",
            "TIMING: dataset construction took 0.049 s\n",
            "Loading dataset from disk.\n"
          ],
          "name": "stdout"
        },
        {
          "output_type": "stream",
          "text": [
            "2021-04-06 02:59:34,818 Wrote model metadata to file ampl_output/curated_combined_df_1/RF_ecfp_scaffold_regression/882c5035-e597-478f-85a4-1f3f4d4ef37d/model_metadata.json\n",
            "2021-04-06 02:59:34,881 Wrote model metrics to file ampl_output/curated_combined_df_1/RF_ecfp_scaffold_regression/882c5035-e597-478f-85a4-1f3f4d4ef37d/model_metrics.json\n"
          ],
          "name": "stderr"
        },
        {
          "output_type": "stream",
          "text": [
            "Wrote model tarball to ampl_output/curated_combined_df_1_model_882c5035-e597-478f-85a4-1f3f4d4ef37d.tar.gz\n",
            "rf_estimators: 64, rf_max_depth: 16, rf_max_features: 16, valid_r2: 0.05846971135066925\n",
            "number of features: 1024\n"
          ],
          "name": "stdout"
        },
        {
          "output_type": "stream",
          "text": [
            "2021-04-06 03:00:12,024 Previous dataset split restored\n"
          ],
          "name": "stderr"
        },
        {
          "output_type": "stream",
          "text": [
            "n_cnt [7647.]\n",
            "y_means [5.29077697]\n",
            "y_stds [0.71495872]\n",
            "TIMING: dataset construction took 0.344 s\n",
            "Loading dataset from disk.\n",
            "TIMING: dataset construction took 0.049 s\n",
            "Loading dataset from disk.\n",
            "TIMING: dataset construction took 0.051 s\n",
            "Loading dataset from disk.\n"
          ],
          "name": "stdout"
        },
        {
          "output_type": "stream",
          "text": [
            "2021-04-06 03:00:15,873 Wrote model metadata to file ampl_output/curated_combined_df_1/RF_ecfp_scaffold_regression/a1aa4a2b-f922-4d1e-ba7c-46bc5d4172df/model_metadata.json\n",
            "2021-04-06 03:00:15,945 Wrote model metrics to file ampl_output/curated_combined_df_1/RF_ecfp_scaffold_regression/a1aa4a2b-f922-4d1e-ba7c-46bc5d4172df/model_metrics.json\n"
          ],
          "name": "stderr"
        },
        {
          "output_type": "stream",
          "text": [
            "Wrote model tarball to ampl_output/curated_combined_df_1_model_a1aa4a2b-f922-4d1e-ba7c-46bc5d4172df.tar.gz\n",
            "rf_estimators: 64, rf_max_depth: 16, rf_max_features: 32, valid_r2: 0.07035580532790842\n",
            "number of features: 1024\n"
          ],
          "name": "stdout"
        },
        {
          "output_type": "stream",
          "text": [
            "2021-04-06 03:00:53,243 Previous dataset split restored\n"
          ],
          "name": "stderr"
        },
        {
          "output_type": "stream",
          "text": [
            "n_cnt [7647.]\n",
            "y_means [5.29077697]\n",
            "y_stds [0.71495872]\n",
            "TIMING: dataset construction took 0.343 s\n",
            "Loading dataset from disk.\n",
            "TIMING: dataset construction took 0.049 s\n",
            "Loading dataset from disk.\n",
            "TIMING: dataset construction took 0.050 s\n",
            "Loading dataset from disk.\n"
          ],
          "name": "stdout"
        },
        {
          "output_type": "stream",
          "text": [
            "2021-04-06 03:00:57,682 Wrote model metadata to file ampl_output/curated_combined_df_1/RF_ecfp_scaffold_regression/1e89d7e2-68f5-44e4-b82c-ca36a993bbc2/model_metadata.json\n",
            "2021-04-06 03:00:57,759 Wrote model metrics to file ampl_output/curated_combined_df_1/RF_ecfp_scaffold_regression/1e89d7e2-68f5-44e4-b82c-ca36a993bbc2/model_metrics.json\n"
          ],
          "name": "stderr"
        },
        {
          "output_type": "stream",
          "text": [
            "Wrote model tarball to ampl_output/curated_combined_df_1_model_1e89d7e2-68f5-44e4-b82c-ca36a993bbc2.tar.gz\n",
            "rf_estimators: 64, rf_max_depth: 16, rf_max_features: 64, valid_r2: 0.07011448698137479\n",
            "number of features: 1024\n"
          ],
          "name": "stdout"
        },
        {
          "output_type": "stream",
          "text": [
            "2021-04-06 03:01:34,858 Previous dataset split restored\n"
          ],
          "name": "stderr"
        },
        {
          "output_type": "stream",
          "text": [
            "n_cnt [7647.]\n",
            "y_means [5.29077697]\n",
            "y_stds [0.71495872]\n",
            "TIMING: dataset construction took 0.335 s\n",
            "Loading dataset from disk.\n",
            "TIMING: dataset construction took 0.048 s\n",
            "Loading dataset from disk.\n",
            "TIMING: dataset construction took 0.051 s\n",
            "Loading dataset from disk.\n"
          ],
          "name": "stdout"
        },
        {
          "output_type": "stream",
          "text": [
            "2021-04-06 03:01:40,596 Wrote model metadata to file ampl_output/curated_combined_df_1/RF_ecfp_scaffold_regression/5d6d9f2a-84f7-4153-b00b-768546d92483/model_metadata.json\n",
            "2021-04-06 03:01:40,669 Wrote model metrics to file ampl_output/curated_combined_df_1/RF_ecfp_scaffold_regression/5d6d9f2a-84f7-4153-b00b-768546d92483/model_metrics.json\n"
          ],
          "name": "stderr"
        },
        {
          "output_type": "stream",
          "text": [
            "Wrote model tarball to ampl_output/curated_combined_df_1_model_5d6d9f2a-84f7-4153-b00b-768546d92483.tar.gz\n",
            "rf_estimators: 64, rf_max_depth: 16, rf_max_features: 128, valid_r2: 0.07971474664747369\n",
            "number of features: 1024\n"
          ],
          "name": "stdout"
        },
        {
          "output_type": "stream",
          "text": [
            "2021-04-06 03:02:17,919 Previous dataset split restored\n"
          ],
          "name": "stderr"
        },
        {
          "output_type": "stream",
          "text": [
            "n_cnt [7647.]\n",
            "y_means [5.29077697]\n",
            "y_stds [0.71495872]\n",
            "TIMING: dataset construction took 0.343 s\n",
            "Loading dataset from disk.\n",
            "TIMING: dataset construction took 0.050 s\n",
            "Loading dataset from disk.\n",
            "TIMING: dataset construction took 0.050 s\n",
            "Loading dataset from disk.\n"
          ],
          "name": "stdout"
        },
        {
          "output_type": "stream",
          "text": [
            "2021-04-06 03:02:21,816 Wrote model metadata to file ampl_output/curated_combined_df_1/RF_ecfp_scaffold_regression/6f54792b-662f-464a-b915-642e67e7d019/model_metadata.json\n",
            "2021-04-06 03:02:21,999 Wrote model metrics to file ampl_output/curated_combined_df_1/RF_ecfp_scaffold_regression/6f54792b-662f-464a-b915-642e67e7d019/model_metrics.json\n"
          ],
          "name": "stderr"
        },
        {
          "output_type": "stream",
          "text": [
            "Wrote model tarball to ampl_output/curated_combined_df_1_model_6f54792b-662f-464a-b915-642e67e7d019.tar.gz\n",
            "rf_estimators: 64, rf_max_depth: 32, rf_max_features: 16, valid_r2: 0.07356326217229736\n",
            "number of features: 1024\n"
          ],
          "name": "stdout"
        },
        {
          "output_type": "stream",
          "text": [
            "2021-04-06 03:02:58,920 Previous dataset split restored\n"
          ],
          "name": "stderr"
        },
        {
          "output_type": "stream",
          "text": [
            "n_cnt [7647.]\n",
            "y_means [5.29077697]\n",
            "y_stds [0.71495872]\n",
            "TIMING: dataset construction took 0.337 s\n",
            "Loading dataset from disk.\n",
            "TIMING: dataset construction took 0.052 s\n",
            "Loading dataset from disk.\n",
            "TIMING: dataset construction took 0.050 s\n",
            "Loading dataset from disk.\n"
          ],
          "name": "stdout"
        },
        {
          "output_type": "stream",
          "text": [
            "2021-04-06 03:03:03,308 Wrote model metadata to file ampl_output/curated_combined_df_1/RF_ecfp_scaffold_regression/6bc90caf-67e1-4a24-b425-58a9bf83a5d2/model_metadata.json\n",
            "2021-04-06 03:03:03,497 Wrote model metrics to file ampl_output/curated_combined_df_1/RF_ecfp_scaffold_regression/6bc90caf-67e1-4a24-b425-58a9bf83a5d2/model_metrics.json\n"
          ],
          "name": "stderr"
        },
        {
          "output_type": "stream",
          "text": [
            "Wrote model tarball to ampl_output/curated_combined_df_1_model_6bc90caf-67e1-4a24-b425-58a9bf83a5d2.tar.gz\n",
            "rf_estimators: 64, rf_max_depth: 32, rf_max_features: 32, valid_r2: 0.09390966735673179\n",
            "number of features: 1024\n"
          ],
          "name": "stdout"
        },
        {
          "output_type": "stream",
          "text": [
            "2021-04-06 03:03:40,676 Previous dataset split restored\n"
          ],
          "name": "stderr"
        },
        {
          "output_type": "stream",
          "text": [
            "n_cnt [7647.]\n",
            "y_means [5.29077697]\n",
            "y_stds [0.71495872]\n",
            "TIMING: dataset construction took 0.344 s\n",
            "Loading dataset from disk.\n",
            "TIMING: dataset construction took 0.051 s\n",
            "Loading dataset from disk.\n",
            "TIMING: dataset construction took 0.052 s\n",
            "Loading dataset from disk.\n"
          ],
          "name": "stdout"
        },
        {
          "output_type": "stream",
          "text": [
            "2021-04-06 03:03:45,948 Wrote model metadata to file ampl_output/curated_combined_df_1/RF_ecfp_scaffold_regression/463e0ec5-ca1b-4565-a54d-4a96a9728c7b/model_metadata.json\n",
            "2021-04-06 03:03:46,140 Wrote model metrics to file ampl_output/curated_combined_df_1/RF_ecfp_scaffold_regression/463e0ec5-ca1b-4565-a54d-4a96a9728c7b/model_metrics.json\n"
          ],
          "name": "stderr"
        },
        {
          "output_type": "stream",
          "text": [
            "Wrote model tarball to ampl_output/curated_combined_df_1_model_463e0ec5-ca1b-4565-a54d-4a96a9728c7b.tar.gz\n",
            "rf_estimators: 64, rf_max_depth: 32, rf_max_features: 64, valid_r2: 0.07744066891143819\n",
            "number of features: 1024\n"
          ],
          "name": "stdout"
        },
        {
          "output_type": "stream",
          "text": [
            "2021-04-06 03:04:23,446 Previous dataset split restored\n"
          ],
          "name": "stderr"
        },
        {
          "output_type": "stream",
          "text": [
            "n_cnt [7647.]\n",
            "y_means [5.29077697]\n",
            "y_stds [0.71495872]\n",
            "TIMING: dataset construction took 0.335 s\n",
            "Loading dataset from disk.\n",
            "TIMING: dataset construction took 0.049 s\n",
            "Loading dataset from disk.\n",
            "TIMING: dataset construction took 0.051 s\n",
            "Loading dataset from disk.\n"
          ],
          "name": "stdout"
        },
        {
          "output_type": "stream",
          "text": [
            "2021-04-06 03:04:30,410 Wrote model metadata to file ampl_output/curated_combined_df_1/RF_ecfp_scaffold_regression/6339ea58-c4cb-4db2-9b5b-b16c55370dc8/model_metadata.json\n",
            "2021-04-06 03:04:30,595 Wrote model metrics to file ampl_output/curated_combined_df_1/RF_ecfp_scaffold_regression/6339ea58-c4cb-4db2-9b5b-b16c55370dc8/model_metrics.json\n"
          ],
          "name": "stderr"
        },
        {
          "output_type": "stream",
          "text": [
            "Wrote model tarball to ampl_output/curated_combined_df_1_model_6339ea58-c4cb-4db2-9b5b-b16c55370dc8.tar.gz\n",
            "rf_estimators: 64, rf_max_depth: 32, rf_max_features: 128, valid_r2: 0.07798564459806412\n",
            "number of features: 1024\n"
          ],
          "name": "stdout"
        },
        {
          "output_type": "stream",
          "text": [
            "2021-04-06 03:05:07,715 Previous dataset split restored\n"
          ],
          "name": "stderr"
        },
        {
          "output_type": "stream",
          "text": [
            "n_cnt [7647.]\n",
            "y_means [5.29077697]\n",
            "y_stds [0.71495872]\n",
            "TIMING: dataset construction took 0.338 s\n",
            "Loading dataset from disk.\n",
            "TIMING: dataset construction took 0.050 s\n",
            "Loading dataset from disk.\n",
            "TIMING: dataset construction took 0.049 s\n",
            "Loading dataset from disk.\n"
          ],
          "name": "stdout"
        },
        {
          "output_type": "stream",
          "text": [
            "2021-04-06 03:05:12,022 Wrote model metadata to file ampl_output/curated_combined_df_1/RF_ecfp_scaffold_regression/1046dfb9-2cb2-417d-89ee-ada6a34cef91/model_metadata.json\n",
            "2021-04-06 03:05:12,349 Wrote model metrics to file ampl_output/curated_combined_df_1/RF_ecfp_scaffold_regression/1046dfb9-2cb2-417d-89ee-ada6a34cef91/model_metrics.json\n"
          ],
          "name": "stderr"
        },
        {
          "output_type": "stream",
          "text": [
            "Wrote model tarball to ampl_output/curated_combined_df_1_model_1046dfb9-2cb2-417d-89ee-ada6a34cef91.tar.gz\n",
            "rf_estimators: 64, rf_max_depth: 64, rf_max_features: 16, valid_r2: 0.07690775904244262\n",
            "number of features: 1024\n"
          ],
          "name": "stdout"
        },
        {
          "output_type": "stream",
          "text": [
            "2021-04-06 03:05:49,474 Previous dataset split restored\n"
          ],
          "name": "stderr"
        },
        {
          "output_type": "stream",
          "text": [
            "n_cnt [7647.]\n",
            "y_means [5.29077697]\n",
            "y_stds [0.71495872]\n",
            "TIMING: dataset construction took 0.338 s\n",
            "Loading dataset from disk.\n",
            "TIMING: dataset construction took 0.050 s\n",
            "Loading dataset from disk.\n",
            "TIMING: dataset construction took 0.050 s\n",
            "Loading dataset from disk.\n"
          ],
          "name": "stdout"
        },
        {
          "output_type": "stream",
          "text": [
            "2021-04-06 03:05:54,307 Wrote model metadata to file ampl_output/curated_combined_df_1/RF_ecfp_scaffold_regression/541e0133-f498-4545-abc4-76e2cfdcf602/model_metadata.json\n",
            "2021-04-06 03:05:54,614 Wrote model metrics to file ampl_output/curated_combined_df_1/RF_ecfp_scaffold_regression/541e0133-f498-4545-abc4-76e2cfdcf602/model_metrics.json\n"
          ],
          "name": "stderr"
        },
        {
          "output_type": "stream",
          "text": [
            "Wrote model tarball to ampl_output/curated_combined_df_1_model_541e0133-f498-4545-abc4-76e2cfdcf602.tar.gz\n",
            "rf_estimators: 64, rf_max_depth: 64, rf_max_features: 32, valid_r2: 0.0661565478489784\n",
            "number of features: 1024\n"
          ],
          "name": "stdout"
        },
        {
          "output_type": "stream",
          "text": [
            "2021-04-06 03:06:31,800 Previous dataset split restored\n"
          ],
          "name": "stderr"
        },
        {
          "output_type": "stream",
          "text": [
            "n_cnt [7647.]\n",
            "y_means [5.29077697]\n",
            "y_stds [0.71495872]\n",
            "TIMING: dataset construction took 0.343 s\n",
            "Loading dataset from disk.\n",
            "TIMING: dataset construction took 0.049 s\n",
            "Loading dataset from disk.\n",
            "TIMING: dataset construction took 0.051 s\n",
            "Loading dataset from disk.\n"
          ],
          "name": "stdout"
        },
        {
          "output_type": "stream",
          "text": [
            "2021-04-06 03:06:37,581 Wrote model metadata to file ampl_output/curated_combined_df_1/RF_ecfp_scaffold_regression/057b8f5c-fa76-4823-a332-b93c0267382d/model_metadata.json\n",
            "2021-04-06 03:06:37,891 Wrote model metrics to file ampl_output/curated_combined_df_1/RF_ecfp_scaffold_regression/057b8f5c-fa76-4823-a332-b93c0267382d/model_metrics.json\n"
          ],
          "name": "stderr"
        },
        {
          "output_type": "stream",
          "text": [
            "Wrote model tarball to ampl_output/curated_combined_df_1_model_057b8f5c-fa76-4823-a332-b93c0267382d.tar.gz\n",
            "rf_estimators: 64, rf_max_depth: 64, rf_max_features: 64, valid_r2: 0.08192823136639316\n",
            "number of features: 1024\n"
          ],
          "name": "stdout"
        },
        {
          "output_type": "stream",
          "text": [
            "2021-04-06 03:07:15,183 Previous dataset split restored\n"
          ],
          "name": "stderr"
        },
        {
          "output_type": "stream",
          "text": [
            "n_cnt [7647.]\n",
            "y_means [5.29077697]\n",
            "y_stds [0.71495872]\n",
            "TIMING: dataset construction took 0.342 s\n",
            "Loading dataset from disk.\n",
            "TIMING: dataset construction took 0.050 s\n",
            "Loading dataset from disk.\n",
            "TIMING: dataset construction took 0.049 s\n",
            "Loading dataset from disk.\n"
          ],
          "name": "stdout"
        },
        {
          "output_type": "stream",
          "text": [
            "2021-04-06 03:07:23,191 Wrote model metadata to file ampl_output/curated_combined_df_1/RF_ecfp_scaffold_regression/43b4bdcd-c29a-49f1-a1ca-2114cfc1bf67/model_metadata.json\n",
            "2021-04-06 03:07:23,500 Wrote model metrics to file ampl_output/curated_combined_df_1/RF_ecfp_scaffold_regression/43b4bdcd-c29a-49f1-a1ca-2114cfc1bf67/model_metrics.json\n"
          ],
          "name": "stderr"
        },
        {
          "output_type": "stream",
          "text": [
            "Wrote model tarball to ampl_output/curated_combined_df_1_model_43b4bdcd-c29a-49f1-a1ca-2114cfc1bf67.tar.gz\n",
            "rf_estimators: 64, rf_max_depth: 64, rf_max_features: 128, valid_r2: 0.06869181422855042\n",
            "number of features: 1024\n"
          ],
          "name": "stdout"
        },
        {
          "output_type": "stream",
          "text": [
            "2021-04-06 03:08:01,024 Previous dataset split restored\n"
          ],
          "name": "stderr"
        },
        {
          "output_type": "stream",
          "text": [
            "n_cnt [7647.]\n",
            "y_means [5.29077697]\n",
            "y_stds [0.71495872]\n",
            "TIMING: dataset construction took 0.344 s\n",
            "Loading dataset from disk.\n",
            "TIMING: dataset construction took 0.048 s\n",
            "Loading dataset from disk.\n",
            "TIMING: dataset construction took 0.050 s\n",
            "Loading dataset from disk.\n"
          ],
          "name": "stdout"
        },
        {
          "output_type": "stream",
          "text": [
            "2021-04-06 03:08:05,372 Wrote model metadata to file ampl_output/curated_combined_df_1/RF_ecfp_scaffold_regression/587b7313-7178-4e43-9359-7930fad22e70/model_metadata.json\n",
            "2021-04-06 03:08:05,729 Wrote model metrics to file ampl_output/curated_combined_df_1/RF_ecfp_scaffold_regression/587b7313-7178-4e43-9359-7930fad22e70/model_metrics.json\n"
          ],
          "name": "stderr"
        },
        {
          "output_type": "stream",
          "text": [
            "Wrote model tarball to ampl_output/curated_combined_df_1_model_587b7313-7178-4e43-9359-7930fad22e70.tar.gz\n",
            "rf_estimators: 64, rf_max_depth: 128, rf_max_features: 16, valid_r2: 0.0722443389198536\n",
            "number of features: 1024\n"
          ],
          "name": "stdout"
        },
        {
          "output_type": "stream",
          "text": [
            "2021-04-06 03:08:43,668 Previous dataset split restored\n"
          ],
          "name": "stderr"
        },
        {
          "output_type": "stream",
          "text": [
            "n_cnt [7647.]\n",
            "y_means [5.29077697]\n",
            "y_stds [0.71495872]\n",
            "TIMING: dataset construction took 0.337 s\n",
            "Loading dataset from disk.\n",
            "TIMING: dataset construction took 0.050 s\n",
            "Loading dataset from disk.\n",
            "TIMING: dataset construction took 0.052 s\n",
            "Loading dataset from disk.\n"
          ],
          "name": "stdout"
        },
        {
          "output_type": "stream",
          "text": [
            "2021-04-06 03:08:48,629 Wrote model metadata to file ampl_output/curated_combined_df_1/RF_ecfp_scaffold_regression/c416453a-8c06-4820-8309-4527a5103b41/model_metadata.json\n",
            "2021-04-06 03:08:48,978 Wrote model metrics to file ampl_output/curated_combined_df_1/RF_ecfp_scaffold_regression/c416453a-8c06-4820-8309-4527a5103b41/model_metrics.json\n"
          ],
          "name": "stderr"
        },
        {
          "output_type": "stream",
          "text": [
            "Wrote model tarball to ampl_output/curated_combined_df_1_model_c416453a-8c06-4820-8309-4527a5103b41.tar.gz\n",
            "rf_estimators: 64, rf_max_depth: 128, rf_max_features: 32, valid_r2: 0.08749950428151165\n",
            "number of features: 1024\n"
          ],
          "name": "stdout"
        },
        {
          "output_type": "stream",
          "text": [
            "2021-04-06 03:09:26,363 Previous dataset split restored\n"
          ],
          "name": "stderr"
        },
        {
          "output_type": "stream",
          "text": [
            "n_cnt [7647.]\n",
            "y_means [5.29077697]\n",
            "y_stds [0.71495872]\n",
            "TIMING: dataset construction took 0.341 s\n",
            "Loading dataset from disk.\n",
            "TIMING: dataset construction took 0.050 s\n",
            "Loading dataset from disk.\n",
            "TIMING: dataset construction took 0.052 s\n",
            "Loading dataset from disk.\n"
          ],
          "name": "stdout"
        },
        {
          "output_type": "stream",
          "text": [
            "2021-04-06 03:09:32,360 Wrote model metadata to file ampl_output/curated_combined_df_1/RF_ecfp_scaffold_regression/ed696848-4055-40ff-8b39-c0b99a09e090/model_metadata.json\n",
            "2021-04-06 03:09:32,695 Wrote model metrics to file ampl_output/curated_combined_df_1/RF_ecfp_scaffold_regression/ed696848-4055-40ff-8b39-c0b99a09e090/model_metrics.json\n"
          ],
          "name": "stderr"
        },
        {
          "output_type": "stream",
          "text": [
            "Wrote model tarball to ampl_output/curated_combined_df_1_model_ed696848-4055-40ff-8b39-c0b99a09e090.tar.gz\n",
            "rf_estimators: 64, rf_max_depth: 128, rf_max_features: 64, valid_r2: 0.07218635237411963\n",
            "number of features: 1024\n"
          ],
          "name": "stdout"
        },
        {
          "output_type": "stream",
          "text": [
            "2021-04-06 03:10:10,285 Previous dataset split restored\n"
          ],
          "name": "stderr"
        },
        {
          "output_type": "stream",
          "text": [
            "n_cnt [7647.]\n",
            "y_means [5.29077697]\n",
            "y_stds [0.71495872]\n",
            "TIMING: dataset construction took 0.338 s\n",
            "Loading dataset from disk.\n",
            "TIMING: dataset construction took 0.048 s\n",
            "Loading dataset from disk.\n",
            "TIMING: dataset construction took 0.051 s\n",
            "Loading dataset from disk.\n"
          ],
          "name": "stdout"
        },
        {
          "output_type": "stream",
          "text": [
            "2021-04-06 03:10:18,588 Wrote model metadata to file ampl_output/curated_combined_df_1/RF_ecfp_scaffold_regression/6494e9ad-9889-4948-9aec-c9ec78fe3b1f/model_metadata.json\n",
            "2021-04-06 03:10:18,919 Wrote model metrics to file ampl_output/curated_combined_df_1/RF_ecfp_scaffold_regression/6494e9ad-9889-4948-9aec-c9ec78fe3b1f/model_metrics.json\n"
          ],
          "name": "stderr"
        },
        {
          "output_type": "stream",
          "text": [
            "Wrote model tarball to ampl_output/curated_combined_df_1_model_6494e9ad-9889-4948-9aec-c9ec78fe3b1f.tar.gz\n",
            "rf_estimators: 64, rf_max_depth: 128, rf_max_features: 128, valid_r2: 0.0811394266142299\n",
            "number of features: 1024\n"
          ],
          "name": "stdout"
        },
        {
          "output_type": "stream",
          "text": [
            "2021-04-06 03:10:56,706 Previous dataset split restored\n"
          ],
          "name": "stderr"
        },
        {
          "output_type": "stream",
          "text": [
            "n_cnt [7647.]\n",
            "y_means [5.29077697]\n",
            "y_stds [0.71495872]\n",
            "TIMING: dataset construction took 0.350 s\n",
            "Loading dataset from disk.\n",
            "TIMING: dataset construction took 0.054 s\n",
            "Loading dataset from disk.\n",
            "TIMING: dataset construction took 0.053 s\n",
            "Loading dataset from disk.\n"
          ],
          "name": "stdout"
        },
        {
          "output_type": "stream",
          "text": [
            "2021-04-06 03:11:01,047 Wrote model metadata to file ampl_output/curated_combined_df_1/RF_ecfp_scaffold_regression/a60bb72d-5b07-437b-9998-9eaab2297a36/model_metadata.json\n",
            "2021-04-06 03:11:01,180 Wrote model metrics to file ampl_output/curated_combined_df_1/RF_ecfp_scaffold_regression/a60bb72d-5b07-437b-9998-9eaab2297a36/model_metrics.json\n"
          ],
          "name": "stderr"
        },
        {
          "output_type": "stream",
          "text": [
            "Wrote model tarball to ampl_output/curated_combined_df_1_model_a60bb72d-5b07-437b-9998-9eaab2297a36.tar.gz\n",
            "rf_estimators: 128, rf_max_depth: 16, rf_max_features: 16, valid_r2: 0.0574365368696248\n",
            "number of features: 1024\n"
          ],
          "name": "stdout"
        },
        {
          "output_type": "stream",
          "text": [
            "2021-04-06 03:11:38,686 Previous dataset split restored\n"
          ],
          "name": "stderr"
        },
        {
          "output_type": "stream",
          "text": [
            "n_cnt [7647.]\n",
            "y_means [5.29077697]\n",
            "y_stds [0.71495872]\n",
            "TIMING: dataset construction took 0.354 s\n",
            "Loading dataset from disk.\n",
            "TIMING: dataset construction took 0.051 s\n",
            "Loading dataset from disk.\n",
            "TIMING: dataset construction took 0.054 s\n",
            "Loading dataset from disk.\n"
          ],
          "name": "stdout"
        },
        {
          "output_type": "stream",
          "text": [
            "2021-04-06 03:11:43,614 Wrote model metadata to file ampl_output/curated_combined_df_1/RF_ecfp_scaffold_regression/b1f936a3-2c04-4a6f-a245-34660092e15b/model_metadata.json\n",
            "2021-04-06 03:11:43,759 Wrote model metrics to file ampl_output/curated_combined_df_1/RF_ecfp_scaffold_regression/b1f936a3-2c04-4a6f-a245-34660092e15b/model_metrics.json\n"
          ],
          "name": "stderr"
        },
        {
          "output_type": "stream",
          "text": [
            "Wrote model tarball to ampl_output/curated_combined_df_1_model_b1f936a3-2c04-4a6f-a245-34660092e15b.tar.gz\n",
            "rf_estimators: 128, rf_max_depth: 16, rf_max_features: 32, valid_r2: 0.07268003144924196\n",
            "number of features: 1024\n"
          ],
          "name": "stdout"
        },
        {
          "output_type": "stream",
          "text": [
            "2021-04-06 03:12:21,476 Previous dataset split restored\n"
          ],
          "name": "stderr"
        },
        {
          "output_type": "stream",
          "text": [
            "n_cnt [7647.]\n",
            "y_means [5.29077697]\n",
            "y_stds [0.71495872]\n",
            "TIMING: dataset construction took 0.342 s\n",
            "Loading dataset from disk.\n",
            "TIMING: dataset construction took 0.049 s\n",
            "Loading dataset from disk.\n",
            "TIMING: dataset construction took 0.049 s\n",
            "Loading dataset from disk.\n"
          ],
          "name": "stdout"
        },
        {
          "output_type": "stream",
          "text": [
            "2021-04-06 03:12:27,631 Wrote model metadata to file ampl_output/curated_combined_df_1/RF_ecfp_scaffold_regression/63f8284c-a59b-420e-b0c4-53c136a1ffea/model_metadata.json\n",
            "2021-04-06 03:12:27,775 Wrote model metrics to file ampl_output/curated_combined_df_1/RF_ecfp_scaffold_regression/63f8284c-a59b-420e-b0c4-53c136a1ffea/model_metrics.json\n"
          ],
          "name": "stderr"
        },
        {
          "output_type": "stream",
          "text": [
            "Wrote model tarball to ampl_output/curated_combined_df_1_model_63f8284c-a59b-420e-b0c4-53c136a1ffea.tar.gz\n",
            "rf_estimators: 128, rf_max_depth: 16, rf_max_features: 64, valid_r2: 0.0810052243239805\n",
            "number of features: 1024\n"
          ],
          "name": "stdout"
        },
        {
          "output_type": "stream",
          "text": [
            "2021-04-06 03:13:05,369 Previous dataset split restored\n"
          ],
          "name": "stderr"
        },
        {
          "output_type": "stream",
          "text": [
            "n_cnt [7647.]\n",
            "y_means [5.29077697]\n",
            "y_stds [0.71495872]\n",
            "TIMING: dataset construction took 0.348 s\n",
            "Loading dataset from disk.\n",
            "TIMING: dataset construction took 0.049 s\n",
            "Loading dataset from disk.\n",
            "TIMING: dataset construction took 0.051 s\n",
            "Loading dataset from disk.\n"
          ],
          "name": "stdout"
        },
        {
          "output_type": "stream",
          "text": [
            "2021-04-06 03:13:14,109 Wrote model metadata to file ampl_output/curated_combined_df_1/RF_ecfp_scaffold_regression/c928655e-7d5a-4453-a06d-966f83742ef2/model_metadata.json\n",
            "2021-04-06 03:13:14,246 Wrote model metrics to file ampl_output/curated_combined_df_1/RF_ecfp_scaffold_regression/c928655e-7d5a-4453-a06d-966f83742ef2/model_metrics.json\n"
          ],
          "name": "stderr"
        },
        {
          "output_type": "stream",
          "text": [
            "Wrote model tarball to ampl_output/curated_combined_df_1_model_c928655e-7d5a-4453-a06d-966f83742ef2.tar.gz\n",
            "rf_estimators: 128, rf_max_depth: 16, rf_max_features: 128, valid_r2: 0.08657211667884179\n",
            "number of features: 1024\n"
          ],
          "name": "stdout"
        },
        {
          "output_type": "stream",
          "text": [
            "2021-04-06 03:13:52,170 Previous dataset split restored\n"
          ],
          "name": "stderr"
        },
        {
          "output_type": "stream",
          "text": [
            "n_cnt [7647.]\n",
            "y_means [5.29077697]\n",
            "y_stds [0.71495872]\n",
            "TIMING: dataset construction took 0.345 s\n",
            "Loading dataset from disk.\n",
            "TIMING: dataset construction took 0.049 s\n",
            "Loading dataset from disk.\n",
            "TIMING: dataset construction took 0.054 s\n",
            "Loading dataset from disk.\n"
          ],
          "name": "stdout"
        },
        {
          "output_type": "stream",
          "text": [
            "2021-04-06 03:13:57,366 Wrote model metadata to file ampl_output/curated_combined_df_1/RF_ecfp_scaffold_regression/b518f881-bc4d-417e-a1ef-4e5e24a7e574/model_metadata.json\n",
            "2021-04-06 03:13:57,730 Wrote model metrics to file ampl_output/curated_combined_df_1/RF_ecfp_scaffold_regression/b518f881-bc4d-417e-a1ef-4e5e24a7e574/model_metrics.json\n"
          ],
          "name": "stderr"
        },
        {
          "output_type": "stream",
          "text": [
            "Wrote model tarball to ampl_output/curated_combined_df_1_model_b518f881-bc4d-417e-a1ef-4e5e24a7e574.tar.gz\n",
            "rf_estimators: 128, rf_max_depth: 32, rf_max_features: 16, valid_r2: 0.08530422096690982\n",
            "number of features: 1024\n"
          ],
          "name": "stdout"
        },
        {
          "output_type": "stream",
          "text": [
            "2021-04-06 03:14:35,537 Previous dataset split restored\n"
          ],
          "name": "stderr"
        },
        {
          "output_type": "stream",
          "text": [
            "n_cnt [7647.]\n",
            "y_means [5.29077697]\n",
            "y_stds [0.71495872]\n",
            "TIMING: dataset construction took 0.341 s\n",
            "Loading dataset from disk.\n",
            "TIMING: dataset construction took 0.049 s\n",
            "Loading dataset from disk.\n",
            "TIMING: dataset construction took 0.050 s\n",
            "Loading dataset from disk.\n"
          ],
          "name": "stdout"
        },
        {
          "output_type": "stream",
          "text": [
            "2021-04-06 03:14:41,614 Wrote model metadata to file ampl_output/curated_combined_df_1/RF_ecfp_scaffold_regression/68d684d0-ca94-4e07-b54b-f65ad621e3e2/model_metadata.json\n",
            "2021-04-06 03:14:42,002 Wrote model metrics to file ampl_output/curated_combined_df_1/RF_ecfp_scaffold_regression/68d684d0-ca94-4e07-b54b-f65ad621e3e2/model_metrics.json\n"
          ],
          "name": "stderr"
        },
        {
          "output_type": "stream",
          "text": [
            "Wrote model tarball to ampl_output/curated_combined_df_1_model_68d684d0-ca94-4e07-b54b-f65ad621e3e2.tar.gz\n",
            "rf_estimators: 128, rf_max_depth: 32, rf_max_features: 32, valid_r2: 0.07830640961763535\n",
            "number of features: 1024\n"
          ],
          "name": "stdout"
        },
        {
          "output_type": "stream",
          "text": [
            "2021-04-06 03:15:19,576 Previous dataset split restored\n"
          ],
          "name": "stderr"
        },
        {
          "output_type": "stream",
          "text": [
            "n_cnt [7647.]\n",
            "y_means [5.29077697]\n",
            "y_stds [0.71495872]\n",
            "TIMING: dataset construction took 0.337 s\n",
            "Loading dataset from disk.\n",
            "TIMING: dataset construction took 0.050 s\n",
            "Loading dataset from disk.\n",
            "TIMING: dataset construction took 0.053 s\n",
            "Loading dataset from disk.\n"
          ],
          "name": "stdout"
        },
        {
          "output_type": "stream",
          "text": [
            "2021-04-06 03:15:27,435 Wrote model metadata to file ampl_output/curated_combined_df_1/RF_ecfp_scaffold_regression/9a7c0a0d-49da-45c3-b76a-88680352ed24/model_metadata.json\n",
            "2021-04-06 03:15:27,813 Wrote model metrics to file ampl_output/curated_combined_df_1/RF_ecfp_scaffold_regression/9a7c0a0d-49da-45c3-b76a-88680352ed24/model_metrics.json\n"
          ],
          "name": "stderr"
        },
        {
          "output_type": "stream",
          "text": [
            "Wrote model tarball to ampl_output/curated_combined_df_1_model_9a7c0a0d-49da-45c3-b76a-88680352ed24.tar.gz\n",
            "rf_estimators: 128, rf_max_depth: 32, rf_max_features: 64, valid_r2: 0.07918525807228227\n",
            "number of features: 1024\n"
          ],
          "name": "stdout"
        },
        {
          "output_type": "stream",
          "text": [
            "2021-04-06 03:16:06,722 Previous dataset split restored\n"
          ],
          "name": "stderr"
        },
        {
          "output_type": "stream",
          "text": [
            "n_cnt [7647.]\n",
            "y_means [5.29077697]\n",
            "y_stds [0.71495872]\n",
            "TIMING: dataset construction took 0.339 s\n",
            "Loading dataset from disk.\n",
            "TIMING: dataset construction took 0.052 s\n",
            "Loading dataset from disk.\n",
            "TIMING: dataset construction took 0.052 s\n",
            "Loading dataset from disk.\n"
          ],
          "name": "stdout"
        },
        {
          "output_type": "stream",
          "text": [
            "2021-04-06 03:16:18,147 Wrote model metadata to file ampl_output/curated_combined_df_1/RF_ecfp_scaffold_regression/de44639e-ad52-4e33-bbb7-27958c2f3ed4/model_metadata.json\n",
            "2021-04-06 03:16:18,511 Wrote model metrics to file ampl_output/curated_combined_df_1/RF_ecfp_scaffold_regression/de44639e-ad52-4e33-bbb7-27958c2f3ed4/model_metrics.json\n"
          ],
          "name": "stderr"
        },
        {
          "output_type": "stream",
          "text": [
            "Wrote model tarball to ampl_output/curated_combined_df_1_model_de44639e-ad52-4e33-bbb7-27958c2f3ed4.tar.gz\n",
            "rf_estimators: 128, rf_max_depth: 32, rf_max_features: 128, valid_r2: 0.08093159107365999\n",
            "number of features: 1024\n"
          ],
          "name": "stdout"
        },
        {
          "output_type": "stream",
          "text": [
            "2021-04-06 03:16:55,949 Previous dataset split restored\n"
          ],
          "name": "stderr"
        },
        {
          "output_type": "stream",
          "text": [
            "n_cnt [7647.]\n",
            "y_means [5.29077697]\n",
            "y_stds [0.71495872]\n",
            "TIMING: dataset construction took 0.343 s\n",
            "Loading dataset from disk.\n",
            "TIMING: dataset construction took 0.051 s\n",
            "Loading dataset from disk.\n",
            "TIMING: dataset construction took 0.051 s\n",
            "Loading dataset from disk.\n"
          ],
          "name": "stdout"
        },
        {
          "output_type": "stream",
          "text": [
            "2021-04-06 03:17:01,798 Wrote model metadata to file ampl_output/curated_combined_df_1/RF_ecfp_scaffold_regression/5313deb7-bfc5-4177-8fb7-d0d876af01b7/model_metadata.json\n",
            "2021-04-06 03:17:02,426 Wrote model metrics to file ampl_output/curated_combined_df_1/RF_ecfp_scaffold_regression/5313deb7-bfc5-4177-8fb7-d0d876af01b7/model_metrics.json\n"
          ],
          "name": "stderr"
        },
        {
          "output_type": "stream",
          "text": [
            "Wrote model tarball to ampl_output/curated_combined_df_1_model_5313deb7-bfc5-4177-8fb7-d0d876af01b7.tar.gz\n",
            "rf_estimators: 128, rf_max_depth: 64, rf_max_features: 16, valid_r2: 0.07482392849357566\n",
            "number of features: 1024\n"
          ],
          "name": "stdout"
        },
        {
          "output_type": "stream",
          "text": [
            "2021-04-06 03:17:39,937 Previous dataset split restored\n"
          ],
          "name": "stderr"
        },
        {
          "output_type": "stream",
          "text": [
            "n_cnt [7647.]\n",
            "y_means [5.29077697]\n",
            "y_stds [0.71495872]\n",
            "TIMING: dataset construction took 0.338 s\n",
            "Loading dataset from disk.\n",
            "TIMING: dataset construction took 0.050 s\n",
            "Loading dataset from disk.\n",
            "TIMING: dataset construction took 0.052 s\n",
            "Loading dataset from disk.\n"
          ],
          "name": "stdout"
        },
        {
          "output_type": "stream",
          "text": [
            "2021-04-06 03:17:46,878 Wrote model metadata to file ampl_output/curated_combined_df_1/RF_ecfp_scaffold_regression/1ecb2fbc-ce6c-4a6f-817a-1c34dedb8b46/model_metadata.json\n",
            "2021-04-06 03:17:47,499 Wrote model metrics to file ampl_output/curated_combined_df_1/RF_ecfp_scaffold_regression/1ecb2fbc-ce6c-4a6f-817a-1c34dedb8b46/model_metrics.json\n"
          ],
          "name": "stderr"
        },
        {
          "output_type": "stream",
          "text": [
            "Wrote model tarball to ampl_output/curated_combined_df_1_model_1ecb2fbc-ce6c-4a6f-817a-1c34dedb8b46.tar.gz\n",
            "rf_estimators: 128, rf_max_depth: 64, rf_max_features: 32, valid_r2: 0.07423768587762869\n",
            "number of features: 1024\n"
          ],
          "name": "stdout"
        },
        {
          "output_type": "stream",
          "text": [
            "2021-04-06 03:18:25,132 Previous dataset split restored\n"
          ],
          "name": "stderr"
        },
        {
          "output_type": "stream",
          "text": [
            "n_cnt [7647.]\n",
            "y_means [5.29077697]\n",
            "y_stds [0.71495872]\n",
            "TIMING: dataset construction took 0.342 s\n",
            "Loading dataset from disk.\n",
            "TIMING: dataset construction took 0.048 s\n",
            "Loading dataset from disk.\n",
            "TIMING: dataset construction took 0.050 s\n",
            "Loading dataset from disk.\n"
          ],
          "name": "stdout"
        },
        {
          "output_type": "stream",
          "text": [
            "2021-04-06 03:18:34,185 Wrote model metadata to file ampl_output/curated_combined_df_1/RF_ecfp_scaffold_regression/6214de4d-2db8-4d85-8983-a2fe7d105275/model_metadata.json\n",
            "2021-04-06 03:18:34,810 Wrote model metrics to file ampl_output/curated_combined_df_1/RF_ecfp_scaffold_regression/6214de4d-2db8-4d85-8983-a2fe7d105275/model_metrics.json\n"
          ],
          "name": "stderr"
        },
        {
          "output_type": "stream",
          "text": [
            "Wrote model tarball to ampl_output/curated_combined_df_1_model_6214de4d-2db8-4d85-8983-a2fe7d105275.tar.gz\n",
            "rf_estimators: 128, rf_max_depth: 64, rf_max_features: 64, valid_r2: 0.07865024908506912\n",
            "number of features: 1024\n"
          ],
          "name": "stdout"
        },
        {
          "output_type": "stream",
          "text": [
            "2021-04-06 03:19:12,394 Previous dataset split restored\n"
          ],
          "name": "stderr"
        },
        {
          "output_type": "stream",
          "text": [
            "n_cnt [7647.]\n",
            "y_means [5.29077697]\n",
            "y_stds [0.71495872]\n",
            "TIMING: dataset construction took 0.340 s\n",
            "Loading dataset from disk.\n",
            "TIMING: dataset construction took 0.049 s\n",
            "Loading dataset from disk.\n",
            "TIMING: dataset construction took 0.052 s\n",
            "Loading dataset from disk.\n"
          ],
          "name": "stdout"
        },
        {
          "output_type": "stream",
          "text": [
            "2021-04-06 03:19:25,409 Wrote model metadata to file ampl_output/curated_combined_df_1/RF_ecfp_scaffold_regression/7f932dc6-b87e-4e74-8202-c0b7b6e7d9cb/model_metadata.json\n",
            "2021-04-06 03:19:26,016 Wrote model metrics to file ampl_output/curated_combined_df_1/RF_ecfp_scaffold_regression/7f932dc6-b87e-4e74-8202-c0b7b6e7d9cb/model_metrics.json\n"
          ],
          "name": "stderr"
        },
        {
          "output_type": "stream",
          "text": [
            "Wrote model tarball to ampl_output/curated_combined_df_1_model_7f932dc6-b87e-4e74-8202-c0b7b6e7d9cb.tar.gz\n",
            "rf_estimators: 128, rf_max_depth: 64, rf_max_features: 128, valid_r2: 0.08172422525379941\n",
            "number of features: 1024\n"
          ],
          "name": "stdout"
        },
        {
          "output_type": "stream",
          "text": [
            "2021-04-06 03:20:03,535 Previous dataset split restored\n"
          ],
          "name": "stderr"
        },
        {
          "output_type": "stream",
          "text": [
            "n_cnt [7647.]\n",
            "y_means [5.29077697]\n",
            "y_stds [0.71495872]\n",
            "TIMING: dataset construction took 0.344 s\n",
            "Loading dataset from disk.\n",
            "TIMING: dataset construction took 0.048 s\n",
            "Loading dataset from disk.\n",
            "TIMING: dataset construction took 0.053 s\n",
            "Loading dataset from disk.\n"
          ],
          "name": "stdout"
        },
        {
          "output_type": "stream",
          "text": [
            "2021-04-06 03:20:09,602 Wrote model metadata to file ampl_output/curated_combined_df_1/RF_ecfp_scaffold_regression/452647e5-3c00-4981-a428-3d9765019bd8/model_metadata.json\n",
            "2021-04-06 03:20:10,308 Wrote model metrics to file ampl_output/curated_combined_df_1/RF_ecfp_scaffold_regression/452647e5-3c00-4981-a428-3d9765019bd8/model_metrics.json\n"
          ],
          "name": "stderr"
        },
        {
          "output_type": "stream",
          "text": [
            "Wrote model tarball to ampl_output/curated_combined_df_1_model_452647e5-3c00-4981-a428-3d9765019bd8.tar.gz\n",
            "rf_estimators: 128, rf_max_depth: 128, rf_max_features: 16, valid_r2: 0.07722287144745477\n",
            "number of features: 1024\n"
          ],
          "name": "stdout"
        },
        {
          "output_type": "stream",
          "text": [
            "2021-04-06 03:20:47,861 Previous dataset split restored\n"
          ],
          "name": "stderr"
        },
        {
          "output_type": "stream",
          "text": [
            "n_cnt [7647.]\n",
            "y_means [5.29077697]\n",
            "y_stds [0.71495872]\n",
            "TIMING: dataset construction took 0.337 s\n",
            "Loading dataset from disk.\n",
            "TIMING: dataset construction took 0.049 s\n",
            "Loading dataset from disk.\n",
            "TIMING: dataset construction took 0.052 s\n",
            "Loading dataset from disk.\n"
          ],
          "name": "stdout"
        },
        {
          "output_type": "stream",
          "text": [
            "2021-04-06 03:20:54,988 Wrote model metadata to file ampl_output/curated_combined_df_1/RF_ecfp_scaffold_regression/11bdf70d-00c5-4215-9b2a-ea59b7737f2d/model_metadata.json\n",
            "2021-04-06 03:20:55,667 Wrote model metrics to file ampl_output/curated_combined_df_1/RF_ecfp_scaffold_regression/11bdf70d-00c5-4215-9b2a-ea59b7737f2d/model_metrics.json\n"
          ],
          "name": "stderr"
        },
        {
          "output_type": "stream",
          "text": [
            "Wrote model tarball to ampl_output/curated_combined_df_1_model_11bdf70d-00c5-4215-9b2a-ea59b7737f2d.tar.gz\n",
            "rf_estimators: 128, rf_max_depth: 128, rf_max_features: 32, valid_r2: 0.0848843964099788\n",
            "number of features: 1024\n"
          ],
          "name": "stdout"
        },
        {
          "output_type": "stream",
          "text": [
            "2021-04-06 03:21:32,960 Previous dataset split restored\n"
          ],
          "name": "stderr"
        },
        {
          "output_type": "stream",
          "text": [
            "n_cnt [7647.]\n",
            "y_means [5.29077697]\n",
            "y_stds [0.71495872]\n",
            "TIMING: dataset construction took 0.336 s\n",
            "Loading dataset from disk.\n",
            "TIMING: dataset construction took 0.048 s\n",
            "Loading dataset from disk.\n",
            "TIMING: dataset construction took 0.051 s\n",
            "Loading dataset from disk.\n"
          ],
          "name": "stdout"
        },
        {
          "output_type": "stream",
          "text": [
            "2021-04-06 03:21:42,165 Wrote model metadata to file ampl_output/curated_combined_df_1/RF_ecfp_scaffold_regression/853f8cb4-572c-4cd6-ba7f-b45a09728f5e/model_metadata.json\n",
            "2021-04-06 03:21:42,844 Wrote model metrics to file ampl_output/curated_combined_df_1/RF_ecfp_scaffold_regression/853f8cb4-572c-4cd6-ba7f-b45a09728f5e/model_metrics.json\n"
          ],
          "name": "stderr"
        },
        {
          "output_type": "stream",
          "text": [
            "Wrote model tarball to ampl_output/curated_combined_df_1_model_853f8cb4-572c-4cd6-ba7f-b45a09728f5e.tar.gz\n",
            "rf_estimators: 128, rf_max_depth: 128, rf_max_features: 64, valid_r2: 0.07996194541191326\n",
            "number of features: 1024\n"
          ],
          "name": "stdout"
        },
        {
          "output_type": "stream",
          "text": [
            "2021-04-06 03:22:20,476 Previous dataset split restored\n"
          ],
          "name": "stderr"
        },
        {
          "output_type": "stream",
          "text": [
            "n_cnt [7647.]\n",
            "y_means [5.29077697]\n",
            "y_stds [0.71495872]\n",
            "TIMING: dataset construction took 0.339 s\n",
            "Loading dataset from disk.\n",
            "TIMING: dataset construction took 0.049 s\n",
            "Loading dataset from disk.\n",
            "TIMING: dataset construction took 0.049 s\n",
            "Loading dataset from disk.\n"
          ],
          "name": "stdout"
        },
        {
          "output_type": "stream",
          "text": [
            "2021-04-06 03:22:34,083 Wrote model metadata to file ampl_output/curated_combined_df_1/RF_ecfp_scaffold_regression/98260e53-fea6-4074-8f23-16f0e27ff849/model_metadata.json\n",
            "2021-04-06 03:22:34,732 Wrote model metrics to file ampl_output/curated_combined_df_1/RF_ecfp_scaffold_regression/98260e53-fea6-4074-8f23-16f0e27ff849/model_metrics.json\n"
          ],
          "name": "stderr"
        },
        {
          "output_type": "stream",
          "text": [
            "Wrote model tarball to ampl_output/curated_combined_df_1_model_98260e53-fea6-4074-8f23-16f0e27ff849.tar.gz\n",
            "rf_estimators: 128, rf_max_depth: 128, rf_max_features: 128, valid_r2: 0.07932794445902613\n"
          ],
          "name": "stdout"
        }
      ]
    },
    {
      "cell_type": "code",
      "metadata": {
        "id": "XSDa2HTH6wbD",
        "colab": {
          "base_uri": "https://localhost:8080/",
          "height": 419
        },
        "outputId": "436b0eda-cc7f-41f1-df86-238879bac391"
      },
      "source": [
        "perf_df = pd.DataFrame({\"rf_estimators\": rfe_list, \"rf_max_depth\": rfd_list, \"rf_max_features\": rff_list, \"valid_r2_score\": valid_r2_list})\n",
        "perf_df.sort_values(by=\"valid_r2_score\", ascending=False)"
      ],
      "execution_count": 84,
      "outputs": [
        {
          "output_type": "execute_result",
          "data": {
            "text/html": [
              "<div>\n",
              "<style scoped>\n",
              "    .dataframe tbody tr th:only-of-type {\n",
              "        vertical-align: middle;\n",
              "    }\n",
              "\n",
              "    .dataframe tbody tr th {\n",
              "        vertical-align: top;\n",
              "    }\n",
              "\n",
              "    .dataframe thead th {\n",
              "        text-align: right;\n",
              "    }\n",
              "</style>\n",
              "<table border=\"1\" class=\"dataframe\">\n",
              "  <thead>\n",
              "    <tr style=\"text-align: right;\">\n",
              "      <th></th>\n",
              "      <th>rf_estimators</th>\n",
              "      <th>rf_max_depth</th>\n",
              "      <th>rf_max_features</th>\n",
              "      <th>valid_r2_score</th>\n",
              "    </tr>\n",
              "  </thead>\n",
              "  <tbody>\n",
              "    <tr>\n",
              "      <th>37</th>\n",
              "      <td>64</td>\n",
              "      <td>32</td>\n",
              "      <td>32</td>\n",
              "      <td>0.093910</td>\n",
              "    </tr>\n",
              "    <tr>\n",
              "      <th>45</th>\n",
              "      <td>64</td>\n",
              "      <td>128</td>\n",
              "      <td>32</td>\n",
              "      <td>0.087500</td>\n",
              "    </tr>\n",
              "    <tr>\n",
              "      <th>51</th>\n",
              "      <td>128</td>\n",
              "      <td>16</td>\n",
              "      <td>128</td>\n",
              "      <td>0.086572</td>\n",
              "    </tr>\n",
              "    <tr>\n",
              "      <th>23</th>\n",
              "      <td>32</td>\n",
              "      <td>32</td>\n",
              "      <td>128</td>\n",
              "      <td>0.086559</td>\n",
              "    </tr>\n",
              "    <tr>\n",
              "      <th>52</th>\n",
              "      <td>128</td>\n",
              "      <td>32</td>\n",
              "      <td>16</td>\n",
              "      <td>0.085304</td>\n",
              "    </tr>\n",
              "    <tr>\n",
              "      <th>...</th>\n",
              "      <td>...</td>\n",
              "      <td>...</td>\n",
              "      <td>...</td>\n",
              "      <td>...</td>\n",
              "    </tr>\n",
              "    <tr>\n",
              "      <th>13</th>\n",
              "      <td>16</td>\n",
              "      <td>128</td>\n",
              "      <td>32</td>\n",
              "      <td>0.044608</td>\n",
              "    </tr>\n",
              "    <tr>\n",
              "      <th>29</th>\n",
              "      <td>32</td>\n",
              "      <td>128</td>\n",
              "      <td>32</td>\n",
              "      <td>0.043508</td>\n",
              "    </tr>\n",
              "    <tr>\n",
              "      <th>6</th>\n",
              "      <td>16</td>\n",
              "      <td>32</td>\n",
              "      <td>64</td>\n",
              "      <td>0.043240</td>\n",
              "    </tr>\n",
              "    <tr>\n",
              "      <th>12</th>\n",
              "      <td>16</td>\n",
              "      <td>128</td>\n",
              "      <td>16</td>\n",
              "      <td>0.043097</td>\n",
              "    </tr>\n",
              "    <tr>\n",
              "      <th>15</th>\n",
              "      <td>16</td>\n",
              "      <td>128</td>\n",
              "      <td>128</td>\n",
              "      <td>0.042738</td>\n",
              "    </tr>\n",
              "  </tbody>\n",
              "</table>\n",
              "<p>64 rows × 4 columns</p>\n",
              "</div>"
            ],
            "text/plain": [
              "    rf_estimators  rf_max_depth  rf_max_features  valid_r2_score\n",
              "37             64            32               32        0.093910\n",
              "45             64           128               32        0.087500\n",
              "51            128            16              128        0.086572\n",
              "23             32            32              128        0.086559\n",
              "52            128            32               16        0.085304\n",
              "..            ...           ...              ...             ...\n",
              "13             16           128               32        0.044608\n",
              "29             32           128               32        0.043508\n",
              "6              16            32               64        0.043240\n",
              "12             16           128               16        0.043097\n",
              "15             16           128              128        0.042738\n",
              "\n",
              "[64 rows x 4 columns]"
            ]
          },
          "metadata": {
            "tags": []
          },
          "execution_count": 84
        }
      ]
    },
    {
      "cell_type": "code",
      "metadata": {
        "id": "9bVXltSu6z0f",
        "colab": {
          "base_uri": "https://localhost:8080/",
          "height": 358
        },
        "outputId": "f7f19bd4-4e9e-44fb-c459-18dbd2551cd1"
      },
      "source": [
        "fig, ax = plt.subplots(1,3,figsize=(21,7))\n",
        "sns.boxplot(data=perf_df, x=\"rf_estimators\", y=\"valid_r2_score\", ax=ax[0])\n",
        "sns.boxplot(data=perf_df, x=\"rf_max_depth\", y=\"valid_r2_score\", ax=ax[1])\n",
        "sns.boxplot(data=perf_df, x=\"rf_max_features\", y=\"valid_r2_score\", ax=ax[2])\n",
        "fig.tight_layout()"
      ],
      "execution_count": 85,
      "outputs": [
        {
          "output_type": "display_data",
          "data": {
            "image/png": "[encoded data removed]",
            "text/plain": [
              "<Figure size 1512x504 with 3 Axes>"
            ]
          },
          "metadata": {
            "tags": []
          }
        }
      ]
    },
    {
      "cell_type": "markdown",
      "metadata": {
        "id": "qpAq__JA61wy"
      },
      "source": [
        "### Random search"
      ]
    },
    {
      "cell_type": "code",
      "metadata": {
        "id": "LMNkU4rs648c",
        "colab": {
          "base_uri": "https://localhost:8080/"
        },
        "outputId": "1cc01ef8-361e-4cb6-8799-89f17c1c008e"
      },
      "source": [
        "rfe_list = []\n",
        "rfd_list = []\n",
        "rff_list = []\n",
        "valid_r2_list = []\n",
        "\n",
        "num_trials = 50\n",
        "\n",
        "for i in range(num_trials):\n",
        "    params[\"rf_estimators\"] = np.random.randint(8,256)\n",
        "    params[\"rf_max_depth\"] = np.random.randint(8,256)\n",
        "    params[\"rf_max_features\"] = np.random.randint(8,256)\n",
        "    rfe_list.append(params[\"rf_estimators\"])\n",
        "    rfd_list.append(params[\"rf_max_depth\"])\n",
        "    rff_list.append(params[\"rf_max_features\"])\n",
        "    tp = parse.wrapper(params)\n",
        "    pl = mp.ModelPipeline(tp)\n",
        "    pl.train_model()\n",
        "    pred_data = pl.model_wrapper.get_perf_data(subset=\"valid\", epoch_label=\"best\")\n",
        "    pred_results = pred_data.get_prediction_results()\n",
        "    valid_r2 = pred_results['r2_score']\n",
        "    valid_r2_list.append(valid_r2)\n",
        "    print(f\"rf_estimators: {rf_estimator}, rf_max_depth: {rf_depth}, rf_max_features: {rf_feature}, valid_r2: {valid_r2}\")"
      ],
      "execution_count": 86,
      "outputs": [
        {
          "output_type": "stream",
          "text": [
            "number of features: 1024\n"
          ],
          "name": "stdout"
        },
        {
          "output_type": "stream",
          "text": [
            "2021-04-06 03:23:30,101 Previous dataset split restored\n"
          ],
          "name": "stderr"
        },
        {
          "output_type": "stream",
          "text": [
            "n_cnt [7647.]\n",
            "y_means [5.29077697]\n",
            "y_stds [0.71495872]\n",
            "TIMING: dataset construction took 0.335 s\n",
            "Loading dataset from disk.\n",
            "TIMING: dataset construction took 0.051 s\n",
            "Loading dataset from disk.\n",
            "TIMING: dataset construction took 0.051 s\n",
            "Loading dataset from disk.\n"
          ],
          "name": "stdout"
        },
        {
          "output_type": "stream",
          "text": [
            "2021-04-06 03:23:39,380 Wrote model metadata to file ampl_output/curated_combined_df_1/RF_ecfp_scaffold_regression/adeb32de-85a5-45a6-8d96-8619a99b1c0b/model_metadata.json\n",
            "2021-04-06 03:23:39,670 Wrote model metrics to file ampl_output/curated_combined_df_1/RF_ecfp_scaffold_regression/adeb32de-85a5-45a6-8d96-8619a99b1c0b/model_metrics.json\n"
          ],
          "name": "stderr"
        },
        {
          "output_type": "stream",
          "text": [
            "Wrote model tarball to ampl_output/curated_combined_df_1_model_adeb32de-85a5-45a6-8d96-8619a99b1c0b.tar.gz\n",
            "rf_estimators: 128, rf_max_depth: 128, rf_max_features: 128, valid_r2: 0.08548881774674755\n",
            "number of features: 1024\n"
          ],
          "name": "stdout"
        },
        {
          "output_type": "stream",
          "text": [
            "2021-04-06 03:24:17,845 Previous dataset split restored\n"
          ],
          "name": "stderr"
        },
        {
          "output_type": "stream",
          "text": [
            "n_cnt [7647.]\n",
            "y_means [5.29077697]\n",
            "y_stds [0.71495872]\n",
            "TIMING: dataset construction took 0.344 s\n",
            "Loading dataset from disk.\n",
            "TIMING: dataset construction took 0.048 s\n",
            "Loading dataset from disk.\n",
            "TIMING: dataset construction took 0.051 s\n",
            "Loading dataset from disk.\n"
          ],
          "name": "stdout"
        },
        {
          "output_type": "stream",
          "text": [
            "2021-04-06 03:24:24,218 Wrote model metadata to file ampl_output/curated_combined_df_1/RF_ecfp_scaffold_regression/2c9239e9-6d65-4d43-9018-088a852d706d/model_metadata.json\n",
            "2021-04-06 03:24:24,452 Wrote model metrics to file ampl_output/curated_combined_df_1/RF_ecfp_scaffold_regression/2c9239e9-6d65-4d43-9018-088a852d706d/model_metrics.json\n"
          ],
          "name": "stderr"
        },
        {
          "output_type": "stream",
          "text": [
            "Wrote model tarball to ampl_output/curated_combined_df_1_model_2c9239e9-6d65-4d43-9018-088a852d706d.tar.gz\n",
            "rf_estimators: 128, rf_max_depth: 128, rf_max_features: 128, valid_r2: 0.05693775311302296\n",
            "number of features: 1024\n"
          ],
          "name": "stdout"
        },
        {
          "output_type": "stream",
          "text": [
            "2021-04-06 03:25:02,060 Previous dataset split restored\n"
          ],
          "name": "stderr"
        },
        {
          "output_type": "stream",
          "text": [
            "n_cnt [7647.]\n",
            "y_means [5.29077697]\n",
            "y_stds [0.71495872]\n",
            "TIMING: dataset construction took 0.341 s\n",
            "Loading dataset from disk.\n",
            "TIMING: dataset construction took 0.049 s\n",
            "Loading dataset from disk.\n",
            "TIMING: dataset construction took 0.051 s\n",
            "Loading dataset from disk.\n"
          ],
          "name": "stdout"
        },
        {
          "output_type": "stream",
          "text": [
            "2021-04-06 03:25:40,367 Wrote model metadata to file ampl_output/curated_combined_df_1/RF_ecfp_scaffold_regression/6b41008e-1920-45b1-aa49-8d91fc6cef8a/model_metadata.json\n",
            "2021-04-06 03:25:41,559 Wrote model metrics to file ampl_output/curated_combined_df_1/RF_ecfp_scaffold_regression/6b41008e-1920-45b1-aa49-8d91fc6cef8a/model_metrics.json\n"
          ],
          "name": "stderr"
        },
        {
          "output_type": "stream",
          "text": [
            "Wrote model tarball to ampl_output/curated_combined_df_1_model_6b41008e-1920-45b1-aa49-8d91fc6cef8a.tar.gz\n",
            "rf_estimators: 128, rf_max_depth: 128, rf_max_features: 128, valid_r2: 0.07466709634607194\n",
            "number of features: 1024\n"
          ],
          "name": "stdout"
        },
        {
          "output_type": "stream",
          "text": [
            "2021-04-06 03:26:19,182 Previous dataset split restored\n"
          ],
          "name": "stderr"
        },
        {
          "output_type": "stream",
          "text": [
            "n_cnt [7647.]\n",
            "y_means [5.29077697]\n",
            "y_stds [0.71495872]\n",
            "TIMING: dataset construction took 0.347 s\n",
            "Loading dataset from disk.\n",
            "TIMING: dataset construction took 0.053 s\n",
            "Loading dataset from disk.\n",
            "TIMING: dataset construction took 0.051 s\n",
            "Loading dataset from disk.\n"
          ],
          "name": "stdout"
        },
        {
          "output_type": "stream",
          "text": [
            "2021-04-06 03:26:47,681 Wrote model metadata to file ampl_output/curated_combined_df_1/RF_ecfp_scaffold_regression/b7fee9df-6fa4-47a4-9342-cb0cd0502844/model_metadata.json\n",
            "2021-04-06 03:26:48,505 Wrote model metrics to file ampl_output/curated_combined_df_1/RF_ecfp_scaffold_regression/b7fee9df-6fa4-47a4-9342-cb0cd0502844/model_metrics.json\n"
          ],
          "name": "stderr"
        },
        {
          "output_type": "stream",
          "text": [
            "Wrote model tarball to ampl_output/curated_combined_df_1_model_b7fee9df-6fa4-47a4-9342-cb0cd0502844.tar.gz\n",
            "rf_estimators: 128, rf_max_depth: 128, rf_max_features: 128, valid_r2: 0.08191384693739823\n",
            "number of features: 1024\n"
          ],
          "name": "stdout"
        },
        {
          "output_type": "stream",
          "text": [
            "2021-04-06 03:27:26,532 Previous dataset split restored\n"
          ],
          "name": "stderr"
        },
        {
          "output_type": "stream",
          "text": [
            "n_cnt [7647.]\n",
            "y_means [5.29077697]\n",
            "y_stds [0.71495872]\n",
            "TIMING: dataset construction took 0.336 s\n",
            "Loading dataset from disk.\n",
            "TIMING: dataset construction took 0.050 s\n",
            "Loading dataset from disk.\n",
            "TIMING: dataset construction took 0.051 s\n",
            "Loading dataset from disk.\n"
          ],
          "name": "stdout"
        },
        {
          "output_type": "stream",
          "text": [
            "2021-04-06 03:27:34,885 Wrote model metadata to file ampl_output/curated_combined_df_1/RF_ecfp_scaffold_regression/f079ad6c-67b3-45b6-9c1d-ae4a0395190f/model_metadata.json\n",
            "2021-04-06 03:27:35,336 Wrote model metrics to file ampl_output/curated_combined_df_1/RF_ecfp_scaffold_regression/f079ad6c-67b3-45b6-9c1d-ae4a0395190f/model_metrics.json\n"
          ],
          "name": "stderr"
        },
        {
          "output_type": "stream",
          "text": [
            "Wrote model tarball to ampl_output/curated_combined_df_1_model_f079ad6c-67b3-45b6-9c1d-ae4a0395190f.tar.gz\n",
            "rf_estimators: 128, rf_max_depth: 128, rf_max_features: 128, valid_r2: 0.07990582123136114\n",
            "number of features: 1024\n"
          ],
          "name": "stdout"
        },
        {
          "output_type": "stream",
          "text": [
            "2021-04-06 03:28:13,477 Previous dataset split restored\n"
          ],
          "name": "stderr"
        },
        {
          "output_type": "stream",
          "text": [
            "n_cnt [7647.]\n",
            "y_means [5.29077697]\n",
            "y_stds [0.71495872]\n",
            "TIMING: dataset construction took 0.349 s\n",
            "Loading dataset from disk.\n",
            "TIMING: dataset construction took 0.049 s\n",
            "Loading dataset from disk.\n",
            "TIMING: dataset construction took 0.050 s\n",
            "Loading dataset from disk.\n"
          ],
          "name": "stdout"
        },
        {
          "output_type": "stream",
          "text": [
            "2021-04-06 03:28:16,794 Wrote model metadata to file ampl_output/curated_combined_df_1/RF_ecfp_scaffold_regression/0eac6f1b-d932-4ca4-8bcc-9cb5a7b76928/model_metadata.json\n",
            "2021-04-06 03:28:16,810 Wrote model metrics to file ampl_output/curated_combined_df_1/RF_ecfp_scaffold_regression/0eac6f1b-d932-4ca4-8bcc-9cb5a7b76928/model_metrics.json\n"
          ],
          "name": "stderr"
        },
        {
          "output_type": "stream",
          "text": [
            "Wrote model tarball to ampl_output/curated_combined_df_1_model_0eac6f1b-d932-4ca4-8bcc-9cb5a7b76928.tar.gz\n",
            "rf_estimators: 128, rf_max_depth: 128, rf_max_features: 128, valid_r2: 0.030099052290697537\n",
            "number of features: 1024\n"
          ],
          "name": "stdout"
        },
        {
          "output_type": "stream",
          "text": [
            "2021-04-06 03:28:54,976 Previous dataset split restored\n"
          ],
          "name": "stderr"
        },
        {
          "output_type": "stream",
          "text": [
            "n_cnt [7647.]\n",
            "y_means [5.29077697]\n",
            "y_stds [0.71495872]\n",
            "TIMING: dataset construction took 0.340 s\n",
            "Loading dataset from disk.\n",
            "TIMING: dataset construction took 0.051 s\n",
            "Loading dataset from disk.\n",
            "TIMING: dataset construction took 0.051 s\n",
            "Loading dataset from disk.\n"
          ],
          "name": "stdout"
        },
        {
          "output_type": "stream",
          "text": [
            "2021-04-06 03:29:06,080 Wrote model metadata to file ampl_output/curated_combined_df_1/RF_ecfp_scaffold_regression/42de8555-fcb8-43e4-ac5f-d06c9af31971/model_metadata.json\n",
            "2021-04-06 03:29:06,574 Wrote model metrics to file ampl_output/curated_combined_df_1/RF_ecfp_scaffold_regression/42de8555-fcb8-43e4-ac5f-d06c9af31971/model_metrics.json\n"
          ],
          "name": "stderr"
        },
        {
          "output_type": "stream",
          "text": [
            "Wrote model tarball to ampl_output/curated_combined_df_1_model_42de8555-fcb8-43e4-ac5f-d06c9af31971.tar.gz\n",
            "rf_estimators: 128, rf_max_depth: 128, rf_max_features: 128, valid_r2: 0.08478235774748344\n",
            "number of features: 1024\n"
          ],
          "name": "stdout"
        },
        {
          "output_type": "stream",
          "text": [
            "2021-04-06 03:29:44,838 Previous dataset split restored\n"
          ],
          "name": "stderr"
        },
        {
          "output_type": "stream",
          "text": [
            "n_cnt [7647.]\n",
            "y_means [5.29077697]\n",
            "y_stds [0.71495872]\n",
            "TIMING: dataset construction took 0.349 s\n",
            "Loading dataset from disk.\n",
            "TIMING: dataset construction took 0.049 s\n",
            "Loading dataset from disk.\n",
            "TIMING: dataset construction took 0.050 s\n",
            "Loading dataset from disk.\n"
          ],
          "name": "stdout"
        },
        {
          "output_type": "stream",
          "text": [
            "2021-04-06 03:30:25,460 Wrote model metadata to file ampl_output/curated_combined_df_1/RF_ecfp_scaffold_regression/b57f07f2-fb4e-4a01-bf8c-47fc4efffcf5/model_metadata.json\n",
            "2021-04-06 03:30:26,670 Wrote model metrics to file ampl_output/curated_combined_df_1/RF_ecfp_scaffold_regression/b57f07f2-fb4e-4a01-bf8c-47fc4efffcf5/model_metrics.json\n"
          ],
          "name": "stderr"
        },
        {
          "output_type": "stream",
          "text": [
            "Wrote model tarball to ampl_output/curated_combined_df_1_model_b57f07f2-fb4e-4a01-bf8c-47fc4efffcf5.tar.gz\n",
            "rf_estimators: 128, rf_max_depth: 128, rf_max_features: 128, valid_r2: 0.0807600828735564\n",
            "number of features: 1024\n"
          ],
          "name": "stdout"
        },
        {
          "output_type": "stream",
          "text": [
            "2021-04-06 03:31:05,229 Previous dataset split restored\n"
          ],
          "name": "stderr"
        },
        {
          "output_type": "stream",
          "text": [
            "n_cnt [7647.]\n",
            "y_means [5.29077697]\n",
            "y_stds [0.71495872]\n",
            "TIMING: dataset construction took 0.368 s\n",
            "Loading dataset from disk.\n",
            "TIMING: dataset construction took 0.053 s\n",
            "Loading dataset from disk.\n",
            "TIMING: dataset construction took 0.052 s\n",
            "Loading dataset from disk.\n"
          ],
          "name": "stdout"
        },
        {
          "output_type": "stream",
          "text": [
            "2021-04-06 03:31:38,356 Wrote model metadata to file ampl_output/curated_combined_df_1/RF_ecfp_scaffold_regression/ca7b8454-a1c4-4ed1-9254-e01de8b3df17/model_metadata.json\n",
            "2021-04-06 03:31:39,468 Wrote model metrics to file ampl_output/curated_combined_df_1/RF_ecfp_scaffold_regression/ca7b8454-a1c4-4ed1-9254-e01de8b3df17/model_metrics.json\n"
          ],
          "name": "stderr"
        },
        {
          "output_type": "stream",
          "text": [
            "Wrote model tarball to ampl_output/curated_combined_df_1_model_ca7b8454-a1c4-4ed1-9254-e01de8b3df17.tar.gz\n",
            "rf_estimators: 128, rf_max_depth: 128, rf_max_features: 128, valid_r2: 0.08157425560555365\n",
            "number of features: 1024\n"
          ],
          "name": "stdout"
        },
        {
          "output_type": "stream",
          "text": [
            "2021-04-06 03:32:18,026 Previous dataset split restored\n"
          ],
          "name": "stderr"
        },
        {
          "output_type": "stream",
          "text": [
            "n_cnt [7647.]\n",
            "y_means [5.29077697]\n",
            "y_stds [0.71495872]\n",
            "TIMING: dataset construction took 0.356 s\n",
            "Loading dataset from disk.\n",
            "TIMING: dataset construction took 0.049 s\n",
            "Loading dataset from disk.\n",
            "TIMING: dataset construction took 0.053 s\n",
            "Loading dataset from disk.\n"
          ],
          "name": "stdout"
        },
        {
          "output_type": "stream",
          "text": [
            "2021-04-06 03:32:30,045 Wrote model metadata to file ampl_output/curated_combined_df_1/RF_ecfp_scaffold_regression/17b1b038-7d55-409c-955a-c65551bf11aa/model_metadata.json\n",
            "2021-04-06 03:32:30,323 Wrote model metrics to file ampl_output/curated_combined_df_1/RF_ecfp_scaffold_regression/17b1b038-7d55-409c-955a-c65551bf11aa/model_metrics.json\n"
          ],
          "name": "stderr"
        },
        {
          "output_type": "stream",
          "text": [
            "Wrote model tarball to ampl_output/curated_combined_df_1_model_17b1b038-7d55-409c-955a-c65551bf11aa.tar.gz\n",
            "rf_estimators: 128, rf_max_depth: 128, rf_max_features: 128, valid_r2: 0.08572391635943322\n",
            "number of features: 1024\n"
          ],
          "name": "stdout"
        },
        {
          "output_type": "stream",
          "text": [
            "2021-04-06 03:33:08,612 Previous dataset split restored\n"
          ],
          "name": "stderr"
        },
        {
          "output_type": "stream",
          "text": [
            "n_cnt [7647.]\n",
            "y_means [5.29077697]\n",
            "y_stds [0.71495872]\n",
            "TIMING: dataset construction took 0.342 s\n",
            "Loading dataset from disk.\n",
            "TIMING: dataset construction took 0.049 s\n",
            "Loading dataset from disk.\n",
            "TIMING: dataset construction took 0.056 s\n",
            "Loading dataset from disk.\n"
          ],
          "name": "stdout"
        },
        {
          "output_type": "stream",
          "text": [
            "2021-04-06 03:33:16,866 Wrote model metadata to file ampl_output/curated_combined_df_1/RF_ecfp_scaffold_regression/3f2e67dd-8534-48b0-910d-c1673e831987/model_metadata.json\n",
            "2021-04-06 03:33:18,134 Wrote model metrics to file ampl_output/curated_combined_df_1/RF_ecfp_scaffold_regression/3f2e67dd-8534-48b0-910d-c1673e831987/model_metrics.json\n"
          ],
          "name": "stderr"
        },
        {
          "output_type": "stream",
          "text": [
            "Wrote model tarball to ampl_output/curated_combined_df_1_model_3f2e67dd-8534-48b0-910d-c1673e831987.tar.gz\n",
            "rf_estimators: 128, rf_max_depth: 128, rf_max_features: 128, valid_r2: 0.08164813456460662\n",
            "number of features: 1024\n"
          ],
          "name": "stdout"
        },
        {
          "output_type": "stream",
          "text": [
            "2021-04-06 03:33:56,054 Previous dataset split restored\n"
          ],
          "name": "stderr"
        },
        {
          "output_type": "stream",
          "text": [
            "n_cnt [7647.]\n",
            "y_means [5.29077697]\n",
            "y_stds [0.71495872]\n",
            "TIMING: dataset construction took 0.352 s\n",
            "Loading dataset from disk.\n",
            "TIMING: dataset construction took 0.050 s\n",
            "Loading dataset from disk.\n",
            "TIMING: dataset construction took 0.051 s\n",
            "Loading dataset from disk.\n"
          ],
          "name": "stdout"
        },
        {
          "output_type": "stream",
          "text": [
            "2021-04-06 03:34:02,277 Wrote model metadata to file ampl_output/curated_combined_df_1/RF_ecfp_scaffold_regression/dc61f88f-68de-440d-baab-3cf3ea5b29f5/model_metadata.json\n",
            "2021-04-06 03:34:02,557 Wrote model metrics to file ampl_output/curated_combined_df_1/RF_ecfp_scaffold_regression/dc61f88f-68de-440d-baab-3cf3ea5b29f5/model_metrics.json\n"
          ],
          "name": "stderr"
        },
        {
          "output_type": "stream",
          "text": [
            "Wrote model tarball to ampl_output/curated_combined_df_1_model_dc61f88f-68de-440d-baab-3cf3ea5b29f5.tar.gz\n",
            "rf_estimators: 128, rf_max_depth: 128, rf_max_features: 128, valid_r2: 0.09246139143875876\n",
            "number of features: 1024\n"
          ],
          "name": "stdout"
        },
        {
          "output_type": "stream",
          "text": [
            "2021-04-06 03:34:40,596 Previous dataset split restored\n"
          ],
          "name": "stderr"
        },
        {
          "output_type": "stream",
          "text": [
            "n_cnt [7647.]\n",
            "y_means [5.29077697]\n",
            "y_stds [0.71495872]\n",
            "TIMING: dataset construction took 0.350 s\n",
            "Loading dataset from disk.\n",
            "TIMING: dataset construction took 0.050 s\n",
            "Loading dataset from disk.\n",
            "TIMING: dataset construction took 0.052 s\n",
            "Loading dataset from disk.\n"
          ],
          "name": "stdout"
        },
        {
          "output_type": "stream",
          "text": [
            "2021-04-06 03:34:48,677 Wrote model metadata to file ampl_output/curated_combined_df_1/RF_ecfp_scaffold_regression/16594982-7eda-4be5-9532-e340205f664d/model_metadata.json\n",
            "2021-04-06 03:34:49,740 Wrote model metrics to file ampl_output/curated_combined_df_1/RF_ecfp_scaffold_regression/16594982-7eda-4be5-9532-e340205f664d/model_metrics.json\n"
          ],
          "name": "stderr"
        },
        {
          "output_type": "stream",
          "text": [
            "Wrote model tarball to ampl_output/curated_combined_df_1_model_16594982-7eda-4be5-9532-e340205f664d.tar.gz\n",
            "rf_estimators: 128, rf_max_depth: 128, rf_max_features: 128, valid_r2: 0.0787532770486562\n",
            "number of features: 1024\n"
          ],
          "name": "stdout"
        },
        {
          "output_type": "stream",
          "text": [
            "2021-04-06 03:35:33,738 Previous dataset split restored\n"
          ],
          "name": "stderr"
        },
        {
          "output_type": "stream",
          "text": [
            "n_cnt [7647.]\n",
            "y_means [5.29077697]\n",
            "y_stds [0.71495872]\n",
            "TIMING: dataset construction took 0.332 s\n",
            "Loading dataset from disk.\n",
            "TIMING: dataset construction took 0.049 s\n",
            "Loading dataset from disk.\n",
            "TIMING: dataset construction took 0.054 s\n",
            "Loading dataset from disk.\n"
          ],
          "name": "stdout"
        },
        {
          "output_type": "stream",
          "text": [
            "2021-04-06 03:35:56,289 Wrote model metadata to file ampl_output/curated_combined_df_1/RF_ecfp_scaffold_regression/b2d18f4a-2cc7-4410-a5fa-75e47f9026e5/model_metadata.json\n",
            "2021-04-06 03:35:57,446 Wrote model metrics to file ampl_output/curated_combined_df_1/RF_ecfp_scaffold_regression/b2d18f4a-2cc7-4410-a5fa-75e47f9026e5/model_metrics.json\n"
          ],
          "name": "stderr"
        },
        {
          "output_type": "stream",
          "text": [
            "Wrote model tarball to ampl_output/curated_combined_df_1_model_b2d18f4a-2cc7-4410-a5fa-75e47f9026e5.tar.gz\n",
            "rf_estimators: 128, rf_max_depth: 128, rf_max_features: 128, valid_r2: 0.0791179147229032\n",
            "number of features: 1024\n"
          ],
          "name": "stdout"
        },
        {
          "output_type": "stream",
          "text": [
            "2021-04-06 03:36:35,449 Previous dataset split restored\n"
          ],
          "name": "stderr"
        },
        {
          "output_type": "stream",
          "text": [
            "n_cnt [7647.]\n",
            "y_means [5.29077697]\n",
            "y_stds [0.71495872]\n",
            "TIMING: dataset construction took 0.347 s\n",
            "Loading dataset from disk.\n",
            "TIMING: dataset construction took 0.049 s\n",
            "Loading dataset from disk.\n",
            "TIMING: dataset construction took 0.049 s\n",
            "Loading dataset from disk.\n"
          ],
          "name": "stdout"
        },
        {
          "output_type": "stream",
          "text": [
            "2021-04-06 03:36:46,112 Wrote model metadata to file ampl_output/curated_combined_df_1/RF_ecfp_scaffold_regression/fa04a697-c4ae-402c-95b2-9f1c2e3f1acb/model_metadata.json\n",
            "2021-04-06 03:36:46,385 Wrote model metrics to file ampl_output/curated_combined_df_1/RF_ecfp_scaffold_regression/fa04a697-c4ae-402c-95b2-9f1c2e3f1acb/model_metrics.json\n"
          ],
          "name": "stderr"
        },
        {
          "output_type": "stream",
          "text": [
            "Wrote model tarball to ampl_output/curated_combined_df_1_model_fa04a697-c4ae-402c-95b2-9f1c2e3f1acb.tar.gz\n",
            "rf_estimators: 128, rf_max_depth: 128, rf_max_features: 128, valid_r2: 0.07844221149855934\n",
            "number of features: 1024\n"
          ],
          "name": "stdout"
        },
        {
          "output_type": "stream",
          "text": [
            "2021-04-06 03:37:24,186 Previous dataset split restored\n"
          ],
          "name": "stderr"
        },
        {
          "output_type": "stream",
          "text": [
            "n_cnt [7647.]\n",
            "y_means [5.29077697]\n",
            "y_stds [0.71495872]\n",
            "TIMING: dataset construction took 0.341 s\n",
            "Loading dataset from disk.\n",
            "TIMING: dataset construction took 0.050 s\n",
            "Loading dataset from disk.\n",
            "TIMING: dataset construction took 0.051 s\n",
            "Loading dataset from disk.\n"
          ],
          "name": "stdout"
        },
        {
          "output_type": "stream",
          "text": [
            "2021-04-06 03:37:32,233 Wrote model metadata to file ampl_output/curated_combined_df_1/RF_ecfp_scaffold_regression/1361587e-3ba4-4022-b098-b4c503145b11/model_metadata.json\n",
            "2021-04-06 03:37:32,698 Wrote model metrics to file ampl_output/curated_combined_df_1/RF_ecfp_scaffold_regression/1361587e-3ba4-4022-b098-b4c503145b11/model_metrics.json\n"
          ],
          "name": "stderr"
        },
        {
          "output_type": "stream",
          "text": [
            "Wrote model tarball to ampl_output/curated_combined_df_1_model_1361587e-3ba4-4022-b098-b4c503145b11.tar.gz\n",
            "rf_estimators: 128, rf_max_depth: 128, rf_max_features: 128, valid_r2: 0.0813139873680685\n",
            "number of features: 1024\n"
          ],
          "name": "stdout"
        },
        {
          "output_type": "stream",
          "text": [
            "2021-04-06 03:38:10,517 Previous dataset split restored\n"
          ],
          "name": "stderr"
        },
        {
          "output_type": "stream",
          "text": [
            "n_cnt [7647.]\n",
            "y_means [5.29077697]\n",
            "y_stds [0.71495872]\n",
            "TIMING: dataset construction took 0.339 s\n",
            "Loading dataset from disk.\n",
            "TIMING: dataset construction took 0.049 s\n",
            "Loading dataset from disk.\n",
            "TIMING: dataset construction took 0.052 s\n",
            "Loading dataset from disk.\n"
          ],
          "name": "stdout"
        },
        {
          "output_type": "stream",
          "text": [
            "2021-04-06 03:38:22,929 Wrote model metadata to file ampl_output/curated_combined_df_1/RF_ecfp_scaffold_regression/6866b96d-6dd3-4211-8623-d99eba815262/model_metadata.json\n",
            "2021-04-06 03:38:24,176 Wrote model metrics to file ampl_output/curated_combined_df_1/RF_ecfp_scaffold_regression/6866b96d-6dd3-4211-8623-d99eba815262/model_metrics.json\n"
          ],
          "name": "stderr"
        },
        {
          "output_type": "stream",
          "text": [
            "Wrote model tarball to ampl_output/curated_combined_df_1_model_6866b96d-6dd3-4211-8623-d99eba815262.tar.gz\n",
            "rf_estimators: 128, rf_max_depth: 128, rf_max_features: 128, valid_r2: 0.08109051489233843\n",
            "number of features: 1024\n"
          ],
          "name": "stdout"
        },
        {
          "output_type": "stream",
          "text": [
            "2021-04-06 03:39:02,017 Previous dataset split restored\n"
          ],
          "name": "stderr"
        },
        {
          "output_type": "stream",
          "text": [
            "n_cnt [7647.]\n",
            "y_means [5.29077697]\n",
            "y_stds [0.71495872]\n",
            "TIMING: dataset construction took 0.335 s\n",
            "Loading dataset from disk.\n",
            "TIMING: dataset construction took 0.050 s\n",
            "Loading dataset from disk.\n",
            "TIMING: dataset construction took 0.054 s\n",
            "Loading dataset from disk.\n"
          ],
          "name": "stdout"
        },
        {
          "output_type": "stream",
          "text": [
            "2021-04-06 03:39:10,942 Wrote model metadata to file ampl_output/curated_combined_df_1/RF_ecfp_scaffold_regression/98035164-9f6e-4c2c-87e5-c8a2f52418dc/model_metadata.json\n",
            "2021-04-06 03:39:11,850 Wrote model metrics to file ampl_output/curated_combined_df_1/RF_ecfp_scaffold_regression/98035164-9f6e-4c2c-87e5-c8a2f52418dc/model_metrics.json\n"
          ],
          "name": "stderr"
        },
        {
          "output_type": "stream",
          "text": [
            "Wrote model tarball to ampl_output/curated_combined_df_1_model_98035164-9f6e-4c2c-87e5-c8a2f52418dc.tar.gz\n",
            "rf_estimators: 128, rf_max_depth: 128, rf_max_features: 128, valid_r2: 0.08619151380104784\n",
            "number of features: 1024\n"
          ],
          "name": "stdout"
        },
        {
          "output_type": "stream",
          "text": [
            "2021-04-06 03:39:49,677 Previous dataset split restored\n"
          ],
          "name": "stderr"
        },
        {
          "output_type": "stream",
          "text": [
            "n_cnt [7647.]\n",
            "y_means [5.29077697]\n",
            "y_stds [0.71495872]\n",
            "TIMING: dataset construction took 0.338 s\n",
            "Loading dataset from disk.\n",
            "TIMING: dataset construction took 0.051 s\n",
            "Loading dataset from disk.\n",
            "TIMING: dataset construction took 0.049 s\n",
            "Loading dataset from disk.\n"
          ],
          "name": "stdout"
        },
        {
          "output_type": "stream",
          "text": [
            "2021-04-06 03:39:59,408 Wrote model metadata to file ampl_output/curated_combined_df_1/RF_ecfp_scaffold_regression/8fd00b2a-3719-4c02-a689-80497a213007/model_metadata.json\n",
            "2021-04-06 03:39:59,746 Wrote model metrics to file ampl_output/curated_combined_df_1/RF_ecfp_scaffold_regression/8fd00b2a-3719-4c02-a689-80497a213007/model_metrics.json\n"
          ],
          "name": "stderr"
        },
        {
          "output_type": "stream",
          "text": [
            "Wrote model tarball to ampl_output/curated_combined_df_1_model_8fd00b2a-3719-4c02-a689-80497a213007.tar.gz\n",
            "rf_estimators: 128, rf_max_depth: 128, rf_max_features: 128, valid_r2: 0.08770195715227114\n",
            "number of features: 1024\n"
          ],
          "name": "stdout"
        },
        {
          "output_type": "stream",
          "text": [
            "2021-04-06 03:40:37,645 Previous dataset split restored\n"
          ],
          "name": "stderr"
        },
        {
          "output_type": "stream",
          "text": [
            "n_cnt [7647.]\n",
            "y_means [5.29077697]\n",
            "y_stds [0.71495872]\n",
            "TIMING: dataset construction took 0.344 s\n",
            "Loading dataset from disk.\n",
            "TIMING: dataset construction took 0.049 s\n",
            "Loading dataset from disk.\n",
            "TIMING: dataset construction took 0.050 s\n",
            "Loading dataset from disk.\n"
          ],
          "name": "stdout"
        },
        {
          "output_type": "stream",
          "text": [
            "2021-04-06 03:41:11,638 Wrote model metadata to file ampl_output/curated_combined_df_1/RF_ecfp_scaffold_regression/29ab2a03-c88c-44ac-875f-3abc52164cfe/model_metadata.json\n",
            "2021-04-06 03:41:12,878 Wrote model metrics to file ampl_output/curated_combined_df_1/RF_ecfp_scaffold_regression/29ab2a03-c88c-44ac-875f-3abc52164cfe/model_metrics.json\n"
          ],
          "name": "stderr"
        },
        {
          "output_type": "stream",
          "text": [
            "Wrote model tarball to ampl_output/curated_combined_df_1_model_29ab2a03-c88c-44ac-875f-3abc52164cfe.tar.gz\n",
            "rf_estimators: 128, rf_max_depth: 128, rf_max_features: 128, valid_r2: 0.07273099736944288\n",
            "number of features: 1024\n"
          ],
          "name": "stdout"
        },
        {
          "output_type": "stream",
          "text": [
            "2021-04-06 03:41:50,434 Previous dataset split restored\n"
          ],
          "name": "stderr"
        },
        {
          "output_type": "stream",
          "text": [
            "n_cnt [7647.]\n",
            "y_means [5.29077697]\n",
            "y_stds [0.71495872]\n",
            "TIMING: dataset construction took 0.340 s\n",
            "Loading dataset from disk.\n",
            "TIMING: dataset construction took 0.051 s\n",
            "Loading dataset from disk.\n",
            "TIMING: dataset construction took 0.050 s\n",
            "Loading dataset from disk.\n"
          ],
          "name": "stdout"
        },
        {
          "output_type": "stream",
          "text": [
            "2021-04-06 03:42:03,108 Wrote model metadata to file ampl_output/curated_combined_df_1/RF_ecfp_scaffold_regression/bf62e461-9513-4ab3-904f-4a3a8a47c070/model_metadata.json\n",
            "2021-04-06 03:42:04,109 Wrote model metrics to file ampl_output/curated_combined_df_1/RF_ecfp_scaffold_regression/bf62e461-9513-4ab3-904f-4a3a8a47c070/model_metrics.json\n"
          ],
          "name": "stderr"
        },
        {
          "output_type": "stream",
          "text": [
            "Wrote model tarball to ampl_output/curated_combined_df_1_model_bf62e461-9513-4ab3-904f-4a3a8a47c070.tar.gz\n",
            "rf_estimators: 128, rf_max_depth: 128, rf_max_features: 128, valid_r2: 0.07617514261127267\n",
            "number of features: 1024\n"
          ],
          "name": "stdout"
        },
        {
          "output_type": "stream",
          "text": [
            "2021-04-06 03:42:41,710 Previous dataset split restored\n"
          ],
          "name": "stderr"
        },
        {
          "output_type": "stream",
          "text": [
            "n_cnt [7647.]\n",
            "y_means [5.29077697]\n",
            "y_stds [0.71495872]\n",
            "TIMING: dataset construction took 0.339 s\n",
            "Loading dataset from disk.\n",
            "TIMING: dataset construction took 0.049 s\n",
            "Loading dataset from disk.\n",
            "TIMING: dataset construction took 0.049 s\n",
            "Loading dataset from disk.\n"
          ],
          "name": "stdout"
        },
        {
          "output_type": "stream",
          "text": [
            "2021-04-06 03:42:49,688 Wrote model metadata to file ampl_output/curated_combined_df_1/RF_ecfp_scaffold_regression/743afa92-5c97-42b3-a4bf-122bee77ffd7/model_metadata.json\n",
            "2021-04-06 03:42:50,306 Wrote model metrics to file ampl_output/curated_combined_df_1/RF_ecfp_scaffold_regression/743afa92-5c97-42b3-a4bf-122bee77ffd7/model_metrics.json\n"
          ],
          "name": "stderr"
        },
        {
          "output_type": "stream",
          "text": [
            "Wrote model tarball to ampl_output/curated_combined_df_1_model_743afa92-5c97-42b3-a4bf-122bee77ffd7.tar.gz\n",
            "rf_estimators: 128, rf_max_depth: 128, rf_max_features: 128, valid_r2: 0.08012973753541353\n",
            "number of features: 1024\n"
          ],
          "name": "stdout"
        },
        {
          "output_type": "stream",
          "text": [
            "2021-04-06 03:43:27,751 Previous dataset split restored\n"
          ],
          "name": "stderr"
        },
        {
          "output_type": "stream",
          "text": [
            "n_cnt [7647.]\n",
            "y_means [5.29077697]\n",
            "y_stds [0.71495872]\n",
            "TIMING: dataset construction took 0.337 s\n",
            "Loading dataset from disk.\n",
            "TIMING: dataset construction took 0.048 s\n",
            "Loading dataset from disk.\n",
            "TIMING: dataset construction took 0.049 s\n",
            "Loading dataset from disk.\n"
          ],
          "name": "stdout"
        },
        {
          "output_type": "stream",
          "text": [
            "2021-04-06 03:43:35,756 Wrote model metadata to file ampl_output/curated_combined_df_1/RF_ecfp_scaffold_regression/0855883f-bfe7-4e49-b14a-d3429f47c513/model_metadata.json\n",
            "2021-04-06 03:43:36,196 Wrote model metrics to file ampl_output/curated_combined_df_1/RF_ecfp_scaffold_regression/0855883f-bfe7-4e49-b14a-d3429f47c513/model_metrics.json\n"
          ],
          "name": "stderr"
        },
        {
          "output_type": "stream",
          "text": [
            "Wrote model tarball to ampl_output/curated_combined_df_1_model_0855883f-bfe7-4e49-b14a-d3429f47c513.tar.gz\n",
            "rf_estimators: 128, rf_max_depth: 128, rf_max_features: 128, valid_r2: 0.08820305480399304\n",
            "number of features: 1024\n"
          ],
          "name": "stdout"
        },
        {
          "output_type": "stream",
          "text": [
            "2021-04-06 03:44:13,766 Previous dataset split restored\n"
          ],
          "name": "stderr"
        },
        {
          "output_type": "stream",
          "text": [
            "n_cnt [7647.]\n",
            "y_means [5.29077697]\n",
            "y_stds [0.71495872]\n",
            "TIMING: dataset construction took 0.339 s\n",
            "Loading dataset from disk.\n",
            "TIMING: dataset construction took 0.050 s\n",
            "Loading dataset from disk.\n",
            "TIMING: dataset construction took 0.049 s\n",
            "Loading dataset from disk.\n"
          ],
          "name": "stdout"
        },
        {
          "output_type": "stream",
          "text": [
            "2021-04-06 03:44:18,221 Wrote model metadata to file ampl_output/curated_combined_df_1/RF_ecfp_scaffold_regression/4342581e-dbb7-4878-9d1f-f2c6542ab240/model_metadata.json\n",
            "2021-04-06 03:44:18,286 Wrote model metrics to file ampl_output/curated_combined_df_1/RF_ecfp_scaffold_regression/4342581e-dbb7-4878-9d1f-f2c6542ab240/model_metrics.json\n"
          ],
          "name": "stderr"
        },
        {
          "output_type": "stream",
          "text": [
            "Wrote model tarball to ampl_output/curated_combined_df_1_model_4342581e-dbb7-4878-9d1f-f2c6542ab240.tar.gz\n",
            "rf_estimators: 128, rf_max_depth: 128, rf_max_features: 128, valid_r2: 0.02655033979854937\n",
            "number of features: 1024\n"
          ],
          "name": "stdout"
        },
        {
          "output_type": "stream",
          "text": [
            "2021-04-06 03:44:55,976 Previous dataset split restored\n"
          ],
          "name": "stderr"
        },
        {
          "output_type": "stream",
          "text": [
            "n_cnt [7647.]\n",
            "y_means [5.29077697]\n",
            "y_stds [0.71495872]\n",
            "TIMING: dataset construction took 0.336 s\n",
            "Loading dataset from disk.\n",
            "TIMING: dataset construction took 0.050 s\n",
            "Loading dataset from disk.\n",
            "TIMING: dataset construction took 0.052 s\n",
            "Loading dataset from disk.\n"
          ],
          "name": "stdout"
        },
        {
          "output_type": "stream",
          "text": [
            "2021-04-06 03:45:12,960 Wrote model metadata to file ampl_output/curated_combined_df_1/RF_ecfp_scaffold_regression/fefd3eef-94db-41d7-be90-272a8b112979/model_metadata.json\n",
            "2021-04-06 03:45:13,887 Wrote model metrics to file ampl_output/curated_combined_df_1/RF_ecfp_scaffold_regression/fefd3eef-94db-41d7-be90-272a8b112979/model_metrics.json\n"
          ],
          "name": "stderr"
        },
        {
          "output_type": "stream",
          "text": [
            "Wrote model tarball to ampl_output/curated_combined_df_1_model_fefd3eef-94db-41d7-be90-272a8b112979.tar.gz\n",
            "rf_estimators: 128, rf_max_depth: 128, rf_max_features: 128, valid_r2: 0.08014818067063267\n",
            "number of features: 1024\n"
          ],
          "name": "stdout"
        },
        {
          "output_type": "stream",
          "text": [
            "2021-04-06 03:45:51,276 Previous dataset split restored\n"
          ],
          "name": "stderr"
        },
        {
          "output_type": "stream",
          "text": [
            "n_cnt [7647.]\n",
            "y_means [5.29077697]\n",
            "y_stds [0.71495872]\n",
            "TIMING: dataset construction took 0.332 s\n",
            "Loading dataset from disk.\n",
            "TIMING: dataset construction took 0.049 s\n",
            "Loading dataset from disk.\n",
            "TIMING: dataset construction took 0.049 s\n",
            "Loading dataset from disk.\n"
          ],
          "name": "stdout"
        },
        {
          "output_type": "stream",
          "text": [
            "2021-04-06 03:46:09,892 Wrote model metadata to file ampl_output/curated_combined_df_1/RF_ecfp_scaffold_regression/578f53f2-9ca6-43da-9c89-b62481364a84/model_metadata.json\n",
            "2021-04-06 03:46:10,925 Wrote model metrics to file ampl_output/curated_combined_df_1/RF_ecfp_scaffold_regression/578f53f2-9ca6-43da-9c89-b62481364a84/model_metrics.json\n"
          ],
          "name": "stderr"
        },
        {
          "output_type": "stream",
          "text": [
            "Wrote model tarball to ampl_output/curated_combined_df_1_model_578f53f2-9ca6-43da-9c89-b62481364a84.tar.gz\n",
            "rf_estimators: 128, rf_max_depth: 128, rf_max_features: 128, valid_r2: 0.0784280805151234\n",
            "number of features: 1024\n"
          ],
          "name": "stdout"
        },
        {
          "output_type": "stream",
          "text": [
            "2021-04-06 03:46:48,102 Previous dataset split restored\n"
          ],
          "name": "stderr"
        },
        {
          "output_type": "stream",
          "text": [
            "n_cnt [7647.]\n",
            "y_means [5.29077697]\n",
            "y_stds [0.71495872]\n",
            "TIMING: dataset construction took 0.331 s\n",
            "Loading dataset from disk.\n",
            "TIMING: dataset construction took 0.051 s\n",
            "Loading dataset from disk.\n",
            "TIMING: dataset construction took 0.050 s\n",
            "Loading dataset from disk.\n"
          ],
          "name": "stdout"
        },
        {
          "output_type": "stream",
          "text": [
            "2021-04-06 03:47:03,058 Wrote model metadata to file ampl_output/curated_combined_df_1/RF_ecfp_scaffold_regression/50b444b5-83e4-42bd-b81d-692f1dffafe7/model_metadata.json\n",
            "2021-04-06 03:47:03,545 Wrote model metrics to file ampl_output/curated_combined_df_1/RF_ecfp_scaffold_regression/50b444b5-83e4-42bd-b81d-692f1dffafe7/model_metrics.json\n"
          ],
          "name": "stderr"
        },
        {
          "output_type": "stream",
          "text": [
            "Wrote model tarball to ampl_output/curated_combined_df_1_model_50b444b5-83e4-42bd-b81d-692f1dffafe7.tar.gz\n",
            "rf_estimators: 128, rf_max_depth: 128, rf_max_features: 128, valid_r2: 0.07212384852257592\n",
            "number of features: 1024\n"
          ],
          "name": "stdout"
        },
        {
          "output_type": "stream",
          "text": [
            "2021-04-06 03:47:40,791 Previous dataset split restored\n"
          ],
          "name": "stderr"
        },
        {
          "output_type": "stream",
          "text": [
            "n_cnt [7647.]\n",
            "y_means [5.29077697]\n",
            "y_stds [0.71495872]\n",
            "TIMING: dataset construction took 0.343 s\n",
            "Loading dataset from disk.\n",
            "TIMING: dataset construction took 0.049 s\n",
            "Loading dataset from disk.\n",
            "TIMING: dataset construction took 0.051 s\n",
            "Loading dataset from disk.\n"
          ],
          "name": "stdout"
        },
        {
          "output_type": "stream",
          "text": [
            "2021-04-06 03:47:55,543 Wrote model metadata to file ampl_output/curated_combined_df_1/RF_ecfp_scaffold_regression/45907552-34e9-4f91-a8bc-897236f7e535/model_metadata.json\n",
            "2021-04-06 03:47:56,250 Wrote model metrics to file ampl_output/curated_combined_df_1/RF_ecfp_scaffold_regression/45907552-34e9-4f91-a8bc-897236f7e535/model_metrics.json\n"
          ],
          "name": "stderr"
        },
        {
          "output_type": "stream",
          "text": [
            "Wrote model tarball to ampl_output/curated_combined_df_1_model_45907552-34e9-4f91-a8bc-897236f7e535.tar.gz\n",
            "rf_estimators: 128, rf_max_depth: 128, rf_max_features: 128, valid_r2: 0.07771299477285865\n",
            "number of features: 1024\n"
          ],
          "name": "stdout"
        },
        {
          "output_type": "stream",
          "text": [
            "2021-04-06 03:48:33,696 Previous dataset split restored\n"
          ],
          "name": "stderr"
        },
        {
          "output_type": "stream",
          "text": [
            "n_cnt [7647.]\n",
            "y_means [5.29077697]\n",
            "y_stds [0.71495872]\n",
            "TIMING: dataset construction took 0.334 s\n",
            "Loading dataset from disk.\n",
            "TIMING: dataset construction took 0.048 s\n",
            "Loading dataset from disk.\n",
            "TIMING: dataset construction took 0.050 s\n",
            "Loading dataset from disk.\n"
          ],
          "name": "stdout"
        },
        {
          "output_type": "stream",
          "text": [
            "2021-04-06 03:48:38,890 Wrote model metadata to file ampl_output/curated_combined_df_1/RF_ecfp_scaffold_regression/fda10f4c-7758-4655-a568-cd777740c73d/model_metadata.json\n",
            "2021-04-06 03:48:38,981 Wrote model metrics to file ampl_output/curated_combined_df_1/RF_ecfp_scaffold_regression/fda10f4c-7758-4655-a568-cd777740c73d/model_metrics.json\n"
          ],
          "name": "stderr"
        },
        {
          "output_type": "stream",
          "text": [
            "Wrote model tarball to ampl_output/curated_combined_df_1_model_fda10f4c-7758-4655-a568-cd777740c73d.tar.gz\n",
            "rf_estimators: 128, rf_max_depth: 128, rf_max_features: 128, valid_r2: 0.04704852059695119\n",
            "number of features: 1024\n"
          ],
          "name": "stdout"
        },
        {
          "output_type": "stream",
          "text": [
            "2021-04-06 03:49:16,415 Previous dataset split restored\n"
          ],
          "name": "stderr"
        },
        {
          "output_type": "stream",
          "text": [
            "n_cnt [7647.]\n",
            "y_means [5.29077697]\n",
            "y_stds [0.71495872]\n",
            "TIMING: dataset construction took 0.332 s\n",
            "Loading dataset from disk.\n",
            "TIMING: dataset construction took 0.049 s\n",
            "Loading dataset from disk.\n",
            "TIMING: dataset construction took 0.049 s\n",
            "Loading dataset from disk.\n"
          ],
          "name": "stdout"
        },
        {
          "output_type": "stream",
          "text": [
            "2021-04-06 03:49:29,537 Wrote model metadata to file ampl_output/curated_combined_df_1/RF_ecfp_scaffold_regression/c4a0547b-1da4-4ea0-9093-bb1deecbe5d9/model_metadata.json\n",
            "2021-04-06 03:49:30,767 Wrote model metrics to file ampl_output/curated_combined_df_1/RF_ecfp_scaffold_regression/c4a0547b-1da4-4ea0-9093-bb1deecbe5d9/model_metrics.json\n"
          ],
          "name": "stderr"
        },
        {
          "output_type": "stream",
          "text": [
            "Wrote model tarball to ampl_output/curated_combined_df_1_model_c4a0547b-1da4-4ea0-9093-bb1deecbe5d9.tar.gz\n",
            "rf_estimators: 128, rf_max_depth: 128, rf_max_features: 128, valid_r2: 0.07286972944086034\n",
            "number of features: 1024\n"
          ],
          "name": "stdout"
        },
        {
          "output_type": "stream",
          "text": [
            "2021-04-06 03:50:08,162 Previous dataset split restored\n"
          ],
          "name": "stderr"
        },
        {
          "output_type": "stream",
          "text": [
            "n_cnt [7647.]\n",
            "y_means [5.29077697]\n",
            "y_stds [0.71495872]\n",
            "TIMING: dataset construction took 0.337 s\n",
            "Loading dataset from disk.\n",
            "TIMING: dataset construction took 0.049 s\n",
            "Loading dataset from disk.\n",
            "TIMING: dataset construction took 0.050 s\n",
            "Loading dataset from disk.\n"
          ],
          "name": "stdout"
        },
        {
          "output_type": "stream",
          "text": [
            "2021-04-06 03:50:23,269 Wrote model metadata to file ampl_output/curated_combined_df_1/RF_ecfp_scaffold_regression/cb78f8ff-40ec-40e4-ba3c-fdf825c1908f/model_metadata.json\n",
            "2021-04-06 03:50:23,817 Wrote model metrics to file ampl_output/curated_combined_df_1/RF_ecfp_scaffold_regression/cb78f8ff-40ec-40e4-ba3c-fdf825c1908f/model_metrics.json\n"
          ],
          "name": "stderr"
        },
        {
          "output_type": "stream",
          "text": [
            "Wrote model tarball to ampl_output/curated_combined_df_1_model_cb78f8ff-40ec-40e4-ba3c-fdf825c1908f.tar.gz\n",
            "rf_estimators: 128, rf_max_depth: 128, rf_max_features: 128, valid_r2: 0.07159452623692619\n",
            "number of features: 1024\n"
          ],
          "name": "stdout"
        },
        {
          "output_type": "stream",
          "text": [
            "2021-04-06 03:51:01,401 Previous dataset split restored\n"
          ],
          "name": "stderr"
        },
        {
          "output_type": "stream",
          "text": [
            "n_cnt [7647.]\n",
            "y_means [5.29077697]\n",
            "y_stds [0.71495872]\n",
            "TIMING: dataset construction took 0.340 s\n",
            "Loading dataset from disk.\n",
            "TIMING: dataset construction took 0.049 s\n",
            "Loading dataset from disk.\n",
            "TIMING: dataset construction took 0.049 s\n",
            "Loading dataset from disk.\n"
          ],
          "name": "stdout"
        },
        {
          "output_type": "stream",
          "text": [
            "2021-04-06 03:51:06,876 Wrote model metadata to file ampl_output/curated_combined_df_1/RF_ecfp_scaffold_regression/c0a3003d-dd6b-4a34-a5ff-9a976beb816a/model_metadata.json\n",
            "2021-04-06 03:51:06,991 Wrote model metrics to file ampl_output/curated_combined_df_1/RF_ecfp_scaffold_regression/c0a3003d-dd6b-4a34-a5ff-9a976beb816a/model_metrics.json\n"
          ],
          "name": "stderr"
        },
        {
          "output_type": "stream",
          "text": [
            "Wrote model tarball to ampl_output/curated_combined_df_1_model_c0a3003d-dd6b-4a34-a5ff-9a976beb816a.tar.gz\n",
            "rf_estimators: 128, rf_max_depth: 128, rf_max_features: 128, valid_r2: 0.07911906247065625\n",
            "number of features: 1024\n"
          ],
          "name": "stdout"
        },
        {
          "output_type": "stream",
          "text": [
            "2021-04-06 03:51:44,596 Previous dataset split restored\n"
          ],
          "name": "stderr"
        },
        {
          "output_type": "stream",
          "text": [
            "n_cnt [7647.]\n",
            "y_means [5.29077697]\n",
            "y_stds [0.71495872]\n",
            "TIMING: dataset construction took 0.334 s\n",
            "Loading dataset from disk.\n",
            "TIMING: dataset construction took 0.049 s\n",
            "Loading dataset from disk.\n",
            "TIMING: dataset construction took 0.050 s\n",
            "Loading dataset from disk.\n"
          ],
          "name": "stdout"
        },
        {
          "output_type": "stream",
          "text": [
            "2021-04-06 03:51:59,494 Wrote model metadata to file ampl_output/curated_combined_df_1/RF_ecfp_scaffold_regression/799e1207-aa27-4b76-acc9-9809b9920c39/model_metadata.json\n",
            "2021-04-06 03:51:59,770 Wrote model metrics to file ampl_output/curated_combined_df_1/RF_ecfp_scaffold_regression/799e1207-aa27-4b76-acc9-9809b9920c39/model_metrics.json\n"
          ],
          "name": "stderr"
        },
        {
          "output_type": "stream",
          "text": [
            "Wrote model tarball to ampl_output/curated_combined_df_1_model_799e1207-aa27-4b76-acc9-9809b9920c39.tar.gz\n",
            "rf_estimators: 128, rf_max_depth: 128, rf_max_features: 128, valid_r2: 0.0893969126682913\n",
            "number of features: 1024\n"
          ],
          "name": "stdout"
        },
        {
          "output_type": "stream",
          "text": [
            "2021-04-06 03:52:37,601 Previous dataset split restored\n"
          ],
          "name": "stderr"
        },
        {
          "output_type": "stream",
          "text": [
            "n_cnt [7647.]\n",
            "y_means [5.29077697]\n",
            "y_stds [0.71495872]\n",
            "TIMING: dataset construction took 0.338 s\n",
            "Loading dataset from disk.\n",
            "TIMING: dataset construction took 0.049 s\n",
            "Loading dataset from disk.\n",
            "TIMING: dataset construction took 0.052 s\n",
            "Loading dataset from disk.\n"
          ],
          "name": "stdout"
        },
        {
          "output_type": "stream",
          "text": [
            "2021-04-06 03:52:53,803 Wrote model metadata to file ampl_output/curated_combined_df_1/RF_ecfp_scaffold_regression/b356c303-3d66-4d6e-8c35-2b39cf1de69e/model_metadata.json\n",
            "2021-04-06 03:52:55,075 Wrote model metrics to file ampl_output/curated_combined_df_1/RF_ecfp_scaffold_regression/b356c303-3d66-4d6e-8c35-2b39cf1de69e/model_metrics.json\n"
          ],
          "name": "stderr"
        },
        {
          "output_type": "stream",
          "text": [
            "Wrote model tarball to ampl_output/curated_combined_df_1_model_b356c303-3d66-4d6e-8c35-2b39cf1de69e.tar.gz\n",
            "rf_estimators: 128, rf_max_depth: 128, rf_max_features: 128, valid_r2: 0.08060452356340453\n",
            "number of features: 1024\n"
          ],
          "name": "stdout"
        },
        {
          "output_type": "stream",
          "text": [
            "2021-04-06 03:53:32,769 Previous dataset split restored\n"
          ],
          "name": "stderr"
        },
        {
          "output_type": "stream",
          "text": [
            "n_cnt [7647.]\n",
            "y_means [5.29077697]\n",
            "y_stds [0.71495872]\n",
            "TIMING: dataset construction took 0.335 s\n",
            "Loading dataset from disk.\n",
            "TIMING: dataset construction took 0.050 s\n",
            "Loading dataset from disk.\n",
            "TIMING: dataset construction took 0.051 s\n",
            "Loading dataset from disk.\n"
          ],
          "name": "stdout"
        },
        {
          "output_type": "stream",
          "text": [
            "2021-04-06 03:54:02,987 Wrote model metadata to file ampl_output/curated_combined_df_1/RF_ecfp_scaffold_regression/c232f213-2bf3-4d7f-98c1-2c31bba0ac65/model_metadata.json\n",
            "2021-04-06 03:54:03,936 Wrote model metrics to file ampl_output/curated_combined_df_1/RF_ecfp_scaffold_regression/c232f213-2bf3-4d7f-98c1-2c31bba0ac65/model_metrics.json\n"
          ],
          "name": "stderr"
        },
        {
          "output_type": "stream",
          "text": [
            "Wrote model tarball to ampl_output/curated_combined_df_1_model_c232f213-2bf3-4d7f-98c1-2c31bba0ac65.tar.gz\n",
            "rf_estimators: 128, rf_max_depth: 128, rf_max_features: 128, valid_r2: 0.08382948526446599\n",
            "number of features: 1024\n"
          ],
          "name": "stdout"
        },
        {
          "output_type": "stream",
          "text": [
            "2021-04-06 03:54:41,743 Previous dataset split restored\n"
          ],
          "name": "stderr"
        },
        {
          "output_type": "stream",
          "text": [
            "n_cnt [7647.]\n",
            "y_means [5.29077697]\n",
            "y_stds [0.71495872]\n",
            "TIMING: dataset construction took 0.343 s\n",
            "Loading dataset from disk.\n",
            "TIMING: dataset construction took 0.049 s\n",
            "Loading dataset from disk.\n",
            "TIMING: dataset construction took 0.050 s\n",
            "Loading dataset from disk.\n"
          ],
          "name": "stdout"
        },
        {
          "output_type": "stream",
          "text": [
            "2021-04-06 03:54:56,212 Wrote model metadata to file ampl_output/curated_combined_df_1/RF_ecfp_scaffold_regression/f0951d31-a54f-4bb9-b051-898b9e18986e/model_metadata.json\n",
            "2021-04-06 03:54:57,175 Wrote model metrics to file ampl_output/curated_combined_df_1/RF_ecfp_scaffold_regression/f0951d31-a54f-4bb9-b051-898b9e18986e/model_metrics.json\n"
          ],
          "name": "stderr"
        },
        {
          "output_type": "stream",
          "text": [
            "Wrote model tarball to ampl_output/curated_combined_df_1_model_f0951d31-a54f-4bb9-b051-898b9e18986e.tar.gz\n",
            "rf_estimators: 128, rf_max_depth: 128, rf_max_features: 128, valid_r2: 0.07651962236471155\n",
            "number of features: 1024\n"
          ],
          "name": "stdout"
        },
        {
          "output_type": "stream",
          "text": [
            "2021-04-06 03:55:34,620 Previous dataset split restored\n"
          ],
          "name": "stderr"
        },
        {
          "output_type": "stream",
          "text": [
            "n_cnt [7647.]\n",
            "y_means [5.29077697]\n",
            "y_stds [0.71495872]\n",
            "TIMING: dataset construction took 0.338 s\n",
            "Loading dataset from disk.\n",
            "TIMING: dataset construction took 0.048 s\n",
            "Loading dataset from disk.\n",
            "TIMING: dataset construction took 0.051 s\n",
            "Loading dataset from disk.\n"
          ],
          "name": "stdout"
        },
        {
          "output_type": "stream",
          "text": [
            "2021-04-06 03:55:47,317 Wrote model metadata to file ampl_output/curated_combined_df_1/RF_ecfp_scaffold_regression/553f9348-49eb-47d8-8e4a-3aeb121d999f/model_metadata.json\n",
            "2021-04-06 03:55:47,885 Wrote model metrics to file ampl_output/curated_combined_df_1/RF_ecfp_scaffold_regression/553f9348-49eb-47d8-8e4a-3aeb121d999f/model_metrics.json\n"
          ],
          "name": "stderr"
        },
        {
          "output_type": "stream",
          "text": [
            "Wrote model tarball to ampl_output/curated_combined_df_1_model_553f9348-49eb-47d8-8e4a-3aeb121d999f.tar.gz\n",
            "rf_estimators: 128, rf_max_depth: 128, rf_max_features: 128, valid_r2: 0.07810403803139754\n",
            "number of features: 1024\n"
          ],
          "name": "stdout"
        },
        {
          "output_type": "stream",
          "text": [
            "2021-04-06 03:56:25,739 Previous dataset split restored\n"
          ],
          "name": "stderr"
        },
        {
          "output_type": "stream",
          "text": [
            "n_cnt [7647.]\n",
            "y_means [5.29077697]\n",
            "y_stds [0.71495872]\n",
            "TIMING: dataset construction took 0.339 s\n",
            "Loading dataset from disk.\n",
            "TIMING: dataset construction took 0.048 s\n",
            "Loading dataset from disk.\n",
            "TIMING: dataset construction took 0.052 s\n",
            "Loading dataset from disk.\n"
          ],
          "name": "stdout"
        },
        {
          "output_type": "stream",
          "text": [
            "2021-04-06 03:56:29,905 Wrote model metadata to file ampl_output/curated_combined_df_1/RF_ecfp_scaffold_regression/7c8cd139-4148-4267-b5bf-e6bbcf549426/model_metadata.json\n",
            "2021-04-06 03:56:29,965 Wrote model metrics to file ampl_output/curated_combined_df_1/RF_ecfp_scaffold_regression/7c8cd139-4148-4267-b5bf-e6bbcf549426/model_metrics.json\n"
          ],
          "name": "stderr"
        },
        {
          "output_type": "stream",
          "text": [
            "Wrote model tarball to ampl_output/curated_combined_df_1_model_7c8cd139-4148-4267-b5bf-e6bbcf549426.tar.gz\n",
            "rf_estimators: 128, rf_max_depth: 128, rf_max_features: 128, valid_r2: 0.016217020120737446\n",
            "number of features: 1024\n"
          ],
          "name": "stdout"
        },
        {
          "output_type": "stream",
          "text": [
            "2021-04-06 03:57:07,341 Previous dataset split restored\n"
          ],
          "name": "stderr"
        },
        {
          "output_type": "stream",
          "text": [
            "n_cnt [7647.]\n",
            "y_means [5.29077697]\n",
            "y_stds [0.71495872]\n",
            "TIMING: dataset construction took 0.336 s\n",
            "Loading dataset from disk.\n",
            "TIMING: dataset construction took 0.048 s\n",
            "Loading dataset from disk.\n",
            "TIMING: dataset construction took 0.050 s\n",
            "Loading dataset from disk.\n"
          ],
          "name": "stdout"
        },
        {
          "output_type": "stream",
          "text": [
            "2021-04-06 03:57:12,822 Wrote model metadata to file ampl_output/curated_combined_df_1/RF_ecfp_scaffold_regression/c0168523-d2b4-4b0f-8c9f-992d477a84c3/model_metadata.json\n",
            "2021-04-06 03:57:12,904 Wrote model metrics to file ampl_output/curated_combined_df_1/RF_ecfp_scaffold_regression/c0168523-d2b4-4b0f-8c9f-992d477a84c3/model_metrics.json\n"
          ],
          "name": "stderr"
        },
        {
          "output_type": "stream",
          "text": [
            "Wrote model tarball to ampl_output/curated_combined_df_1_model_c0168523-d2b4-4b0f-8c9f-992d477a84c3.tar.gz\n",
            "rf_estimators: 128, rf_max_depth: 128, rf_max_features: 128, valid_r2: 0.03445215427666215\n",
            "number of features: 1024\n"
          ],
          "name": "stdout"
        },
        {
          "output_type": "stream",
          "text": [
            "2021-04-06 03:57:50,344 Previous dataset split restored\n"
          ],
          "name": "stderr"
        },
        {
          "output_type": "stream",
          "text": [
            "n_cnt [7647.]\n",
            "y_means [5.29077697]\n",
            "y_stds [0.71495872]\n",
            "TIMING: dataset construction took 0.331 s\n",
            "Loading dataset from disk.\n",
            "TIMING: dataset construction took 0.049 s\n",
            "Loading dataset from disk.\n",
            "TIMING: dataset construction took 0.051 s\n",
            "Loading dataset from disk.\n"
          ],
          "name": "stdout"
        },
        {
          "output_type": "stream",
          "text": [
            "2021-04-06 03:57:53,420 Wrote model metadata to file ampl_output/curated_combined_df_1/RF_ecfp_scaffold_regression/59330407-a098-4a14-ad86-2200a7eded2e/model_metadata.json\n",
            "2021-04-06 03:57:53,468 Wrote model metrics to file ampl_output/curated_combined_df_1/RF_ecfp_scaffold_regression/59330407-a098-4a14-ad86-2200a7eded2e/model_metrics.json\n"
          ],
          "name": "stderr"
        },
        {
          "output_type": "stream",
          "text": [
            "Wrote model tarball to ampl_output/curated_combined_df_1_model_59330407-a098-4a14-ad86-2200a7eded2e.tar.gz\n",
            "rf_estimators: 128, rf_max_depth: 128, rf_max_features: 128, valid_r2: 0.012781393065052105\n",
            "number of features: 1024\n"
          ],
          "name": "stdout"
        },
        {
          "output_type": "stream",
          "text": [
            "2021-04-06 03:58:30,831 Previous dataset split restored\n"
          ],
          "name": "stderr"
        },
        {
          "output_type": "stream",
          "text": [
            "n_cnt [7647.]\n",
            "y_means [5.29077697]\n",
            "y_stds [0.71495872]\n",
            "TIMING: dataset construction took 0.333 s\n",
            "Loading dataset from disk.\n",
            "TIMING: dataset construction took 0.048 s\n",
            "Loading dataset from disk.\n",
            "TIMING: dataset construction took 0.049 s\n",
            "Loading dataset from disk.\n"
          ],
          "name": "stdout"
        },
        {
          "output_type": "stream",
          "text": [
            "2021-04-06 03:58:36,611 Wrote model metadata to file ampl_output/curated_combined_df_1/RF_ecfp_scaffold_regression/49c937b6-7ccd-4608-ab2f-dc1e8f64e8a7/model_metadata.json\n",
            "2021-04-06 03:58:36,726 Wrote model metrics to file ampl_output/curated_combined_df_1/RF_ecfp_scaffold_regression/49c937b6-7ccd-4608-ab2f-dc1e8f64e8a7/model_metrics.json\n"
          ],
          "name": "stderr"
        },
        {
          "output_type": "stream",
          "text": [
            "Wrote model tarball to ampl_output/curated_combined_df_1_model_49c937b6-7ccd-4608-ab2f-dc1e8f64e8a7.tar.gz\n",
            "rf_estimators: 128, rf_max_depth: 128, rf_max_features: 128, valid_r2: 0.04971669061161499\n",
            "number of features: 1024\n"
          ],
          "name": "stdout"
        },
        {
          "output_type": "stream",
          "text": [
            "2021-04-06 03:59:14,192 Previous dataset split restored\n"
          ],
          "name": "stderr"
        },
        {
          "output_type": "stream",
          "text": [
            "n_cnt [7647.]\n",
            "y_means [5.29077697]\n",
            "y_stds [0.71495872]\n",
            "TIMING: dataset construction took 0.343 s\n",
            "Loading dataset from disk.\n",
            "TIMING: dataset construction took 0.048 s\n",
            "Loading dataset from disk.\n",
            "TIMING: dataset construction took 0.051 s\n",
            "Loading dataset from disk.\n"
          ],
          "name": "stdout"
        },
        {
          "output_type": "stream",
          "text": [
            "2021-04-06 03:59:19,775 Wrote model metadata to file ampl_output/curated_combined_df_1/RF_ecfp_scaffold_regression/6096752b-3abf-43ee-81a1-ef82fee76be0/model_metadata.json\n",
            "2021-04-06 03:59:19,849 Wrote model metrics to file ampl_output/curated_combined_df_1/RF_ecfp_scaffold_regression/6096752b-3abf-43ee-81a1-ef82fee76be0/model_metrics.json\n"
          ],
          "name": "stderr"
        },
        {
          "output_type": "stream",
          "text": [
            "Wrote model tarball to ampl_output/curated_combined_df_1_model_6096752b-3abf-43ee-81a1-ef82fee76be0.tar.gz\n",
            "rf_estimators: 128, rf_max_depth: 128, rf_max_features: 128, valid_r2: 0.05461319859492053\n",
            "number of features: 1024\n"
          ],
          "name": "stdout"
        },
        {
          "output_type": "stream",
          "text": [
            "2021-04-06 03:59:57,579 Previous dataset split restored\n"
          ],
          "name": "stderr"
        },
        {
          "output_type": "stream",
          "text": [
            "n_cnt [7647.]\n",
            "y_means [5.29077697]\n",
            "y_stds [0.71495872]\n",
            "TIMING: dataset construction took 0.334 s\n",
            "Loading dataset from disk.\n",
            "TIMING: dataset construction took 0.049 s\n",
            "Loading dataset from disk.\n",
            "TIMING: dataset construction took 0.050 s\n",
            "Loading dataset from disk.\n"
          ],
          "name": "stdout"
        },
        {
          "output_type": "stream",
          "text": [
            "2021-04-06 04:00:08,272 Wrote model metadata to file ampl_output/curated_combined_df_1/RF_ecfp_scaffold_regression/30d9dfe1-8952-4ebd-9046-1a7ca2f4249c/model_metadata.json\n",
            "2021-04-06 04:00:09,379 Wrote model metrics to file ampl_output/curated_combined_df_1/RF_ecfp_scaffold_regression/30d9dfe1-8952-4ebd-9046-1a7ca2f4249c/model_metrics.json\n"
          ],
          "name": "stderr"
        },
        {
          "output_type": "stream",
          "text": [
            "Wrote model tarball to ampl_output/curated_combined_df_1_model_30d9dfe1-8952-4ebd-9046-1a7ca2f4249c.tar.gz\n",
            "rf_estimators: 128, rf_max_depth: 128, rf_max_features: 128, valid_r2: 0.08001901080754936\n",
            "number of features: 1024\n"
          ],
          "name": "stdout"
        },
        {
          "output_type": "stream",
          "text": [
            "2021-04-06 04:00:47,109 Previous dataset split restored\n"
          ],
          "name": "stderr"
        },
        {
          "output_type": "stream",
          "text": [
            "n_cnt [7647.]\n",
            "y_means [5.29077697]\n",
            "y_stds [0.71495872]\n",
            "TIMING: dataset construction took 0.333 s\n",
            "Loading dataset from disk.\n",
            "TIMING: dataset construction took 0.049 s\n",
            "Loading dataset from disk.\n",
            "TIMING: dataset construction took 0.050 s\n",
            "Loading dataset from disk.\n"
          ],
          "name": "stdout"
        },
        {
          "output_type": "stream",
          "text": [
            "2021-04-06 04:01:19,834 Wrote model metadata to file ampl_output/curated_combined_df_1/RF_ecfp_scaffold_regression/e20e528d-4eff-42c4-9498-88234eaf8e17/model_metadata.json\n",
            "2021-04-06 04:01:20,936 Wrote model metrics to file ampl_output/curated_combined_df_1/RF_ecfp_scaffold_regression/e20e528d-4eff-42c4-9498-88234eaf8e17/model_metrics.json\n"
          ],
          "name": "stderr"
        },
        {
          "output_type": "stream",
          "text": [
            "Wrote model tarball to ampl_output/curated_combined_df_1_model_e20e528d-4eff-42c4-9498-88234eaf8e17.tar.gz\n",
            "rf_estimators: 128, rf_max_depth: 128, rf_max_features: 128, valid_r2: 0.0777169741509407\n",
            "number of features: 1024\n"
          ],
          "name": "stdout"
        },
        {
          "output_type": "stream",
          "text": [
            "2021-04-06 04:01:58,350 Previous dataset split restored\n"
          ],
          "name": "stderr"
        },
        {
          "output_type": "stream",
          "text": [
            "n_cnt [7647.]\n",
            "y_means [5.29077697]\n",
            "y_stds [0.71495872]\n",
            "TIMING: dataset construction took 0.338 s\n",
            "Loading dataset from disk.\n",
            "TIMING: dataset construction took 0.048 s\n",
            "Loading dataset from disk.\n",
            "TIMING: dataset construction took 0.050 s\n",
            "Loading dataset from disk.\n"
          ],
          "name": "stdout"
        },
        {
          "output_type": "stream",
          "text": [
            "2021-04-06 04:02:05,763 Wrote model metadata to file ampl_output/curated_combined_df_1/RF_ecfp_scaffold_regression/9de09ff9-c65e-47a8-8d46-e7e632db4956/model_metadata.json\n",
            "2021-04-06 04:02:06,423 Wrote model metrics to file ampl_output/curated_combined_df_1/RF_ecfp_scaffold_regression/9de09ff9-c65e-47a8-8d46-e7e632db4956/model_metrics.json\n"
          ],
          "name": "stderr"
        },
        {
          "output_type": "stream",
          "text": [
            "Wrote model tarball to ampl_output/curated_combined_df_1_model_9de09ff9-c65e-47a8-8d46-e7e632db4956.tar.gz\n",
            "rf_estimators: 128, rf_max_depth: 128, rf_max_features: 128, valid_r2: 0.0727029865851474\n",
            "number of features: 1024\n"
          ],
          "name": "stdout"
        },
        {
          "output_type": "stream",
          "text": [
            "2021-04-06 04:02:44,120 Previous dataset split restored\n"
          ],
          "name": "stderr"
        },
        {
          "output_type": "stream",
          "text": [
            "n_cnt [7647.]\n",
            "y_means [5.29077697]\n",
            "y_stds [0.71495872]\n",
            "TIMING: dataset construction took 0.342 s\n",
            "Loading dataset from disk.\n",
            "TIMING: dataset construction took 0.048 s\n",
            "Loading dataset from disk.\n",
            "TIMING: dataset construction took 0.051 s\n",
            "Loading dataset from disk.\n"
          ],
          "name": "stdout"
        },
        {
          "output_type": "stream",
          "text": [
            "2021-04-06 04:02:52,138 Wrote model metadata to file ampl_output/curated_combined_df_1/RF_ecfp_scaffold_regression/04b0846b-1591-40c6-88fc-3f2411a2f3f4/model_metadata.json\n",
            "2021-04-06 04:02:53,003 Wrote model metrics to file ampl_output/curated_combined_df_1/RF_ecfp_scaffold_regression/04b0846b-1591-40c6-88fc-3f2411a2f3f4/model_metrics.json\n"
          ],
          "name": "stderr"
        },
        {
          "output_type": "stream",
          "text": [
            "Wrote model tarball to ampl_output/curated_combined_df_1_model_04b0846b-1591-40c6-88fc-3f2411a2f3f4.tar.gz\n",
            "rf_estimators: 128, rf_max_depth: 128, rf_max_features: 128, valid_r2: 0.07535990233143153\n",
            "number of features: 1024\n"
          ],
          "name": "stdout"
        },
        {
          "output_type": "stream",
          "text": [
            "2021-04-06 04:03:30,220 Previous dataset split restored\n"
          ],
          "name": "stderr"
        },
        {
          "output_type": "stream",
          "text": [
            "n_cnt [7647.]\n",
            "y_means [5.29077697]\n",
            "y_stds [0.71495872]\n",
            "TIMING: dataset construction took 0.334 s\n",
            "Loading dataset from disk.\n",
            "TIMING: dataset construction took 0.048 s\n",
            "Loading dataset from disk.\n",
            "TIMING: dataset construction took 0.050 s\n",
            "Loading dataset from disk.\n"
          ],
          "name": "stdout"
        },
        {
          "output_type": "stream",
          "text": [
            "2021-04-06 04:03:35,067 Wrote model metadata to file ampl_output/curated_combined_df_1/RF_ecfp_scaffold_regression/cb94329b-56ea-421a-96ce-24106ba207b4/model_metadata.json\n",
            "2021-04-06 04:03:35,085 Wrote model metrics to file ampl_output/curated_combined_df_1/RF_ecfp_scaffold_regression/cb94329b-56ea-421a-96ce-24106ba207b4/model_metrics.json\n"
          ],
          "name": "stderr"
        },
        {
          "output_type": "stream",
          "text": [
            "Wrote model tarball to ampl_output/curated_combined_df_1_model_cb94329b-56ea-421a-96ce-24106ba207b4.tar.gz\n",
            "rf_estimators: 128, rf_max_depth: 128, rf_max_features: 128, valid_r2: 0.061911919297580775\n",
            "number of features: 1024\n"
          ],
          "name": "stdout"
        },
        {
          "output_type": "stream",
          "text": [
            "2021-04-06 04:04:12,780 Previous dataset split restored\n"
          ],
          "name": "stderr"
        },
        {
          "output_type": "stream",
          "text": [
            "n_cnt [7647.]\n",
            "y_means [5.29077697]\n",
            "y_stds [0.71495872]\n",
            "TIMING: dataset construction took 0.336 s\n",
            "Loading dataset from disk.\n",
            "TIMING: dataset construction took 0.050 s\n",
            "Loading dataset from disk.\n",
            "TIMING: dataset construction took 0.050 s\n",
            "Loading dataset from disk.\n"
          ],
          "name": "stdout"
        },
        {
          "output_type": "stream",
          "text": [
            "2021-04-06 04:04:19,605 Wrote model metadata to file ampl_output/curated_combined_df_1/RF_ecfp_scaffold_regression/abd1fd7a-b5f5-4688-b4cf-18c8ae360955/model_metadata.json\n",
            "2021-04-06 04:04:19,778 Wrote model metrics to file ampl_output/curated_combined_df_1/RF_ecfp_scaffold_regression/abd1fd7a-b5f5-4688-b4cf-18c8ae360955/model_metrics.json\n"
          ],
          "name": "stderr"
        },
        {
          "output_type": "stream",
          "text": [
            "Wrote model tarball to ampl_output/curated_combined_df_1_model_abd1fd7a-b5f5-4688-b4cf-18c8ae360955.tar.gz\n",
            "rf_estimators: 128, rf_max_depth: 128, rf_max_features: 128, valid_r2: 0.06466800478091961\n",
            "number of features: 1024\n"
          ],
          "name": "stdout"
        },
        {
          "output_type": "stream",
          "text": [
            "2021-04-06 04:04:57,293 Previous dataset split restored\n"
          ],
          "name": "stderr"
        },
        {
          "output_type": "stream",
          "text": [
            "n_cnt [7647.]\n",
            "y_means [5.29077697]\n",
            "y_stds [0.71495872]\n",
            "TIMING: dataset construction took 0.338 s\n",
            "Loading dataset from disk.\n",
            "TIMING: dataset construction took 0.048 s\n",
            "Loading dataset from disk.\n",
            "TIMING: dataset construction took 0.049 s\n",
            "Loading dataset from disk.\n"
          ],
          "name": "stdout"
        },
        {
          "output_type": "stream",
          "text": [
            "2021-04-06 04:05:16,263 Wrote model metadata to file ampl_output/curated_combined_df_1/RF_ecfp_scaffold_regression/d62efadc-406d-4887-ac5c-56d99acdbe8f/model_metadata.json\n",
            "2021-04-06 04:05:16,858 Wrote model metrics to file ampl_output/curated_combined_df_1/RF_ecfp_scaffold_regression/d62efadc-406d-4887-ac5c-56d99acdbe8f/model_metrics.json\n"
          ],
          "name": "stderr"
        },
        {
          "output_type": "stream",
          "text": [
            "Wrote model tarball to ampl_output/curated_combined_df_1_model_d62efadc-406d-4887-ac5c-56d99acdbe8f.tar.gz\n",
            "rf_estimators: 128, rf_max_depth: 128, rf_max_features: 128, valid_r2: 0.07345580989337874\n",
            "number of features: 1024\n"
          ],
          "name": "stdout"
        },
        {
          "output_type": "stream",
          "text": [
            "2021-04-06 04:05:54,401 Previous dataset split restored\n"
          ],
          "name": "stderr"
        },
        {
          "output_type": "stream",
          "text": [
            "n_cnt [7647.]\n",
            "y_means [5.29077697]\n",
            "y_stds [0.71495872]\n",
            "TIMING: dataset construction took 0.344 s\n",
            "Loading dataset from disk.\n",
            "TIMING: dataset construction took 0.050 s\n",
            "Loading dataset from disk.\n",
            "TIMING: dataset construction took 0.051 s\n",
            "Loading dataset from disk.\n"
          ],
          "name": "stdout"
        },
        {
          "output_type": "stream",
          "text": [
            "2021-04-06 04:06:03,819 Wrote model metadata to file ampl_output/curated_combined_df_1/RF_ecfp_scaffold_regression/1ee5de5c-77e3-4e9a-9380-b58df79a5175/model_metadata.json\n",
            "2021-04-06 04:06:04,535 Wrote model metrics to file ampl_output/curated_combined_df_1/RF_ecfp_scaffold_regression/1ee5de5c-77e3-4e9a-9380-b58df79a5175/model_metrics.json\n"
          ],
          "name": "stderr"
        },
        {
          "output_type": "stream",
          "text": [
            "Wrote model tarball to ampl_output/curated_combined_df_1_model_1ee5de5c-77e3-4e9a-9380-b58df79a5175.tar.gz\n",
            "rf_estimators: 128, rf_max_depth: 128, rf_max_features: 128, valid_r2: 0.08319937879975448\n"
          ],
          "name": "stdout"
        }
      ]
    },
    {
      "cell_type": "code",
      "metadata": {
        "id": "EP7Oub5L67o_",
        "colab": {
          "base_uri": "https://localhost:8080/",
          "height": 1000
        },
        "outputId": "7582fac5-8e86-4f57-a025-0f1d46320f7e"
      },
      "source": [
        "perf_df = pd.DataFrame({\"rf_estimators\": rfe_list, \"rf_max_depth\": rfd_list, \"rf_max_features\": rff_list, \"valid_r2_score\": valid_r2_list})\n",
        "perf_df.sort_values(by=\"valid_r2_score\", ascending=False)"
      ],
      "execution_count": 87,
      "outputs": [
        {
          "output_type": "execute_result",
          "data": {
            "text/html": [
              "<div>\n",
              "<style scoped>\n",
              "    .dataframe tbody tr th:only-of-type {\n",
              "        vertical-align: middle;\n",
              "    }\n",
              "\n",
              "    .dataframe tbody tr th {\n",
              "        vertical-align: top;\n",
              "    }\n",
              "\n",
              "    .dataframe thead th {\n",
              "        text-align: right;\n",
              "    }\n",
              "</style>\n",
              "<table border=\"1\" class=\"dataframe\">\n",
              "  <thead>\n",
              "    <tr style=\"text-align: right;\">\n",
              "      <th></th>\n",
              "      <th>rf_estimators</th>\n",
              "      <th>rf_max_depth</th>\n",
              "      <th>rf_max_features</th>\n",
              "      <th>valid_r2_score</th>\n",
              "    </tr>\n",
              "  </thead>\n",
              "  <tbody>\n",
              "    <tr>\n",
              "      <th>11</th>\n",
              "      <td>119</td>\n",
              "      <td>26</td>\n",
              "      <td>41</td>\n",
              "      <td>0.092461</td>\n",
              "    </tr>\n",
              "    <tr>\n",
              "      <th>32</th>\n",
              "      <td>176</td>\n",
              "      <td>20</td>\n",
              "      <td>174</td>\n",
              "      <td>0.089397</td>\n",
              "    </tr>\n",
              "    <tr>\n",
              "      <th>22</th>\n",
              "      <td>149</td>\n",
              "      <td>32</td>\n",
              "      <td>56</td>\n",
              "      <td>0.088203</td>\n",
              "    </tr>\n",
              "    <tr>\n",
              "      <th>18</th>\n",
              "      <td>247</td>\n",
              "      <td>18</td>\n",
              "      <td>60</td>\n",
              "      <td>0.087702</td>\n",
              "    </tr>\n",
              "    <tr>\n",
              "      <th>17</th>\n",
              "      <td>195</td>\n",
              "      <td>58</td>\n",
              "      <td>32</td>\n",
              "      <td>0.086192</td>\n",
              "    </tr>\n",
              "    <tr>\n",
              "      <th>9</th>\n",
              "      <td>202</td>\n",
              "      <td>18</td>\n",
              "      <td>114</td>\n",
              "      <td>0.085724</td>\n",
              "    </tr>\n",
              "    <tr>\n",
              "      <th>0</th>\n",
              "      <td>66</td>\n",
              "      <td>58</td>\n",
              "      <td>170</td>\n",
              "      <td>0.085489</td>\n",
              "    </tr>\n",
              "    <tr>\n",
              "      <th>6</th>\n",
              "      <td>97</td>\n",
              "      <td>200</td>\n",
              "      <td>127</td>\n",
              "      <td>0.084782</td>\n",
              "    </tr>\n",
              "    <tr>\n",
              "      <th>34</th>\n",
              "      <td>197</td>\n",
              "      <td>85</td>\n",
              "      <td>235</td>\n",
              "      <td>0.083829</td>\n",
              "    </tr>\n",
              "    <tr>\n",
              "      <th>49</th>\n",
              "      <td>152</td>\n",
              "      <td>72</td>\n",
              "      <td>53</td>\n",
              "      <td>0.083199</td>\n",
              "    </tr>\n",
              "    <tr>\n",
              "      <th>3</th>\n",
              "      <td>169</td>\n",
              "      <td>98</td>\n",
              "      <td>254</td>\n",
              "      <td>0.081914</td>\n",
              "    </tr>\n",
              "    <tr>\n",
              "      <th>10</th>\n",
              "      <td>232</td>\n",
              "      <td>111</td>\n",
              "      <td>11</td>\n",
              "      <td>0.081648</td>\n",
              "    </tr>\n",
              "    <tr>\n",
              "      <th>8</th>\n",
              "      <td>224</td>\n",
              "      <td>152</td>\n",
              "      <td>224</td>\n",
              "      <td>0.081574</td>\n",
              "    </tr>\n",
              "    <tr>\n",
              "      <th>15</th>\n",
              "      <td>92</td>\n",
              "      <td>80</td>\n",
              "      <td>81</td>\n",
              "      <td>0.081314</td>\n",
              "    </tr>\n",
              "    <tr>\n",
              "      <th>16</th>\n",
              "      <td>231</td>\n",
              "      <td>191</td>\n",
              "      <td>46</td>\n",
              "      <td>0.081091</td>\n",
              "    </tr>\n",
              "    <tr>\n",
              "      <th>7</th>\n",
              "      <td>253</td>\n",
              "      <td>74</td>\n",
              "      <td>252</td>\n",
              "      <td>0.080760</td>\n",
              "    </tr>\n",
              "    <tr>\n",
              "      <th>33</th>\n",
              "      <td>251</td>\n",
              "      <td>86</td>\n",
              "      <td>71</td>\n",
              "      <td>0.080605</td>\n",
              "    </tr>\n",
              "    <tr>\n",
              "      <th>24</th>\n",
              "      <td>182</td>\n",
              "      <td>160</td>\n",
              "      <td>117</td>\n",
              "      <td>0.080148</td>\n",
              "    </tr>\n",
              "    <tr>\n",
              "      <th>21</th>\n",
              "      <td>115</td>\n",
              "      <td>143</td>\n",
              "      <td>53</td>\n",
              "      <td>0.080130</td>\n",
              "    </tr>\n",
              "    <tr>\n",
              "      <th>42</th>\n",
              "      <td>207</td>\n",
              "      <td>196</td>\n",
              "      <td>40</td>\n",
              "      <td>0.080019</td>\n",
              "    </tr>\n",
              "    <tr>\n",
              "      <th>4</th>\n",
              "      <td>86</td>\n",
              "      <td>165</td>\n",
              "      <td>88</td>\n",
              "      <td>0.079906</td>\n",
              "    </tr>\n",
              "    <tr>\n",
              "      <th>31</th>\n",
              "      <td>96</td>\n",
              "      <td>16</td>\n",
              "      <td>72</td>\n",
              "      <td>0.079119</td>\n",
              "    </tr>\n",
              "    <tr>\n",
              "      <th>13</th>\n",
              "      <td>222</td>\n",
              "      <td>211</td>\n",
              "      <td>141</td>\n",
              "      <td>0.079118</td>\n",
              "    </tr>\n",
              "    <tr>\n",
              "      <th>12</th>\n",
              "      <td>194</td>\n",
              "      <td>243</td>\n",
              "      <td>15</td>\n",
              "      <td>0.078753</td>\n",
              "    </tr>\n",
              "    <tr>\n",
              "      <th>14</th>\n",
              "      <td>56</td>\n",
              "      <td>76</td>\n",
              "      <td>230</td>\n",
              "      <td>0.078442</td>\n",
              "    </tr>\n",
              "    <tr>\n",
              "      <th>25</th>\n",
              "      <td>202</td>\n",
              "      <td>241</td>\n",
              "      <td>119</td>\n",
              "      <td>0.078428</td>\n",
              "    </tr>\n",
              "    <tr>\n",
              "      <th>36</th>\n",
              "      <td>111</td>\n",
              "      <td>113</td>\n",
              "      <td>141</td>\n",
              "      <td>0.078104</td>\n",
              "    </tr>\n",
              "    <tr>\n",
              "      <th>43</th>\n",
              "      <td>218</td>\n",
              "      <td>233</td>\n",
              "      <td>236</td>\n",
              "      <td>0.077717</td>\n",
              "    </tr>\n",
              "    <tr>\n",
              "      <th>27</th>\n",
              "      <td>139</td>\n",
              "      <td>115</td>\n",
              "      <td>134</td>\n",
              "      <td>0.077713</td>\n",
              "    </tr>\n",
              "    <tr>\n",
              "      <th>35</th>\n",
              "      <td>187</td>\n",
              "      <td>199</td>\n",
              "      <td>88</td>\n",
              "      <td>0.076520</td>\n",
              "    </tr>\n",
              "    <tr>\n",
              "      <th>20</th>\n",
              "      <td>195</td>\n",
              "      <td>103</td>\n",
              "      <td>66</td>\n",
              "      <td>0.076175</td>\n",
              "    </tr>\n",
              "    <tr>\n",
              "      <th>45</th>\n",
              "      <td>161</td>\n",
              "      <td>246</td>\n",
              "      <td>30</td>\n",
              "      <td>0.075360</td>\n",
              "    </tr>\n",
              "    <tr>\n",
              "      <th>2</th>\n",
              "      <td>240</td>\n",
              "      <td>134</td>\n",
              "      <td>247</td>\n",
              "      <td>0.074667</td>\n",
              "    </tr>\n",
              "    <tr>\n",
              "      <th>48</th>\n",
              "      <td>121</td>\n",
              "      <td>252</td>\n",
              "      <td>225</td>\n",
              "      <td>0.073456</td>\n",
              "    </tr>\n",
              "    <tr>\n",
              "      <th>29</th>\n",
              "      <td>236</td>\n",
              "      <td>224</td>\n",
              "      <td>52</td>\n",
              "      <td>0.072870</td>\n",
              "    </tr>\n",
              "    <tr>\n",
              "      <th>19</th>\n",
              "      <td>245</td>\n",
              "      <td>105</td>\n",
              "      <td>211</td>\n",
              "      <td>0.072731</td>\n",
              "    </tr>\n",
              "    <tr>\n",
              "      <th>44</th>\n",
              "      <td>122</td>\n",
              "      <td>193</td>\n",
              "      <td>42</td>\n",
              "      <td>0.072703</td>\n",
              "    </tr>\n",
              "    <tr>\n",
              "      <th>26</th>\n",
              "      <td>103</td>\n",
              "      <td>69</td>\n",
              "      <td>200</td>\n",
              "      <td>0.072124</td>\n",
              "    </tr>\n",
              "    <tr>\n",
              "      <th>30</th>\n",
              "      <td>107</td>\n",
              "      <td>228</td>\n",
              "      <td>185</td>\n",
              "      <td>0.071595</td>\n",
              "    </tr>\n",
              "    <tr>\n",
              "      <th>47</th>\n",
              "      <td>42</td>\n",
              "      <td>48</td>\n",
              "      <td>170</td>\n",
              "      <td>0.064668</td>\n",
              "    </tr>\n",
              "    <tr>\n",
              "      <th>46</th>\n",
              "      <td>39</td>\n",
              "      <td>9</td>\n",
              "      <td>248</td>\n",
              "      <td>0.061912</td>\n",
              "    </tr>\n",
              "    <tr>\n",
              "      <th>1</th>\n",
              "      <td>44</td>\n",
              "      <td>212</td>\n",
              "      <td>123</td>\n",
              "      <td>0.056938</td>\n",
              "    </tr>\n",
              "    <tr>\n",
              "      <th>41</th>\n",
              "      <td>22</td>\n",
              "      <td>35</td>\n",
              "      <td>252</td>\n",
              "      <td>0.054613</td>\n",
              "    </tr>\n",
              "    <tr>\n",
              "      <th>40</th>\n",
              "      <td>23</td>\n",
              "      <td>248</td>\n",
              "      <td>215</td>\n",
              "      <td>0.049717</td>\n",
              "    </tr>\n",
              "    <tr>\n",
              "      <th>28</th>\n",
              "      <td>17</td>\n",
              "      <td>90</td>\n",
              "      <td>225</td>\n",
              "      <td>0.047049</td>\n",
              "    </tr>\n",
              "    <tr>\n",
              "      <th>38</th>\n",
              "      <td>17</td>\n",
              "      <td>70</td>\n",
              "      <td>250</td>\n",
              "      <td>0.034452</td>\n",
              "    </tr>\n",
              "    <tr>\n",
              "      <th>5</th>\n",
              "      <td>62</td>\n",
              "      <td>8</td>\n",
              "      <td>15</td>\n",
              "      <td>0.030099</td>\n",
              "    </tr>\n",
              "    <tr>\n",
              "      <th>23</th>\n",
              "      <td>10</td>\n",
              "      <td>152</td>\n",
              "      <td>249</td>\n",
              "      <td>0.026550</td>\n",
              "    </tr>\n",
              "    <tr>\n",
              "      <th>37</th>\n",
              "      <td>11</td>\n",
              "      <td>95</td>\n",
              "      <td>214</td>\n",
              "      <td>0.016217</td>\n",
              "    </tr>\n",
              "    <tr>\n",
              "      <th>39</th>\n",
              "      <td>8</td>\n",
              "      <td>128</td>\n",
              "      <td>38</td>\n",
              "      <td>0.012781</td>\n",
              "    </tr>\n",
              "  </tbody>\n",
              "</table>\n",
              "</div>"
            ],
            "text/plain": [
              "    rf_estimators  rf_max_depth  rf_max_features  valid_r2_score\n",
              "11            119            26               41        0.092461\n",
              "32            176            20              174        0.089397\n",
              "22            149            32               56        0.088203\n",
              "18            247            18               60        0.087702\n",
              "17            195            58               32        0.086192\n",
              "9             202            18              114        0.085724\n",
              "0              66            58              170        0.085489\n",
              "6              97           200              127        0.084782\n",
              "34            197            85              235        0.083829\n",
              "49            152            72               53        0.083199\n",
              "3             169            98              254        0.081914\n",
              "10            232           111               11        0.081648\n",
              "8             224           152              224        0.081574\n",
              "15             92            80               81        0.081314\n",
              "16            231           191               46        0.081091\n",
              "7             253            74              252        0.080760\n",
              "33            251            86               71        0.080605\n",
              "24            182           160              117        0.080148\n",
              "21            115           143               53        0.080130\n",
              "42            207           196               40        0.080019\n",
              "4              86           165               88        0.079906\n",
              "31             96            16               72        0.079119\n",
              "13            222           211              141        0.079118\n",
              "12            194           243               15        0.078753\n",
              "14             56            76              230        0.078442\n",
              "25            202           241              119        0.078428\n",
              "36            111           113              141        0.078104\n",
              "43            218           233              236        0.077717\n",
              "27            139           115              134        0.077713\n",
              "35            187           199               88        0.076520\n",
              "20            195           103               66        0.076175\n",
              "45            161           246               30        0.075360\n",
              "2             240           134              247        0.074667\n",
              "48            121           252              225        0.073456\n",
              "29            236           224               52        0.072870\n",
              "19            245           105              211        0.072731\n",
              "44            122           193               42        0.072703\n",
              "26            103            69              200        0.072124\n",
              "30            107           228              185        0.071595\n",
              "47             42            48              170        0.064668\n",
              "46             39             9              248        0.061912\n",
              "1              44           212              123        0.056938\n",
              "41             22            35              252        0.054613\n",
              "40             23           248              215        0.049717\n",
              "28             17            90              225        0.047049\n",
              "38             17            70              250        0.034452\n",
              "5              62             8               15        0.030099\n",
              "23             10           152              249        0.026550\n",
              "37             11            95              214        0.016217\n",
              "39              8           128               38        0.012781"
            ]
          },
          "metadata": {
            "tags": []
          },
          "execution_count": 87
        }
      ]
    },
    {
      "cell_type": "code",
      "metadata": {
        "id": "hL40_7KF6-BT",
        "colab": {
          "base_uri": "https://localhost:8080/",
          "height": 358
        },
        "outputId": "0e69b747-03ff-4db4-fc04-05ef48dbea67"
      },
      "source": [
        "fig, ax = plt.subplots(1,3,figsize=(21,7))\n",
        "sns.scatterplot(data=perf_df, x=\"rf_estimators\", y=\"valid_r2_score\", ax=ax[0])\n",
        "sns.scatterplot(data=perf_df, x=\"rf_max_depth\", y=\"valid_r2_score\", ax=ax[1])\n",
        "sns.scatterplot(data=perf_df, x=\"rf_max_features\", y=\"valid_r2_score\", ax=ax[2])\n",
        "fig.tight_layout()"
      ],
      "execution_count": 88,
      "outputs": [
        {
          "output_type": "display_data",
          "data": {
            "image/png": "[encoded data removed]",
            "text/plain": [
              "<Figure size 1512x504 with 3 Axes>"
            ]
          },
          "metadata": {
            "tags": []
          }
        }
      ]
    },
    {
      "cell_type": "markdown",
      "metadata": {
        "id": "Za2roo8B7AfH"
      },
      "source": [
        "### Bayesian search"
      ]
    },
    {
      "cell_type": "code",
      "metadata": {
        "id": "iIHILV2R7Fz4"
      },
      "source": [
        "#define loss function\n",
        "def lossfn(p):\n",
        "    params[\"rf_estimators\"] = int(p[\"rf_estimator\"])\n",
        "    params[\"rf_max_depth\"] = int(p[\"rf_depth\"])\n",
        "    params[\"rf_max_features\"] = int(p[\"rf_feature\"])\n",
        "    \n",
        "    tparam = parse.wrapper(params)\n",
        "    pl = mp.ModelPipeline(tparam)\n",
        "    pl.train_model()\n",
        "    perf_data = pl.model_wrapper.get_perf_data(subset=\"valid\", epoch_label=\"best\")\n",
        "    pred_results = perf_data.get_prediction_results()\n",
        "    r2 = pred_results['r2_score']\n",
        "    return {'loss': 1-r2, \n",
        "            'status': STATUS_OK, \n",
        "            'model': tparam.model_tarball_path, \n",
        "            'rf_estimator': params[\"rf_estimators\"],\n",
        "            'rf_depth': params[\"rf_max_depth\"],\n",
        "            'rf_feature': params[\"rf_max_features\"]}\n",
        "\n",
        "space = {\n",
        "    \"rf_estimator\": hp.uniform(\"rf_estimator\", 8, 256),\n",
        "    \"rf_depth\": hp.uniform(\"rf_depth\", 8, 256),\n",
        "    \"rf_feature\": hp.uniform(\"rf_feature\", 8, 256)\n",
        "}"
      ],
      "execution_count": 89,
      "outputs": []
    },
    {
      "cell_type": "code",
      "metadata": {
        "id": "ndFs9n6f7G-Y",
        "colab": {
          "base_uri": "https://localhost:8080/"
        },
        "outputId": "7eac435c-706e-4268-ff11-27e2df799b7d"
      },
      "source": [
        "trials = Trials()\n",
        "best = fmin(lossfn, space, algo=tpe.suggest, max_evals=5, trials=trials)"
      ],
      "execution_count": 90,
      "outputs": [
        {
          "output_type": "stream",
          "text": [
            "number of features: 1024\n",
            "  0%|          | 0/5 [00:35<?, ?it/s, best loss: ?]"
          ],
          "name": "stdout"
        },
        {
          "output_type": "stream",
          "text": [
            "2021-04-06 04:06:43,177 Previous dataset split restored\n"
          ],
          "name": "stderr"
        },
        {
          "output_type": "stream",
          "text": [
            "n_cnt\n",
            "[7647.]\n",
            "y_means\n",
            "[5.29077697]\n",
            "y_stds\n",
            "[0.71495872]\n",
            "TIMING: dataset construction took 0.339 s\n",
            "Loading dataset from disk.\n",
            "TIMING: dataset construction took 0.048 s\n",
            "Loading dataset from disk.\n",
            "TIMING: dataset construction took 0.050 s\n",
            "Loading dataset from disk.\n",
            "  0%|          | 0/5 [00:38<?, ?it/s, best loss: ?]"
          ],
          "name": "stdout"
        },
        {
          "output_type": "stream",
          "text": [
            "2021-04-06 04:07:05,424 Wrote model metadata to file ampl_output/curated_combined_df_1/RF_ecfp_scaffold_regression/23017ac3-9a66-4fb4-96c4-2144c2c96166/model_metadata.json\n"
          ],
          "name": "stderr"
        },
        {
          "output_type": "stream",
          "text": [
            "Wrote model tarball to ampl_output/curated_combined_df_1_model_23017ac3-9a66-4fb4-96c4-2144c2c96166.tar.gz\n",
            "  0%|          | 0/5 [01:00<?, ?it/s, best loss: ?]"
          ],
          "name": "stdout"
        },
        {
          "output_type": "stream",
          "text": [
            "2021-04-06 04:07:06,121 Wrote model metrics to file ampl_output/curated_combined_df_1/RF_ecfp_scaffold_regression/23017ac3-9a66-4fb4-96c4-2144c2c96166/model_metrics.json\n"
          ],
          "name": "stderr"
        },
        {
          "output_type": "stream",
          "text": [
            "number of features: 1024\n",
            " 20%|██        | 1/5 [01:35<04:01, 60.40s/it, best loss: 0.9285529441858991]"
          ],
          "name": "stdout"
        },
        {
          "output_type": "stream",
          "text": [
            "2021-04-06 04:07:43,721 Previous dataset split restored\n"
          ],
          "name": "stderr"
        },
        {
          "output_type": "stream",
          "text": [
            "n_cnt\n",
            "[7647.]\n",
            "y_means\n",
            "[5.29077697]\n",
            "y_stds\n",
            "[0.71495872]\n",
            "TIMING: dataset construction took 0.340 s\n",
            "Loading dataset from disk.\n",
            "TIMING: dataset construction took 0.049 s\n",
            "Loading dataset from disk.\n",
            "TIMING: dataset construction took 0.052 s\n",
            "Loading dataset from disk.\n",
            " 20%|██        | 1/5 [01:38<04:01, 60.40s/it, best loss: 0.9285529441858991]"
          ],
          "name": "stdout"
        },
        {
          "output_type": "stream",
          "text": [
            "2021-04-06 04:07:48,589 Wrote model metadata to file ampl_output/curated_combined_df_1/RF_ecfp_scaffold_regression/fa16b8a6-cb4f-483b-b273-2505e505f8f9/model_metadata.json\n"
          ],
          "name": "stderr"
        },
        {
          "output_type": "stream",
          "text": [
            "Wrote model tarball to ampl_output/curated_combined_df_1_model_fa16b8a6-cb4f-483b-b273-2505e505f8f9.tar.gz\n",
            " 20%|██        | 1/5 [01:43<04:01, 60.40s/it, best loss: 0.9285529441858991]"
          ],
          "name": "stdout"
        },
        {
          "output_type": "stream",
          "text": [
            "2021-04-06 04:07:49,034 Wrote model metrics to file ampl_output/curated_combined_df_1/RF_ecfp_scaffold_regression/fa16b8a6-cb4f-483b-b273-2505e505f8f9/model_metrics.json\n"
          ],
          "name": "stderr"
        },
        {
          "output_type": "stream",
          "text": [
            "number of features: 1024\n",
            " 40%|████      | 2/5 [02:18<02:45, 55.15s/it, best loss: 0.9285529441858991]"
          ],
          "name": "stdout"
        },
        {
          "output_type": "stream",
          "text": [
            "2021-04-06 04:08:26,533 Previous dataset split restored\n"
          ],
          "name": "stderr"
        },
        {
          "output_type": "stream",
          "text": [
            "n_cnt\n",
            "[7647.]\n",
            "y_means\n",
            "[5.29077697]\n",
            "y_stds\n",
            "[0.71495872]\n",
            "TIMING: dataset construction took 0.333 s\n",
            "Loading dataset from disk.\n",
            "TIMING: dataset construction took 0.051 s\n",
            "Loading dataset from disk.\n",
            "TIMING: dataset construction took 0.051 s\n",
            "Loading dataset from disk.\n",
            " 40%|████      | 2/5 [02:21<02:45, 55.15s/it, best loss: 0.9285529441858991]"
          ],
          "name": "stdout"
        },
        {
          "output_type": "stream",
          "text": [
            "2021-04-06 04:08:40,630 Wrote model metadata to file ampl_output/curated_combined_df_1/RF_ecfp_scaffold_regression/9b446e07-ad08-4b00-b003-ababe7ebcdd0/model_metadata.json\n"
          ],
          "name": "stderr"
        },
        {
          "output_type": "stream",
          "text": [
            "Wrote model tarball to ampl_output/curated_combined_df_1_model_9b446e07-ad08-4b00-b003-ababe7ebcdd0.tar.gz\n",
            " 40%|████      | 2/5 [02:35<02:45, 55.15s/it, best loss: 0.9285529441858991]"
          ],
          "name": "stdout"
        },
        {
          "output_type": "stream",
          "text": [
            "2021-04-06 04:08:41,271 Wrote model metrics to file ampl_output/curated_combined_df_1/RF_ecfp_scaffold_regression/9b446e07-ad08-4b00-b003-ababe7ebcdd0/model_metrics.json\n"
          ],
          "name": "stderr"
        },
        {
          "output_type": "stream",
          "text": [
            "number of features: 1024\n",
            " 60%|██████    | 3/5 [03:10<01:48, 54.28s/it, best loss: 0.9174356132766103]"
          ],
          "name": "stdout"
        },
        {
          "output_type": "stream",
          "text": [
            "2021-04-06 04:09:18,622 Previous dataset split restored\n"
          ],
          "name": "stderr"
        },
        {
          "output_type": "stream",
          "text": [
            "n_cnt\n",
            "[7647.]\n",
            "y_means\n",
            "[5.29077697]\n",
            "y_stds\n",
            "[0.71495872]\n",
            "TIMING: dataset construction took 0.335 s\n",
            "Loading dataset from disk.\n",
            "TIMING: dataset construction took 0.053 s\n",
            "Loading dataset from disk.\n",
            "TIMING: dataset construction took 0.053 s\n",
            "Loading dataset from disk.\n",
            " 60%|██████    | 3/5 [03:13<01:48, 54.28s/it, best loss: 0.9174356132766103]"
          ],
          "name": "stdout"
        },
        {
          "output_type": "stream",
          "text": [
            "2021-04-06 04:09:28,103 Wrote model metadata to file ampl_output/curated_combined_df_1/RF_ecfp_scaffold_regression/f182ea4a-23cf-40a1-8e40-f9ebe4d4b900/model_metadata.json\n"
          ],
          "name": "stderr"
        },
        {
          "output_type": "stream",
          "text": [
            "Wrote model tarball to ampl_output/curated_combined_df_1_model_f182ea4a-23cf-40a1-8e40-f9ebe4d4b900.tar.gz\n",
            " 60%|██████    | 3/5 [03:23<01:48, 54.28s/it, best loss: 0.9174356132766103]"
          ],
          "name": "stdout"
        },
        {
          "output_type": "stream",
          "text": [
            "2021-04-06 04:09:28,881 Wrote model metrics to file ampl_output/curated_combined_df_1/RF_ecfp_scaffold_regression/f182ea4a-23cf-40a1-8e40-f9ebe4d4b900/model_metrics.json\n"
          ],
          "name": "stderr"
        },
        {
          "output_type": "stream",
          "text": [
            "number of features: 1024\n",
            " 80%|████████  | 4/5 [03:58<00:52, 52.28s/it, best loss: 0.9174356132766103]"
          ],
          "name": "stdout"
        },
        {
          "output_type": "stream",
          "text": [
            "2021-04-06 04:10:06,323 Previous dataset split restored\n"
          ],
          "name": "stderr"
        },
        {
          "output_type": "stream",
          "text": [
            "n_cnt\n",
            "[7647.]\n",
            "y_means\n",
            "[5.29077697]\n",
            "y_stds\n",
            "[0.71495872]\n",
            "TIMING: dataset construction took 0.344 s\n",
            "Loading dataset from disk.\n",
            "TIMING: dataset construction took 0.050 s\n",
            "Loading dataset from disk.\n",
            "TIMING: dataset construction took 0.054 s\n",
            "Loading dataset from disk.\n",
            " 80%|████████  | 4/5 [04:01<00:52, 52.28s/it, best loss: 0.9174356132766103]"
          ],
          "name": "stdout"
        },
        {
          "output_type": "stream",
          "text": [
            "2021-04-06 04:10:15,416 Wrote model metadata to file ampl_output/curated_combined_df_1/RF_ecfp_scaffold_regression/6ed5a58e-87b5-4f71-bf1a-d7e339be10ba/model_metadata.json\n"
          ],
          "name": "stderr"
        },
        {
          "output_type": "stream",
          "text": [
            "Wrote model tarball to ampl_output/curated_combined_df_1_model_6ed5a58e-87b5-4f71-bf1a-d7e339be10ba.tar.gz\n",
            " 80%|████████  | 4/5 [04:09<00:52, 52.28s/it, best loss: 0.9174356132766103]"
          ],
          "name": "stdout"
        },
        {
          "output_type": "stream",
          "text": [
            "2021-04-06 04:10:15,528 Wrote model metrics to file ampl_output/curated_combined_df_1/RF_ecfp_scaffold_regression/6ed5a58e-87b5-4f71-bf1a-d7e339be10ba/model_metrics.json\n"
          ],
          "name": "stderr"
        },
        {
          "output_type": "stream",
          "text": [
            "100%|██████████| 5/5 [04:09<00:00, 49.96s/it, best loss: 0.9148991870749018]\n"
          ],
          "name": "stdout"
        }
      ]
    },
    {
      "cell_type": "code",
      "metadata": {
        "id": "sC-LVt3VtPDc",
        "colab": {
          "base_uri": "https://localhost:8080/",
          "height": 635
        },
        "outputId": "65c8f365-48ce-4124-c684-5f316c0f6c07"
      },
      "source": [
        "r2_list = [1-trials.trials[i][\"result\"][\"loss\"] for i in range(len(trials.trials))]\n",
        "fig, ax = plt.subplots(1,1,figsize=(10,10))\n",
        "sns.lineplot(x=list(range(1,len(trials.trials)+1)), y=r2_list, ax=ax)\n",
        "ax.set_ylim(0.2,0.6)"
      ],
      "execution_count": 91,
      "outputs": [
        {
          "output_type": "execute_result",
          "data": {
            "text/plain": [
              "(0.2, 0.6)"
            ]
          },
          "metadata": {
            "tags": []
          },
          "execution_count": 91
        },
        {
          "output_type": "display_data",
          "data": {
            "image/png": "[encoded data removed]",
            "text/plain": [
              "<Figure size 720x720 with 1 Axes>"
            ]
          },
          "metadata": {
            "tags": []
          }
        }
      ]
    },
    {
      "cell_type": "code",
      "metadata": {
        "id": "-2_z-vFLtUYb"
      },
      "source": [
        "rfe_list = [trials.trials[i][\"result\"][\"rf_estimator\"] for i in range(len(trials.trials))]\n",
        "rfd_list = [trials.trials[i][\"result\"][\"rf_depth\"] for i in range(len(trials.trials))]\n",
        "rff_list = [trials.trials[i][\"result\"][\"rf_feature\"] for i in range(len(trials.trials))]"
      ],
      "execution_count": 92,
      "outputs": []
    },
    {
      "cell_type": "code",
      "metadata": {
        "id": "sDMxDhM5tXHa",
        "colab": {
          "base_uri": "https://localhost:8080/",
          "height": 204
        },
        "outputId": "46721872-1fa6-4db4-b44a-caa7954634b8"
      },
      "source": [
        "perf_df = pd.DataFrame({\"rf_estimators\": rfe_list, \"rf_max_depth\": rfd_list, \"rf_max_features\": rff_list, \"valid_r2_score\": r2_list})\n",
        "perf_df.sort_values(by=\"valid_r2_score\", ascending=False)"
      ],
      "execution_count": 93,
      "outputs": [
        {
          "output_type": "execute_result",
          "data": {
            "text/html": [
              "<div>\n",
              "<style scoped>\n",
              "    .dataframe tbody tr th:only-of-type {\n",
              "        vertical-align: middle;\n",
              "    }\n",
              "\n",
              "    .dataframe tbody tr th {\n",
              "        vertical-align: top;\n",
              "    }\n",
              "\n",
              "    .dataframe thead th {\n",
              "        text-align: right;\n",
              "    }\n",
              "</style>\n",
              "<table border=\"1\" class=\"dataframe\">\n",
              "  <thead>\n",
              "    <tr style=\"text-align: right;\">\n",
              "      <th></th>\n",
              "      <th>rf_estimators</th>\n",
              "      <th>rf_max_depth</th>\n",
              "      <th>rf_max_features</th>\n",
              "      <th>valid_r2_score</th>\n",
              "    </tr>\n",
              "  </thead>\n",
              "  <tbody>\n",
              "    <tr>\n",
              "      <th>4</th>\n",
              "      <td>122</td>\n",
              "      <td>14</td>\n",
              "      <td>139</td>\n",
              "      <td>0.085101</td>\n",
              "    </tr>\n",
              "    <tr>\n",
              "      <th>2</th>\n",
              "      <td>122</td>\n",
              "      <td>147</td>\n",
              "      <td>131</td>\n",
              "      <td>0.082564</td>\n",
              "    </tr>\n",
              "    <tr>\n",
              "      <th>3</th>\n",
              "      <td>145</td>\n",
              "      <td>255</td>\n",
              "      <td>49</td>\n",
              "      <td>0.078899</td>\n",
              "    </tr>\n",
              "    <tr>\n",
              "      <th>0</th>\n",
              "      <td>137</td>\n",
              "      <td>136</td>\n",
              "      <td>221</td>\n",
              "      <td>0.071447</td>\n",
              "    </tr>\n",
              "    <tr>\n",
              "      <th>1</th>\n",
              "      <td>78</td>\n",
              "      <td>233</td>\n",
              "      <td>10</td>\n",
              "      <td>0.061240</td>\n",
              "    </tr>\n",
              "  </tbody>\n",
              "</table>\n",
              "</div>"
            ],
            "text/plain": [
              "   rf_estimators  rf_max_depth  rf_max_features  valid_r2_score\n",
              "4            122            14              139        0.085101\n",
              "2            122           147              131        0.082564\n",
              "3            145           255               49        0.078899\n",
              "0            137           136              221        0.071447\n",
              "1             78           233               10        0.061240"
            ]
          },
          "metadata": {
            "tags": []
          },
          "execution_count": 93
        }
      ]
    },
    {
      "cell_type": "markdown",
      "metadata": {
        "id": "XB0K5BimtYDS"
      },
      "source": [
        "#### Save Bayesian optimization trial object and continue later"
      ]
    },
    {
      "cell_type": "code",
      "metadata": {
        "id": "VzXDDEF_r8h8"
      },
      "source": [
        "# save the trial object\n",
        "trial_file = os.path.join(\"hp_trial.pkl\")\n",
        "with open(trial_file, \"wb\") as f:\n",
        "    pickle.dump(trials, f)"
      ],
      "execution_count": 94,
      "outputs": []
    },
    {
      "cell_type": "code",
      "metadata": {
        "id": "jSWVhsjfsINl"
      },
      "source": [
        "# load the trial object\n",
        "with open(trial_file, \"rb\") as f:\n",
        "    new_trials = pickle.load(f)"
      ],
      "execution_count": 95,
      "outputs": []
    },
    {
      "cell_type": "code",
      "metadata": {
        "id": "IXcOynF7sLMn",
        "colab": {
          "base_uri": "https://localhost:8080/"
        },
        "outputId": "1264700d-265f-43b0-80b1-eeb5f31f71e4"
      },
      "source": [
        "# continue HPO\n",
        "best = fmin(lossfn, space, algo=tpe.suggest, max_evals=50, trials=new_trials)"
      ],
      "execution_count": 96,
      "outputs": [
        {
          "output_type": "stream",
          "text": [
            "number of features: 1024\n",
            "  0%|          | 0/45 [00:35<?, ?it/s, best loss: ?]"
          ],
          "name": "stdout"
        },
        {
          "output_type": "stream",
          "text": [
            "2021-04-06 04:10:53,608 Previous dataset split restored\n"
          ],
          "name": "stderr"
        },
        {
          "output_type": "stream",
          "text": [
            "n_cnt\n",
            "[7647.]\n",
            "y_means\n",
            "[5.29077697]\n",
            "y_stds\n",
            "[0.71495872]\n",
            "TIMING: dataset construction took 0.345 s\n",
            "Loading dataset from disk.\n",
            "TIMING: dataset construction took 0.050 s\n",
            "Loading dataset from disk.\n",
            "TIMING: dataset construction took 0.052 s\n",
            "Loading dataset from disk.\n",
            "  0%|          | 0/45 [00:38<?, ?it/s, best loss: ?]"
          ],
          "name": "stdout"
        },
        {
          "output_type": "stream",
          "text": [
            "2021-04-06 04:11:00,988 Wrote model metadata to file ampl_output/curated_combined_df_1/RF_ecfp_scaffold_regression/a06058f2-f255-4ab3-b5e0-04c16543e55e/model_metadata.json\n"
          ],
          "name": "stderr"
        },
        {
          "output_type": "stream",
          "text": [
            "Wrote model tarball to ampl_output/curated_combined_df_1_model_a06058f2-f255-4ab3-b5e0-04c16543e55e.tar.gz\n",
            "  0%|          | 0/45 [00:45<?, ?it/s, best loss: ?]"
          ],
          "name": "stdout"
        },
        {
          "output_type": "stream",
          "text": [
            "2021-04-06 04:11:01,540 Wrote model metrics to file ampl_output/curated_combined_df_1/RF_ecfp_scaffold_regression/a06058f2-f255-4ab3-b5e0-04c16543e55e/model_metrics.json\n"
          ],
          "name": "stderr"
        },
        {
          "output_type": "stream",
          "text": [
            "number of features: 1024\n",
            "  2%|▏         | 1/45 [01:20<33:22, 45.51s/it, best loss: 0.9148991870749018]"
          ],
          "name": "stdout"
        },
        {
          "output_type": "stream",
          "text": [
            "2021-04-06 04:11:39,316 Previous dataset split restored\n"
          ],
          "name": "stderr"
        },
        {
          "output_type": "stream",
          "text": [
            "n_cnt\n",
            "[7647.]\n",
            "y_means\n",
            "[5.29077697]\n",
            "y_stds\n",
            "[0.71495872]\n",
            "TIMING: dataset construction took 0.359 s\n",
            "Loading dataset from disk.\n",
            "TIMING: dataset construction took 0.051 s\n",
            "Loading dataset from disk.\n",
            "TIMING: dataset construction took 0.054 s\n",
            "Loading dataset from disk.\n",
            "  2%|▏         | 1/45 [01:24<33:22, 45.51s/it, best loss: 0.9148991870749018]"
          ],
          "name": "stdout"
        },
        {
          "output_type": "stream",
          "text": [
            "2021-04-06 04:11:52,525 Wrote model metadata to file ampl_output/curated_combined_df_1/RF_ecfp_scaffold_regression/802f9a32-7ce2-4d32-b574-73fbe9e2c056/model_metadata.json\n"
          ],
          "name": "stderr"
        },
        {
          "output_type": "stream",
          "text": [
            "Wrote model tarball to ampl_output/curated_combined_df_1_model_802f9a32-7ce2-4d32-b574-73fbe9e2c056.tar.gz\n",
            "  2%|▏         | 1/45 [01:37<33:22, 45.51s/it, best loss: 0.9148991870749018]"
          ],
          "name": "stdout"
        },
        {
          "output_type": "stream",
          "text": [
            "2021-04-06 04:11:53,100 Wrote model metrics to file ampl_output/curated_combined_df_1/RF_ecfp_scaffold_regression/802f9a32-7ce2-4d32-b574-73fbe9e2c056/model_metrics.json\n"
          ],
          "name": "stderr"
        },
        {
          "output_type": "stream",
          "text": [
            "number of features: 1024\n",
            "  4%|▍         | 2/45 [02:12<33:54, 47.32s/it, best loss: 0.9148991870749018]"
          ],
          "name": "stdout"
        },
        {
          "output_type": "stream",
          "text": [
            "2021-04-06 04:12:31,000 Previous dataset split restored\n"
          ],
          "name": "stderr"
        },
        {
          "output_type": "stream",
          "text": [
            "n_cnt\n",
            "[7647.]\n",
            "y_means\n",
            "[5.29077697]\n",
            "y_stds\n",
            "[0.71495872]\n",
            "TIMING: dataset construction took 0.356 s\n",
            "Loading dataset from disk.\n",
            "TIMING: dataset construction took 0.052 s\n",
            "Loading dataset from disk.\n",
            "TIMING: dataset construction took 0.053 s\n",
            "Loading dataset from disk.\n",
            "  4%|▍         | 2/45 [02:15<33:54, 47.32s/it, best loss: 0.9148991870749018]"
          ],
          "name": "stdout"
        },
        {
          "output_type": "stream",
          "text": [
            "2021-04-06 04:12:45,833 Wrote model metadata to file ampl_output/curated_combined_df_1/RF_ecfp_scaffold_regression/fc403f9e-6477-4a05-9093-7a77ad496aa9/model_metadata.json\n"
          ],
          "name": "stderr"
        },
        {
          "output_type": "stream",
          "text": [
            "Wrote model tarball to ampl_output/curated_combined_df_1_model_fc403f9e-6477-4a05-9093-7a77ad496aa9.tar.gz\n",
            "  4%|▍         | 2/45 [02:30<33:54, 47.32s/it, best loss: 0.9148991870749018]"
          ],
          "name": "stdout"
        },
        {
          "output_type": "stream",
          "text": [
            "2021-04-06 04:12:46,658 Wrote model metrics to file ampl_output/curated_combined_df_1/RF_ecfp_scaffold_regression/fc403f9e-6477-4a05-9093-7a77ad496aa9/model_metrics.json\n"
          ],
          "name": "stderr"
        },
        {
          "output_type": "stream",
          "text": [
            "number of features: 1024\n",
            "  7%|▋         | 3/45 [03:05<34:26, 49.19s/it, best loss: 0.914843193553458]"
          ],
          "name": "stdout"
        },
        {
          "output_type": "stream",
          "text": [
            "2021-04-06 04:13:24,397 Previous dataset split restored\n"
          ],
          "name": "stderr"
        },
        {
          "output_type": "stream",
          "text": [
            "n_cnt\n",
            "[7647.]\n",
            "y_means\n",
            "[5.29077697]\n",
            "y_stds\n",
            "[0.71495872]\n",
            "TIMING: dataset construction took 0.359 s\n",
            "Loading dataset from disk.\n",
            "TIMING: dataset construction took 0.051 s\n",
            "Loading dataset from disk.\n",
            "TIMING: dataset construction took 0.052 s\n",
            "Loading dataset from disk.\n",
            "  7%|▋         | 3/45 [03:09<34:26, 49.19s/it, best loss: 0.914843193553458]"
          ],
          "name": "stdout"
        },
        {
          "output_type": "stream",
          "text": [
            "2021-04-06 04:13:31,462 Wrote model metadata to file ampl_output/curated_combined_df_1/RF_ecfp_scaffold_regression/993cf926-6178-4a58-be90-f6ac7384f10b/model_metadata.json\n"
          ],
          "name": "stderr"
        },
        {
          "output_type": "stream",
          "text": [
            "Wrote model tarball to ampl_output/curated_combined_df_1_model_993cf926-6178-4a58-be90-f6ac7384f10b.tar.gz\n",
            "  7%|▋         | 3/45 [03:15<34:26, 49.19s/it, best loss: 0.914843193553458]"
          ],
          "name": "stdout"
        },
        {
          "output_type": "stream",
          "text": [
            "2021-04-06 04:13:31,812 Wrote model metrics to file ampl_output/curated_combined_df_1/RF_ecfp_scaffold_regression/993cf926-6178-4a58-be90-f6ac7384f10b/model_metrics.json\n"
          ],
          "name": "stderr"
        },
        {
          "output_type": "stream",
          "text": [
            "number of features: 1024\n",
            "  9%|▉         | 4/45 [03:50<32:47, 47.98s/it, best loss: 0.914843193553458]"
          ],
          "name": "stdout"
        },
        {
          "output_type": "stream",
          "text": [
            "2021-04-06 04:14:09,424 Previous dataset split restored\n"
          ],
          "name": "stderr"
        },
        {
          "output_type": "stream",
          "text": [
            "n_cnt\n",
            "[7647.]\n",
            "y_means\n",
            "[5.29077697]\n",
            "y_stds\n",
            "[0.71495872]\n",
            "TIMING: dataset construction took 0.354 s\n",
            "Loading dataset from disk.\n",
            "TIMING: dataset construction took 0.050 s\n",
            "Loading dataset from disk.\n",
            "TIMING: dataset construction took 0.052 s\n",
            "Loading dataset from disk.\n",
            "  9%|▉         | 4/45 [03:54<32:47, 47.98s/it, best loss: 0.914843193553458]"
          ],
          "name": "stdout"
        },
        {
          "output_type": "stream",
          "text": [
            "2021-04-06 04:14:14,376 Wrote model metadata to file ampl_output/curated_combined_df_1/RF_ecfp_scaffold_regression/f96bed3d-c6ef-4c8f-8436-0e44e2759c93/model_metadata.json\n"
          ],
          "name": "stderr"
        },
        {
          "output_type": "stream",
          "text": [
            "Wrote model tarball to ampl_output/curated_combined_df_1_model_f96bed3d-c6ef-4c8f-8436-0e44e2759c93.tar.gz\n",
            "  9%|▉         | 4/45 [03:58<32:47, 47.98s/it, best loss: 0.914843193553458]"
          ],
          "name": "stdout"
        },
        {
          "output_type": "stream",
          "text": [
            "2021-04-06 04:14:14,570 Wrote model metrics to file ampl_output/curated_combined_df_1/RF_ecfp_scaffold_regression/f96bed3d-c6ef-4c8f-8436-0e44e2759c93/model_metrics.json\n"
          ],
          "name": "stderr"
        },
        {
          "output_type": "stream",
          "text": [
            "number of features: 1024\n",
            " 11%|█         | 5/45 [04:33<30:56, 46.41s/it, best loss: 0.914843193553458]"
          ],
          "name": "stdout"
        },
        {
          "output_type": "stream",
          "text": [
            "2021-04-06 04:14:52,205 Previous dataset split restored\n"
          ],
          "name": "stderr"
        },
        {
          "output_type": "stream",
          "text": [
            "n_cnt\n",
            "[7647.]\n",
            "y_means\n",
            "[5.29077697]\n",
            "y_stds\n",
            "[0.71495872]\n",
            "TIMING: dataset construction took 0.339 s\n",
            "Loading dataset from disk.\n",
            "TIMING: dataset construction took 0.053 s\n",
            "Loading dataset from disk.\n",
            "TIMING: dataset construction took 0.053 s\n",
            "Loading dataset from disk.\n",
            " 11%|█         | 5/45 [04:36<30:56, 46.41s/it, best loss: 0.914843193553458]"
          ],
          "name": "stdout"
        },
        {
          "output_type": "stream",
          "text": [
            "2021-04-06 04:15:06,345 Wrote model metadata to file ampl_output/curated_combined_df_1/RF_ecfp_scaffold_regression/e3c69cc8-afb8-4a8d-9b34-240d573a6aed/model_metadata.json\n"
          ],
          "name": "stderr"
        },
        {
          "output_type": "stream",
          "text": [
            "Wrote model tarball to ampl_output/curated_combined_df_1_model_e3c69cc8-afb8-4a8d-9b34-240d573a6aed.tar.gz\n",
            " 11%|█         | 5/45 [04:50<30:56, 46.41s/it, best loss: 0.914843193553458]"
          ],
          "name": "stdout"
        },
        {
          "output_type": "stream",
          "text": [
            "2021-04-06 04:15:06,921 Wrote model metrics to file ampl_output/curated_combined_df_1/RF_ecfp_scaffold_regression/e3c69cc8-afb8-4a8d-9b34-240d573a6aed/model_metrics.json\n"
          ],
          "name": "stderr"
        },
        {
          "output_type": "stream",
          "text": [
            "number of features: 1024\n",
            " 13%|█▎        | 6/45 [05:26<31:19, 48.20s/it, best loss: 0.914843193553458]"
          ],
          "name": "stdout"
        },
        {
          "output_type": "stream",
          "text": [
            "2021-04-06 04:15:44,635 Previous dataset split restored\n"
          ],
          "name": "stderr"
        },
        {
          "output_type": "stream",
          "text": [
            "n_cnt\n",
            "[7647.]\n",
            "y_means\n",
            "[5.29077697]\n",
            "y_stds\n",
            "[0.71495872]\n",
            "TIMING: dataset construction took 0.343 s\n",
            "Loading dataset from disk.\n",
            "TIMING: dataset construction took 0.051 s\n",
            "Loading dataset from disk.\n",
            "TIMING: dataset construction took 0.052 s\n",
            "Loading dataset from disk.\n",
            " 13%|█▎        | 6/45 [05:29<31:19, 48.20s/it, best loss: 0.914843193553458]"
          ],
          "name": "stdout"
        },
        {
          "output_type": "stream",
          "text": [
            "2021-04-06 04:16:02,359 Wrote model metadata to file ampl_output/curated_combined_df_1/RF_ecfp_scaffold_regression/6fdb6dbe-97ac-45ad-a635-7f1784f4325d/model_metadata.json\n"
          ],
          "name": "stderr"
        },
        {
          "output_type": "stream",
          "text": [
            "Wrote model tarball to ampl_output/curated_combined_df_1_model_6fdb6dbe-97ac-45ad-a635-7f1784f4325d.tar.gz\n",
            " 13%|█▎        | 6/45 [05:47<31:19, 48.20s/it, best loss: 0.914843193553458]"
          ],
          "name": "stdout"
        },
        {
          "output_type": "stream",
          "text": [
            "2021-04-06 04:16:03,433 Wrote model metrics to file ampl_output/curated_combined_df_1/RF_ecfp_scaffold_regression/6fdb6dbe-97ac-45ad-a635-7f1784f4325d/model_metrics.json\n"
          ],
          "name": "stderr"
        },
        {
          "output_type": "stream",
          "text": [
            "number of features: 1024\n",
            " 16%|█▌        | 7/45 [06:22<32:06, 50.69s/it, best loss: 0.914843193553458]"
          ],
          "name": "stdout"
        },
        {
          "output_type": "stream",
          "text": [
            "2021-04-06 04:16:41,091 Previous dataset split restored\n"
          ],
          "name": "stderr"
        },
        {
          "output_type": "stream",
          "text": [
            "n_cnt\n",
            "[7647.]\n",
            "y_means\n",
            "[5.29077697]\n",
            "y_stds\n",
            "[0.71495872]\n",
            "TIMING: dataset construction took 0.352 s\n",
            "Loading dataset from disk.\n",
            "TIMING: dataset construction took 0.053 s\n",
            "Loading dataset from disk.\n",
            "TIMING: dataset construction took 0.050 s\n",
            "Loading dataset from disk.\n",
            " 16%|█▌        | 7/45 [06:25<32:06, 50.69s/it, best loss: 0.914843193553458]"
          ],
          "name": "stdout"
        },
        {
          "output_type": "stream",
          "text": [
            "2021-04-06 04:16:49,651 Wrote model metadata to file ampl_output/curated_combined_df_1/RF_ecfp_scaffold_regression/1632c537-40a2-4b27-89ad-631e79368c6b/model_metadata.json\n"
          ],
          "name": "stderr"
        },
        {
          "output_type": "stream",
          "text": [
            "Wrote model tarball to ampl_output/curated_combined_df_1_model_1632c537-40a2-4b27-89ad-631e79368c6b.tar.gz\n",
            " 16%|█▌        | 7/45 [06:34<32:06, 50.69s/it, best loss: 0.914843193553458]"
          ],
          "name": "stdout"
        },
        {
          "output_type": "stream",
          "text": [
            "2021-04-06 04:16:50,137 Wrote model metrics to file ampl_output/curated_combined_df_1/RF_ecfp_scaffold_regression/1632c537-40a2-4b27-89ad-631e79368c6b/model_metrics.json\n"
          ],
          "name": "stderr"
        },
        {
          "output_type": "stream",
          "text": [
            "number of features: 1024\n",
            " 18%|█▊        | 8/45 [07:09<30:31, 49.49s/it, best loss: 0.9099332449753925]"
          ],
          "name": "stdout"
        },
        {
          "output_type": "stream",
          "text": [
            "2021-04-06 04:17:27,738 Previous dataset split restored\n"
          ],
          "name": "stderr"
        },
        {
          "output_type": "stream",
          "text": [
            "n_cnt\n",
            "[7647.]\n",
            "y_means\n",
            "[5.29077697]\n",
            "y_stds\n",
            "[0.71495872]\n",
            "TIMING: dataset construction took 0.347 s\n",
            "Loading dataset from disk.\n",
            "TIMING: dataset construction took 0.050 s\n",
            "Loading dataset from disk.\n",
            "TIMING: dataset construction took 0.056 s\n",
            "Loading dataset from disk.\n",
            " 18%|█▊        | 8/45 [07:12<30:31, 49.49s/it, best loss: 0.9099332449753925]"
          ],
          "name": "stdout"
        },
        {
          "output_type": "stream",
          "text": [
            "2021-04-06 04:17:53,183 Wrote model metadata to file ampl_output/curated_combined_df_1/RF_ecfp_scaffold_regression/1c83ebee-e53e-429e-b4c6-f120b16ac1d8/model_metadata.json\n"
          ],
          "name": "stderr"
        },
        {
          "output_type": "stream",
          "text": [
            "Wrote model tarball to ampl_output/curated_combined_df_1_model_1c83ebee-e53e-429e-b4c6-f120b16ac1d8.tar.gz\n",
            " 18%|█▊        | 8/45 [07:37<30:31, 49.49s/it, best loss: 0.9099332449753925]"
          ],
          "name": "stdout"
        },
        {
          "output_type": "stream",
          "text": [
            "2021-04-06 04:17:54,042 Wrote model metrics to file ampl_output/curated_combined_df_1/RF_ecfp_scaffold_regression/1c83ebee-e53e-429e-b4c6-f120b16ac1d8/model_metrics.json\n"
          ],
          "name": "stderr"
        },
        {
          "output_type": "stream",
          "text": [
            "number of features: 1024\n",
            " 20%|██        | 9/45 [08:13<32:17, 53.82s/it, best loss: 0.9099332449753925]"
          ],
          "name": "stdout"
        },
        {
          "output_type": "stream",
          "text": [
            "2021-04-06 04:18:31,765 Previous dataset split restored\n"
          ],
          "name": "stderr"
        },
        {
          "output_type": "stream",
          "text": [
            "n_cnt\n",
            "[7647.]\n",
            "y_means\n",
            "[5.29077697]\n",
            "y_stds\n",
            "[0.71495872]\n",
            "TIMING: dataset construction took 0.334 s\n",
            "Loading dataset from disk.\n",
            "TIMING: dataset construction took 0.052 s\n",
            "Loading dataset from disk.\n",
            "TIMING: dataset construction took 0.055 s\n",
            "Loading dataset from disk.\n",
            " 20%|██        | 9/45 [08:16<32:17, 53.82s/it, best loss: 0.9099332449753925]"
          ],
          "name": "stdout"
        },
        {
          "output_type": "stream",
          "text": [
            "2021-04-06 04:18:37,929 Wrote model metadata to file ampl_output/curated_combined_df_1/RF_ecfp_scaffold_regression/8e00469d-d165-47be-8ff8-bbcaaec95cf7/model_metadata.json\n"
          ],
          "name": "stderr"
        },
        {
          "output_type": "stream",
          "text": [
            "Wrote model tarball to ampl_output/curated_combined_df_1_model_8e00469d-d165-47be-8ff8-bbcaaec95cf7.tar.gz\n",
            " 20%|██        | 9/45 [08:22<32:17, 53.82s/it, best loss: 0.9099332449753925]"
          ],
          "name": "stdout"
        },
        {
          "output_type": "stream",
          "text": [
            "2021-04-06 04:18:38,090 Wrote model metrics to file ampl_output/curated_combined_df_1/RF_ecfp_scaffold_regression/8e00469d-d165-47be-8ff8-bbcaaec95cf7/model_metrics.json\n"
          ],
          "name": "stderr"
        },
        {
          "output_type": "stream",
          "text": [
            "number of features: 1024\n",
            " 22%|██▏       | 10/45 [08:57<29:40, 50.88s/it, best loss: 0.9099332449753925]"
          ],
          "name": "stdout"
        },
        {
          "output_type": "stream",
          "text": [
            "2021-04-06 04:19:15,677 Previous dataset split restored\n"
          ],
          "name": "stderr"
        },
        {
          "output_type": "stream",
          "text": [
            "n_cnt\n",
            "[7647.]\n",
            "y_means\n",
            "[5.29077697]\n",
            "y_stds\n",
            "[0.71495872]\n",
            "TIMING: dataset construction took 0.347 s\n",
            "Loading dataset from disk.\n",
            "TIMING: dataset construction took 0.053 s\n",
            "Loading dataset from disk.\n",
            "TIMING: dataset construction took 0.058 s\n",
            "Loading dataset from disk.\n",
            " 22%|██▏       | 10/45 [09:00<29:40, 50.88s/it, best loss: 0.9099332449753925]"
          ],
          "name": "stdout"
        },
        {
          "output_type": "stream",
          "text": [
            "2021-04-06 04:19:25,875 Wrote model metadata to file ampl_output/curated_combined_df_1/RF_ecfp_scaffold_regression/06b4b353-1983-4e74-88a2-b0d6bfda2e61/model_metadata.json\n"
          ],
          "name": "stderr"
        },
        {
          "output_type": "stream",
          "text": [
            "Wrote model tarball to ampl_output/curated_combined_df_1_model_06b4b353-1983-4e74-88a2-b0d6bfda2e61.tar.gz\n",
            " 22%|██▏       | 10/45 [09:10<29:40, 50.88s/it, best loss: 0.9099332449753925]"
          ],
          "name": "stdout"
        },
        {
          "output_type": "stream",
          "text": [
            "2021-04-06 04:19:26,175 Wrote model metrics to file ampl_output/curated_combined_df_1/RF_ecfp_scaffold_regression/06b4b353-1983-4e74-88a2-b0d6bfda2e61/model_metrics.json\n"
          ],
          "name": "stderr"
        },
        {
          "output_type": "stream",
          "text": [
            "number of features: 1024\n",
            " 24%|██▍       | 11/45 [09:46<28:21, 50.04s/it, best loss: 0.9099332449753925]"
          ],
          "name": "stdout"
        },
        {
          "output_type": "stream",
          "text": [
            "2021-04-06 04:20:04,546 Previous dataset split restored\n"
          ],
          "name": "stderr"
        },
        {
          "output_type": "stream",
          "text": [
            "n_cnt\n",
            "[7647.]\n",
            "y_means\n",
            "[5.29077697]\n",
            "y_stds\n",
            "[0.71495872]\n",
            "TIMING: dataset construction took 0.341 s\n",
            "Loading dataset from disk.\n",
            "TIMING: dataset construction took 0.050 s\n",
            "Loading dataset from disk.\n",
            "TIMING: dataset construction took 0.054 s\n",
            "Loading dataset from disk.\n",
            " 24%|██▍       | 11/45 [09:49<28:21, 50.04s/it, best loss: 0.9099332449753925]"
          ],
          "name": "stdout"
        },
        {
          "output_type": "stream",
          "text": [
            "2021-04-06 04:20:47,547 Wrote model metadata to file ampl_output/curated_combined_df_1/RF_ecfp_scaffold_regression/ed24f0ee-aecc-4d5b-a40f-6731ea8d3569/model_metadata.json\n"
          ],
          "name": "stderr"
        },
        {
          "output_type": "stream",
          "text": [
            "Wrote model tarball to ampl_output/curated_combined_df_1_model_ed24f0ee-aecc-4d5b-a40f-6731ea8d3569.tar.gz\n",
            " 24%|██▍       | 11/45 [10:32<28:21, 50.04s/it, best loss: 0.9099332449753925]"
          ],
          "name": "stdout"
        },
        {
          "output_type": "stream",
          "text": [
            "2021-04-06 04:20:48,815 Wrote model metrics to file ampl_output/curated_combined_df_1/RF_ecfp_scaffold_regression/ed24f0ee-aecc-4d5b-a40f-6731ea8d3569/model_metrics.json\n"
          ],
          "name": "stderr"
        },
        {
          "output_type": "stream",
          "text": [
            "number of features: 1024\n",
            " 27%|██▋       | 12/45 [11:08<32:54, 59.83s/it, best loss: 0.9099332449753925]"
          ],
          "name": "stdout"
        },
        {
          "output_type": "stream",
          "text": [
            "2021-04-06 04:21:26,681 Previous dataset split restored\n"
          ],
          "name": "stderr"
        },
        {
          "output_type": "stream",
          "text": [
            "n_cnt\n",
            "[7647.]\n",
            "y_means\n",
            "[5.29077697]\n",
            "y_stds\n",
            "[0.71495872]\n",
            "TIMING: dataset construction took 0.346 s\n",
            "Loading dataset from disk.\n",
            "TIMING: dataset construction took 0.053 s\n",
            "Loading dataset from disk.\n",
            "TIMING: dataset construction took 0.051 s\n",
            "Loading dataset from disk.\n",
            " 27%|██▋       | 12/45 [11:11<32:54, 59.83s/it, best loss: 0.9099332449753925]"
          ],
          "name": "stdout"
        },
        {
          "output_type": "stream",
          "text": [
            "2021-04-06 04:21:33,822 Wrote model metadata to file ampl_output/curated_combined_df_1/RF_ecfp_scaffold_regression/0c7359ee-cafd-4ef0-a98b-fedd0d2d7c1e/model_metadata.json\n"
          ],
          "name": "stderr"
        },
        {
          "output_type": "stream",
          "text": [
            "Wrote model tarball to ampl_output/curated_combined_df_1_model_0c7359ee-cafd-4ef0-a98b-fedd0d2d7c1e.tar.gz\n",
            " 27%|██▋       | 12/45 [11:18<32:54, 59.83s/it, best loss: 0.9099332449753925]"
          ],
          "name": "stdout"
        },
        {
          "output_type": "stream",
          "text": [
            "2021-04-06 04:21:34,529 Wrote model metrics to file ampl_output/curated_combined_df_1/RF_ecfp_scaffold_regression/0c7359ee-cafd-4ef0-a98b-fedd0d2d7c1e/model_metrics.json\n"
          ],
          "name": "stderr"
        },
        {
          "output_type": "stream",
          "text": [
            "number of features: 1024\n",
            " 29%|██▉       | 13/45 [11:58<29:38, 55.59s/it, best loss: 0.9099332449753925]"
          ],
          "name": "stdout"
        },
        {
          "output_type": "stream",
          "text": [
            "2021-04-06 04:22:17,186 Previous dataset split restored\n"
          ],
          "name": "stderr"
        },
        {
          "output_type": "stream",
          "text": [
            "n_cnt\n",
            "[7647.]\n",
            "y_means\n",
            "[5.29077697]\n",
            "y_stds\n",
            "[0.71495872]\n",
            "TIMING: dataset construction took 0.359 s\n",
            "Loading dataset from disk.\n",
            "TIMING: dataset construction took 0.051 s\n",
            "Loading dataset from disk.\n",
            "TIMING: dataset construction took 0.056 s\n",
            "Loading dataset from disk.\n",
            " 29%|██▉       | 13/45 [12:01<29:38, 55.59s/it, best loss: 0.9099332449753925]"
          ],
          "name": "stdout"
        },
        {
          "output_type": "stream",
          "text": [
            "2021-04-06 04:22:29,656 Wrote model metadata to file ampl_output/curated_combined_df_1/RF_ecfp_scaffold_regression/ae5241d7-2eea-4969-b1b9-94b8d5ac785b/model_metadata.json\n"
          ],
          "name": "stderr"
        },
        {
          "output_type": "stream",
          "text": [
            "Wrote model tarball to ampl_output/curated_combined_df_1_model_ae5241d7-2eea-4969-b1b9-94b8d5ac785b.tar.gz\n",
            " 29%|██▉       | 13/45 [12:14<29:38, 55.59s/it, best loss: 0.9099332449753925]"
          ],
          "name": "stdout"
        },
        {
          "output_type": "stream",
          "text": [
            "2021-04-06 04:22:30,330 Wrote model metrics to file ampl_output/curated_combined_df_1/RF_ecfp_scaffold_regression/ae5241d7-2eea-4969-b1b9-94b8d5ac785b/model_metrics.json\n"
          ],
          "name": "stderr"
        },
        {
          "output_type": "stream",
          "text": [
            "number of features: 1024\n",
            " 31%|███       | 14/45 [12:49<28:45, 55.66s/it, best loss: 0.9099332449753925]"
          ],
          "name": "stdout"
        },
        {
          "output_type": "stream",
          "text": [
            "2021-04-06 04:23:07,769 Previous dataset split restored\n"
          ],
          "name": "stderr"
        },
        {
          "output_type": "stream",
          "text": [
            "n_cnt\n",
            "[7647.]\n",
            "y_means\n",
            "[5.29077697]\n",
            "y_stds\n",
            "[0.71495872]\n",
            "TIMING: dataset construction took 0.352 s\n",
            "Loading dataset from disk.\n",
            "TIMING: dataset construction took 0.050 s\n",
            "Loading dataset from disk.\n",
            "TIMING: dataset construction took 0.054 s\n",
            "Loading dataset from disk.\n",
            " 31%|███       | 14/45 [12:52<28:45, 55.66s/it, best loss: 0.9099332449753925]"
          ],
          "name": "stdout"
        },
        {
          "output_type": "stream",
          "text": [
            "2021-04-06 04:23:18,604 Wrote model metadata to file ampl_output/curated_combined_df_1/RF_ecfp_scaffold_regression/2e17880f-95d6-400f-a788-25ba4a7b5a2e/model_metadata.json\n"
          ],
          "name": "stderr"
        },
        {
          "output_type": "stream",
          "text": [
            "Wrote model tarball to ampl_output/curated_combined_df_1_model_2e17880f-95d6-400f-a788-25ba4a7b5a2e.tar.gz\n",
            " 31%|███       | 14/45 [13:02<28:45, 55.66s/it, best loss: 0.9099332449753925]"
          ],
          "name": "stdout"
        },
        {
          "output_type": "stream",
          "text": [
            "2021-04-06 04:23:18,901 Wrote model metrics to file ampl_output/curated_combined_df_1/RF_ecfp_scaffold_regression/2e17880f-95d6-400f-a788-25ba4a7b5a2e/model_metrics.json\n"
          ],
          "name": "stderr"
        },
        {
          "output_type": "stream",
          "text": [
            "number of features: 1024\n",
            " 33%|███▎      | 15/45 [13:37<26:45, 53.53s/it, best loss: 0.9099332449753925]"
          ],
          "name": "stdout"
        },
        {
          "output_type": "stream",
          "text": [
            "2021-04-06 04:23:56,286 Previous dataset split restored\n"
          ],
          "name": "stderr"
        },
        {
          "output_type": "stream",
          "text": [
            "n_cnt\n",
            "[7647.]\n",
            "y_means\n",
            "[5.29077697]\n",
            "y_stds\n",
            "[0.71495872]\n",
            "TIMING: dataset construction took 0.341 s\n",
            "Loading dataset from disk.\n",
            "TIMING: dataset construction took 0.052 s\n",
            "Loading dataset from disk.\n",
            "TIMING: dataset construction took 0.054 s\n",
            "Loading dataset from disk.\n",
            " 33%|███▎      | 15/45 [13:41<26:45, 53.53s/it, best loss: 0.9099332449753925]"
          ],
          "name": "stdout"
        },
        {
          "output_type": "stream",
          "text": [
            "2021-04-06 04:24:09,380 Wrote model metadata to file ampl_output/curated_combined_df_1/RF_ecfp_scaffold_regression/eb7e23af-9027-4d06-8877-39415230a3ef/model_metadata.json\n"
          ],
          "name": "stderr"
        },
        {
          "output_type": "stream",
          "text": [
            "Wrote model tarball to ampl_output/curated_combined_df_1_model_eb7e23af-9027-4d06-8877-39415230a3ef.tar.gz\n",
            " 33%|███▎      | 15/45 [13:54<26:45, 53.53s/it, best loss: 0.9099332449753925]"
          ],
          "name": "stdout"
        },
        {
          "output_type": "stream",
          "text": [
            "2021-04-06 04:24:10,334 Wrote model metrics to file ampl_output/curated_combined_df_1/RF_ecfp_scaffold_regression/eb7e23af-9027-4d06-8877-39415230a3ef/model_metrics.json\n"
          ],
          "name": "stderr"
        },
        {
          "output_type": "stream",
          "text": [
            "number of features: 1024\n",
            " 36%|███▌      | 16/45 [14:29<25:34, 52.90s/it, best loss: 0.9099332449753925]"
          ],
          "name": "stdout"
        },
        {
          "output_type": "stream",
          "text": [
            "2021-04-06 04:24:47,988 Previous dataset split restored\n"
          ],
          "name": "stderr"
        },
        {
          "output_type": "stream",
          "text": [
            "n_cnt\n",
            "[7647.]\n",
            "y_means\n",
            "[5.29077697]\n",
            "y_stds\n",
            "[0.71495872]\n",
            "TIMING: dataset construction took 0.355 s\n",
            "Loading dataset from disk.\n",
            "TIMING: dataset construction took 0.049 s\n",
            "Loading dataset from disk.\n",
            "TIMING: dataset construction took 0.053 s\n",
            "Loading dataset from disk.\n",
            " 36%|███▌      | 16/45 [14:32<25:34, 52.90s/it, best loss: 0.9099332449753925]"
          ],
          "name": "stdout"
        },
        {
          "output_type": "stream",
          "text": [
            "2021-04-06 04:24:57,813 Wrote model metadata to file ampl_output/curated_combined_df_1/RF_ecfp_scaffold_regression/990644e9-b740-4d2a-a6b4-c120afe256ce/model_metadata.json\n"
          ],
          "name": "stderr"
        },
        {
          "output_type": "stream",
          "text": [
            "Wrote model tarball to ampl_output/curated_combined_df_1_model_990644e9-b740-4d2a-a6b4-c120afe256ce.tar.gz\n",
            " 36%|███▌      | 16/45 [14:43<25:34, 52.90s/it, best loss: 0.9099332449753925]"
          ],
          "name": "stdout"
        },
        {
          "output_type": "stream",
          "text": [
            "2021-04-06 04:24:59,126 Wrote model metrics to file ampl_output/curated_combined_df_1/RF_ecfp_scaffold_regression/990644e9-b740-4d2a-a6b4-c120afe256ce/model_metrics.json\n"
          ],
          "name": "stderr"
        },
        {
          "output_type": "stream",
          "text": [
            "number of features: 1024\n",
            " 38%|███▊      | 17/45 [15:18<24:06, 51.67s/it, best loss: 0.9099332449753925]"
          ],
          "name": "stdout"
        },
        {
          "output_type": "stream",
          "text": [
            "2021-04-06 04:25:36,787 Previous dataset split restored\n"
          ],
          "name": "stderr"
        },
        {
          "output_type": "stream",
          "text": [
            "n_cnt\n",
            "[7647.]\n",
            "y_means\n",
            "[5.29077697]\n",
            "y_stds\n",
            "[0.71495872]\n",
            "TIMING: dataset construction took 0.359 s\n",
            "Loading dataset from disk.\n",
            "TIMING: dataset construction took 0.049 s\n",
            "Loading dataset from disk.\n",
            "TIMING: dataset construction took 0.053 s\n",
            "Loading dataset from disk.\n",
            " 38%|███▊      | 17/45 [15:21<24:06, 51.67s/it, best loss: 0.9099332449753925]"
          ],
          "name": "stdout"
        },
        {
          "output_type": "stream",
          "text": [
            "2021-04-06 04:25:40,244 Wrote model metadata to file ampl_output/curated_combined_df_1/RF_ecfp_scaffold_regression/ba2e7db6-d23a-444d-9cb0-b3b5c9ced1cd/model_metadata.json\n"
          ],
          "name": "stderr"
        },
        {
          "output_type": "stream",
          "text": [
            "Wrote model tarball to ampl_output/curated_combined_df_1_model_ba2e7db6-d23a-444d-9cb0-b3b5c9ced1cd.tar.gz\n",
            " 38%|███▊      | 17/45 [15:24<24:06, 51.67s/it, best loss: 0.9099332449753925]"
          ],
          "name": "stdout"
        },
        {
          "output_type": "stream",
          "text": [
            "2021-04-06 04:25:40,275 Wrote model metrics to file ampl_output/curated_combined_df_1/RF_ecfp_scaffold_regression/ba2e7db6-d23a-444d-9cb0-b3b5c9ced1cd/model_metrics.json\n"
          ],
          "name": "stderr"
        },
        {
          "output_type": "stream",
          "text": [
            "number of features: 1024\n",
            " 40%|████      | 18/45 [15:59<21:49, 48.51s/it, best loss: 0.9099332449753925]"
          ],
          "name": "stdout"
        },
        {
          "output_type": "stream",
          "text": [
            "2021-04-06 04:26:17,821 Previous dataset split restored\n"
          ],
          "name": "stderr"
        },
        {
          "output_type": "stream",
          "text": [
            "n_cnt\n",
            "[7647.]\n",
            "y_means\n",
            "[5.29077697]\n",
            "y_stds\n",
            "[0.71495872]\n",
            "TIMING: dataset construction took 0.340 s\n",
            "Loading dataset from disk.\n",
            "TIMING: dataset construction took 0.049 s\n",
            "Loading dataset from disk.\n",
            "TIMING: dataset construction took 0.051 s\n",
            "Loading dataset from disk.\n",
            " 40%|████      | 18/45 [16:02<21:49, 48.51s/it, best loss: 0.9099332449753925]"
          ],
          "name": "stdout"
        },
        {
          "output_type": "stream",
          "text": [
            "2021-04-06 04:26:43,142 Wrote model metadata to file ampl_output/curated_combined_df_1/RF_ecfp_scaffold_regression/3852bc61-4ac1-48ae-8c3e-77e87227f75e/model_metadata.json\n"
          ],
          "name": "stderr"
        },
        {
          "output_type": "stream",
          "text": [
            "Wrote model tarball to ampl_output/curated_combined_df_1_model_3852bc61-4ac1-48ae-8c3e-77e87227f75e.tar.gz\n",
            " 40%|████      | 18/45 [16:27<21:49, 48.51s/it, best loss: 0.9099332449753925]"
          ],
          "name": "stdout"
        },
        {
          "output_type": "stream",
          "text": [
            "2021-04-06 04:26:44,019 Wrote model metrics to file ampl_output/curated_combined_df_1/RF_ecfp_scaffold_regression/3852bc61-4ac1-48ae-8c3e-77e87227f75e/model_metrics.json\n"
          ],
          "name": "stderr"
        },
        {
          "output_type": "stream",
          "text": [
            "number of features: 1024\n",
            " 42%|████▏     | 19/45 [17:03<23:00, 53.08s/it, best loss: 0.9099332449753925]"
          ],
          "name": "stdout"
        },
        {
          "output_type": "stream",
          "text": [
            "2021-04-06 04:27:21,621 Previous dataset split restored\n"
          ],
          "name": "stderr"
        },
        {
          "output_type": "stream",
          "text": [
            "n_cnt\n",
            "[7647.]\n",
            "y_means\n",
            "[5.29077697]\n",
            "y_stds\n",
            "[0.71495872]\n",
            "TIMING: dataset construction took 0.352 s\n",
            "Loading dataset from disk.\n",
            "TIMING: dataset construction took 0.051 s\n",
            "Loading dataset from disk.\n",
            "TIMING: dataset construction took 0.050 s\n",
            "Loading dataset from disk.\n",
            " 42%|████▏     | 19/45 [17:06<23:00, 53.08s/it, best loss: 0.9099332449753925]"
          ],
          "name": "stdout"
        },
        {
          "output_type": "stream",
          "text": [
            "2021-04-06 04:27:31,555 Wrote model metadata to file ampl_output/curated_combined_df_1/RF_ecfp_scaffold_regression/40d18bea-b866-418d-b2df-be87802811aa/model_metadata.json\n"
          ],
          "name": "stderr"
        },
        {
          "output_type": "stream",
          "text": [
            "Wrote model tarball to ampl_output/curated_combined_df_1_model_40d18bea-b866-418d-b2df-be87802811aa.tar.gz\n",
            " 42%|████▏     | 19/45 [17:16<23:00, 53.08s/it, best loss: 0.9099332449753925]"
          ],
          "name": "stdout"
        },
        {
          "output_type": "stream",
          "text": [
            "2021-04-06 04:27:32,325 Wrote model metrics to file ampl_output/curated_combined_df_1/RF_ecfp_scaffold_regression/40d18bea-b866-418d-b2df-be87802811aa/model_metrics.json\n"
          ],
          "name": "stderr"
        },
        {
          "output_type": "stream",
          "text": [
            "number of features: 1024\n",
            " 44%|████▍     | 20/45 [17:51<21:31, 51.65s/it, best loss: 0.9099332449753925]"
          ],
          "name": "stdout"
        },
        {
          "output_type": "stream",
          "text": [
            "2021-04-06 04:28:09,992 Previous dataset split restored\n"
          ],
          "name": "stderr"
        },
        {
          "output_type": "stream",
          "text": [
            "n_cnt\n",
            "[7647.]\n",
            "y_means\n",
            "[5.29077697]\n",
            "y_stds\n",
            "[0.71495872]\n",
            "TIMING: dataset construction took 0.359 s\n",
            "Loading dataset from disk.\n",
            "TIMING: dataset construction took 0.057 s\n",
            "Loading dataset from disk.\n",
            "TIMING: dataset construction took 0.056 s\n",
            "Loading dataset from disk.\n",
            " 44%|████▍     | 20/45 [17:54<21:31, 51.65s/it, best loss: 0.9099332449753925]"
          ],
          "name": "stdout"
        },
        {
          "output_type": "stream",
          "text": [
            "2021-04-06 04:28:26,086 Wrote model metadata to file ampl_output/curated_combined_df_1/RF_ecfp_scaffold_regression/924d03a6-7e20-492a-930d-b20b874c6156/model_metadata.json\n"
          ],
          "name": "stderr"
        },
        {
          "output_type": "stream",
          "text": [
            "Wrote model tarball to ampl_output/curated_combined_df_1_model_924d03a6-7e20-492a-930d-b20b874c6156.tar.gz\n",
            " 44%|████▍     | 20/45 [18:10<21:31, 51.65s/it, best loss: 0.9099332449753925]"
          ],
          "name": "stdout"
        },
        {
          "output_type": "stream",
          "text": [
            "2021-04-06 04:28:26,839 Wrote model metrics to file ampl_output/curated_combined_df_1/RF_ecfp_scaffold_regression/924d03a6-7e20-492a-930d-b20b874c6156/model_metrics.json\n"
          ],
          "name": "stderr"
        },
        {
          "output_type": "stream",
          "text": [
            "number of features: 1024\n",
            " 47%|████▋     | 21/45 [18:46<21:00, 52.51s/it, best loss: 0.9099332449753925]"
          ],
          "name": "stdout"
        },
        {
          "output_type": "stream",
          "text": [
            "2021-04-06 04:29:04,593 Previous dataset split restored\n"
          ],
          "name": "stderr"
        },
        {
          "output_type": "stream",
          "text": [
            "n_cnt\n",
            "[7647.]\n",
            "y_means\n",
            "[5.29077697]\n",
            "y_stds\n",
            "[0.71495872]\n",
            "TIMING: dataset construction took 0.344 s\n",
            "Loading dataset from disk.\n",
            "TIMING: dataset construction took 0.050 s\n",
            "Loading dataset from disk.\n",
            "TIMING: dataset construction took 0.051 s\n",
            "Loading dataset from disk.\n",
            " 47%|████▋     | 21/45 [18:49<21:00, 52.51s/it, best loss: 0.9099332449753925]"
          ],
          "name": "stdout"
        },
        {
          "output_type": "stream",
          "text": [
            "2021-04-06 04:29:21,767 Wrote model metadata to file ampl_output/curated_combined_df_1/RF_ecfp_scaffold_regression/b71fbce0-239f-4654-945e-0e823dad5b6f/model_metadata.json\n"
          ],
          "name": "stderr"
        },
        {
          "output_type": "stream",
          "text": [
            "Wrote model tarball to ampl_output/curated_combined_df_1_model_b71fbce0-239f-4654-945e-0e823dad5b6f.tar.gz\n",
            " 47%|████▋     | 21/45 [19:06<21:00, 52.51s/it, best loss: 0.9099332449753925]"
          ],
          "name": "stdout"
        },
        {
          "output_type": "stream",
          "text": [
            "2021-04-06 04:29:23,012 Wrote model metrics to file ampl_output/curated_combined_df_1/RF_ecfp_scaffold_regression/b71fbce0-239f-4654-945e-0e823dad5b6f/model_metrics.json\n"
          ],
          "name": "stderr"
        },
        {
          "output_type": "stream",
          "text": [
            "number of features: 1024\n",
            " 49%|████▉     | 22/45 [19:42<20:33, 53.61s/it, best loss: 0.9099332449753925]"
          ],
          "name": "stdout"
        },
        {
          "output_type": "stream",
          "text": [
            "2021-04-06 04:30:00,672 Previous dataset split restored\n"
          ],
          "name": "stderr"
        },
        {
          "output_type": "stream",
          "text": [
            "n_cnt\n",
            "[7647.]\n",
            "y_means\n",
            "[5.29077697]\n",
            "y_stds\n",
            "[0.71495872]\n",
            "TIMING: dataset construction took 0.350 s\n",
            "Loading dataset from disk.\n",
            "TIMING: dataset construction took 0.049 s\n",
            "Loading dataset from disk.\n",
            "TIMING: dataset construction took 0.051 s\n",
            "Loading dataset from disk.\n",
            " 49%|████▉     | 22/45 [19:45<20:33, 53.61s/it, best loss: 0.9099332449753925]"
          ],
          "name": "stdout"
        },
        {
          "output_type": "stream",
          "text": [
            "2021-04-06 04:30:18,595 Wrote model metadata to file ampl_output/curated_combined_df_1/RF_ecfp_scaffold_regression/2b4e4e33-9fb8-4229-a3e9-f6b248994a44/model_metadata.json\n"
          ],
          "name": "stderr"
        },
        {
          "output_type": "stream",
          "text": [
            "Wrote model tarball to ampl_output/curated_combined_df_1_model_2b4e4e33-9fb8-4229-a3e9-f6b248994a44.tar.gz\n",
            " 49%|████▉     | 22/45 [20:02<20:33, 53.61s/it, best loss: 0.9099332449753925]"
          ],
          "name": "stdout"
        },
        {
          "output_type": "stream",
          "text": [
            "2021-04-06 04:30:18,795 Wrote model metrics to file ampl_output/curated_combined_df_1/RF_ecfp_scaffold_regression/2b4e4e33-9fb8-4229-a3e9-f6b248994a44/model_metrics.json\n"
          ],
          "name": "stderr"
        },
        {
          "output_type": "stream",
          "text": [
            "number of features: 1024\n",
            " 51%|█████     | 23/45 [20:38<19:53, 54.26s/it, best loss: 0.9099332449753925]"
          ],
          "name": "stdout"
        },
        {
          "output_type": "stream",
          "text": [
            "2021-04-06 04:30:56,627 Previous dataset split restored\n"
          ],
          "name": "stderr"
        },
        {
          "output_type": "stream",
          "text": [
            "n_cnt\n",
            "[7647.]\n",
            "y_means\n",
            "[5.29077697]\n",
            "y_stds\n",
            "[0.71495872]\n",
            "TIMING: dataset construction took 0.350 s\n",
            "Loading dataset from disk.\n",
            "TIMING: dataset construction took 0.050 s\n",
            "Loading dataset from disk.\n",
            "TIMING: dataset construction took 0.056 s\n",
            "Loading dataset from disk.\n",
            " 51%|█████     | 23/45 [20:41<19:53, 54.26s/it, best loss: 0.9099332449753925]"
          ],
          "name": "stdout"
        },
        {
          "output_type": "stream",
          "text": [
            "2021-04-06 04:31:07,301 Wrote model metadata to file ampl_output/curated_combined_df_1/RF_ecfp_scaffold_regression/1cae1338-cc2d-4d7d-b44a-1ac6ef4616c5/model_metadata.json\n"
          ],
          "name": "stderr"
        },
        {
          "output_type": "stream",
          "text": [
            "Wrote model tarball to ampl_output/curated_combined_df_1_model_1cae1338-cc2d-4d7d-b44a-1ac6ef4616c5.tar.gz\n",
            " 51%|█████     | 23/45 [20:52<19:53, 54.26s/it, best loss: 0.9099332449753925]"
          ],
          "name": "stdout"
        },
        {
          "output_type": "stream",
          "text": [
            "2021-04-06 04:31:08,072 Wrote model metrics to file ampl_output/curated_combined_df_1/RF_ecfp_scaffold_regression/1cae1338-cc2d-4d7d-b44a-1ac6ef4616c5/model_metrics.json\n"
          ],
          "name": "stderr"
        },
        {
          "output_type": "stream",
          "text": [
            "number of features: 1024\n",
            " 53%|█████▎    | 24/45 [21:27<18:28, 52.77s/it, best loss: 0.9099332449753925]"
          ],
          "name": "stdout"
        },
        {
          "output_type": "stream",
          "text": [
            "2021-04-06 04:31:45,818 Previous dataset split restored\n"
          ],
          "name": "stderr"
        },
        {
          "output_type": "stream",
          "text": [
            "n_cnt\n",
            "[7647.]\n",
            "y_means\n",
            "[5.29077697]\n",
            "y_stds\n",
            "[0.71495872]\n",
            "TIMING: dataset construction took 0.348 s\n",
            "Loading dataset from disk.\n",
            "TIMING: dataset construction took 0.049 s\n",
            "Loading dataset from disk.\n",
            "TIMING: dataset construction took 0.057 s\n",
            "Loading dataset from disk.\n",
            " 53%|█████▎    | 24/45 [21:30<18:28, 52.77s/it, best loss: 0.9099332449753925]"
          ],
          "name": "stdout"
        },
        {
          "output_type": "stream",
          "text": [
            "2021-04-06 04:32:03,895 Wrote model metadata to file ampl_output/curated_combined_df_1/RF_ecfp_scaffold_regression/567433d9-8a88-48f2-ae1d-22bd1bf173f3/model_metadata.json\n"
          ],
          "name": "stderr"
        },
        {
          "output_type": "stream",
          "text": [
            "Wrote model tarball to ampl_output/curated_combined_df_1_model_567433d9-8a88-48f2-ae1d-22bd1bf173f3.tar.gz\n",
            " 53%|█████▎    | 24/45 [21:48<18:28, 52.77s/it, best loss: 0.9099332449753925]"
          ],
          "name": "stdout"
        },
        {
          "output_type": "stream",
          "text": [
            "2021-04-06 04:32:04,787 Wrote model metrics to file ampl_output/curated_combined_df_1/RF_ecfp_scaffold_regression/567433d9-8a88-48f2-ae1d-22bd1bf173f3/model_metrics.json\n"
          ],
          "name": "stderr"
        },
        {
          "output_type": "stream",
          "text": [
            "number of features: 1024\n",
            " 56%|█████▌    | 25/45 [22:24<17:59, 53.95s/it, best loss: 0.9099332449753925]"
          ],
          "name": "stdout"
        },
        {
          "output_type": "stream",
          "text": [
            "2021-04-06 04:32:42,612 Previous dataset split restored\n"
          ],
          "name": "stderr"
        },
        {
          "output_type": "stream",
          "text": [
            "n_cnt\n",
            "[7647.]\n",
            "y_means\n",
            "[5.29077697]\n",
            "y_stds\n",
            "[0.71495872]\n",
            "TIMING: dataset construction took 0.352 s\n",
            "Loading dataset from disk.\n",
            "TIMING: dataset construction took 0.049 s\n",
            "Loading dataset from disk.\n",
            "TIMING: dataset construction took 0.052 s\n",
            "Loading dataset from disk.\n",
            " 56%|█████▌    | 25/45 [22:27<17:59, 53.95s/it, best loss: 0.9099332449753925]"
          ],
          "name": "stdout"
        },
        {
          "output_type": "stream",
          "text": [
            "2021-04-06 04:32:47,708 Wrote model metadata to file ampl_output/curated_combined_df_1/RF_ecfp_scaffold_regression/7fad5c46-1fbc-4c80-82ed-2da250a2a07e/model_metadata.json\n"
          ],
          "name": "stderr"
        },
        {
          "output_type": "stream",
          "text": [
            "Wrote model tarball to ampl_output/curated_combined_df_1_model_7fad5c46-1fbc-4c80-82ed-2da250a2a07e.tar.gz\n",
            " 56%|█████▌    | 25/45 [22:32<17:59, 53.95s/it, best loss: 0.9099332449753925]"
          ],
          "name": "stdout"
        },
        {
          "output_type": "stream",
          "text": [
            "2021-04-06 04:32:48,115 Wrote model metrics to file ampl_output/curated_combined_df_1/RF_ecfp_scaffold_regression/7fad5c46-1fbc-4c80-82ed-2da250a2a07e/model_metrics.json\n"
          ],
          "name": "stderr"
        },
        {
          "output_type": "stream",
          "text": [
            "number of features: 1024\n",
            " 58%|█████▊    | 26/45 [23:07<16:04, 50.76s/it, best loss: 0.9099332449753925]"
          ],
          "name": "stdout"
        },
        {
          "output_type": "stream",
          "text": [
            "2021-04-06 04:33:25,611 Previous dataset split restored\n"
          ],
          "name": "stderr"
        },
        {
          "output_type": "stream",
          "text": [
            "n_cnt\n",
            "[7647.]\n",
            "y_means\n",
            "[5.29077697]\n",
            "y_stds\n",
            "[0.71495872]\n",
            "TIMING: dataset construction took 0.357 s\n",
            "Loading dataset from disk.\n",
            "TIMING: dataset construction took 0.050 s\n",
            "Loading dataset from disk.\n",
            "TIMING: dataset construction took 0.058 s\n",
            "Loading dataset from disk.\n",
            " 58%|█████▊    | 26/45 [23:10<16:04, 50.76s/it, best loss: 0.9099332449753925]"
          ],
          "name": "stdout"
        },
        {
          "output_type": "stream",
          "text": [
            "2021-04-06 04:33:38,678 Wrote model metadata to file ampl_output/curated_combined_df_1/RF_ecfp_scaffold_regression/973bdcd4-dfd1-4463-a03d-50a3ff5fc8da/model_metadata.json\n"
          ],
          "name": "stderr"
        },
        {
          "output_type": "stream",
          "text": [
            "Wrote model tarball to ampl_output/curated_combined_df_1_model_973bdcd4-dfd1-4463-a03d-50a3ff5fc8da.tar.gz\n",
            " 58%|█████▊    | 26/45 [23:23<16:04, 50.76s/it, best loss: 0.9099332449753925]"
          ],
          "name": "stdout"
        },
        {
          "output_type": "stream",
          "text": [
            "2021-04-06 04:33:39,494 Wrote model metrics to file ampl_output/curated_combined_df_1/RF_ecfp_scaffold_regression/973bdcd4-dfd1-4463-a03d-50a3ff5fc8da/model_metrics.json\n"
          ],
          "name": "stderr"
        },
        {
          "output_type": "stream",
          "text": [
            "number of features: 1024\n",
            " 60%|██████    | 27/45 [23:58<15:17, 50.95s/it, best loss: 0.9099332449753925]"
          ],
          "name": "stdout"
        },
        {
          "output_type": "stream",
          "text": [
            "2021-04-06 04:34:17,167 Previous dataset split restored\n"
          ],
          "name": "stderr"
        },
        {
          "output_type": "stream",
          "text": [
            "n_cnt\n",
            "[7647.]\n",
            "y_means\n",
            "[5.29077697]\n",
            "y_stds\n",
            "[0.71495872]\n",
            "TIMING: dataset construction took 0.348 s\n",
            "Loading dataset from disk.\n",
            "TIMING: dataset construction took 0.049 s\n",
            "Loading dataset from disk.\n",
            "TIMING: dataset construction took 0.058 s\n",
            "Loading dataset from disk.\n",
            " 60%|██████    | 27/45 [24:01<15:17, 50.95s/it, best loss: 0.9099332449753925]"
          ],
          "name": "stdout"
        },
        {
          "output_type": "stream",
          "text": [
            "2021-04-06 04:34:31,577 Wrote model metadata to file ampl_output/curated_combined_df_1/RF_ecfp_scaffold_regression/150c89a5-3790-4998-8657-4ff429e1f112/model_metadata.json\n"
          ],
          "name": "stderr"
        },
        {
          "output_type": "stream",
          "text": [
            "Wrote model tarball to ampl_output/curated_combined_df_1_model_150c89a5-3790-4998-8657-4ff429e1f112.tar.gz\n",
            " 60%|██████    | 27/45 [24:15<15:17, 50.95s/it, best loss: 0.9099332449753925]"
          ],
          "name": "stdout"
        },
        {
          "output_type": "stream",
          "text": [
            "2021-04-06 04:34:31,922 Wrote model metrics to file ampl_output/curated_combined_df_1/RF_ecfp_scaffold_regression/150c89a5-3790-4998-8657-4ff429e1f112/model_metrics.json\n"
          ],
          "name": "stderr"
        },
        {
          "output_type": "stream",
          "text": [
            "number of features: 1024\n",
            " 62%|██████▏   | 28/45 [24:51<14:33, 51.39s/it, best loss: 0.9099332449753925]"
          ],
          "name": "stdout"
        },
        {
          "output_type": "stream",
          "text": [
            "2021-04-06 04:35:09,722 Previous dataset split restored\n"
          ],
          "name": "stderr"
        },
        {
          "output_type": "stream",
          "text": [
            "n_cnt\n",
            "[7647.]\n",
            "y_means\n",
            "[5.29077697]\n",
            "y_stds\n",
            "[0.71495872]\n",
            "TIMING: dataset construction took 0.364 s\n",
            "Loading dataset from disk.\n",
            "TIMING: dataset construction took 0.050 s\n",
            "Loading dataset from disk.\n",
            "TIMING: dataset construction took 0.053 s\n",
            "Loading dataset from disk.\n",
            " 62%|██████▏   | 28/45 [24:54<14:33, 51.39s/it, best loss: 0.9099332449753925]"
          ],
          "name": "stdout"
        },
        {
          "output_type": "stream",
          "text": [
            "2021-04-06 04:35:13,709 Wrote model metadata to file ampl_output/curated_combined_df_1/RF_ecfp_scaffold_regression/cf6ff6bd-4567-4589-9b55-f3f947d528bb/model_metadata.json\n"
          ],
          "name": "stderr"
        },
        {
          "output_type": "stream",
          "text": [
            "Wrote model tarball to ampl_output/curated_combined_df_1_model_cf6ff6bd-4567-4589-9b55-f3f947d528bb.tar.gz\n",
            " 62%|██████▏   | 28/45 [24:57<14:33, 51.39s/it, best loss: 0.9099332449753925]"
          ],
          "name": "stdout"
        },
        {
          "output_type": "stream",
          "text": [
            "2021-04-06 04:35:13,774 Wrote model metrics to file ampl_output/curated_combined_df_1/RF_ecfp_scaffold_regression/cf6ff6bd-4567-4589-9b55-f3f947d528bb/model_metrics.json\n"
          ],
          "name": "stderr"
        },
        {
          "output_type": "stream",
          "text": [
            "number of features: 1024\n",
            " 64%|██████▍   | 29/45 [25:32<12:56, 48.53s/it, best loss: 0.9099332449753925]"
          ],
          "name": "stdout"
        },
        {
          "output_type": "stream",
          "text": [
            "2021-04-06 04:35:51,369 Previous dataset split restored\n"
          ],
          "name": "stderr"
        },
        {
          "output_type": "stream",
          "text": [
            "n_cnt\n",
            "[7647.]\n",
            "y_means\n",
            "[5.29077697]\n",
            "y_stds\n",
            "[0.71495872]\n",
            "TIMING: dataset construction took 0.353 s\n",
            "Loading dataset from disk.\n",
            "TIMING: dataset construction took 0.048 s\n",
            "Loading dataset from disk.\n",
            "TIMING: dataset construction took 0.051 s\n",
            "Loading dataset from disk.\n",
            " 64%|██████▍   | 29/45 [25:36<12:56, 48.53s/it, best loss: 0.9099332449753925]"
          ],
          "name": "stdout"
        },
        {
          "output_type": "stream",
          "text": [
            "2021-04-06 04:35:55,490 Wrote model metadata to file ampl_output/curated_combined_df_1/RF_ecfp_scaffold_regression/85ecf3fc-13be-4262-83e1-e07bac38cc38/model_metadata.json\n"
          ],
          "name": "stderr"
        },
        {
          "output_type": "stream",
          "text": [
            "Wrote model tarball to ampl_output/curated_combined_df_1_model_85ecf3fc-13be-4262-83e1-e07bac38cc38.tar.gz\n",
            " 64%|██████▍   | 29/45 [25:39<12:56, 48.53s/it, best loss: 0.9099332449753925]"
          ],
          "name": "stdout"
        },
        {
          "output_type": "stream",
          "text": [
            "2021-04-06 04:35:55,528 Wrote model metrics to file ampl_output/curated_combined_df_1/RF_ecfp_scaffold_regression/85ecf3fc-13be-4262-83e1-e07bac38cc38/model_metrics.json\n"
          ],
          "name": "stderr"
        },
        {
          "output_type": "stream",
          "text": [
            "number of features: 1024\n",
            " 67%|██████▋   | 30/45 [26:14<11:37, 46.50s/it, best loss: 0.9099332449753925]"
          ],
          "name": "stdout"
        },
        {
          "output_type": "stream",
          "text": [
            "2021-04-06 04:36:33,332 Previous dataset split restored\n"
          ],
          "name": "stderr"
        },
        {
          "output_type": "stream",
          "text": [
            "n_cnt\n",
            "[7647.]\n",
            "y_means\n",
            "[5.29077697]\n",
            "y_stds\n",
            "[0.71495872]\n",
            "TIMING: dataset construction took 0.350 s\n",
            "Loading dataset from disk.\n",
            "TIMING: dataset construction took 0.050 s\n",
            "Loading dataset from disk.\n",
            "TIMING: dataset construction took 0.053 s\n",
            "Loading dataset from disk.\n",
            " 67%|██████▋   | 30/45 [26:18<11:37, 46.50s/it, best loss: 0.9099332449753925]"
          ],
          "name": "stdout"
        },
        {
          "output_type": "stream",
          "text": [
            "2021-04-06 04:36:38,614 Wrote model metadata to file ampl_output/curated_combined_df_1/RF_ecfp_scaffold_regression/fde029c9-08c1-4269-8d6a-5e1156a195ca/model_metadata.json\n"
          ],
          "name": "stderr"
        },
        {
          "output_type": "stream",
          "text": [
            "Wrote model tarball to ampl_output/curated_combined_df_1_model_fde029c9-08c1-4269-8d6a-5e1156a195ca.tar.gz\n",
            " 67%|██████▋   | 30/45 [26:23<11:37, 46.50s/it, best loss: 0.9099332449753925]"
          ],
          "name": "stdout"
        },
        {
          "output_type": "stream",
          "text": [
            "2021-04-06 04:36:39,148 Wrote model metrics to file ampl_output/curated_combined_df_1/RF_ecfp_scaffold_regression/fde029c9-08c1-4269-8d6a-5e1156a195ca/model_metrics.json\n"
          ],
          "name": "stderr"
        },
        {
          "output_type": "stream",
          "text": [
            "number of features: 1024\n",
            " 69%|██████▉   | 31/45 [26:58<10:38, 45.63s/it, best loss: 0.9099332449753925]"
          ],
          "name": "stdout"
        },
        {
          "output_type": "stream",
          "text": [
            "2021-04-06 04:37:16,754 Previous dataset split restored\n"
          ],
          "name": "stderr"
        },
        {
          "output_type": "stream",
          "text": [
            "n_cnt\n",
            "[7647.]\n",
            "y_means\n",
            "[5.29077697]\n",
            "y_stds\n",
            "[0.71495872]\n",
            "TIMING: dataset construction took 0.349 s\n",
            "Loading dataset from disk.\n",
            "TIMING: dataset construction took 0.050 s\n",
            "Loading dataset from disk.\n",
            "TIMING: dataset construction took 0.055 s\n",
            "Loading dataset from disk.\n",
            " 69%|██████▉   | 31/45 [27:01<10:38, 45.63s/it, best loss: 0.9099332449753925]"
          ],
          "name": "stdout"
        },
        {
          "output_type": "stream",
          "text": [
            "2021-04-06 04:37:24,766 Wrote model metadata to file ampl_output/curated_combined_df_1/RF_ecfp_scaffold_regression/029fa734-ff5e-4830-97bc-ec8c5a2345a1/model_metadata.json\n"
          ],
          "name": "stderr"
        },
        {
          "output_type": "stream",
          "text": [
            "Wrote model tarball to ampl_output/curated_combined_df_1_model_029fa734-ff5e-4830-97bc-ec8c5a2345a1.tar.gz\n",
            " 69%|██████▉   | 31/45 [27:09<10:38, 45.63s/it, best loss: 0.9099332449753925]"
          ],
          "name": "stdout"
        },
        {
          "output_type": "stream",
          "text": [
            "2021-04-06 04:37:25,301 Wrote model metrics to file ampl_output/curated_combined_df_1/RF_ecfp_scaffold_regression/029fa734-ff5e-4830-97bc-ec8c5a2345a1/model_metrics.json\n"
          ],
          "name": "stderr"
        },
        {
          "output_type": "stream",
          "text": [
            "number of features: 1024\n",
            " 71%|███████   | 32/45 [27:44<09:55, 45.79s/it, best loss: 0.9099332449753925]"
          ],
          "name": "stdout"
        },
        {
          "output_type": "stream",
          "text": [
            "2021-04-06 04:38:02,823 Previous dataset split restored\n"
          ],
          "name": "stderr"
        },
        {
          "output_type": "stream",
          "text": [
            "n_cnt\n",
            "[7647.]\n",
            "y_means\n",
            "[5.29077697]\n",
            "y_stds\n",
            "[0.71495872]\n",
            "TIMING: dataset construction took 0.363 s\n",
            "Loading dataset from disk.\n",
            "TIMING: dataset construction took 0.053 s\n",
            "Loading dataset from disk.\n",
            "TIMING: dataset construction took 0.054 s\n",
            "Loading dataset from disk.\n",
            " 71%|███████   | 32/45 [27:47<09:55, 45.79s/it, best loss: 0.9099332449753925]"
          ],
          "name": "stdout"
        },
        {
          "output_type": "stream",
          "text": [
            "2021-04-06 04:38:18,463 Wrote model metadata to file ampl_output/curated_combined_df_1/RF_ecfp_scaffold_regression/1e091d0f-16b7-443f-bb4c-27d9e3ffa126/model_metadata.json\n"
          ],
          "name": "stderr"
        },
        {
          "output_type": "stream",
          "text": [
            "Wrote model tarball to ampl_output/curated_combined_df_1_model_1e091d0f-16b7-443f-bb4c-27d9e3ffa126.tar.gz\n",
            " 71%|███████   | 32/45 [28:03<09:55, 45.79s/it, best loss: 0.9099332449753925]"
          ],
          "name": "stdout"
        },
        {
          "output_type": "stream",
          "text": [
            "2021-04-06 04:38:19,370 Wrote model metrics to file ampl_output/curated_combined_df_1/RF_ecfp_scaffold_regression/1e091d0f-16b7-443f-bb4c-27d9e3ffa126/model_metrics.json\n"
          ],
          "name": "stderr"
        },
        {
          "output_type": "stream",
          "text": [
            "number of features: 1024\n",
            " 73%|███████▎  | 33/45 [28:44<09:39, 48.27s/it, best loss: 0.9099332449753925]"
          ],
          "name": "stdout"
        },
        {
          "output_type": "stream",
          "text": [
            "2021-04-06 04:39:03,397 Previous dataset split restored\n"
          ],
          "name": "stderr"
        },
        {
          "output_type": "stream",
          "text": [
            "n_cnt\n",
            "[7647.]\n",
            "y_means\n",
            "[5.29077697]\n",
            "y_stds\n",
            "[0.71495872]\n",
            "TIMING: dataset construction took 0.356 s\n",
            "Loading dataset from disk.\n",
            "TIMING: dataset construction took 0.051 s\n",
            "Loading dataset from disk.\n",
            "TIMING: dataset construction took 0.053 s\n",
            "Loading dataset from disk.\n",
            " 73%|███████▎  | 33/45 [28:48<09:39, 48.27s/it, best loss: 0.9099332449753925]"
          ],
          "name": "stdout"
        },
        {
          "output_type": "stream",
          "text": [
            "2021-04-06 04:39:09,009 Wrote model metadata to file ampl_output/curated_combined_df_1/RF_ecfp_scaffold_regression/9eb54f41-5c88-4640-8b57-ac11e4220b0d/model_metadata.json\n"
          ],
          "name": "stderr"
        },
        {
          "output_type": "stream",
          "text": [
            "Wrote model tarball to ampl_output/curated_combined_df_1_model_9eb54f41-5c88-4640-8b57-ac11e4220b0d.tar.gz\n",
            " 73%|███████▎  | 33/45 [28:52<09:39, 48.27s/it, best loss: 0.9099332449753925]"
          ],
          "name": "stdout"
        },
        {
          "output_type": "stream",
          "text": [
            "2021-04-06 04:39:09,037 Wrote model metrics to file ampl_output/curated_combined_df_1/RF_ecfp_scaffold_regression/9eb54f41-5c88-4640-8b57-ac11e4220b0d/model_metrics.json\n"
          ],
          "name": "stderr"
        },
        {
          "output_type": "stream",
          "text": [
            "number of features: 1024\n",
            " 76%|███████▌  | 34/45 [29:28<08:55, 48.69s/it, best loss: 0.9099332449753925]"
          ],
          "name": "stdout"
        },
        {
          "output_type": "stream",
          "text": [
            "2021-04-06 04:39:46,617 Previous dataset split restored\n"
          ],
          "name": "stderr"
        },
        {
          "output_type": "stream",
          "text": [
            "n_cnt\n",
            "[7647.]\n",
            "y_means\n",
            "[5.29077697]\n",
            "y_stds\n",
            "[0.71495872]\n",
            "TIMING: dataset construction took 0.356 s\n",
            "Loading dataset from disk.\n",
            "TIMING: dataset construction took 0.050 s\n",
            "Loading dataset from disk.\n",
            "TIMING: dataset construction took 0.053 s\n",
            "Loading dataset from disk.\n",
            " 76%|███████▌  | 34/45 [29:31<08:55, 48.69s/it, best loss: 0.9099332449753925]"
          ],
          "name": "stdout"
        },
        {
          "output_type": "stream",
          "text": [
            "2021-04-06 04:40:05,649 Wrote model metadata to file ampl_output/curated_combined_df_1/RF_ecfp_scaffold_regression/62962b03-310f-4947-b36d-f30e65219797/model_metadata.json\n"
          ],
          "name": "stderr"
        },
        {
          "output_type": "stream",
          "text": [
            "Wrote model tarball to ampl_output/curated_combined_df_1_model_62962b03-310f-4947-b36d-f30e65219797.tar.gz\n",
            " 76%|███████▌  | 34/45 [29:50<08:55, 48.69s/it, best loss: 0.9099332449753925]"
          ],
          "name": "stdout"
        },
        {
          "output_type": "stream",
          "text": [
            "2021-04-06 04:40:06,394 Wrote model metrics to file ampl_output/curated_combined_df_1/RF_ecfp_scaffold_regression/62962b03-310f-4947-b36d-f30e65219797/model_metrics.json\n"
          ],
          "name": "stderr"
        },
        {
          "output_type": "stream",
          "text": [
            "number of features: 1024\n",
            " 78%|███████▊  | 35/45 [30:25<08:32, 51.29s/it, best loss: 0.9099332449753925]"
          ],
          "name": "stdout"
        },
        {
          "output_type": "stream",
          "text": [
            "2021-04-06 04:40:43,880 Previous dataset split restored\n"
          ],
          "name": "stderr"
        },
        {
          "output_type": "stream",
          "text": [
            "n_cnt\n",
            "[7647.]\n",
            "y_means\n",
            "[5.29077697]\n",
            "y_stds\n",
            "[0.71495872]\n",
            "TIMING: dataset construction took 0.356 s\n",
            "Loading dataset from disk.\n",
            "TIMING: dataset construction took 0.051 s\n",
            "Loading dataset from disk.\n",
            "TIMING: dataset construction took 0.052 s\n",
            "Loading dataset from disk.\n",
            " 78%|███████▊  | 35/45 [30:28<08:32, 51.29s/it, best loss: 0.9099332449753925]"
          ],
          "name": "stdout"
        },
        {
          "output_type": "stream",
          "text": [
            "2021-04-06 04:40:52,848 Wrote model metadata to file ampl_output/curated_combined_df_1/RF_ecfp_scaffold_regression/aebd97c4-0207-461c-b8c5-65dcd0e22490/model_metadata.json\n"
          ],
          "name": "stderr"
        },
        {
          "output_type": "stream",
          "text": [
            "Wrote model tarball to ampl_output/curated_combined_df_1_model_aebd97c4-0207-461c-b8c5-65dcd0e22490.tar.gz\n",
            " 78%|███████▊  | 35/45 [30:37<08:32, 51.29s/it, best loss: 0.9099332449753925]"
          ],
          "name": "stdout"
        },
        {
          "output_type": "stream",
          "text": [
            "2021-04-06 04:40:53,392 Wrote model metrics to file ampl_output/curated_combined_df_1/RF_ecfp_scaffold_regression/aebd97c4-0207-461c-b8c5-65dcd0e22490/model_metrics.json\n"
          ],
          "name": "stderr"
        },
        {
          "output_type": "stream",
          "text": [
            "number of features: 1024\n",
            " 80%|████████  | 36/45 [31:12<07:30, 50.00s/it, best loss: 0.9099332449753925]"
          ],
          "name": "stdout"
        },
        {
          "output_type": "stream",
          "text": [
            "2021-04-06 04:41:30,856 Previous dataset split restored\n"
          ],
          "name": "stderr"
        },
        {
          "output_type": "stream",
          "text": [
            "n_cnt\n",
            "[7647.]\n",
            "y_means\n",
            "[5.29077697]\n",
            "y_stds\n",
            "[0.71495872]\n",
            "TIMING: dataset construction took 0.354 s\n",
            "Loading dataset from disk.\n",
            "TIMING: dataset construction took 0.049 s\n",
            "Loading dataset from disk.\n",
            "TIMING: dataset construction took 0.052 s\n",
            "Loading dataset from disk.\n",
            " 80%|████████  | 36/45 [31:15<07:30, 50.00s/it, best loss: 0.9099332449753925]"
          ],
          "name": "stdout"
        },
        {
          "output_type": "stream",
          "text": [
            "2021-04-06 04:41:41,180 Wrote model metadata to file ampl_output/curated_combined_df_1/RF_ecfp_scaffold_regression/95dc614c-cabe-4fa8-8ab0-c20c617c73a8/model_metadata.json\n"
          ],
          "name": "stderr"
        },
        {
          "output_type": "stream",
          "text": [
            "Wrote model tarball to ampl_output/curated_combined_df_1_model_95dc614c-cabe-4fa8-8ab0-c20c617c73a8.tar.gz\n",
            " 80%|████████  | 36/45 [31:26<07:30, 50.00s/it, best loss: 0.9099332449753925]"
          ],
          "name": "stdout"
        },
        {
          "output_type": "stream",
          "text": [
            "2021-04-06 04:41:42,374 Wrote model metrics to file ampl_output/curated_combined_df_1/RF_ecfp_scaffold_regression/95dc614c-cabe-4fa8-8ab0-c20c617c73a8/model_metrics.json\n"
          ],
          "name": "stderr"
        },
        {
          "output_type": "stream",
          "text": [
            "number of features: 1024\n",
            " 82%|████████▏ | 37/45 [32:01<06:37, 49.70s/it, best loss: 0.9099332449753925]"
          ],
          "name": "stdout"
        },
        {
          "output_type": "stream",
          "text": [
            "2021-04-06 04:42:19,848 Previous dataset split restored\n"
          ],
          "name": "stderr"
        },
        {
          "output_type": "stream",
          "text": [
            "n_cnt\n",
            "[7647.]\n",
            "y_means\n",
            "[5.29077697]\n",
            "y_stds\n",
            "[0.71495872]\n",
            "TIMING: dataset construction took 0.357 s\n",
            "Loading dataset from disk.\n",
            "TIMING: dataset construction took 0.050 s\n",
            "Loading dataset from disk.\n",
            "TIMING: dataset construction took 0.056 s\n",
            "Loading dataset from disk.\n",
            " 82%|████████▏ | 37/45 [32:04<06:37, 49.70s/it, best loss: 0.9099332449753925]"
          ],
          "name": "stdout"
        },
        {
          "output_type": "stream",
          "text": [
            "2021-04-06 04:42:29,640 Wrote model metadata to file ampl_output/curated_combined_df_1/RF_ecfp_scaffold_regression/b697c2f4-0c55-4e4d-a64e-4b677a0e7bc7/model_metadata.json\n"
          ],
          "name": "stderr"
        },
        {
          "output_type": "stream",
          "text": [
            "Wrote model tarball to ampl_output/curated_combined_df_1_model_b697c2f4-0c55-4e4d-a64e-4b677a0e7bc7.tar.gz\n",
            " 82%|████████▏ | 37/45 [32:14<06:37, 49.70s/it, best loss: 0.9099332449753925]"
          ],
          "name": "stdout"
        },
        {
          "output_type": "stream",
          "text": [
            "2021-04-06 04:42:30,192 Wrote model metrics to file ampl_output/curated_combined_df_1/RF_ecfp_scaffold_regression/b697c2f4-0c55-4e4d-a64e-4b677a0e7bc7/model_metrics.json\n"
          ],
          "name": "stderr"
        },
        {
          "output_type": "stream",
          "text": [
            "number of features: 1024\n",
            " 84%|████████▍ | 38/45 [32:49<05:43, 49.13s/it, best loss: 0.9099332449753925]"
          ],
          "name": "stdout"
        },
        {
          "output_type": "stream",
          "text": [
            "2021-04-06 04:43:07,554 Previous dataset split restored\n"
          ],
          "name": "stderr"
        },
        {
          "output_type": "stream",
          "text": [
            "n_cnt\n",
            "[7647.]\n",
            "y_means\n",
            "[5.29077697]\n",
            "y_stds\n",
            "[0.71495872]\n",
            "TIMING: dataset construction took 0.351 s\n",
            "Loading dataset from disk.\n",
            "TIMING: dataset construction took 0.048 s\n",
            "Loading dataset from disk.\n",
            "TIMING: dataset construction took 0.052 s\n",
            "Loading dataset from disk.\n",
            " 84%|████████▍ | 38/45 [32:52<05:43, 49.13s/it, best loss: 0.9099332449753925]"
          ],
          "name": "stdout"
        },
        {
          "output_type": "stream",
          "text": [
            "2021-04-06 04:43:12,094 Wrote model metadata to file ampl_output/curated_combined_df_1/RF_ecfp_scaffold_regression/bb67f848-50f5-429e-991e-e72f94611fdb/model_metadata.json\n"
          ],
          "name": "stderr"
        },
        {
          "output_type": "stream",
          "text": [
            "Wrote model tarball to ampl_output/curated_combined_df_1_model_bb67f848-50f5-429e-991e-e72f94611fdb.tar.gz\n",
            " 84%|████████▍ | 38/45 [32:56<05:43, 49.13s/it, best loss: 0.9099332449753925]"
          ],
          "name": "stdout"
        },
        {
          "output_type": "stream",
          "text": [
            "2021-04-06 04:43:12,224 Wrote model metrics to file ampl_output/curated_combined_df_1/RF_ecfp_scaffold_regression/bb67f848-50f5-429e-991e-e72f94611fdb/model_metrics.json\n"
          ],
          "name": "stderr"
        },
        {
          "output_type": "stream",
          "text": [
            "number of features: 1024\n",
            " 87%|████████▋ | 39/45 [33:31<04:42, 47.00s/it, best loss: 0.9099332449753925]"
          ],
          "name": "stdout"
        },
        {
          "output_type": "stream",
          "text": [
            "2021-04-06 04:43:49,599 Previous dataset split restored\n"
          ],
          "name": "stderr"
        },
        {
          "output_type": "stream",
          "text": [
            "n_cnt\n",
            "[7647.]\n",
            "y_means\n",
            "[5.29077697]\n",
            "y_stds\n",
            "[0.71495872]\n",
            "TIMING: dataset construction took 0.345 s\n",
            "Loading dataset from disk.\n",
            "TIMING: dataset construction took 0.054 s\n",
            "Loading dataset from disk.\n",
            "TIMING: dataset construction took 0.059 s\n",
            "Loading dataset from disk.\n",
            " 87%|████████▋ | 39/45 [33:34<04:42, 47.00s/it, best loss: 0.9099332449753925]"
          ],
          "name": "stdout"
        },
        {
          "output_type": "stream",
          "text": [
            "2021-04-06 04:43:56,198 Wrote model metadata to file ampl_output/curated_combined_df_1/RF_ecfp_scaffold_regression/b22e3511-5f16-4b61-a027-8eea4f048d01/model_metadata.json\n"
          ],
          "name": "stderr"
        },
        {
          "output_type": "stream",
          "text": [
            "Wrote model tarball to ampl_output/curated_combined_df_1_model_b22e3511-5f16-4b61-a027-8eea4f048d01.tar.gz\n",
            " 87%|████████▋ | 39/45 [33:40<04:42, 47.00s/it, best loss: 0.9099332449753925]"
          ],
          "name": "stdout"
        },
        {
          "output_type": "stream",
          "text": [
            "2021-04-06 04:43:56,415 Wrote model metrics to file ampl_output/curated_combined_df_1/RF_ecfp_scaffold_regression/b22e3511-5f16-4b61-a027-8eea4f048d01/model_metrics.json\n"
          ],
          "name": "stderr"
        },
        {
          "output_type": "stream",
          "text": [
            "number of features: 1024\n",
            " 89%|████████▉ | 40/45 [34:15<03:50, 46.16s/it, best loss: 0.9099332449753925]"
          ],
          "name": "stdout"
        },
        {
          "output_type": "stream",
          "text": [
            "2021-04-06 04:44:34,336 Previous dataset split restored\n"
          ],
          "name": "stderr"
        },
        {
          "output_type": "stream",
          "text": [
            "n_cnt\n",
            "[7647.]\n",
            "y_means\n",
            "[5.29077697]\n",
            "y_stds\n",
            "[0.71495872]\n",
            "TIMING: dataset construction took 0.350 s\n",
            "Loading dataset from disk.\n",
            "TIMING: dataset construction took 0.051 s\n",
            "Loading dataset from disk.\n",
            "TIMING: dataset construction took 0.059 s\n",
            "Loading dataset from disk.\n",
            " 89%|████████▉ | 40/45 [34:19<03:50, 46.16s/it, best loss: 0.9099332449753925]"
          ],
          "name": "stdout"
        },
        {
          "output_type": "stream",
          "text": [
            "2021-04-06 04:45:00,222 Wrote model metadata to file ampl_output/curated_combined_df_1/RF_ecfp_scaffold_regression/fb5ec0e6-129e-497c-9205-386d103b65d9/model_metadata.json\n"
          ],
          "name": "stderr"
        },
        {
          "output_type": "stream",
          "text": [
            "Wrote model tarball to ampl_output/curated_combined_df_1_model_fb5ec0e6-129e-497c-9205-386d103b65d9.tar.gz\n",
            " 89%|████████▉ | 40/45 [34:44<03:50, 46.16s/it, best loss: 0.9099332449753925]"
          ],
          "name": "stdout"
        },
        {
          "output_type": "stream",
          "text": [
            "2021-04-06 04:45:01,048 Wrote model metrics to file ampl_output/curated_combined_df_1/RF_ecfp_scaffold_regression/fb5ec0e6-129e-497c-9205-386d103b65d9/model_metrics.json\n"
          ],
          "name": "stderr"
        },
        {
          "output_type": "stream",
          "text": [
            "number of features: 1024\n",
            " 91%|█████████ | 41/45 [35:19<03:26, 51.70s/it, best loss: 0.9099332449753925]"
          ],
          "name": "stdout"
        },
        {
          "output_type": "stream",
          "text": [
            "2021-04-06 04:45:38,442 Previous dataset split restored\n"
          ],
          "name": "stderr"
        },
        {
          "output_type": "stream",
          "text": [
            "n_cnt\n",
            "[7647.]\n",
            "y_means\n",
            "[5.29077697]\n",
            "y_stds\n",
            "[0.71495872]\n",
            "TIMING: dataset construction took 0.346 s\n",
            "Loading dataset from disk.\n",
            "TIMING: dataset construction took 0.050 s\n",
            "Loading dataset from disk.\n",
            "TIMING: dataset construction took 0.054 s\n",
            "Loading dataset from disk.\n",
            " 91%|█████████ | 41/45 [35:23<03:26, 51.70s/it, best loss: 0.9099332449753925]"
          ],
          "name": "stdout"
        },
        {
          "output_type": "stream",
          "text": [
            "2021-04-06 04:45:57,158 Wrote model metadata to file ampl_output/curated_combined_df_1/RF_ecfp_scaffold_regression/0096bad7-f060-447d-8fb8-85f446df2b8a/model_metadata.json\n"
          ],
          "name": "stderr"
        },
        {
          "output_type": "stream",
          "text": [
            "Wrote model tarball to ampl_output/curated_combined_df_1_model_0096bad7-f060-447d-8fb8-85f446df2b8a.tar.gz\n",
            " 91%|█████████ | 41/45 [35:41<03:26, 51.70s/it, best loss: 0.9099332449753925]"
          ],
          "name": "stdout"
        },
        {
          "output_type": "stream",
          "text": [
            "2021-04-06 04:45:57,420 Wrote model metrics to file ampl_output/curated_combined_df_1/RF_ecfp_scaffold_regression/0096bad7-f060-447d-8fb8-85f446df2b8a/model_metrics.json\n"
          ],
          "name": "stderr"
        },
        {
          "output_type": "stream",
          "text": [
            "number of features: 1024\n",
            " 93%|█████████▎| 42/45 [36:16<02:39, 53.10s/it, best loss: 0.9099332449753925]"
          ],
          "name": "stdout"
        },
        {
          "output_type": "stream",
          "text": [
            "2021-04-06 04:46:34,820 Previous dataset split restored\n"
          ],
          "name": "stderr"
        },
        {
          "output_type": "stream",
          "text": [
            "n_cnt\n",
            "[7647.]\n",
            "y_means\n",
            "[5.29077697]\n",
            "y_stds\n",
            "[0.71495872]\n",
            "TIMING: dataset construction took 0.347 s\n",
            "Loading dataset from disk.\n",
            "TIMING: dataset construction took 0.054 s\n",
            "Loading dataset from disk.\n",
            "TIMING: dataset construction took 0.054 s\n",
            "Loading dataset from disk.\n",
            " 93%|█████████▎| 42/45 [36:19<02:39, 53.10s/it, best loss: 0.9099332449753925]"
          ],
          "name": "stdout"
        },
        {
          "output_type": "stream",
          "text": [
            "2021-04-06 04:46:51,619 Wrote model metadata to file ampl_output/curated_combined_df_1/RF_ecfp_scaffold_regression/c5a441a3-3a4e-4311-88e7-a173aaa695a6/model_metadata.json\n"
          ],
          "name": "stderr"
        },
        {
          "output_type": "stream",
          "text": [
            "Wrote model tarball to ampl_output/curated_combined_df_1_model_c5a441a3-3a4e-4311-88e7-a173aaa695a6.tar.gz\n",
            " 93%|█████████▎| 42/45 [36:36<02:39, 53.10s/it, best loss: 0.9099332449753925]"
          ],
          "name": "stdout"
        },
        {
          "output_type": "stream",
          "text": [
            "2021-04-06 04:46:52,358 Wrote model metrics to file ampl_output/curated_combined_df_1/RF_ecfp_scaffold_regression/c5a441a3-3a4e-4311-88e7-a173aaa695a6/model_metrics.json\n"
          ],
          "name": "stderr"
        },
        {
          "output_type": "stream",
          "text": [
            "number of features: 1024\n",
            " 96%|█████████▌| 43/45 [37:11<01:47, 53.65s/it, best loss: 0.9099332449753925]"
          ],
          "name": "stdout"
        },
        {
          "output_type": "stream",
          "text": [
            "2021-04-06 04:47:29,959 Previous dataset split restored\n"
          ],
          "name": "stderr"
        },
        {
          "output_type": "stream",
          "text": [
            "n_cnt\n",
            "[7647.]\n",
            "y_means\n",
            "[5.29077697]\n",
            "y_stds\n",
            "[0.71495872]\n",
            "TIMING: dataset construction took 0.354 s\n",
            "Loading dataset from disk.\n",
            "TIMING: dataset construction took 0.051 s\n",
            "Loading dataset from disk.\n",
            "TIMING: dataset construction took 0.056 s\n",
            "Loading dataset from disk.\n",
            " 96%|█████████▌| 43/45 [37:14<01:47, 53.65s/it, best loss: 0.9099332449753925]"
          ],
          "name": "stdout"
        },
        {
          "output_type": "stream",
          "text": [
            "2021-04-06 04:47:34,834 Wrote model metadata to file ampl_output/curated_combined_df_1/RF_ecfp_scaffold_regression/29d96559-de9d-45ec-b26b-fe9b147fef2b/model_metadata.json\n"
          ],
          "name": "stderr"
        },
        {
          "output_type": "stream",
          "text": [
            "Wrote model tarball to ampl_output/curated_combined_df_1_model_29d96559-de9d-45ec-b26b-fe9b147fef2b.tar.gz\n",
            " 96%|█████████▌| 43/45 [37:19<01:47, 53.65s/it, best loss: 0.9099332449753925]"
          ],
          "name": "stdout"
        },
        {
          "output_type": "stream",
          "text": [
            "2021-04-06 04:47:35,122 Wrote model metrics to file ampl_output/curated_combined_df_1/RF_ecfp_scaffold_regression/29d96559-de9d-45ec-b26b-fe9b147fef2b/model_metrics.json\n"
          ],
          "name": "stderr"
        },
        {
          "output_type": "stream",
          "text": [
            "number of features: 1024\n",
            " 98%|█████████▊| 44/45 [37:54<00:50, 50.39s/it, best loss: 0.9099332449753925]"
          ],
          "name": "stdout"
        },
        {
          "output_type": "stream",
          "text": [
            "2021-04-06 04:48:12,656 Previous dataset split restored\n"
          ],
          "name": "stderr"
        },
        {
          "output_type": "stream",
          "text": [
            "n_cnt\n",
            "[7647.]\n",
            "y_means\n",
            "[5.29077697]\n",
            "y_stds\n",
            "[0.71495872]\n",
            "TIMING: dataset construction took 0.352 s\n",
            "Loading dataset from disk.\n",
            "TIMING: dataset construction took 0.053 s\n",
            "Loading dataset from disk.\n",
            "TIMING: dataset construction took 0.053 s\n",
            "Loading dataset from disk.\n",
            " 98%|█████████▊| 44/45 [37:57<00:50, 50.39s/it, best loss: 0.9099332449753925]"
          ],
          "name": "stdout"
        },
        {
          "output_type": "stream",
          "text": [
            "2021-04-06 04:48:22,606 Wrote model metadata to file ampl_output/curated_combined_df_1/RF_ecfp_scaffold_regression/93bed5a9-f546-4482-8301-1b8739211b00/model_metadata.json\n"
          ],
          "name": "stderr"
        },
        {
          "output_type": "stream",
          "text": [
            "Wrote model tarball to ampl_output/curated_combined_df_1_model_93bed5a9-f546-4482-8301-1b8739211b00.tar.gz\n",
            " 98%|█████████▊| 44/45 [38:07<00:50, 50.39s/it, best loss: 0.9099332449753925]"
          ],
          "name": "stdout"
        },
        {
          "output_type": "stream",
          "text": [
            "2021-04-06 04:48:23,210 Wrote model metrics to file ampl_output/curated_combined_df_1/RF_ecfp_scaffold_regression/93bed5a9-f546-4482-8301-1b8739211b00/model_metrics.json\n"
          ],
          "name": "stderr"
        },
        {
          "output_type": "stream",
          "text": [
            "100%|██████████| 45/45 [38:07<00:00, 50.83s/it, best loss: 0.9099332449753925]\n"
          ],
          "name": "stdout"
        }
      ]
    },
    {
      "cell_type": "code",
      "metadata": {
        "id": "2l-of-gh7Jaq",
        "colab": {
          "base_uri": "https://localhost:8080/",
          "height": 635
        },
        "outputId": "930c8425-c6eb-4195-b04d-e1494e80a473"
      },
      "source": [
        "r2_list = [1-new_trials.trials[i][\"result\"][\"loss\"] for i in range(len(new_trials.trials))]\n",
        "fig, ax = plt.subplots(1,1,figsize=(10,10))\n",
        "sns.lineplot(x=list(range(1,len(new_trials.trials)+1)), y=r2_list, ax=ax)\n",
        "ax.set_ylim(0.2,0.6)"
      ],
      "execution_count": 97,
      "outputs": [
        {
          "output_type": "execute_result",
          "data": {
            "text/plain": [
              "(0.2, 0.6)"
            ]
          },
          "metadata": {
            "tags": []
          },
          "execution_count": 97
        },
        {
          "output_type": "display_data",
          "data": {
            "image/png": "[encoded data removed]",
            "text/plain": [
              "<Figure size 720x720 with 1 Axes>"
            ]
          },
          "metadata": {
            "tags": []
          }
        }
      ]
    },
    {
      "cell_type": "code",
      "metadata": {
        "id": "lhvjj4tx7LQB"
      },
      "source": [
        "rfe_list = [new_trials.trials[i][\"result\"][\"rf_estimator\"] for i in range(len(new_trials.trials))]\n",
        "rfd_list = [new_trials.trials[i][\"result\"][\"rf_depth\"] for i in range(len(new_trials.trials))]\n",
        "rff_list = [new_trials.trials[i][\"result\"][\"rf_feature\"] for i in range(len(new_trials.trials))]"
      ],
      "execution_count": 98,
      "outputs": []
    },
    {
      "cell_type": "code",
      "metadata": {
        "id": "1ELOR0Ij7OVJ",
        "colab": {
          "base_uri": "https://localhost:8080/",
          "height": 1000
        },
        "outputId": "f8a2102f-99c4-406d-d6b1-2d2ed4ec7275"
      },
      "source": [
        "perf_df = pd.DataFrame({\"rf_estimators\": rfe_list, \"rf_max_depth\": rfd_list, \"rf_max_features\": rff_list, \"valid_r2_score\": r2_list})\n",
        "perf_df.sort_values(by=\"valid_r2_score\", ascending=False)"
      ],
      "execution_count": 99,
      "outputs": [
        {
          "output_type": "execute_result",
          "data": {
            "text/html": [
              "<div>\n",
              "<style scoped>\n",
              "    .dataframe tbody tr th:only-of-type {\n",
              "        vertical-align: middle;\n",
              "    }\n",
              "\n",
              "    .dataframe tbody tr th {\n",
              "        vertical-align: top;\n",
              "    }\n",
              "\n",
              "    .dataframe thead th {\n",
              "        text-align: right;\n",
              "    }\n",
              "</style>\n",
              "<table border=\"1\" class=\"dataframe\">\n",
              "  <thead>\n",
              "    <tr style=\"text-align: right;\">\n",
              "      <th></th>\n",
              "      <th>rf_estimators</th>\n",
              "      <th>rf_max_depth</th>\n",
              "      <th>rf_max_features</th>\n",
              "      <th>valid_r2_score</th>\n",
              "    </tr>\n",
              "  </thead>\n",
              "  <tbody>\n",
              "    <tr>\n",
              "      <th>12</th>\n",
              "      <td>113</td>\n",
              "      <td>51</td>\n",
              "      <td>74</td>\n",
              "      <td>0.090067</td>\n",
              "    </tr>\n",
              "    <tr>\n",
              "      <th>18</th>\n",
              "      <td>170</td>\n",
              "      <td>45</td>\n",
              "      <td>76</td>\n",
              "      <td>0.089527</td>\n",
              "    </tr>\n",
              "    <tr>\n",
              "      <th>32</th>\n",
              "      <td>135</td>\n",
              "      <td>28</td>\n",
              "      <td>158</td>\n",
              "      <td>0.086298</td>\n",
              "    </tr>\n",
              "    <tr>\n",
              "      <th>7</th>\n",
              "      <td>161</td>\n",
              "      <td>118</td>\n",
              "      <td>100</td>\n",
              "      <td>0.085157</td>\n",
              "    </tr>\n",
              "    <tr>\n",
              "      <th>4</th>\n",
              "      <td>122</td>\n",
              "      <td>14</td>\n",
              "      <td>139</td>\n",
              "      <td>0.085101</td>\n",
              "    </tr>\n",
              "    <tr>\n",
              "      <th>27</th>\n",
              "      <td>230</td>\n",
              "      <td>14</td>\n",
              "      <td>177</td>\n",
              "      <td>0.083345</td>\n",
              "    </tr>\n",
              "    <tr>\n",
              "      <th>19</th>\n",
              "      <td>89</td>\n",
              "      <td>37</td>\n",
              "      <td>145</td>\n",
              "      <td>0.083273</td>\n",
              "    </tr>\n",
              "    <tr>\n",
              "      <th>47</th>\n",
              "      <td>154</td>\n",
              "      <td>69</td>\n",
              "      <td>130</td>\n",
              "      <td>0.082821</td>\n",
              "    </tr>\n",
              "    <tr>\n",
              "      <th>2</th>\n",
              "      <td>122</td>\n",
              "      <td>147</td>\n",
              "      <td>131</td>\n",
              "      <td>0.082564</td>\n",
              "    </tr>\n",
              "    <tr>\n",
              "      <th>46</th>\n",
              "      <td>126</td>\n",
              "      <td>24</td>\n",
              "      <td>254</td>\n",
              "      <td>0.082061</td>\n",
              "    </tr>\n",
              "    <tr>\n",
              "      <th>39</th>\n",
              "      <td>142</td>\n",
              "      <td>111</td>\n",
              "      <td>163</td>\n",
              "      <td>0.081393</td>\n",
              "    </tr>\n",
              "    <tr>\n",
              "      <th>36</th>\n",
              "      <td>101</td>\n",
              "      <td>229</td>\n",
              "      <td>59</td>\n",
              "      <td>0.081047</td>\n",
              "    </tr>\n",
              "    <tr>\n",
              "      <th>42</th>\n",
              "      <td>194</td>\n",
              "      <td>30</td>\n",
              "      <td>52</td>\n",
              "      <td>0.079885</td>\n",
              "    </tr>\n",
              "    <tr>\n",
              "      <th>48</th>\n",
              "      <td>66</td>\n",
              "      <td>47</td>\n",
              "      <td>30</td>\n",
              "      <td>0.079862</td>\n",
              "    </tr>\n",
              "    <tr>\n",
              "      <th>11</th>\n",
              "      <td>208</td>\n",
              "      <td>123</td>\n",
              "      <td>95</td>\n",
              "      <td>0.079774</td>\n",
              "    </tr>\n",
              "    <tr>\n",
              "      <th>16</th>\n",
              "      <td>255</td>\n",
              "      <td>144</td>\n",
              "      <td>244</td>\n",
              "      <td>0.079459</td>\n",
              "    </tr>\n",
              "    <tr>\n",
              "      <th>28</th>\n",
              "      <td>146</td>\n",
              "      <td>105</td>\n",
              "      <td>59</td>\n",
              "      <td>0.079416</td>\n",
              "    </tr>\n",
              "    <tr>\n",
              "      <th>41</th>\n",
              "      <td>222</td>\n",
              "      <td>255</td>\n",
              "      <td>28</td>\n",
              "      <td>0.079322</td>\n",
              "    </tr>\n",
              "    <tr>\n",
              "      <th>26</th>\n",
              "      <td>239</td>\n",
              "      <td>195</td>\n",
              "      <td>71</td>\n",
              "      <td>0.079152</td>\n",
              "    </tr>\n",
              "    <tr>\n",
              "      <th>6</th>\n",
              "      <td>111</td>\n",
              "      <td>163</td>\n",
              "      <td>134</td>\n",
              "      <td>0.078958</td>\n",
              "    </tr>\n",
              "    <tr>\n",
              "      <th>3</th>\n",
              "      <td>145</td>\n",
              "      <td>255</td>\n",
              "      <td>49</td>\n",
              "      <td>0.078899</td>\n",
              "    </tr>\n",
              "    <tr>\n",
              "      <th>44</th>\n",
              "      <td>50</td>\n",
              "      <td>52</td>\n",
              "      <td>106</td>\n",
              "      <td>0.078551</td>\n",
              "    </tr>\n",
              "    <tr>\n",
              "      <th>31</th>\n",
              "      <td>155</td>\n",
              "      <td>198</td>\n",
              "      <td>85</td>\n",
              "      <td>0.078170</td>\n",
              "    </tr>\n",
              "    <tr>\n",
              "      <th>24</th>\n",
              "      <td>217</td>\n",
              "      <td>39</td>\n",
              "      <td>36</td>\n",
              "      <td>0.078005</td>\n",
              "    </tr>\n",
              "    <tr>\n",
              "      <th>35</th>\n",
              "      <td>118</td>\n",
              "      <td>52</td>\n",
              "      <td>9</td>\n",
              "      <td>0.077993</td>\n",
              "    </tr>\n",
              "    <tr>\n",
              "      <th>20</th>\n",
              "      <td>200</td>\n",
              "      <td>62</td>\n",
              "      <td>61</td>\n",
              "      <td>0.077948</td>\n",
              "    </tr>\n",
              "    <tr>\n",
              "      <th>29</th>\n",
              "      <td>181</td>\n",
              "      <td>80</td>\n",
              "      <td>113</td>\n",
              "      <td>0.077642</td>\n",
              "    </tr>\n",
              "    <tr>\n",
              "      <th>25</th>\n",
              "      <td>162</td>\n",
              "      <td>62</td>\n",
              "      <td>114</td>\n",
              "      <td>0.077377</td>\n",
              "    </tr>\n",
              "    <tr>\n",
              "      <th>14</th>\n",
              "      <td>42</td>\n",
              "      <td>39</td>\n",
              "      <td>141</td>\n",
              "      <td>0.077267</td>\n",
              "    </tr>\n",
              "    <tr>\n",
              "      <th>23</th>\n",
              "      <td>190</td>\n",
              "      <td>62</td>\n",
              "      <td>181</td>\n",
              "      <td>0.077264</td>\n",
              "    </tr>\n",
              "    <tr>\n",
              "      <th>15</th>\n",
              "      <td>57</td>\n",
              "      <td>173</td>\n",
              "      <td>194</td>\n",
              "      <td>0.077207</td>\n",
              "    </tr>\n",
              "    <tr>\n",
              "      <th>17</th>\n",
              "      <td>131</td>\n",
              "      <td>169</td>\n",
              "      <td>29</td>\n",
              "      <td>0.076385</td>\n",
              "    </tr>\n",
              "    <tr>\n",
              "      <th>45</th>\n",
              "      <td>167</td>\n",
              "      <td>88</td>\n",
              "      <td>206</td>\n",
              "      <td>0.076334</td>\n",
              "    </tr>\n",
              "    <tr>\n",
              "      <th>10</th>\n",
              "      <td>111</td>\n",
              "      <td>134</td>\n",
              "      <td>148</td>\n",
              "      <td>0.075727</td>\n",
              "    </tr>\n",
              "    <tr>\n",
              "      <th>5</th>\n",
              "      <td>102</td>\n",
              "      <td>168</td>\n",
              "      <td>46</td>\n",
              "      <td>0.075657</td>\n",
              "    </tr>\n",
              "    <tr>\n",
              "      <th>8</th>\n",
              "      <td>66</td>\n",
              "      <td>173</td>\n",
              "      <td>82</td>\n",
              "      <td>0.075527</td>\n",
              "    </tr>\n",
              "    <tr>\n",
              "      <th>13</th>\n",
              "      <td>173</td>\n",
              "      <td>93</td>\n",
              "      <td>223</td>\n",
              "      <td>0.074747</td>\n",
              "    </tr>\n",
              "    <tr>\n",
              "      <th>21</th>\n",
              "      <td>251</td>\n",
              "      <td>78</td>\n",
              "      <td>18</td>\n",
              "      <td>0.074496</td>\n",
              "    </tr>\n",
              "    <tr>\n",
              "      <th>37</th>\n",
              "      <td>179</td>\n",
              "      <td>89</td>\n",
              "      <td>94</td>\n",
              "      <td>0.071974</td>\n",
              "    </tr>\n",
              "    <tr>\n",
              "      <th>0</th>\n",
              "      <td>137</td>\n",
              "      <td>136</td>\n",
              "      <td>221</td>\n",
              "      <td>0.071447</td>\n",
              "    </tr>\n",
              "    <tr>\n",
              "      <th>30</th>\n",
              "      <td>91</td>\n",
              "      <td>49</td>\n",
              "      <td>16</td>\n",
              "      <td>0.066531</td>\n",
              "    </tr>\n",
              "    <tr>\n",
              "      <th>40</th>\n",
              "      <td>103</td>\n",
              "      <td>148</td>\n",
              "      <td>71</td>\n",
              "      <td>0.066523</td>\n",
              "    </tr>\n",
              "    <tr>\n",
              "      <th>38</th>\n",
              "      <td>70</td>\n",
              "      <td>8</td>\n",
              "      <td>123</td>\n",
              "      <td>0.063073</td>\n",
              "    </tr>\n",
              "    <tr>\n",
              "      <th>49</th>\n",
              "      <td>114</td>\n",
              "      <td>154</td>\n",
              "      <td>76</td>\n",
              "      <td>0.062054</td>\n",
              "    </tr>\n",
              "    <tr>\n",
              "      <th>1</th>\n",
              "      <td>78</td>\n",
              "      <td>233</td>\n",
              "      <td>10</td>\n",
              "      <td>0.061240</td>\n",
              "    </tr>\n",
              "    <tr>\n",
              "      <th>9</th>\n",
              "      <td>35</td>\n",
              "      <td>104</td>\n",
              "      <td>75</td>\n",
              "      <td>0.060273</td>\n",
              "    </tr>\n",
              "    <tr>\n",
              "      <th>43</th>\n",
              "      <td>24</td>\n",
              "      <td>122</td>\n",
              "      <td>86</td>\n",
              "      <td>0.049820</td>\n",
              "    </tr>\n",
              "    <tr>\n",
              "      <th>34</th>\n",
              "      <td>82</td>\n",
              "      <td>9</td>\n",
              "      <td>41</td>\n",
              "      <td>0.048731</td>\n",
              "    </tr>\n",
              "    <tr>\n",
              "      <th>22</th>\n",
              "      <td>9</td>\n",
              "      <td>19</td>\n",
              "      <td>106</td>\n",
              "      <td>0.043801</td>\n",
              "    </tr>\n",
              "    <tr>\n",
              "      <th>33</th>\n",
              "      <td>11</td>\n",
              "      <td>78</td>\n",
              "      <td>124</td>\n",
              "      <td>0.035473</td>\n",
              "    </tr>\n",
              "  </tbody>\n",
              "</table>\n",
              "</div>"
            ],
            "text/plain": [
              "    rf_estimators  rf_max_depth  rf_max_features  valid_r2_score\n",
              "12            113            51               74        0.090067\n",
              "18            170            45               76        0.089527\n",
              "32            135            28              158        0.086298\n",
              "7             161           118              100        0.085157\n",
              "4             122            14              139        0.085101\n",
              "27            230            14              177        0.083345\n",
              "19             89            37              145        0.083273\n",
              "47            154            69              130        0.082821\n",
              "2             122           147              131        0.082564\n",
              "46            126            24              254        0.082061\n",
              "39            142           111              163        0.081393\n",
              "36            101           229               59        0.081047\n",
              "42            194            30               52        0.079885\n",
              "48             66            47               30        0.079862\n",
              "11            208           123               95        0.079774\n",
              "16            255           144              244        0.079459\n",
              "28            146           105               59        0.079416\n",
              "41            222           255               28        0.079322\n",
              "26            239           195               71        0.079152\n",
              "6             111           163              134        0.078958\n",
              "3             145           255               49        0.078899\n",
              "44             50            52              106        0.078551\n",
              "31            155           198               85        0.078170\n",
              "24            217            39               36        0.078005\n",
              "35            118            52                9        0.077993\n",
              "20            200            62               61        0.077948\n",
              "29            181            80              113        0.077642\n",
              "25            162            62              114        0.077377\n",
              "14             42            39              141        0.077267\n",
              "23            190            62              181        0.077264\n",
              "15             57           173              194        0.077207\n",
              "17            131           169               29        0.076385\n",
              "45            167            88              206        0.076334\n",
              "10            111           134              148        0.075727\n",
              "5             102           168               46        0.075657\n",
              "8              66           173               82        0.075527\n",
              "13            173            93              223        0.074747\n",
              "21            251            78               18        0.074496\n",
              "37            179            89               94        0.071974\n",
              "0             137           136              221        0.071447\n",
              "30             91            49               16        0.066531\n",
              "40            103           148               71        0.066523\n",
              "38             70             8              123        0.063073\n",
              "49            114           154               76        0.062054\n",
              "1              78           233               10        0.061240\n",
              "9              35           104               75        0.060273\n",
              "43             24           122               86        0.049820\n",
              "34             82             9               41        0.048731\n",
              "22              9            19              106        0.043801\n",
              "33             11            78              124        0.035473"
            ]
          },
          "metadata": {
            "tags": []
          },
          "execution_count": 99
        }
      ]
    },
    {
      "cell_type": "code",
      "metadata": {
        "id": "_lfExvBiNH6w"
      },
      "source": [
        ""
      ],
      "execution_count": null,
      "outputs": []
    }
  ]
}